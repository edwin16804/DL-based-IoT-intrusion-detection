{
 "cells": [
  {
   "cell_type": "code",
   "execution_count": 1,
   "metadata": {},
   "outputs": [],
   "source": [
    "import pandas as pd\n",
    "import numpy as np\n",
    "import os\n",
    "from tqdm import tqdm\n",
    "import seaborn as sns\n",
    "import matplotlib.pyplot as plt\n",
    "import warnings\n",
    "warnings.filterwarnings('ignore')"
   ]
  },
  {
   "cell_type": "code",
   "execution_count": 25,
   "metadata": {},
   "outputs": [
    {
     "name": "stderr",
     "output_type": "stream",
     "text": [
      "100%|██████████| 169/169 [03:09<00:00,  1.12s/it]\n"
     ]
    },
    {
     "name": "stdout",
     "output_type": "stream",
     "text": [
      "        flow_duration  Header_Length  Protocol Type  Duration         Rate  \\\n",
      "0            0.000000          54.00           6.00     64.00     0.329807   \n",
      "1            0.000000          57.04           6.33     64.00     4.290556   \n",
      "2            0.000000           0.00           1.00     64.00    33.396799   \n",
      "3            0.328175       76175.00          17.00     64.00  4642.133010   \n",
      "4            0.117320         101.73           6.11     65.91     6.202211   \n",
      "...               ...            ...            ...       ...          ...   \n",
      "238682       0.000000          54.00           6.00     64.00     3.049186   \n",
      "238683       0.000000          54.00           6.00     64.00   183.433732   \n",
      "238684       0.000785          56.29           6.11     64.00   306.952216   \n",
      "238685       0.000901          72.09           6.11     64.64   158.475986   \n",
      "238686       0.000000           0.00           1.00     64.00     1.291274   \n",
      "\n",
      "              Srate  Drate  fin_flag_number  syn_flag_number  rst_flag_number  \\\n",
      "0          0.329807    0.0              1.0              0.0              1.0   \n",
      "1          4.290556    0.0              0.0              0.0              0.0   \n",
      "2         33.396799    0.0              0.0              0.0              0.0   \n",
      "3       4642.133010    0.0              0.0              0.0              0.0   \n",
      "4          6.202211    0.0              0.0              1.0              0.0   \n",
      "...             ...    ...              ...              ...              ...   \n",
      "238682     3.049186    0.0              1.0              0.0              1.0   \n",
      "238683   183.433732    0.0              0.0              0.0              0.0   \n",
      "238684   306.952216    0.0              0.0              1.0              0.0   \n",
      "238685   158.475986    0.0              0.0              0.0              0.0   \n",
      "238686     1.291274    0.0              0.0              0.0              0.0   \n",
      "\n",
      "        ...        Std  Tot size           IAT  Number   Magnitue     Radius  \\\n",
      "0       ...   0.000000     54.00  8.334383e+07     9.5  10.392305   0.000000   \n",
      "1       ...   2.822973     57.04  8.292607e+07     9.5  10.464666   4.010353   \n",
      "2       ...   0.000000     42.00  8.312799e+07     9.5   9.165151   0.000000   \n",
      "3       ...   0.000000     50.00  8.301570e+07     9.5  10.000000   0.000000   \n",
      "4       ...  23.113111     57.88  8.297300e+07     9.5  11.346876  32.716243   \n",
      "...     ...        ...       ...           ...     ...        ...        ...   \n",
      "238682  ...   0.000000     54.00  8.334449e+07     9.5  10.392305   0.000000   \n",
      "238683  ...   0.000000     54.00  8.331392e+07     9.5  10.392305   0.000000   \n",
      "238684  ...   0.140764     54.21  8.308883e+07     9.5  10.395538   0.200659   \n",
      "238685  ...   2.450404     55.48  8.333177e+07     9.5  10.456522   3.475801   \n",
      "238686  ...   0.000000     42.00  8.312453e+07     9.5   9.165151   0.000000   \n",
      "\n",
      "         Covariance  Variance  Weight              label  \n",
      "0          0.000000      0.00  141.55   DDoS-RSTFINFlood  \n",
      "1        160.987842      0.05  141.55      DoS-TCP_Flood  \n",
      "2          0.000000      0.00  141.55    DDoS-ICMP_Flood  \n",
      "3          0.000000      0.00  141.55      DoS-UDP_Flood  \n",
      "4       3016.808286      0.19  141.55      DoS-SYN_Flood  \n",
      "...             ...       ...     ...                ...  \n",
      "238682     0.000000      0.00  141.55   DDoS-RSTFINFlood  \n",
      "238683     0.000000      0.00  141.55  DDoS-PSHACK_Flood  \n",
      "238684     0.671167      0.03  141.55     DDoS-SYN_Flood  \n",
      "238685    55.994224      0.17  141.55  DDoS-PSHACK_Flood  \n",
      "238686     0.000000      0.00  141.55    DDoS-ICMP_Flood  \n",
      "\n",
      "[238687 rows x 47 columns]\n"
     ]
    }
   ],
   "source": [
    "DATASET_DIRECTORY = 'C:/Users/EDWIN/Downloads/CICIoT2023'\n",
    "df_sets = [k for k in os.listdir(DATASET_DIRECTORY) if k.endswith('.csv')]\n",
    "df_sets.sort()\n",
    "dfs=[]\n",
    "#Dropping NA values\n",
    "for file in tqdm(df_sets):\n",
    "    file_path=os.path.join(DATASET_DIRECTORY,file)\n",
    "    df=pd.read_csv(file_path)\n",
    "    df.dropna()\n",
    "    dfs.append(df)\n",
    "    \n",
    "print(dfs[0])"
   ]
  },
  {
   "cell_type": "code",
   "execution_count": null,
   "metadata": {},
   "outputs": [],
   "source": [
    "for df in dfs:\n",
    "    print(df['label'].value_counts().shape)"
   ]
  },
  {
   "cell_type": "code",
   "execution_count": 26,
   "metadata": {},
   "outputs": [
    {
     "name": "stdout",
     "output_type": "stream",
     "text": [
      "{'DNS_Spoofing': 1, 'VulnerabilityScan': 2, 'DDoS-HTTP_Flood': 3, 'DDoS-SynonymousIP_Flood': 4, 'CommandInjection': 5, 'DDoS-UDP_Flood': 6, 'DDoS-SlowLoris': 7, 'Recon-PingSweep': 8, 'BenignTraffic': 9, 'XSS': 10, 'DoS-TCP_Flood': 11, 'DDoS-TCP_Flood': 12, 'MITM-ArpSpoofing': 13, 'DDoS-ACK_Fragmentation': 14, 'Mirai-greip_flood': 15, 'DDoS-RSTFINFlood': 16, 'SqlInjection': 17, 'Mirai-greeth_flood': 18, 'DoS-SYN_Flood': 19, 'DoS-UDP_Flood': 20, 'DDoS-SYN_Flood': 21, 'DictionaryBruteForce': 22, 'DoS-HTTP_Flood': 23, 'DDoS-UDP_Fragmentation': 24, 'Mirai-udpplain': 25, 'Recon-HostDiscovery': 26, 'DDoS-ICMP_Fragmentation': 27, 'Uploading_Attack': 28, 'DDoS-ICMP_Flood': 29, 'Backdoor_Malware': 30, 'Recon-OSScan': 31, 'BrowserHijacking': 32, 'Recon-PortScan': 33, 'DDoS-PSHACK_Flood': 34}\n"
     ]
    }
   ],
   "source": [
    "df=dfs[0]\n",
    "labels=set(df['label'].tolist())\n",
    "cat=1\n",
    "labels_dict={}\n",
    "for i in labels:\n",
    "    if i not in labels_dict:\n",
    "        labels_dict[i]=cat\n",
    "    cat+=1\n",
    "print(labels_dict)"
   ]
  },
  {
   "cell_type": "code",
   "execution_count": 27,
   "metadata": {},
   "outputs": [
    {
     "name": "stderr",
     "output_type": "stream",
     "text": [
      "0it [00:00, ?it/s]"
     ]
    },
    {
     "name": "stderr",
     "output_type": "stream",
     "text": [
      "169it [00:04, 36.11it/s]\n"
     ]
    }
   ],
   "source": [
    "for idx,df in tqdm(enumerate(dfs)):\n",
    "    df['label']=df['label'].map(labels_dict)\n",
    "    dfs[idx]=df\n",
    "\n",
    "\n"
   ]
  },
  {
   "cell_type": "code",
   "execution_count": 29,
   "metadata": {},
   "outputs": [
    {
     "data": {
      "text/plain": [
       "label\n",
       "29    36554\n",
       "6     27626\n",
       "12    23149\n",
       "34    21210\n",
       "21    20739\n",
       "16    20669\n",
       "4     18189\n",
       "20    16957\n",
       "11    13630\n",
       "19    10275\n",
       "9      5600\n",
       "18     5016\n",
       "25     4661\n",
       "15     3758\n",
       "27     2377\n",
       "13     1614\n",
       "14     1505\n",
       "24     1484\n",
       "1       925\n",
       "26      697\n",
       "31      517\n",
       "33      430\n",
       "23      414\n",
       "2       210\n",
       "3       169\n",
       "7       106\n",
       "22       63\n",
       "17       31\n",
       "32       30\n",
       "5        28\n",
       "30       22\n",
       "10       18\n",
       "28        8\n",
       "8         6\n",
       "Name: count, dtype: int64"
      ]
     },
     "execution_count": 29,
     "metadata": {},
     "output_type": "execute_result"
    }
   ],
   "source": [
    "df=dfs[0]\n",
    "df['label'].value_counts()"
   ]
  },
  {
   "cell_type": "code",
   "execution_count": null,
   "metadata": {},
   "outputs": [],
   "source": []
  }
 ],
 "metadata": {
  "kernelspec": {
   "display_name": "Python 3",
   "language": "python",
   "name": "python3"
  },
  "language_info": {
   "codemirror_mode": {
    "name": "ipython",
    "version": 3
   },
   "file_extension": ".py",
   "mimetype": "text/x-python",
   "name": "python",
   "nbconvert_exporter": "python",
   "pygments_lexer": "ipython3",
   "version": "3.12.3"
  }
 },
 "nbformat": 4,
 "nbformat_minor": 2
}
