{
 "cells": [
  {
   "cell_type": "code",
   "execution_count": 1,
   "metadata": {},
   "outputs": [],
   "source": [
    "import pandas as pd\n",
    "import numpy as np\n",
    "import os\n",
    "from tqdm import tqdm\n",
    "import seaborn as sns\n",
    "import matplotlib.pyplot as plt\n",
    "import warnings\n",
    "warnings.filterwarnings('ignore')\n"
   ]
  },
  {
   "cell_type": "code",
   "execution_count": 2,
   "metadata": {},
   "outputs": [
    {
     "name": "stderr",
     "output_type": "stream",
     "text": [
      "100%|██████████| 169/169 [02:10<00:00,  1.29it/s]\n"
     ]
    },
    {
     "name": "stdout",
     "output_type": "stream",
     "text": [
      "        flow_duration  Header_Length  Protocol Type  Duration         Rate  \\\n",
      "0            0.000000          54.00           6.00     64.00     0.329807   \n",
      "1            0.000000          57.04           6.33     64.00     4.290556   \n",
      "2            0.000000           0.00           1.00     64.00    33.396799   \n",
      "3            0.328175       76175.00          17.00     64.00  4642.133010   \n",
      "4            0.117320         101.73           6.11     65.91     6.202211   \n",
      "...               ...            ...            ...       ...          ...   \n",
      "238682       0.000000          54.00           6.00     64.00     3.049186   \n",
      "238683       0.000000          54.00           6.00     64.00   183.433732   \n",
      "238684       0.000785          56.29           6.11     64.00   306.952216   \n",
      "238685       0.000901          72.09           6.11     64.64   158.475986   \n",
      "238686       0.000000           0.00           1.00     64.00     1.291274   \n",
      "\n",
      "              Srate  Drate  fin_flag_number  syn_flag_number  rst_flag_number  \\\n",
      "0          0.329807    0.0              1.0              0.0              1.0   \n",
      "1          4.290556    0.0              0.0              0.0              0.0   \n",
      "2         33.396799    0.0              0.0              0.0              0.0   \n",
      "3       4642.133010    0.0              0.0              0.0              0.0   \n",
      "4          6.202211    0.0              0.0              1.0              0.0   \n",
      "...             ...    ...              ...              ...              ...   \n",
      "238682     3.049186    0.0              1.0              0.0              1.0   \n",
      "238683   183.433732    0.0              0.0              0.0              0.0   \n",
      "238684   306.952216    0.0              0.0              1.0              0.0   \n",
      "238685   158.475986    0.0              0.0              0.0              0.0   \n",
      "238686     1.291274    0.0              0.0              0.0              0.0   \n",
      "\n",
      "        ...        Std  Tot size           IAT  Number   Magnitue     Radius  \\\n",
      "0       ...   0.000000     54.00  8.334383e+07     9.5  10.392305   0.000000   \n",
      "1       ...   2.822973     57.04  8.292607e+07     9.5  10.464666   4.010353   \n",
      "2       ...   0.000000     42.00  8.312799e+07     9.5   9.165151   0.000000   \n",
      "3       ...   0.000000     50.00  8.301570e+07     9.5  10.000000   0.000000   \n",
      "4       ...  23.113111     57.88  8.297300e+07     9.5  11.346876  32.716243   \n",
      "...     ...        ...       ...           ...     ...        ...        ...   \n",
      "238682  ...   0.000000     54.00  8.334449e+07     9.5  10.392305   0.000000   \n",
      "238683  ...   0.000000     54.00  8.331392e+07     9.5  10.392305   0.000000   \n",
      "238684  ...   0.140764     54.21  8.308883e+07     9.5  10.395538   0.200659   \n",
      "238685  ...   2.450404     55.48  8.333177e+07     9.5  10.456522   3.475801   \n",
      "238686  ...   0.000000     42.00  8.312453e+07     9.5   9.165151   0.000000   \n",
      "\n",
      "         Covariance  Variance  Weight              label  \n",
      "0          0.000000      0.00  141.55   DDoS-RSTFINFlood  \n",
      "1        160.987842      0.05  141.55      DoS-TCP_Flood  \n",
      "2          0.000000      0.00  141.55    DDoS-ICMP_Flood  \n",
      "3          0.000000      0.00  141.55      DoS-UDP_Flood  \n",
      "4       3016.808286      0.19  141.55      DoS-SYN_Flood  \n",
      "...             ...       ...     ...                ...  \n",
      "238682     0.000000      0.00  141.55   DDoS-RSTFINFlood  \n",
      "238683     0.000000      0.00  141.55  DDoS-PSHACK_Flood  \n",
      "238684     0.671167      0.03  141.55     DDoS-SYN_Flood  \n",
      "238685    55.994224      0.17  141.55  DDoS-PSHACK_Flood  \n",
      "238686     0.000000      0.00  141.55    DDoS-ICMP_Flood  \n",
      "\n",
      "[238687 rows x 47 columns]\n"
     ]
    }
   ],
   "source": [
    "DATASET_DIRECTORY = 'C:/Users/EDWIN/Downloads/CICIoT2023'\n",
    "df_sets = [k for k in os.listdir(DATASET_DIRECTORY) if k.endswith('.csv')]\n",
    "df_sets.sort()\n",
    "dfs=[]\n",
    "#Dropping NA values\n",
    "for file in tqdm(df_sets):\n",
    "    file_path=os.path.join(DATASET_DIRECTORY,file)\n",
    "    df=pd.read_csv(file_path)\n",
    "    df.dropna()\n",
    "    dfs.append(df)\n",
    "    \n",
    "print(dfs[0])\n",
    "\n"
   ]
  },
  {
   "cell_type": "code",
   "execution_count": 3,
   "metadata": {},
   "outputs": [
    {
     "name": "stderr",
     "output_type": "stream",
     "text": [
      "100%|██████████| 169/169 [00:10<00:00, 16.29it/s]\n"
     ]
    },
    {
     "name": "stdout",
     "output_type": "stream",
     "text": [
      "label\n",
      "1    233087\n",
      "0      5600\n",
      "Name: count, dtype: int64\n",
      "label\n",
      "1    213605\n",
      "0      5200\n",
      "Name: count, dtype: int64\n",
      "label\n",
      "1    268871\n",
      "0      6387\n",
      "Name: count, dtype: int64\n",
      "label\n",
      "1    225726\n",
      "0      5297\n",
      "Name: count, dtype: int64\n",
      "label\n",
      "1    222105\n",
      "0      5386\n",
      "Name: count, dtype: int64\n",
      "label\n",
      "1    234259\n",
      "0      5787\n",
      "Name: count, dtype: int64\n",
      "label\n",
      "1    228256\n",
      "0      5537\n",
      "Name: count, dtype: int64\n",
      "label\n",
      "1    222583\n",
      "0      5327\n",
      "Name: count, dtype: int64\n",
      "label\n",
      "1    240453\n",
      "0      5874\n",
      "Name: count, dtype: int64\n",
      "label\n",
      "1    222152\n",
      "0      5464\n",
      "Name: count, dtype: int64\n",
      "label\n",
      "1    245400\n",
      "0      5992\n",
      "Name: count, dtype: int64\n",
      "label\n",
      "1    216707\n",
      "0      5221\n",
      "Name: count, dtype: int64\n",
      "label\n",
      "1    233006\n",
      "0      5470\n",
      "Name: count, dtype: int64\n",
      "label\n",
      "1    233081\n",
      "0      5680\n",
      "Name: count, dtype: int64\n",
      "label\n",
      "1    210792\n",
      "0      5046\n",
      "Name: count, dtype: int64\n",
      "label\n",
      "1    262222\n",
      "0      6427\n",
      "Name: count, dtype: int64\n",
      "label\n",
      "1    227485\n",
      "0      5400\n",
      "Name: count, dtype: int64\n",
      "label\n",
      "1    218245\n",
      "0      5199\n",
      "Name: count, dtype: int64\n",
      "label\n",
      "1    228913\n",
      "0      5517\n",
      "Name: count, dtype: int64\n",
      "label\n",
      "1    225666\n",
      "0      5397\n",
      "Name: count, dtype: int64\n",
      "label\n",
      "1    231663\n",
      "0      5488\n",
      "Name: count, dtype: int64\n",
      "label\n",
      "1    218188\n",
      "0      5213\n",
      "Name: count, dtype: int64\n",
      "label\n",
      "1    246184\n",
      "0      6028\n",
      "Name: count, dtype: int64\n",
      "label\n",
      "1    255750\n",
      "0      6312\n",
      "Name: count, dtype: int64\n",
      "label\n",
      "1    220582\n",
      "0      5143\n",
      "Name: count, dtype: int64\n",
      "label\n",
      "1    437100\n",
      "0     10525\n",
      "Name: count, dtype: int64\n",
      "label\n",
      "1    230626\n",
      "0      5526\n",
      "Name: count, dtype: int64\n",
      "label\n",
      "1    215723\n",
      "0      5291\n",
      "Name: count, dtype: int64\n",
      "label\n",
      "1    245378\n",
      "0      5847\n",
      "Name: count, dtype: int64\n",
      "label\n",
      "1    245615\n",
      "0      6061\n",
      "Name: count, dtype: int64\n",
      "label\n",
      "1    232613\n",
      "0      5737\n",
      "Name: count, dtype: int64\n",
      "label\n",
      "1    223385\n",
      "0      5345\n",
      "Name: count, dtype: int64\n",
      "label\n",
      "1    222189\n",
      "0      5447\n",
      "Name: count, dtype: int64\n",
      "label\n",
      "1    437269\n",
      "0     10505\n",
      "Name: count, dtype: int64\n",
      "label\n",
      "1    226788\n",
      "0      5440\n",
      "Name: count, dtype: int64\n",
      "label\n",
      "1    246794\n",
      "0      5950\n",
      "Name: count, dtype: int64\n",
      "label\n",
      "1    428806\n",
      "0     10406\n",
      "Name: count, dtype: int64\n",
      "label\n",
      "1    209777\n",
      "0      5186\n",
      "Name: count, dtype: int64\n",
      "label\n",
      "1    231101\n",
      "0      5559\n",
      "Name: count, dtype: int64\n",
      "label\n",
      "1    427135\n",
      "0     10227\n",
      "Name: count, dtype: int64\n",
      "label\n",
      "1    224975\n",
      "0      5390\n",
      "Name: count, dtype: int64\n",
      "label\n",
      "1    434940\n",
      "0     10341\n",
      "Name: count, dtype: int64\n",
      "label\n",
      "1    217009\n",
      "0      5416\n",
      "Name: count, dtype: int64\n",
      "label\n",
      "1    245056\n",
      "0      5898\n",
      "Name: count, dtype: int64\n",
      "label\n",
      "1    226494\n",
      "0      5486\n",
      "Name: count, dtype: int64\n",
      "label\n",
      "1    241406\n",
      "0      5884\n",
      "Name: count, dtype: int64\n",
      "label\n",
      "1    230016\n",
      "0      5550\n",
      "Name: count, dtype: int64\n",
      "label\n",
      "1    233478\n",
      "0      5608\n",
      "Name: count, dtype: int64\n",
      "label\n",
      "1    214691\n",
      "0      5186\n",
      "Name: count, dtype: int64\n",
      "label\n",
      "1    243304\n",
      "0      5693\n",
      "Name: count, dtype: int64\n",
      "label\n",
      "1    228190\n",
      "0      5435\n",
      "Name: count, dtype: int64\n",
      "label\n",
      "1    245383\n",
      "0      5873\n",
      "Name: count, dtype: int64\n",
      "label\n",
      "1    434968\n",
      "0     10457\n",
      "Name: count, dtype: int64\n",
      "label\n",
      "1    237670\n",
      "0      5609\n",
      "Name: count, dtype: int64\n",
      "label\n",
      "1    230129\n",
      "0      5496\n",
      "Name: count, dtype: int64\n",
      "label\n",
      "1    217221\n",
      "0      5163\n",
      "Name: count, dtype: int64\n",
      "label\n",
      "1    229497\n",
      "0      5529\n",
      "Name: count, dtype: int64\n",
      "label\n",
      "1    419525\n",
      "0     10060\n",
      "Name: count, dtype: int64\n",
      "label\n",
      "1    231425\n",
      "0      5570\n",
      "Name: count, dtype: int64\n",
      "label\n",
      "1    239390\n",
      "0      5794\n",
      "Name: count, dtype: int64\n",
      "label\n",
      "1    248228\n",
      "0      5919\n",
      "Name: count, dtype: int64\n",
      "label\n",
      "1    233805\n",
      "0      5838\n",
      "Name: count, dtype: int64\n",
      "label\n",
      "1    430518\n",
      "0     10509\n",
      "Name: count, dtype: int64\n",
      "label\n",
      "1    231828\n",
      "0      5598\n",
      "Name: count, dtype: int64\n",
      "label\n",
      "1    256870\n",
      "0      6195\n",
      "Name: count, dtype: int64\n",
      "label\n",
      "1    239152\n",
      "0      5774\n",
      "Name: count, dtype: int64\n",
      "label\n",
      "1    210926\n",
      "0      5158\n",
      "Name: count, dtype: int64\n",
      "label\n",
      "1    261702\n",
      "0      6226\n",
      "Name: count, dtype: int64\n",
      "label\n",
      "1    218816\n",
      "0      5273\n",
      "Name: count, dtype: int64\n",
      "label\n",
      "1    234687\n",
      "0      5519\n",
      "Name: count, dtype: int64\n",
      "label\n",
      "1    224374\n",
      "0      5402\n",
      "Name: count, dtype: int64\n",
      "label\n",
      "1    271230\n",
      "0      6490\n",
      "Name: count, dtype: int64\n",
      "label\n",
      "1    254458\n",
      "0      6237\n",
      "Name: count, dtype: int64\n",
      "label\n",
      "1    230237\n",
      "0      5484\n",
      "Name: count, dtype: int64\n",
      "label\n",
      "1    241254\n",
      "0      5783\n",
      "Name: count, dtype: int64\n",
      "label\n",
      "1    433768\n",
      "0     10566\n",
      "Name: count, dtype: int64\n",
      "label\n",
      "1    436232\n",
      "0     10563\n",
      "Name: count, dtype: int64\n",
      "label\n",
      "1    425445\n",
      "0     10255\n",
      "Name: count, dtype: int64\n",
      "label\n",
      "1    424519\n",
      "0     10315\n",
      "Name: count, dtype: int64\n",
      "label\n",
      "1    440426\n",
      "0     10608\n",
      "Name: count, dtype: int64\n",
      "label\n",
      "1    230022\n",
      "0      5667\n",
      "Name: count, dtype: int64\n",
      "label\n",
      "1    225309\n",
      "0      5430\n",
      "Name: count, dtype: int64\n",
      "label\n",
      "1    224848\n",
      "0      5345\n",
      "Name: count, dtype: int64\n",
      "label\n",
      "1    223182\n",
      "0      5471\n",
      "Name: count, dtype: int64\n",
      "label\n",
      "1    219651\n",
      "0      5176\n",
      "Name: count, dtype: int64\n",
      "label\n",
      "1    237313\n",
      "0      5656\n",
      "Name: count, dtype: int64\n",
      "label\n",
      "1    237464\n",
      "0      5562\n",
      "Name: count, dtype: int64\n",
      "label\n",
      "1    230894\n",
      "0      5430\n",
      "Name: count, dtype: int64\n",
      "label\n",
      "1    221587\n",
      "0      5383\n",
      "Name: count, dtype: int64\n",
      "label\n",
      "1    236587\n",
      "0      5778\n",
      "Name: count, dtype: int64\n",
      "label\n",
      "1    235065\n",
      "0      5702\n",
      "Name: count, dtype: int64\n",
      "label\n",
      "1    253847\n",
      "0      6171\n",
      "Name: count, dtype: int64\n",
      "label\n",
      "1    206948\n",
      "0      4886\n",
      "Name: count, dtype: int64\n",
      "label\n",
      "1    247835\n",
      "0      6034\n",
      "Name: count, dtype: int64\n",
      "label\n",
      "1    418515\n",
      "0     10106\n",
      "Name: count, dtype: int64\n",
      "label\n",
      "1    433654\n",
      "0     10568\n",
      "Name: count, dtype: int64\n",
      "label\n",
      "1    249165\n",
      "0      5967\n",
      "Name: count, dtype: int64\n",
      "label\n",
      "1    238909\n",
      "0      5674\n",
      "Name: count, dtype: int64\n",
      "label\n",
      "1    436375\n",
      "0     10420\n",
      "Name: count, dtype: int64\n",
      "label\n",
      "1    236039\n",
      "0      5689\n",
      "Name: count, dtype: int64\n",
      "label\n",
      "1    220445\n",
      "0      5463\n",
      "Name: count, dtype: int64\n",
      "label\n",
      "1    228181\n",
      "0      5564\n",
      "Name: count, dtype: int64\n",
      "label\n",
      "1    226475\n",
      "0      5432\n",
      "Name: count, dtype: int64\n",
      "label\n",
      "1    246659\n",
      "0      5828\n",
      "Name: count, dtype: int64\n",
      "label\n",
      "1    218354\n",
      "0      5175\n",
      "Name: count, dtype: int64\n",
      "label\n",
      "1    226296\n",
      "0      5460\n",
      "Name: count, dtype: int64\n",
      "label\n",
      "1    244786\n",
      "0      6064\n",
      "Name: count, dtype: int64\n",
      "label\n",
      "1    218293\n",
      "0      5213\n",
      "Name: count, dtype: int64\n",
      "label\n",
      "1    226199\n",
      "0      5495\n",
      "Name: count, dtype: int64\n",
      "label\n",
      "1    256874\n",
      "0      6044\n",
      "Name: count, dtype: int64\n",
      "label\n",
      "1    231157\n",
      "0      5595\n",
      "Name: count, dtype: int64\n",
      "label\n",
      "1    263013\n",
      "0      6240\n",
      "Name: count, dtype: int64\n",
      "label\n",
      "1    247693\n",
      "0      5882\n",
      "Name: count, dtype: int64\n",
      "label\n",
      "1    440991\n",
      "0     10507\n",
      "Name: count, dtype: int64\n",
      "label\n",
      "1    234384\n",
      "0      5503\n",
      "Name: count, dtype: int64\n",
      "label\n",
      "1    213737\n",
      "0      5135\n",
      "Name: count, dtype: int64\n",
      "label\n",
      "1    239048\n",
      "0      5749\n",
      "Name: count, dtype: int64\n",
      "label\n",
      "1    237628\n",
      "0      5858\n",
      "Name: count, dtype: int64\n",
      "label\n",
      "1    214625\n",
      "0      5224\n",
      "Name: count, dtype: int64\n",
      "label\n",
      "1    234233\n",
      "0      5659\n",
      "Name: count, dtype: int64\n",
      "label\n",
      "1    229749\n",
      "0      5432\n",
      "Name: count, dtype: int64\n",
      "label\n",
      "1    240691\n",
      "0      5870\n",
      "Name: count, dtype: int64\n",
      "label\n",
      "1    242497\n",
      "0      5727\n",
      "Name: count, dtype: int64\n",
      "label\n",
      "1    250520\n",
      "0      6051\n",
      "Name: count, dtype: int64\n",
      "label\n",
      "1    242812\n",
      "0      5892\n",
      "Name: count, dtype: int64\n",
      "label\n",
      "1    438009\n",
      "0     10634\n",
      "Name: count, dtype: int64\n",
      "label\n",
      "1    229060\n",
      "0      5544\n",
      "Name: count, dtype: int64\n",
      "label\n",
      "1    437264\n",
      "0     10471\n",
      "Name: count, dtype: int64\n",
      "label\n",
      "1    234021\n",
      "0      5645\n",
      "Name: count, dtype: int64\n",
      "label\n",
      "1    224316\n",
      "0      5325\n",
      "Name: count, dtype: int64\n",
      "label\n",
      "1    250838\n",
      "0      6117\n",
      "Name: count, dtype: int64\n",
      "label\n",
      "1    435248\n",
      "0     10507\n",
      "Name: count, dtype: int64\n",
      "label\n",
      "1    233632\n",
      "0      5465\n",
      "Name: count, dtype: int64\n",
      "label\n",
      "1    234175\n",
      "0      5656\n",
      "Name: count, dtype: int64\n",
      "label\n",
      "1    237911\n",
      "0      5738\n",
      "Name: count, dtype: int64\n",
      "label\n",
      "1    233422\n",
      "0      5781\n",
      "Name: count, dtype: int64\n",
      "label\n",
      "1    434241\n",
      "0     10463\n",
      "Name: count, dtype: int64\n",
      "label\n",
      "1    250495\n",
      "0      5964\n",
      "Name: count, dtype: int64\n",
      "label\n",
      "1    436321\n",
      "0     10515\n",
      "Name: count, dtype: int64\n",
      "label\n",
      "1    236365\n",
      "0      5779\n",
      "Name: count, dtype: int64\n",
      "label\n",
      "1    438484\n",
      "0     10731\n",
      "Name: count, dtype: int64\n",
      "label\n",
      "1    218625\n",
      "0      5374\n",
      "Name: count, dtype: int64\n",
      "label\n",
      "1    254569\n",
      "0      6125\n",
      "Name: count, dtype: int64\n",
      "label\n",
      "1    233622\n",
      "0      5580\n",
      "Name: count, dtype: int64\n",
      "label\n",
      "1    239179\n",
      "0      5680\n",
      "Name: count, dtype: int64\n",
      "label\n",
      "1    432350\n",
      "0     10371\n",
      "Name: count, dtype: int64\n",
      "label\n",
      "1    221764\n",
      "0      5384\n",
      "Name: count, dtype: int64\n",
      "label\n",
      "1    232213\n",
      "0      5645\n",
      "Name: count, dtype: int64\n",
      "label\n",
      "1    229552\n",
      "0      5457\n",
      "Name: count, dtype: int64\n",
      "label\n",
      "1    435474\n",
      "0     10417\n",
      "Name: count, dtype: int64\n",
      "label\n",
      "1    226653\n",
      "0      5513\n",
      "Name: count, dtype: int64\n",
      "label\n",
      "1    224232\n",
      "0      5395\n",
      "Name: count, dtype: int64\n",
      "label\n",
      "1    436227\n",
      "0     10524\n",
      "Name: count, dtype: int64\n",
      "label\n",
      "1    424791\n",
      "0     10210\n",
      "Name: count, dtype: int64\n",
      "label\n",
      "1    226740\n",
      "0      5476\n",
      "Name: count, dtype: int64\n",
      "label\n",
      "1    224487\n",
      "0      5368\n",
      "Name: count, dtype: int64\n",
      "label\n",
      "1    250522\n",
      "0      5906\n",
      "Name: count, dtype: int64\n",
      "label\n",
      "1    234333\n",
      "0      5601\n",
      "Name: count, dtype: int64\n",
      "label\n",
      "1    225013\n",
      "0      5463\n",
      "Name: count, dtype: int64\n",
      "label\n",
      "1    225823\n",
      "0      5495\n",
      "Name: count, dtype: int64\n",
      "label\n",
      "1    225912\n",
      "0      5394\n",
      "Name: count, dtype: int64\n",
      "label\n",
      "1    227031\n",
      "0      5432\n",
      "Name: count, dtype: int64\n",
      "label\n",
      "1    429246\n",
      "0     10348\n",
      "Name: count, dtype: int64\n",
      "label\n",
      "1    228060\n",
      "0      5527\n",
      "Name: count, dtype: int64\n",
      "label\n",
      "1    436951\n",
      "0     10687\n",
      "Name: count, dtype: int64\n",
      "label\n",
      "1    434075\n",
      "0     10342\n",
      "Name: count, dtype: int64\n",
      "label\n",
      "1    438432\n",
      "0     10577\n",
      "Name: count, dtype: int64\n",
      "label\n",
      "1    222371\n",
      "0      5317\n",
      "Name: count, dtype: int64\n",
      "label\n",
      "1    229264\n",
      "0      5481\n",
      "Name: count, dtype: int64\n"
     ]
    }
   ],
   "source": [
    "def map_to_binary(label):\n",
    "    if label == 'BenignTraffic':\n",
    "        return 0  # Normal class\n",
    "    else:\n",
    "        return 1  # Attack classes\n",
    "\n",
    "for df in tqdm(dfs):\n",
    "    df['label'] = df['label'].apply(map_to_binary)\n",
    "\n",
    "\n",
    "for df in dfs:\n",
    "    print(df['label'].value_counts())\n"
   ]
  },
  {
   "cell_type": "code",
   "execution_count": 11,
   "metadata": {},
   "outputs": [
    {
     "name": "stderr",
     "output_type": "stream",
     "text": [
      "169it [02:47,  1.01it/s]"
     ]
    },
    {
     "name": "stdout",
     "output_type": "stream",
     "text": [
      "(238687, 35)\n",
      "(218805, 36)\n",
      "(275258, 35)\n",
      "(231023, 35)\n",
      "(227491, 34)\n",
      "(240046, 35)\n",
      "(233793, 36)\n",
      "(227910, 36)\n",
      "(246327, 35)\n",
      "(227616, 35)\n",
      "(251392, 35)\n",
      "(221928, 35)\n",
      "(238476, 36)\n",
      "(238761, 36)\n",
      "(215838, 36)\n",
      "(268649, 35)\n",
      "(232885, 36)\n",
      "(223444, 36)\n",
      "(234430, 36)\n",
      "(231063, 35)\n",
      "(237151, 36)\n",
      "(223401, 35)\n",
      "(252212, 35)\n",
      "(262062, 35)\n",
      "(225725, 36)\n",
      "(447625, 35)\n",
      "(236152, 35)\n",
      "(221014, 36)\n",
      "(251225, 36)\n",
      "(251676, 35)\n",
      "(238350, 35)\n",
      "(228730, 36)\n",
      "(227636, 35)\n",
      "(447774, 35)\n",
      "(232228, 36)\n",
      "(252744, 36)\n",
      "(439212, 34)\n",
      "(214963, 36)\n",
      "(236660, 36)\n",
      "(437362, 35)\n",
      "(230365, 34)\n",
      "(445281, 36)\n",
      "(222425, 36)\n",
      "(250954, 36)\n",
      "(231980, 35)\n",
      "(247290, 35)\n",
      "(235566, 35)\n",
      "(239086, 35)\n",
      "(219877, 35)\n",
      "(248997, 35)\n",
      "(233625, 36)\n",
      "(251256, 36)\n",
      "(445425, 35)\n",
      "(243279, 35)\n",
      "(235625, 35)\n",
      "(222384, 35)\n",
      "(235026, 35)\n",
      "(429585, 36)\n",
      "(236995, 36)\n",
      "(245184, 35)\n",
      "(254147, 35)\n",
      "(239643, 36)\n",
      "(441027, 35)\n",
      "(237426, 36)\n",
      "(263065, 35)\n",
      "(244926, 36)\n",
      "(216084, 35)\n",
      "(267928, 35)\n",
      "(224089, 35)\n",
      "(240206, 35)\n",
      "(229776, 36)\n",
      "(277720, 34)\n",
      "(260695, 35)\n",
      "(235721, 34)\n",
      "(247037, 36)\n",
      "(444334, 36)\n",
      "(446795, 35)\n",
      "(435700, 35)\n",
      "(434834, 36)\n",
      "(451034, 35)\n",
      "(235689, 35)\n",
      "(230739, 35)\n",
      "(230193, 36)\n",
      "(228653, 36)\n",
      "(224827, 35)\n",
      "(242969, 36)\n",
      "(243026, 36)\n",
      "(236324, 36)\n",
      "(226970, 36)\n",
      "(242365, 35)\n",
      "(240767, 35)\n",
      "(260018, 35)\n",
      "(211834, 35)\n",
      "(253869, 35)\n",
      "(428621, 35)\n",
      "(444222, 36)\n",
      "(255132, 34)\n",
      "(244583, 36)\n",
      "(446795, 36)\n",
      "(241728, 34)\n",
      "(225908, 36)\n",
      "(233745, 36)\n",
      "(231907, 35)\n",
      "(252487, 36)\n",
      "(223529, 35)\n",
      "(231756, 35)\n",
      "(250850, 35)\n",
      "(223506, 35)\n",
      "(231694, 36)\n",
      "(262918, 36)\n",
      "(236752, 35)\n",
      "(269253, 36)\n",
      "(253575, 35)\n",
      "(451498, 36)\n",
      "(239887, 36)\n",
      "(218872, 36)\n",
      "(244797, 36)\n",
      "(243486, 35)\n",
      "(219849, 36)\n",
      "(239892, 36)\n",
      "(235181, 35)\n",
      "(246561, 35)\n",
      "(248224, 35)\n",
      "(256571, 35)\n",
      "(248704, 35)\n",
      "(448643, 36)\n",
      "(234604, 36)\n",
      "(447735, 34)\n",
      "(239666, 35)\n",
      "(229641, 34)\n",
      "(256955, 35)\n",
      "(445755, 36)\n",
      "(239097, 35)\n",
      "(239831, 36)\n",
      "(243649, 35)\n",
      "(239203, 34)\n",
      "(444704, 35)\n",
      "(256459, 36)\n",
      "(446836, 36)\n",
      "(242144, 36)\n",
      "(449215, 36)\n",
      "(223999, 35)\n",
      "(260694, 36)\n",
      "(239202, 35)\n",
      "(244859, 36)\n",
      "(442721, 35)\n",
      "(227148, 35)\n",
      "(237858, 36)\n",
      "(235009, 35)\n",
      "(445891, 36)\n",
      "(232166, 34)\n",
      "(229627, 36)\n",
      "(446751, 35)\n",
      "(435001, 35)\n",
      "(232216, 35)\n",
      "(229855, 35)\n",
      "(256428, 35)\n",
      "(239934, 35)\n",
      "(230476, 35)\n",
      "(231318, 36)\n",
      "(231306, 35)\n",
      "(232463, 35)\n",
      "(439594, 36)\n",
      "(233587, 35)\n",
      "(447638, 36)\n",
      "(444417, 35)\n",
      "(449009, 36)\n",
      "(227688, 36)\n",
      "(234745, 36)\n"
     ]
    },
    {
     "name": "stderr",
     "output_type": "stream",
     "text": [
      "\n"
     ]
    }
   ],
   "source": [
    "for idx,df in tqdm(enumerate(dfs)):\n",
    "    corr=df.corr()\n",
    "    columns = np.full((corr.shape[0],), True, dtype=bool)\n",
    "    for i in range(corr.shape[0]):\n",
    "        for j in range(i+1, corr.shape[0]):\n",
    "            if corr.iloc[i,j] >= 0.9:\n",
    "                if columns[j]:\n",
    "                    columns[j] = False\n",
    "    selected_columns = df.columns[columns]\n",
    "    selected_columns.shape\n",
    "    dfs[idx]=df[selected_columns]\n",
    "\n",
    "for df in dfs:\n",
    "    print(df.shape)\n",
    "\n"
   ]
  },
  {
   "cell_type": "code",
   "execution_count": 13,
   "metadata": {},
   "outputs": [
    {
     "name": "stderr",
     "output_type": "stream",
     "text": [
      "169it [00:27,  6.06it/s]\n"
     ]
    }
   ],
   "source": [
    "# Step 1: Get the intersection of selected columns (common across all dataframes)\n",
    "common_columns = set(dfs[0].columns)  # Start with the columns from the first dataframe\n",
    "\n",
    "for df in dfs[1:]:\n",
    "    common_columns = common_columns.intersection(set(df.columns))\n",
    "\n",
    "common_columns = list(common_columns)\n",
    "\n",
    "# Step 2: Reindex all dataframes to use only the common columns\n",
    "for idx, df in tqdm(enumerate(dfs)):\n",
    "    dfs[idx] = df[common_columns]\n",
    "\n",
    "# Now all dfs have the same number of columns (common columns), so you can fit the model\n"
   ]
  },
  {
   "cell_type": "code",
   "execution_count": 14,
   "metadata": {},
   "outputs": [
    {
     "name": "stdout",
     "output_type": "stream",
     "text": [
      "(238687, 34)\n",
      "(218805, 34)\n",
      "(275258, 34)\n",
      "(231023, 34)\n",
      "(227491, 34)\n",
      "(240046, 34)\n",
      "(233793, 34)\n",
      "(227910, 34)\n",
      "(246327, 34)\n",
      "(227616, 34)\n",
      "(251392, 34)\n",
      "(221928, 34)\n",
      "(238476, 34)\n",
      "(238761, 34)\n",
      "(215838, 34)\n",
      "(268649, 34)\n",
      "(232885, 34)\n",
      "(223444, 34)\n",
      "(234430, 34)\n",
      "(231063, 34)\n",
      "(237151, 34)\n",
      "(223401, 34)\n",
      "(252212, 34)\n",
      "(262062, 34)\n",
      "(225725, 34)\n",
      "(447625, 34)\n",
      "(236152, 34)\n",
      "(221014, 34)\n",
      "(251225, 34)\n",
      "(251676, 34)\n",
      "(238350, 34)\n",
      "(228730, 34)\n",
      "(227636, 34)\n",
      "(447774, 34)\n",
      "(232228, 34)\n",
      "(252744, 34)\n",
      "(439212, 34)\n",
      "(214963, 34)\n",
      "(236660, 34)\n",
      "(437362, 34)\n",
      "(230365, 34)\n",
      "(445281, 34)\n",
      "(222425, 34)\n",
      "(250954, 34)\n",
      "(231980, 34)\n",
      "(247290, 34)\n",
      "(235566, 34)\n",
      "(239086, 34)\n",
      "(219877, 34)\n",
      "(248997, 34)\n",
      "(233625, 34)\n",
      "(251256, 34)\n",
      "(445425, 34)\n",
      "(243279, 34)\n",
      "(235625, 34)\n",
      "(222384, 34)\n",
      "(235026, 34)\n",
      "(429585, 34)\n",
      "(236995, 34)\n",
      "(245184, 34)\n",
      "(254147, 34)\n",
      "(239643, 34)\n",
      "(441027, 34)\n",
      "(237426, 34)\n",
      "(263065, 34)\n",
      "(244926, 34)\n",
      "(216084, 34)\n",
      "(267928, 34)\n",
      "(224089, 34)\n",
      "(240206, 34)\n",
      "(229776, 34)\n",
      "(277720, 34)\n",
      "(260695, 34)\n",
      "(235721, 34)\n",
      "(247037, 34)\n",
      "(444334, 34)\n",
      "(446795, 34)\n",
      "(435700, 34)\n",
      "(434834, 34)\n",
      "(451034, 34)\n",
      "(235689, 34)\n",
      "(230739, 34)\n",
      "(230193, 34)\n",
      "(228653, 34)\n",
      "(224827, 34)\n",
      "(242969, 34)\n",
      "(243026, 34)\n",
      "(236324, 34)\n",
      "(226970, 34)\n",
      "(242365, 34)\n",
      "(240767, 34)\n",
      "(260018, 34)\n",
      "(211834, 34)\n",
      "(253869, 34)\n",
      "(428621, 34)\n",
      "(444222, 34)\n",
      "(255132, 34)\n",
      "(244583, 34)\n",
      "(446795, 34)\n",
      "(241728, 34)\n",
      "(225908, 34)\n",
      "(233745, 34)\n",
      "(231907, 34)\n",
      "(252487, 34)\n",
      "(223529, 34)\n",
      "(231756, 34)\n",
      "(250850, 34)\n",
      "(223506, 34)\n",
      "(231694, 34)\n",
      "(262918, 34)\n",
      "(236752, 34)\n",
      "(269253, 34)\n",
      "(253575, 34)\n",
      "(451498, 34)\n",
      "(239887, 34)\n",
      "(218872, 34)\n",
      "(244797, 34)\n",
      "(243486, 34)\n",
      "(219849, 34)\n",
      "(239892, 34)\n",
      "(235181, 34)\n",
      "(246561, 34)\n",
      "(248224, 34)\n",
      "(256571, 34)\n",
      "(248704, 34)\n",
      "(448643, 34)\n",
      "(234604, 34)\n",
      "(447735, 34)\n",
      "(239666, 34)\n",
      "(229641, 34)\n",
      "(256955, 34)\n",
      "(445755, 34)\n",
      "(239097, 34)\n",
      "(239831, 34)\n",
      "(243649, 34)\n",
      "(239203, 34)\n",
      "(444704, 34)\n",
      "(256459, 34)\n",
      "(446836, 34)\n",
      "(242144, 34)\n",
      "(449215, 34)\n",
      "(223999, 34)\n",
      "(260694, 34)\n",
      "(239202, 34)\n",
      "(244859, 34)\n",
      "(442721, 34)\n",
      "(227148, 34)\n",
      "(237858, 34)\n",
      "(235009, 34)\n",
      "(445891, 34)\n",
      "(232166, 34)\n",
      "(229627, 34)\n",
      "(446751, 34)\n",
      "(435001, 34)\n",
      "(232216, 34)\n",
      "(229855, 34)\n",
      "(256428, 34)\n",
      "(239934, 34)\n",
      "(230476, 34)\n",
      "(231318, 34)\n",
      "(231306, 34)\n",
      "(232463, 34)\n",
      "(439594, 34)\n",
      "(233587, 34)\n",
      "(447638, 34)\n",
      "(444417, 34)\n",
      "(449009, 34)\n",
      "(227688, 34)\n",
      "(234745, 34)\n"
     ]
    }
   ],
   "source": [
    "for df in dfs:\n",
    "    print(df.shape)"
   ]
  },
  {
   "cell_type": "code",
   "execution_count": 22,
   "metadata": {},
   "outputs": [
    {
     "name": "stderr",
     "output_type": "stream",
     "text": [
      "  0%|          | 0/169 [00:00<?, ?it/s]"
     ]
    },
    {
     "name": "stdout",
     "output_type": "stream",
     "text": [
      "Epoch 1/5\n",
      "\u001b[1m4774/4774\u001b[0m \u001b[32m━━━━━━━━━━━━━━━━━━━━\u001b[0m\u001b[37m\u001b[0m \u001b[1m8s\u001b[0m 1ms/step - accuracy: 0.9542 - loss: 8491.7871 - val_accuracy: 0.9802 - val_loss: 91.6492\n",
      "Epoch 2/5\n",
      "\u001b[1m4774/4774\u001b[0m \u001b[32m━━━━━━━━━━━━━━━━━━━━\u001b[0m\u001b[37m\u001b[0m \u001b[1m6s\u001b[0m 1ms/step - accuracy: 0.9736 - loss: 24.9190 - val_accuracy: 0.9760 - val_loss: 134.7767\n",
      "Epoch 3/5\n",
      "\u001b[1m4774/4774\u001b[0m \u001b[32m━━━━━━━━━━━━━━━━━━━━\u001b[0m\u001b[37m\u001b[0m \u001b[1m6s\u001b[0m 1ms/step - accuracy: 0.9679 - loss: 13.6657 - val_accuracy: 0.9762 - val_loss: 0.0976\n",
      "Epoch 4/5\n",
      "\u001b[1m4774/4774\u001b[0m \u001b[32m━━━━━━━━━━━━━━━━━━━━\u001b[0m\u001b[37m\u001b[0m \u001b[1m6s\u001b[0m 1ms/step - accuracy: 0.9769 - loss: 0.0992 - val_accuracy: 0.9760 - val_loss: 0.0848\n",
      "Epoch 5/5\n",
      "\u001b[1m4774/4774\u001b[0m \u001b[32m━━━━━━━━━━━━━━━━━━━━\u001b[0m\u001b[37m\u001b[0m \u001b[1m6s\u001b[0m 1ms/step - accuracy: 0.9772 - loss: 0.1131 - val_accuracy: 0.9760 - val_loss: 0.0798\n",
      "\u001b[1m1492/1492\u001b[0m \u001b[32m━━━━━━━━━━━━━━━━━━━━\u001b[0m\u001b[37m\u001b[0m \u001b[1m1s\u001b[0m 650us/step\n"
     ]
    },
    {
     "name": "stderr",
     "output_type": "stream",
     "text": [
      "  1%|          | 1/169 [00:33<1:33:03, 33.24s/it]"
     ]
    },
    {
     "name": "stdout",
     "output_type": "stream",
     "text": [
      "Epoch 1/5\n",
      "\u001b[1m4377/4377\u001b[0m \u001b[32m━━━━━━━━━━━━━━━━━━━━\u001b[0m\u001b[37m\u001b[0m \u001b[1m6s\u001b[0m 1ms/step - accuracy: 0.9764 - loss: 0.1422 - val_accuracy: 0.9769 - val_loss: 0.0913\n",
      "Epoch 2/5\n",
      "\u001b[1m4377/4377\u001b[0m \u001b[32m━━━━━━━━━━━━━━━━━━━━\u001b[0m\u001b[37m\u001b[0m \u001b[1m6s\u001b[0m 1ms/step - accuracy: 0.9796 - loss: 1.3353 - val_accuracy: 0.9803 - val_loss: 0.0907\n",
      "Epoch 3/5\n",
      "\u001b[1m4377/4377\u001b[0m \u001b[32m━━━━━━━━━━━━━━━━━━━━\u001b[0m\u001b[37m\u001b[0m \u001b[1m6s\u001b[0m 1ms/step - accuracy: 0.9793 - loss: 0.1031 - val_accuracy: 0.9803 - val_loss: 0.0906\n",
      "Epoch 4/5\n",
      "\u001b[1m4377/4377\u001b[0m \u001b[32m━━━━━━━━━━━━━━━━━━━━\u001b[0m\u001b[37m\u001b[0m \u001b[1m5s\u001b[0m 1ms/step - accuracy: 0.9802 - loss: 0.0813 - val_accuracy: 0.9803 - val_loss: 0.0862\n",
      "Epoch 5/5\n",
      "\u001b[1m4377/4377\u001b[0m \u001b[32m━━━━━━━━━━━━━━━━━━━━\u001b[0m\u001b[37m\u001b[0m \u001b[1m5s\u001b[0m 1ms/step - accuracy: 0.9805 - loss: 0.0780 - val_accuracy: 0.9804 - val_loss: 0.0829\n",
      "\u001b[1m1368/1368\u001b[0m \u001b[32m━━━━━━━━━━━━━━━━━━━━\u001b[0m\u001b[37m\u001b[0m \u001b[1m1s\u001b[0m 595us/step\n"
     ]
    },
    {
     "name": "stderr",
     "output_type": "stream",
     "text": [
      "  1%|          | 2/169 [01:02<1:25:33, 30.74s/it]"
     ]
    },
    {
     "name": "stdout",
     "output_type": "stream",
     "text": [
      "Epoch 1/5\n",
      "\u001b[1m5506/5506\u001b[0m \u001b[32m━━━━━━━━━━━━━━━━━━━━\u001b[0m\u001b[37m\u001b[0m \u001b[1m7s\u001b[0m 1ms/step - accuracy: 0.9796 - loss: 1.8214 - val_accuracy: 0.9805 - val_loss: 0.0738\n",
      "Epoch 2/5\n",
      "\u001b[1m5506/5506\u001b[0m \u001b[32m━━━━━━━━━━━━━━━━━━━━\u001b[0m\u001b[37m\u001b[0m \u001b[1m7s\u001b[0m 1ms/step - accuracy: 0.9809 - loss: 0.0751 - val_accuracy: 0.9807 - val_loss: 0.0736\n",
      "Epoch 3/5\n",
      "\u001b[1m5506/5506\u001b[0m \u001b[32m━━━━━━━━━━━━━━━━━━━━\u001b[0m\u001b[37m\u001b[0m \u001b[1m7s\u001b[0m 1ms/step - accuracy: 0.9803 - loss: 0.2429 - val_accuracy: 0.9806 - val_loss: 0.0737\n",
      "Epoch 4/5\n",
      "\u001b[1m5506/5506\u001b[0m \u001b[32m━━━━━━━━━━━━━━━━━━━━\u001b[0m\u001b[37m\u001b[0m \u001b[1m7s\u001b[0m 1ms/step - accuracy: 0.9804 - loss: 0.2623 - val_accuracy: 0.9806 - val_loss: 0.0737\n",
      "Epoch 5/5\n",
      "\u001b[1m5506/5506\u001b[0m \u001b[32m━━━━━━━━━━━━━━━━━━━━\u001b[0m\u001b[37m\u001b[0m \u001b[1m7s\u001b[0m 1ms/step - accuracy: 0.9806 - loss: 0.0760 - val_accuracy: 0.9807 - val_loss: 0.0742\n",
      "\u001b[1m1721/1721\u001b[0m \u001b[32m━━━━━━━━━━━━━━━━━━━━\u001b[0m\u001b[37m\u001b[0m \u001b[1m1s\u001b[0m 594us/step\n"
     ]
    },
    {
     "name": "stderr",
     "output_type": "stream",
     "text": [
      "  2%|▏         | 3/169 [01:38<1:31:46, 33.17s/it]"
     ]
    },
    {
     "name": "stdout",
     "output_type": "stream",
     "text": [
      "Epoch 1/5\n",
      "\u001b[1m4621/4621\u001b[0m \u001b[32m━━━━━━━━━━━━━━━━━━━━\u001b[0m\u001b[37m\u001b[0m \u001b[1m6s\u001b[0m 1ms/step - accuracy: 0.9802 - loss: 0.0811 - val_accuracy: 0.9791 - val_loss: 0.0826\n",
      "Epoch 2/5\n",
      "\u001b[1m4621/4621\u001b[0m \u001b[32m━━━━━━━━━━━━━━━━━━━━\u001b[0m\u001b[37m\u001b[0m \u001b[1m6s\u001b[0m 1ms/step - accuracy: 0.9806 - loss: 0.1539 - val_accuracy: 0.9790 - val_loss: 0.0815\n",
      "Epoch 3/5\n",
      "\u001b[1m4621/4621\u001b[0m \u001b[32m━━━━━━━━━━━━━━━━━━━━\u001b[0m\u001b[37m\u001b[0m \u001b[1m6s\u001b[0m 1ms/step - accuracy: 0.9803 - loss: 0.0769 - val_accuracy: 0.9790 - val_loss: 0.0827\n",
      "Epoch 4/5\n",
      "\u001b[1m4621/4621\u001b[0m \u001b[32m━━━━━━━━━━━━━━━━━━━━\u001b[0m\u001b[37m\u001b[0m \u001b[1m6s\u001b[0m 1ms/step - accuracy: 0.9810 - loss: 0.0833 - val_accuracy: 0.9791 - val_loss: 0.0821\n",
      "Epoch 5/5\n",
      "\u001b[1m4621/4621\u001b[0m \u001b[32m━━━━━━━━━━━━━━━━━━━━\u001b[0m\u001b[37m\u001b[0m \u001b[1m6s\u001b[0m 1ms/step - accuracy: 0.9802 - loss: 0.0771 - val_accuracy: 0.9791 - val_loss: 0.0822\n",
      "\u001b[1m1444/1444\u001b[0m \u001b[32m━━━━━━━━━━━━━━━━━━━━\u001b[0m\u001b[37m\u001b[0m \u001b[1m1s\u001b[0m 590us/step\n"
     ]
    },
    {
     "name": "stderr",
     "output_type": "stream",
     "text": [
      "  2%|▏         | 4/169 [02:08<1:28:13, 32.08s/it]"
     ]
    },
    {
     "name": "stdout",
     "output_type": "stream",
     "text": [
      "Epoch 1/5\n",
      "\u001b[1m4550/4550\u001b[0m \u001b[32m━━━━━━━━━━━━━━━━━━━━\u001b[0m\u001b[37m\u001b[0m \u001b[1m6s\u001b[0m 1ms/step - accuracy: 0.9792 - loss: 0.0817 - val_accuracy: 0.9789 - val_loss: 0.0800\n",
      "Epoch 2/5\n",
      "\u001b[1m4550/4550\u001b[0m \u001b[32m━━━━━━━━━━━━━━━━━━━━\u001b[0m\u001b[37m\u001b[0m \u001b[1m6s\u001b[0m 1ms/step - accuracy: 0.9802 - loss: 0.0765 - val_accuracy: 0.9789 - val_loss: 0.0799\n",
      "Epoch 3/5\n",
      "\u001b[1m4550/4550\u001b[0m \u001b[32m━━━━━━━━━━━━━━━━━━━━\u001b[0m\u001b[37m\u001b[0m \u001b[1m6s\u001b[0m 1ms/step - accuracy: 0.9801 - loss: 0.0770 - val_accuracy: 0.9789 - val_loss: 0.0800\n",
      "Epoch 4/5\n",
      "\u001b[1m4550/4550\u001b[0m \u001b[32m━━━━━━━━━━━━━━━━━━━━\u001b[0m\u001b[37m\u001b[0m \u001b[1m6s\u001b[0m 1ms/step - accuracy: 0.9805 - loss: 0.0744 - val_accuracy: 0.9788 - val_loss: 0.0797\n",
      "Epoch 5/5\n",
      "\u001b[1m4550/4550\u001b[0m \u001b[32m━━━━━━━━━━━━━━━━━━━━\u001b[0m\u001b[37m\u001b[0m \u001b[1m6s\u001b[0m 1ms/step - accuracy: 0.9806 - loss: 0.0797 - val_accuracy: 0.9788 - val_loss: 0.0796\n",
      "\u001b[1m1422/1422\u001b[0m \u001b[32m━━━━━━━━━━━━━━━━━━━━\u001b[0m\u001b[37m\u001b[0m \u001b[1m1s\u001b[0m 651us/step\n"
     ]
    },
    {
     "name": "stderr",
     "output_type": "stream",
     "text": [
      "  3%|▎         | 5/169 [02:39<1:26:08, 31.51s/it]"
     ]
    },
    {
     "name": "stdout",
     "output_type": "stream",
     "text": [
      "Epoch 1/5\n",
      "\u001b[1m4801/4801\u001b[0m \u001b[32m━━━━━━━━━━━━━━━━━━━━\u001b[0m\u001b[37m\u001b[0m \u001b[1m7s\u001b[0m 1ms/step - accuracy: 0.9793 - loss: 0.0814 - val_accuracy: 0.9796 - val_loss: 0.0783\n",
      "Epoch 2/5\n",
      "\u001b[1m4801/4801\u001b[0m \u001b[32m━━━━━━━━━━━━━━━━━━━━\u001b[0m\u001b[37m\u001b[0m \u001b[1m6s\u001b[0m 1ms/step - accuracy: 0.9798 - loss: 0.0785 - val_accuracy: 0.9795 - val_loss: 0.0783\n",
      "Epoch 3/5\n",
      "\u001b[1m4801/4801\u001b[0m \u001b[32m━━━━━━━━━━━━━━━━━━━━\u001b[0m\u001b[37m\u001b[0m \u001b[1m6s\u001b[0m 1ms/step - accuracy: 0.9799 - loss: 0.0794 - val_accuracy: 0.9796 - val_loss: 0.0783\n",
      "Epoch 4/5\n",
      "\u001b[1m4801/4801\u001b[0m \u001b[32m━━━━━━━━━━━━━━━━━━━━\u001b[0m\u001b[37m\u001b[0m \u001b[1m6s\u001b[0m 1ms/step - accuracy: 0.9799 - loss: 0.0829 - val_accuracy: 0.9797 - val_loss: 0.0779\n",
      "Epoch 5/5\n",
      "\u001b[1m4801/4801\u001b[0m \u001b[32m━━━━━━━━━━━━━━━━━━━━\u001b[0m\u001b[37m\u001b[0m \u001b[1m6s\u001b[0m 1ms/step - accuracy: 0.9746 - loss: 0.0945 - val_accuracy: 0.9762 - val_loss: 0.2417\n",
      "\u001b[1m1501/1501\u001b[0m \u001b[32m━━━━━━━━━━━━━━━━━━━━\u001b[0m\u001b[37m\u001b[0m \u001b[1m1s\u001b[0m 611us/step\n"
     ]
    },
    {
     "name": "stderr",
     "output_type": "stream",
     "text": [
      "  4%|▎         | 6/169 [03:11<1:26:24, 31.81s/it]"
     ]
    },
    {
     "name": "stdout",
     "output_type": "stream",
     "text": [
      "Epoch 1/5\n",
      "\u001b[1m4676/4676\u001b[0m \u001b[32m━━━━━━━━━━━━━━━━━━━━\u001b[0m\u001b[37m\u001b[0m \u001b[1m6s\u001b[0m 1ms/step - accuracy: 0.9761 - loss: 0.1762 - val_accuracy: 0.9781 - val_loss: 0.1074\n",
      "Epoch 2/5\n",
      "\u001b[1m4676/4676\u001b[0m \u001b[32m━━━━━━━━━━━━━━━━━━━━\u001b[0m\u001b[37m\u001b[0m \u001b[1m6s\u001b[0m 1ms/step - accuracy: 0.9763 - loss: 0.1127 - val_accuracy: 0.9781 - val_loss: 0.1055\n",
      "Epoch 3/5\n",
      "\u001b[1m4676/4676\u001b[0m \u001b[32m━━━━━━━━━━━━━━━━━━━━\u001b[0m\u001b[37m\u001b[0m \u001b[1m6s\u001b[0m 1ms/step - accuracy: 0.9764 - loss: 0.1116 - val_accuracy: 0.9781 - val_loss: 0.1055\n",
      "Epoch 4/5\n",
      "\u001b[1m4676/4676\u001b[0m \u001b[32m━━━━━━━━━━━━━━━━━━━━\u001b[0m\u001b[37m\u001b[0m \u001b[1m6s\u001b[0m 1ms/step - accuracy: 0.9763 - loss: 0.1120 - val_accuracy: 0.9781 - val_loss: 0.1055\n",
      "Epoch 5/5\n",
      "\u001b[1m4676/4676\u001b[0m \u001b[32m━━━━━━━━━━━━━━━━━━━━\u001b[0m\u001b[37m\u001b[0m \u001b[1m6s\u001b[0m 1ms/step - accuracy: 0.9767 - loss: 0.3929 - val_accuracy: 0.9781 - val_loss: 0.1055\n",
      "\u001b[1m1462/1462\u001b[0m \u001b[32m━━━━━━━━━━━━━━━━━━━━\u001b[0m\u001b[37m\u001b[0m \u001b[1m1s\u001b[0m 571us/step\n"
     ]
    },
    {
     "name": "stderr",
     "output_type": "stream",
     "text": [
      "  4%|▍         | 7/169 [03:42<1:24:52, 31.44s/it]"
     ]
    },
    {
     "name": "stdout",
     "output_type": "stream",
     "text": [
      "Epoch 1/5\n",
      "\u001b[1m4559/4559\u001b[0m \u001b[32m━━━━━━━━━━━━━━━━━━━━\u001b[0m\u001b[37m\u001b[0m \u001b[1m6s\u001b[0m 1ms/step - accuracy: 0.9769 - loss: 0.1097 - val_accuracy: 0.9772 - val_loss: 0.1087\n",
      "Epoch 2/5\n",
      "\u001b[1m4559/4559\u001b[0m \u001b[32m━━━━━━━━━━━━━━━━━━━━\u001b[0m\u001b[37m\u001b[0m \u001b[1m6s\u001b[0m 1ms/step - accuracy: 0.9761 - loss: 0.1128 - val_accuracy: 0.9772 - val_loss: 0.1087\n",
      "Epoch 3/5\n",
      "\u001b[1m4559/4559\u001b[0m \u001b[32m━━━━━━━━━━━━━━━━━━━━\u001b[0m\u001b[37m\u001b[0m \u001b[1m6s\u001b[0m 1ms/step - accuracy: 0.9760 - loss: 0.1132 - val_accuracy: 0.9772 - val_loss: 0.1087\n",
      "Epoch 4/5\n",
      "\u001b[1m4559/4559\u001b[0m \u001b[32m━━━━━━━━━━━━━━━━━━━━\u001b[0m\u001b[37m\u001b[0m \u001b[1m6s\u001b[0m 1ms/step - accuracy: 0.9758 - loss: 0.1839 - val_accuracy: 0.9772 - val_loss: 0.1087\n",
      "Epoch 5/5\n",
      "\u001b[1m4559/4559\u001b[0m \u001b[32m━━━━━━━━━━━━━━━━━━━━\u001b[0m\u001b[37m\u001b[0m \u001b[1m6s\u001b[0m 1ms/step - accuracy: 0.9764 - loss: 0.1117 - val_accuracy: 0.9772 - val_loss: 0.1087\n",
      "\u001b[1m1425/1425\u001b[0m \u001b[32m━━━━━━━━━━━━━━━━━━━━\u001b[0m\u001b[37m\u001b[0m \u001b[1m1s\u001b[0m 573us/step\n"
     ]
    },
    {
     "name": "stderr",
     "output_type": "stream",
     "text": [
      "  5%|▍         | 8/169 [04:11<1:22:38, 30.80s/it]"
     ]
    },
    {
     "name": "stdout",
     "output_type": "stream",
     "text": [
      "Epoch 1/5\n",
      "\u001b[1m4927/4927\u001b[0m \u001b[32m━━━━━━━━━━━━━━━━━━━━\u001b[0m\u001b[37m\u001b[0m \u001b[1m6s\u001b[0m 1ms/step - accuracy: 0.9759 - loss: 0.1137 - val_accuracy: 0.9761 - val_loss: 0.1130\n",
      "Epoch 2/5\n",
      "\u001b[1m4927/4927\u001b[0m \u001b[32m━━━━━━━━━━━━━━━━━━━━\u001b[0m\u001b[37m\u001b[0m \u001b[1m6s\u001b[0m 1ms/step - accuracy: 0.9758 - loss: 0.1140 - val_accuracy: 0.9761 - val_loss: 0.1128\n",
      "Epoch 3/5\n",
      "\u001b[1m4927/4927\u001b[0m \u001b[32m━━━━━━━━━━━━━━━━━━━━\u001b[0m\u001b[37m\u001b[0m \u001b[1m6s\u001b[0m 1ms/step - accuracy: 0.9763 - loss: 0.1288 - val_accuracy: 0.9761 - val_loss: 0.1130\n",
      "Epoch 4/5\n",
      "\u001b[1m4927/4927\u001b[0m \u001b[32m━━━━━━━━━━━━━━━━━━━━\u001b[0m\u001b[37m\u001b[0m \u001b[1m6s\u001b[0m 1ms/step - accuracy: 0.9765 - loss: 0.1113 - val_accuracy: 0.9761 - val_loss: 0.1131\n",
      "Epoch 5/5\n",
      "\u001b[1m4927/4927\u001b[0m \u001b[32m━━━━━━━━━━━━━━━━━━━━\u001b[0m\u001b[37m\u001b[0m \u001b[1m6s\u001b[0m 1ms/step - accuracy: 0.9768 - loss: 0.1103 - val_accuracy: 0.9761 - val_loss: 0.1127\n",
      "\u001b[1m1540/1540\u001b[0m \u001b[32m━━━━━━━━━━━━━━━━━━━━\u001b[0m\u001b[37m\u001b[0m \u001b[1m1s\u001b[0m 588us/step\n"
     ]
    },
    {
     "name": "stderr",
     "output_type": "stream",
     "text": [
      "  5%|▌         | 9/169 [04:44<1:23:28, 31.30s/it]"
     ]
    },
    {
     "name": "stdout",
     "output_type": "stream",
     "text": [
      "Epoch 1/5\n",
      "\u001b[1m4553/4553\u001b[0m \u001b[32m━━━━━━━━━━━━━━━━━━━━\u001b[0m\u001b[37m\u001b[0m \u001b[1m6s\u001b[0m 1ms/step - accuracy: 0.9761 - loss: 0.1132 - val_accuracy: 0.9765 - val_loss: 0.1114\n",
      "Epoch 2/5\n",
      "\u001b[1m4553/4553\u001b[0m \u001b[32m━━━━━━━━━━━━━━━━━━━━\u001b[0m\u001b[37m\u001b[0m \u001b[1m6s\u001b[0m 1ms/step - accuracy: 0.9754 - loss: 0.1156 - val_accuracy: 0.9765 - val_loss: 0.1114\n",
      "Epoch 3/5\n",
      "\u001b[1m4553/4553\u001b[0m \u001b[32m━━━━━━━━━━━━━━━━━━━━\u001b[0m\u001b[37m\u001b[0m \u001b[1m6s\u001b[0m 1ms/step - accuracy: 0.9762 - loss: 0.1124 - val_accuracy: 0.9765 - val_loss: 0.1114\n",
      "Epoch 4/5\n",
      "\u001b[1m4553/4553\u001b[0m \u001b[32m━━━━━━━━━━━━━━━━━━━━\u001b[0m\u001b[37m\u001b[0m \u001b[1m6s\u001b[0m 1ms/step - accuracy: 0.9764 - loss: 0.1120 - val_accuracy: 0.9765 - val_loss: 0.1114\n",
      "Epoch 5/5\n",
      "\u001b[1m4553/4553\u001b[0m \u001b[32m━━━━━━━━━━━━━━━━━━━━\u001b[0m\u001b[37m\u001b[0m \u001b[1m6s\u001b[0m 1ms/step - accuracy: 0.9753 - loss: 0.1336 - val_accuracy: 0.9765 - val_loss: 0.1114\n",
      "\u001b[1m1423/1423\u001b[0m \u001b[32m━━━━━━━━━━━━━━━━━━━━\u001b[0m\u001b[37m\u001b[0m \u001b[1m1s\u001b[0m 588us/step\n"
     ]
    },
    {
     "name": "stderr",
     "output_type": "stream",
     "text": [
      "  6%|▌         | 10/169 [05:14<1:22:14, 31.03s/it]"
     ]
    },
    {
     "name": "stdout",
     "output_type": "stream",
     "text": [
      "Epoch 1/5\n",
      "\u001b[1m5028/5028\u001b[0m \u001b[32m━━━━━━━━━━━━━━━━━━━━\u001b[0m\u001b[37m\u001b[0m \u001b[1m6s\u001b[0m 1ms/step - accuracy: 0.9762 - loss: 0.1329 - val_accuracy: 0.9767 - val_loss: 0.1107\n",
      "Epoch 2/5\n",
      "\u001b[1m5028/5028\u001b[0m \u001b[32m━━━━━━━━━━━━━━━━━━━━\u001b[0m\u001b[37m\u001b[0m \u001b[1m7s\u001b[0m 1ms/step - accuracy: 0.9764 - loss: 0.1981 - val_accuracy: 0.9767 - val_loss: 0.1107\n",
      "Epoch 3/5\n",
      "\u001b[1m5028/5028\u001b[0m \u001b[32m━━━━━━━━━━━━━━━━━━━━\u001b[0m\u001b[37m\u001b[0m \u001b[1m6s\u001b[0m 1ms/step - accuracy: 0.9768 - loss: 0.1111 - val_accuracy: 0.9767 - val_loss: 0.1107\n",
      "Epoch 4/5\n",
      "\u001b[1m5028/5028\u001b[0m \u001b[32m━━━━━━━━━━━━━━━━━━━━\u001b[0m\u001b[37m\u001b[0m \u001b[1m6s\u001b[0m 1ms/step - accuracy: 0.9763 - loss: 0.1120 - val_accuracy: 0.9767 - val_loss: 0.1107\n",
      "Epoch 5/5\n",
      "\u001b[1m5028/5028\u001b[0m \u001b[32m━━━━━━━━━━━━━━━━━━━━\u001b[0m\u001b[37m\u001b[0m \u001b[1m6s\u001b[0m 1ms/step - accuracy: 0.9758 - loss: 0.1143 - val_accuracy: 0.9767 - val_loss: 0.1107\n",
      "\u001b[1m1572/1572\u001b[0m \u001b[32m━━━━━━━━━━━━━━━━━━━━\u001b[0m\u001b[37m\u001b[0m \u001b[1m1s\u001b[0m 577us/step\n"
     ]
    },
    {
     "name": "stderr",
     "output_type": "stream",
     "text": [
      "  7%|▋         | 11/169 [05:48<1:23:48, 31.83s/it]"
     ]
    },
    {
     "name": "stdout",
     "output_type": "stream",
     "text": [
      "Epoch 1/5\n",
      "\u001b[1m4439/4439\u001b[0m \u001b[32m━━━━━━━━━━━━━━━━━━━━\u001b[0m\u001b[37m\u001b[0m \u001b[1m6s\u001b[0m 1ms/step - accuracy: 0.9763 - loss: 0.1120 - val_accuracy: 0.9773 - val_loss: 0.1558\n",
      "Epoch 2/5\n",
      "\u001b[1m4439/4439\u001b[0m \u001b[32m━━━━━━━━━━━━━━━━━━━━\u001b[0m\u001b[37m\u001b[0m \u001b[1m6s\u001b[0m 1ms/step - accuracy: 0.9765 - loss: 0.1154 - val_accuracy: 0.9773 - val_loss: 0.0977\n",
      "Epoch 3/5\n",
      "\u001b[1m4439/4439\u001b[0m \u001b[32m━━━━━━━━━━━━━━━━━━━━\u001b[0m\u001b[37m\u001b[0m \u001b[1m6s\u001b[0m 1ms/step - accuracy: 0.9757 - loss: 0.1008 - val_accuracy: 0.9773 - val_loss: 0.0766\n",
      "Epoch 4/5\n",
      "\u001b[1m4439/4439\u001b[0m \u001b[32m━━━━━━━━━━━━━━━━━━━━\u001b[0m\u001b[37m\u001b[0m \u001b[1m6s\u001b[0m 1ms/step - accuracy: 0.9775 - loss: 0.0729 - val_accuracy: 0.9773 - val_loss: 0.0698\n",
      "Epoch 5/5\n",
      "\u001b[1m4439/4439\u001b[0m \u001b[32m━━━━━━━━━━━━━━━━━━━━\u001b[0m\u001b[37m\u001b[0m \u001b[1m6s\u001b[0m 1ms/step - accuracy: 0.9760 - loss: 0.0819 - val_accuracy: 0.9773 - val_loss: 0.0695\n",
      "\u001b[1m1388/1388\u001b[0m \u001b[32m━━━━━━━━━━━━━━━━━━━━\u001b[0m\u001b[37m\u001b[0m \u001b[1m1s\u001b[0m 593us/step\n"
     ]
    },
    {
     "name": "stderr",
     "output_type": "stream",
     "text": [
      "  7%|▋         | 12/169 [06:17<1:21:28, 31.14s/it]"
     ]
    },
    {
     "name": "stdout",
     "output_type": "stream",
     "text": [
      "Epoch 1/5\n",
      "\u001b[1m4770/4770\u001b[0m \u001b[32m━━━━━━━━━━━━━━━━━━━━\u001b[0m\u001b[37m\u001b[0m \u001b[1m6s\u001b[0m 1ms/step - accuracy: 0.9766 - loss: 0.0720 - val_accuracy: 0.9768 - val_loss: 0.0703\n",
      "Epoch 2/5\n",
      "\u001b[1m4770/4770\u001b[0m \u001b[32m━━━━━━━━━━━━━━━━━━━━\u001b[0m\u001b[37m\u001b[0m \u001b[1m6s\u001b[0m 1ms/step - accuracy: 0.9770 - loss: 0.0703 - val_accuracy: 0.9768 - val_loss: 0.0756\n",
      "Epoch 3/5\n",
      "\u001b[1m4770/4770\u001b[0m \u001b[32m━━━━━━━━━━━━━━━━━━━━\u001b[0m\u001b[37m\u001b[0m \u001b[1m6s\u001b[0m 1ms/step - accuracy: 0.9790 - loss: 0.0768 - val_accuracy: 0.9806 - val_loss: 0.0752\n",
      "Epoch 4/5\n",
      "\u001b[1m4770/4770\u001b[0m \u001b[32m━━━━━━━━━━━━━━━━━━━━\u001b[0m\u001b[37m\u001b[0m \u001b[1m6s\u001b[0m 1ms/step - accuracy: 0.9801 - loss: 0.0771 - val_accuracy: 0.9803 - val_loss: 0.0753\n",
      "Epoch 5/5\n",
      "\u001b[1m4770/4770\u001b[0m \u001b[32m━━━━━━━━━━━━━━━━━━━━\u001b[0m\u001b[37m\u001b[0m \u001b[1m6s\u001b[0m 1ms/step - accuracy: 0.9807 - loss: 0.0750 - val_accuracy: 0.9802 - val_loss: 0.0753\n",
      "\u001b[1m1491/1491\u001b[0m \u001b[32m━━━━━━━━━━━━━━━━━━━━\u001b[0m\u001b[37m\u001b[0m \u001b[1m1s\u001b[0m 585us/step\n"
     ]
    },
    {
     "name": "stderr",
     "output_type": "stream",
     "text": [
      "  8%|▊         | 13/169 [06:49<1:21:23, 31.30s/it]"
     ]
    },
    {
     "name": "stdout",
     "output_type": "stream",
     "text": [
      "Epoch 1/5\n",
      "\u001b[1m4776/4776\u001b[0m \u001b[32m━━━━━━━━━━━━━━━━━━━━\u001b[0m\u001b[37m\u001b[0m \u001b[1m6s\u001b[0m 1ms/step - accuracy: 0.9795 - loss: 0.0837 - val_accuracy: 0.9802 - val_loss: 0.0796\n",
      "Epoch 2/5\n",
      "\u001b[1m4776/4776\u001b[0m \u001b[32m━━━━━━━━━━━━━━━━━━━━\u001b[0m\u001b[37m\u001b[0m \u001b[1m6s\u001b[0m 1ms/step - accuracy: 0.9805 - loss: 0.0755 - val_accuracy: 0.9801 - val_loss: 0.0795\n",
      "Epoch 3/5\n",
      "\u001b[1m4776/4776\u001b[0m \u001b[32m━━━━━━━━━━━━━━━━━━━━\u001b[0m\u001b[37m\u001b[0m \u001b[1m6s\u001b[0m 1ms/step - accuracy: 0.9795 - loss: 0.0777 - val_accuracy: 0.9801 - val_loss: 0.0795\n",
      "Epoch 4/5\n",
      "\u001b[1m4776/4776\u001b[0m \u001b[32m━━━━━━━━━━━━━━━━━━━━\u001b[0m\u001b[37m\u001b[0m \u001b[1m6s\u001b[0m 1ms/step - accuracy: 0.9809 - loss: 0.0739 - val_accuracy: 0.9801 - val_loss: 0.0795\n",
      "Epoch 5/5\n",
      "\u001b[1m4776/4776\u001b[0m \u001b[32m━━━━━━━━━━━━━━━━━━━━\u001b[0m\u001b[37m\u001b[0m \u001b[1m6s\u001b[0m 1ms/step - accuracy: 0.9803 - loss: 0.0758 - val_accuracy: 0.9802 - val_loss: 0.1748\n",
      "\u001b[1m1493/1493\u001b[0m \u001b[32m━━━━━━━━━━━━━━━━━━━━\u001b[0m\u001b[37m\u001b[0m \u001b[1m1s\u001b[0m 600us/step\n"
     ]
    },
    {
     "name": "stderr",
     "output_type": "stream",
     "text": [
      "  8%|▊         | 14/169 [07:20<1:20:57, 31.34s/it]"
     ]
    },
    {
     "name": "stdout",
     "output_type": "stream",
     "text": [
      "Epoch 1/5\n",
      "\u001b[1m4317/4317\u001b[0m \u001b[32m━━━━━━━━━━━━━━━━━━━━\u001b[0m\u001b[37m\u001b[0m \u001b[1m5s\u001b[0m 1ms/step - accuracy: 0.9806 - loss: 0.1830 - val_accuracy: 0.9803 - val_loss: 0.0736\n",
      "Epoch 2/5\n",
      "\u001b[1m4317/4317\u001b[0m \u001b[32m━━━━━━━━━━━━━━━━━━━━\u001b[0m\u001b[37m\u001b[0m \u001b[1m5s\u001b[0m 1ms/step - accuracy: 0.9806 - loss: 0.0756 - val_accuracy: 0.9802 - val_loss: 0.0737\n",
      "Epoch 3/5\n",
      "\u001b[1m4317/4317\u001b[0m \u001b[32m━━━━━━━━━━━━━━━━━━━━\u001b[0m\u001b[37m\u001b[0m \u001b[1m5s\u001b[0m 1ms/step - accuracy: 0.9807 - loss: 0.0756 - val_accuracy: 0.9802 - val_loss: 0.0737\n",
      "Epoch 4/5\n",
      "\u001b[1m4317/4317\u001b[0m \u001b[32m━━━━━━━━━━━━━━━━━━━━\u001b[0m\u001b[37m\u001b[0m \u001b[1m6s\u001b[0m 1ms/step - accuracy: 0.9810 - loss: 0.0752 - val_accuracy: 0.9802 - val_loss: 0.0738\n",
      "Epoch 5/5\n",
      "\u001b[1m4317/4317\u001b[0m \u001b[32m━━━━━━━━━━━━━━━━━━━━\u001b[0m\u001b[37m\u001b[0m \u001b[1m5s\u001b[0m 1ms/step - accuracy: 0.9806 - loss: 0.0758 - val_accuracy: 0.9802 - val_loss: 0.0738\n",
      "\u001b[1m1349/1349\u001b[0m \u001b[32m━━━━━━━━━━━━━━━━━━━━\u001b[0m\u001b[37m\u001b[0m \u001b[1m1s\u001b[0m 587us/step\n"
     ]
    },
    {
     "name": "stderr",
     "output_type": "stream",
     "text": [
      "  9%|▉         | 15/169 [07:49<1:18:22, 30.54s/it]"
     ]
    },
    {
     "name": "stdout",
     "output_type": "stream",
     "text": [
      "Epoch 1/5\n",
      "\u001b[1m5373/5373\u001b[0m \u001b[32m━━━━━━━━━━━━━━━━━━━━\u001b[0m\u001b[37m\u001b[0m \u001b[1m7s\u001b[0m 1ms/step - accuracy: 0.9791 - loss: 0.0817 - val_accuracy: 0.9806 - val_loss: 0.0748\n",
      "Epoch 2/5\n",
      "\u001b[1m5373/5373\u001b[0m \u001b[32m━━━━━━━━━━━━━━━━━━━━\u001b[0m\u001b[37m\u001b[0m \u001b[1m7s\u001b[0m 1ms/step - accuracy: 0.9795 - loss: 0.0787 - val_accuracy: 0.9806 - val_loss: 0.0747\n",
      "Epoch 3/5\n",
      "\u001b[1m5373/5373\u001b[0m \u001b[32m━━━━━━━━━━━━━━━━━━━━\u001b[0m\u001b[37m\u001b[0m \u001b[1m7s\u001b[0m 1ms/step - accuracy: 0.9797 - loss: 0.0790 - val_accuracy: 0.9806 - val_loss: 0.0747\n",
      "Epoch 4/5\n",
      "\u001b[1m5373/5373\u001b[0m \u001b[32m━━━━━━━━━━━━━━━━━━━━\u001b[0m\u001b[37m\u001b[0m \u001b[1m7s\u001b[0m 1ms/step - accuracy: 0.9801 - loss: 0.0772 - val_accuracy: 0.9806 - val_loss: 0.0747\n",
      "Epoch 5/5\n",
      "\u001b[1m5373/5373\u001b[0m \u001b[32m━━━━━━━━━━━━━━━━━━━━\u001b[0m\u001b[37m\u001b[0m \u001b[1m7s\u001b[0m 1ms/step - accuracy: 0.9793 - loss: 0.0789 - val_accuracy: 0.9806 - val_loss: 0.0747\n",
      "\u001b[1m1680/1680\u001b[0m \u001b[32m━━━━━━━━━━━━━━━━━━━━\u001b[0m\u001b[37m\u001b[0m \u001b[1m1s\u001b[0m 587us/step\n"
     ]
    },
    {
     "name": "stderr",
     "output_type": "stream",
     "text": [
      "  9%|▉         | 16/169 [08:25<1:22:01, 32.17s/it]"
     ]
    },
    {
     "name": "stdout",
     "output_type": "stream",
     "text": [
      "Epoch 1/5\n",
      "\u001b[1m4658/4658\u001b[0m \u001b[32m━━━━━━━━━━━━━━━━━━━━\u001b[0m\u001b[37m\u001b[0m \u001b[1m6s\u001b[0m 1ms/step - accuracy: 0.9799 - loss: 0.0771 - val_accuracy: 0.9812 - val_loss: 0.0737\n",
      "Epoch 2/5\n",
      "\u001b[1m4658/4658\u001b[0m \u001b[32m━━━━━━━━━━━━━━━━━━━━\u001b[0m\u001b[37m\u001b[0m \u001b[1m6s\u001b[0m 1ms/step - accuracy: 0.9794 - loss: 0.4241 - val_accuracy: 0.9812 - val_loss: 0.0738\n",
      "Epoch 3/5\n",
      "\u001b[1m4658/4658\u001b[0m \u001b[32m━━━━━━━━━━━━━━━━━━━━\u001b[0m\u001b[37m\u001b[0m \u001b[1m6s\u001b[0m 1ms/step - accuracy: 0.9799 - loss: 0.0757 - val_accuracy: 0.9812 - val_loss: 0.0739\n",
      "Epoch 4/5\n",
      "\u001b[1m4658/4658\u001b[0m \u001b[32m━━━━━━━━━━━━━━━━━━━━\u001b[0m\u001b[37m\u001b[0m \u001b[1m6s\u001b[0m 1ms/step - accuracy: 0.9801 - loss: 0.0759 - val_accuracy: 0.9812 - val_loss: 0.0744\n",
      "Epoch 5/5\n",
      "\u001b[1m4658/4658\u001b[0m \u001b[32m━━━━━━━━━━━━━━━━━━━━\u001b[0m\u001b[37m\u001b[0m \u001b[1m6s\u001b[0m 1ms/step - accuracy: 0.9800 - loss: 0.0761 - val_accuracy: 0.9812 - val_loss: 0.0740\n",
      "\u001b[1m1456/1456\u001b[0m \u001b[32m━━━━━━━━━━━━━━━━━━━━\u001b[0m\u001b[37m\u001b[0m \u001b[1m1s\u001b[0m 592us/step\n"
     ]
    },
    {
     "name": "stderr",
     "output_type": "stream",
     "text": [
      " 10%|█         | 17/169 [08:56<1:20:35, 31.81s/it]"
     ]
    },
    {
     "name": "stdout",
     "output_type": "stream",
     "text": [
      "Epoch 1/5\n",
      "\u001b[1m4469/4469\u001b[0m \u001b[32m━━━━━━━━━━━━━━━━━━━━\u001b[0m\u001b[37m\u001b[0m \u001b[1m6s\u001b[0m 1ms/step - accuracy: 0.9799 - loss: 0.0773 - val_accuracy: 0.9803 - val_loss: 0.0758\n",
      "Epoch 2/5\n",
      "\u001b[1m4469/4469\u001b[0m \u001b[32m━━━━━━━━━━━━━━━━━━━━\u001b[0m\u001b[37m\u001b[0m \u001b[1m6s\u001b[0m 1ms/step - accuracy: 0.9795 - loss: 0.0831 - val_accuracy: 0.9801 - val_loss: 0.0750\n",
      "Epoch 3/5\n",
      "\u001b[1m4469/4469\u001b[0m \u001b[32m━━━━━━━━━━━━━━━━━━━━\u001b[0m\u001b[37m\u001b[0m \u001b[1m6s\u001b[0m 1ms/step - accuracy: 0.9800 - loss: 0.0804 - val_accuracy: 0.9801 - val_loss: 0.0752\n",
      "Epoch 4/5\n",
      "\u001b[1m4469/4469\u001b[0m \u001b[32m━━━━━━━━━━━━━━━━━━━━\u001b[0m\u001b[37m\u001b[0m \u001b[1m6s\u001b[0m 1ms/step - accuracy: 0.9806 - loss: 0.0757 - val_accuracy: 0.9801 - val_loss: 0.0753\n",
      "Epoch 5/5\n",
      "\u001b[1m4469/4469\u001b[0m \u001b[32m━━━━━━━━━━━━━━━━━━━━\u001b[0m\u001b[37m\u001b[0m \u001b[1m5s\u001b[0m 1ms/step - accuracy: 0.9798 - loss: 0.0775 - val_accuracy: 0.9801 - val_loss: 0.0753\n",
      "\u001b[1m1397/1397\u001b[0m \u001b[32m━━━━━━━━━━━━━━━━━━━━\u001b[0m\u001b[37m\u001b[0m \u001b[1m1s\u001b[0m 580us/step\n"
     ]
    },
    {
     "name": "stderr",
     "output_type": "stream",
     "text": [
      " 11%|█         | 18/169 [09:25<1:18:05, 31.03s/it]"
     ]
    },
    {
     "name": "stdout",
     "output_type": "stream",
     "text": [
      "Epoch 1/5\n",
      "\u001b[1m4689/4689\u001b[0m \u001b[32m━━━━━━━━━━━━━━━━━━━━\u001b[0m\u001b[37m\u001b[0m \u001b[1m6s\u001b[0m 1ms/step - accuracy: 0.9795 - loss: 0.0782 - val_accuracy: 0.9797 - val_loss: 0.0797\n",
      "Epoch 2/5\n",
      "\u001b[1m4689/4689\u001b[0m \u001b[32m━━━━━━━━━━━━━━━━━━━━\u001b[0m\u001b[37m\u001b[0m \u001b[1m6s\u001b[0m 1ms/step - accuracy: 0.9801 - loss: 0.0751 - val_accuracy: 0.9797 - val_loss: 0.0793\n",
      "Epoch 3/5\n",
      "\u001b[1m4689/4689\u001b[0m \u001b[32m━━━━━━━━━━━━━━━━━━━━\u001b[0m\u001b[37m\u001b[0m \u001b[1m6s\u001b[0m 1ms/step - accuracy: 0.9805 - loss: 0.0751 - val_accuracy: 0.9797 - val_loss: 0.0788\n",
      "Epoch 4/5\n",
      "\u001b[1m4689/4689\u001b[0m \u001b[32m━━━━━━━━━━━━━━━━━━━━\u001b[0m\u001b[37m\u001b[0m \u001b[1m6s\u001b[0m 1ms/step - accuracy: 0.9799 - loss: 0.0785 - val_accuracy: 0.9797 - val_loss: 0.0788\n",
      "Epoch 5/5\n",
      "\u001b[1m4689/4689\u001b[0m \u001b[32m━━━━━━━━━━━━━━━━━━━━\u001b[0m\u001b[37m\u001b[0m \u001b[1m6s\u001b[0m 1ms/step - accuracy: 0.9802 - loss: 0.0766 - val_accuracy: 0.9797 - val_loss: 0.0787\n",
      "\u001b[1m1466/1466\u001b[0m \u001b[32m━━━━━━━━━━━━━━━━━━━━\u001b[0m\u001b[37m\u001b[0m \u001b[1m1s\u001b[0m 570us/step\n"
     ]
    },
    {
     "name": "stderr",
     "output_type": "stream",
     "text": [
      " 11%|█         | 19/169 [09:56<1:17:04, 30.83s/it]"
     ]
    },
    {
     "name": "stdout",
     "output_type": "stream",
     "text": [
      "Epoch 1/5\n",
      "\u001b[1m4622/4622\u001b[0m \u001b[32m━━━━━━━━━━━━━━━━━━━━\u001b[0m\u001b[37m\u001b[0m \u001b[1m6s\u001b[0m 1ms/step - accuracy: 0.9802 - loss: 0.0761 - val_accuracy: 0.9790 - val_loss: 0.0795\n",
      "Epoch 2/5\n",
      "\u001b[1m4622/4622\u001b[0m \u001b[32m━━━━━━━━━━━━━━━━━━━━\u001b[0m\u001b[37m\u001b[0m \u001b[1m6s\u001b[0m 1ms/step - accuracy: 0.9807 - loss: 0.0751 - val_accuracy: 0.9790 - val_loss: 0.0794\n",
      "Epoch 3/5\n",
      "\u001b[1m4622/4622\u001b[0m \u001b[32m━━━━━━━━━━━━━━━━━━━━\u001b[0m\u001b[37m\u001b[0m \u001b[1m6s\u001b[0m 1ms/step - accuracy: 0.9802 - loss: 0.0759 - val_accuracy: 0.9793 - val_loss: 0.0809\n",
      "Epoch 4/5\n",
      "\u001b[1m4622/4622\u001b[0m \u001b[32m━━━━━━━━━━━━━━━━━━━━\u001b[0m\u001b[37m\u001b[0m \u001b[1m6s\u001b[0m 1ms/step - accuracy: 0.9801 - loss: 0.0786 - val_accuracy: 0.9790 - val_loss: 0.0797\n",
      "Epoch 5/5\n",
      "\u001b[1m4622/4622\u001b[0m \u001b[32m━━━━━━━━━━━━━━━━━━━━\u001b[0m\u001b[37m\u001b[0m \u001b[1m6s\u001b[0m 1ms/step - accuracy: 0.9803 - loss: 0.0762 - val_accuracy: 0.9792 - val_loss: 0.0805\n",
      "\u001b[1m1445/1445\u001b[0m \u001b[32m━━━━━━━━━━━━━━━━━━━━\u001b[0m\u001b[37m\u001b[0m \u001b[1m1s\u001b[0m 566us/step\n"
     ]
    },
    {
     "name": "stderr",
     "output_type": "stream",
     "text": [
      " 12%|█▏        | 20/169 [10:26<1:16:08, 30.66s/it]"
     ]
    },
    {
     "name": "stdout",
     "output_type": "stream",
     "text": [
      "Epoch 1/5\n",
      "\u001b[1m4743/4743\u001b[0m \u001b[32m━━━━━━━━━━━━━━━━━━━━\u001b[0m\u001b[37m\u001b[0m \u001b[1m6s\u001b[0m 1ms/step - accuracy: 0.9803 - loss: 0.0762 - val_accuracy: 0.9808 - val_loss: 0.0729\n",
      "Epoch 2/5\n",
      "\u001b[1m4743/4743\u001b[0m \u001b[32m━━━━━━━━━━━━━━━━━━━━\u001b[0m\u001b[37m\u001b[0m \u001b[1m6s\u001b[0m 1ms/step - accuracy: 0.9795 - loss: 0.0781 - val_accuracy: 0.9808 - val_loss: 0.0725\n",
      "Epoch 3/5\n",
      "\u001b[1m4743/4743\u001b[0m \u001b[32m━━━━━━━━━━━━━━━━━━━━\u001b[0m\u001b[37m\u001b[0m \u001b[1m6s\u001b[0m 1ms/step - accuracy: 0.9798 - loss: 0.0779 - val_accuracy: 0.9808 - val_loss: 0.0724\n",
      "Epoch 4/5\n",
      "\u001b[1m4743/4743\u001b[0m \u001b[32m━━━━━━━━━━━━━━━━━━━━\u001b[0m\u001b[37m\u001b[0m \u001b[1m6s\u001b[0m 1ms/step - accuracy: 0.9798 - loss: 0.0771 - val_accuracy: 0.9808 - val_loss: 0.0727\n",
      "Epoch 5/5\n",
      "\u001b[1m4743/4743\u001b[0m \u001b[32m━━━━━━━━━━━━━━━━━━━━\u001b[0m\u001b[37m\u001b[0m \u001b[1m6s\u001b[0m 1ms/step - accuracy: 0.9801 - loss: 0.0771 - val_accuracy: 0.9808 - val_loss: 0.0725\n",
      "\u001b[1m1483/1483\u001b[0m \u001b[32m━━━━━━━━━━━━━━━━━━━━\u001b[0m\u001b[37m\u001b[0m \u001b[1m1s\u001b[0m 590us/step\n"
     ]
    },
    {
     "name": "stderr",
     "output_type": "stream",
     "text": [
      " 12%|█▏        | 21/169 [10:57<1:16:16, 30.93s/it]"
     ]
    },
    {
     "name": "stdout",
     "output_type": "stream",
     "text": [
      "Epoch 1/5\n",
      "\u001b[1m4468/4468\u001b[0m \u001b[32m━━━━━━━━━━━━━━━━━━━━\u001b[0m\u001b[37m\u001b[0m \u001b[1m6s\u001b[0m 1ms/step - accuracy: 0.9798 - loss: 0.0771 - val_accuracy: 0.9798 - val_loss: 0.0786\n",
      "Epoch 2/5\n",
      "\u001b[1m4468/4468\u001b[0m \u001b[32m━━━━━━━━━━━━━━━━━━━━\u001b[0m\u001b[37m\u001b[0m \u001b[1m6s\u001b[0m 1ms/step - accuracy: 0.9797 - loss: 0.1299 - val_accuracy: 0.9796 - val_loss: 0.0788\n",
      "Epoch 3/5\n",
      "\u001b[1m4468/4468\u001b[0m \u001b[32m━━━━━━━━━━━━━━━━━━━━\u001b[0m\u001b[37m\u001b[0m \u001b[1m6s\u001b[0m 1ms/step - accuracy: 0.9797 - loss: 0.0776 - val_accuracy: 0.9796 - val_loss: 0.0788\n",
      "Epoch 4/5\n",
      "\u001b[1m4468/4468\u001b[0m \u001b[32m━━━━━━━━━━━━━━━━━━━━\u001b[0m\u001b[37m\u001b[0m \u001b[1m6s\u001b[0m 1ms/step - accuracy: 0.9799 - loss: 0.0765 - val_accuracy: 0.9796 - val_loss: 0.0788\n",
      "Epoch 5/5\n",
      "\u001b[1m4468/4468\u001b[0m \u001b[32m━━━━━━━━━━━━━━━━━━━━\u001b[0m\u001b[37m\u001b[0m \u001b[1m6s\u001b[0m 1ms/step - accuracy: 0.9799 - loss: 0.0764 - val_accuracy: 0.9796 - val_loss: 0.0789\n",
      "\u001b[1m1397/1397\u001b[0m \u001b[32m━━━━━━━━━━━━━━━━━━━━\u001b[0m\u001b[37m\u001b[0m \u001b[1m1s\u001b[0m 593us/step\n"
     ]
    },
    {
     "name": "stderr",
     "output_type": "stream",
     "text": [
      " 13%|█▎        | 22/169 [11:28<1:15:26, 30.79s/it]"
     ]
    },
    {
     "name": "stdout",
     "output_type": "stream",
     "text": [
      "Epoch 1/5\n",
      "\u001b[1m5045/5045\u001b[0m \u001b[32m━━━━━━━━━━━━━━━━━━━━\u001b[0m\u001b[37m\u001b[0m \u001b[1m6s\u001b[0m 1ms/step - accuracy: 0.9799 - loss: 0.0779 - val_accuracy: 0.9814 - val_loss: 0.0742\n",
      "Epoch 2/5\n",
      "\u001b[1m5045/5045\u001b[0m \u001b[32m━━━━━━━━━━━━━━━━━━━━\u001b[0m\u001b[37m\u001b[0m \u001b[1m6s\u001b[0m 1ms/step - accuracy: 0.9792 - loss: 0.0805 - val_accuracy: 0.9814 - val_loss: 0.0743\n",
      "Epoch 3/5\n",
      "\u001b[1m5045/5045\u001b[0m \u001b[32m━━━━━━━━━━━━━━━━━━━━\u001b[0m\u001b[37m\u001b[0m \u001b[1m6s\u001b[0m 1ms/step - accuracy: 0.9792 - loss: 0.0796 - val_accuracy: 0.9814 - val_loss: 0.0738\n",
      "Epoch 4/5\n",
      "\u001b[1m5045/5045\u001b[0m \u001b[32m━━━━━━━━━━━━━━━━━━━━\u001b[0m\u001b[37m\u001b[0m \u001b[1m6s\u001b[0m 1ms/step - accuracy: 0.9792 - loss: 0.0788 - val_accuracy: 0.9814 - val_loss: 0.0738\n",
      "Epoch 5/5\n",
      "\u001b[1m5045/5045\u001b[0m \u001b[32m━━━━━━━━━━━━━━━━━━━━\u001b[0m\u001b[37m\u001b[0m \u001b[1m6s\u001b[0m 1ms/step - accuracy: 0.9801 - loss: 0.0772 - val_accuracy: 0.9815 - val_loss: 0.0744\n",
      "\u001b[1m1577/1577\u001b[0m \u001b[32m━━━━━━━━━━━━━━━━━━━━\u001b[0m\u001b[37m\u001b[0m \u001b[1m1s\u001b[0m 606us/step\n"
     ]
    },
    {
     "name": "stderr",
     "output_type": "stream",
     "text": [
      " 14%|█▎        | 23/169 [12:01<1:16:49, 31.57s/it]"
     ]
    },
    {
     "name": "stdout",
     "output_type": "stream",
     "text": [
      "Epoch 1/5\n",
      "\u001b[1m5242/5242\u001b[0m \u001b[32m━━━━━━━━━━━━━━━━━━━━\u001b[0m\u001b[37m\u001b[0m \u001b[1m7s\u001b[0m 1ms/step - accuracy: 0.9807 - loss: 0.0749 - val_accuracy: 0.9800 - val_loss: 0.0775\n",
      "Epoch 2/5\n",
      "\u001b[1m5242/5242\u001b[0m \u001b[32m━━━━━━━━━━━━━━━━━━━━\u001b[0m\u001b[37m\u001b[0m \u001b[1m6s\u001b[0m 1ms/step - accuracy: 0.9797 - loss: 0.0782 - val_accuracy: 0.9801 - val_loss: 0.0775\n",
      "Epoch 3/5\n",
      "\u001b[1m5242/5242\u001b[0m \u001b[32m━━━━━━━━━━━━━━━━━━━━\u001b[0m\u001b[37m\u001b[0m \u001b[1m7s\u001b[0m 1ms/step - accuracy: 0.9798 - loss: 0.0780 - val_accuracy: 0.9801 - val_loss: 0.0774\n",
      "Epoch 4/5\n",
      "\u001b[1m5242/5242\u001b[0m \u001b[32m━━━━━━━━━━━━━━━━━━━━\u001b[0m\u001b[37m\u001b[0m \u001b[1m7s\u001b[0m 1ms/step - accuracy: 0.9803 - loss: 0.0762 - val_accuracy: 0.9801 - val_loss: 0.0774\n",
      "Epoch 5/5\n",
      "\u001b[1m5242/5242\u001b[0m \u001b[32m━━━━━━━━━━━━━━━━━━━━\u001b[0m\u001b[37m\u001b[0m \u001b[1m7s\u001b[0m 1ms/step - accuracy: 0.9803 - loss: 0.0770 - val_accuracy: 0.9801 - val_loss: 0.0774\n",
      "\u001b[1m1638/1638\u001b[0m \u001b[32m━━━━━━━━━━━━━━━━━━━━\u001b[0m\u001b[37m\u001b[0m \u001b[1m1s\u001b[0m 583us/step\n"
     ]
    },
    {
     "name": "stderr",
     "output_type": "stream",
     "text": [
      " 14%|█▍        | 24/169 [12:35<1:18:15, 32.38s/it]"
     ]
    },
    {
     "name": "stdout",
     "output_type": "stream",
     "text": [
      "Epoch 1/5\n",
      "\u001b[1m4515/4515\u001b[0m \u001b[32m━━━━━━━━━━━━━━━━━━━━\u001b[0m\u001b[37m\u001b[0m \u001b[1m6s\u001b[0m 1ms/step - accuracy: 0.9802 - loss: 0.0755 - val_accuracy: 0.9804 - val_loss: 0.0759\n",
      "Epoch 2/5\n",
      "\u001b[1m4515/4515\u001b[0m \u001b[32m━━━━━━━━━━━━━━━━━━━━\u001b[0m\u001b[37m\u001b[0m \u001b[1m6s\u001b[0m 1ms/step - accuracy: 0.9798 - loss: 0.1566 - val_accuracy: 0.9803 - val_loss: 0.0759\n",
      "Epoch 3/5\n",
      "\u001b[1m4515/4515\u001b[0m \u001b[32m━━━━━━━━━━━━━━━━━━━━\u001b[0m\u001b[37m\u001b[0m \u001b[1m6s\u001b[0m 1ms/step - accuracy: 0.9800 - loss: 0.0757 - val_accuracy: 0.9804 - val_loss: 0.0759\n",
      "Epoch 4/5\n",
      "\u001b[1m4515/4515\u001b[0m \u001b[32m━━━━━━━━━━━━━━━━━━━━\u001b[0m\u001b[37m\u001b[0m \u001b[1m6s\u001b[0m 1ms/step - accuracy: 0.9795 - loss: 0.0769 - val_accuracy: 0.9804 - val_loss: 0.0760\n",
      "Epoch 5/5\n",
      "\u001b[1m4515/4515\u001b[0m \u001b[32m━━━━━━━━━━━━━━━━━━━━\u001b[0m\u001b[37m\u001b[0m \u001b[1m6s\u001b[0m 1ms/step - accuracy: 0.9801 - loss: 0.0859 - val_accuracy: 0.9803 - val_loss: 0.0759\n",
      "\u001b[1m1411/1411\u001b[0m \u001b[32m━━━━━━━━━━━━━━━━━━━━\u001b[0m\u001b[37m\u001b[0m \u001b[1m1s\u001b[0m 579us/step\n"
     ]
    },
    {
     "name": "stderr",
     "output_type": "stream",
     "text": [
      " 15%|█▍        | 25/169 [13:05<1:15:34, 31.49s/it]"
     ]
    },
    {
     "name": "stdout",
     "output_type": "stream",
     "text": [
      "Epoch 1/5\n",
      "\u001b[1m8953/8953\u001b[0m \u001b[32m━━━━━━━━━━━━━━━━━━━━\u001b[0m\u001b[37m\u001b[0m \u001b[1m11s\u001b[0m 1ms/step - accuracy: 0.9806 - loss: 0.0752 - val_accuracy: 0.9796 - val_loss: 0.0788\n",
      "Epoch 2/5\n",
      "\u001b[1m8953/8953\u001b[0m \u001b[32m━━━━━━━━━━━━━━━━━━━━\u001b[0m\u001b[37m\u001b[0m \u001b[1m11s\u001b[0m 1ms/step - accuracy: 0.9799 - loss: 0.0777 - val_accuracy: 0.9796 - val_loss: 0.0788\n",
      "Epoch 3/5\n",
      "\u001b[1m8953/8953\u001b[0m \u001b[32m━━━━━━━━━━━━━━━━━━━━\u001b[0m\u001b[37m\u001b[0m \u001b[1m11s\u001b[0m 1ms/step - accuracy: 0.9795 - loss: 0.0788 - val_accuracy: 0.9796 - val_loss: 0.0790\n",
      "Epoch 4/5\n",
      "\u001b[1m8953/8953\u001b[0m \u001b[32m━━━━━━━━━━━━━━━━━━━━\u001b[0m\u001b[37m\u001b[0m \u001b[1m11s\u001b[0m 1ms/step - accuracy: 0.9802 - loss: 0.0766 - val_accuracy: 0.9796 - val_loss: 0.0788\n",
      "Epoch 5/5\n",
      "\u001b[1m8953/8953\u001b[0m \u001b[32m━━━━━━━━━━━━━━━━━━━━\u001b[0m\u001b[37m\u001b[0m \u001b[1m11s\u001b[0m 1ms/step - accuracy: 0.9800 - loss: 0.0937 - val_accuracy: 0.9796 - val_loss: 0.0789\n",
      "\u001b[1m2798/2798\u001b[0m \u001b[32m━━━━━━━━━━━━━━━━━━━━\u001b[0m\u001b[37m\u001b[0m \u001b[1m2s\u001b[0m 585us/step\n"
     ]
    },
    {
     "name": "stderr",
     "output_type": "stream",
     "text": [
      " 15%|█▌        | 26/169 [14:02<1:33:43, 39.32s/it]"
     ]
    },
    {
     "name": "stdout",
     "output_type": "stream",
     "text": [
      "Epoch 1/5\n",
      "\u001b[1m4723/4723\u001b[0m \u001b[32m━━━━━━━━━━━━━━━━━━━━\u001b[0m\u001b[37m\u001b[0m \u001b[1m6s\u001b[0m 1ms/step - accuracy: 0.9798 - loss: 0.0770 - val_accuracy: 0.9813 - val_loss: 0.0750\n",
      "Epoch 2/5\n",
      "\u001b[1m4723/4723\u001b[0m \u001b[32m━━━━━━━━━━━━━━━━━━━━\u001b[0m\u001b[37m\u001b[0m \u001b[1m6s\u001b[0m 1ms/step - accuracy: 0.9801 - loss: 0.0751 - val_accuracy: 0.9813 - val_loss: 0.0756\n",
      "Epoch 3/5\n",
      "\u001b[1m4723/4723\u001b[0m \u001b[32m━━━━━━━━━━━━━━━━━━━━\u001b[0m\u001b[37m\u001b[0m \u001b[1m6s\u001b[0m 1ms/step - accuracy: 0.9799 - loss: 0.0776 - val_accuracy: 0.9814 - val_loss: 0.0750\n",
      "Epoch 4/5\n",
      "\u001b[1m4723/4723\u001b[0m \u001b[32m━━━━━━━━━━━━━━━━━━━━\u001b[0m\u001b[37m\u001b[0m \u001b[1m6s\u001b[0m 1ms/step - accuracy: 0.9795 - loss: 0.0796 - val_accuracy: 0.9814 - val_loss: 0.0755\n",
      "Epoch 5/5\n",
      "\u001b[1m4723/4723\u001b[0m \u001b[32m━━━━━━━━━━━━━━━━━━━━\u001b[0m\u001b[37m\u001b[0m \u001b[1m6s\u001b[0m 1ms/step - accuracy: 0.9799 - loss: 0.0784 - val_accuracy: 0.9813 - val_loss: 0.0751\n",
      "\u001b[1m1476/1476\u001b[0m \u001b[32m━━━━━━━━━━━━━━━━━━━━\u001b[0m\u001b[37m\u001b[0m \u001b[1m1s\u001b[0m 589us/step\n"
     ]
    },
    {
     "name": "stderr",
     "output_type": "stream",
     "text": [
      " 16%|█▌        | 27/169 [14:34<1:27:21, 36.91s/it]"
     ]
    },
    {
     "name": "stdout",
     "output_type": "stream",
     "text": [
      "Epoch 1/5\n",
      "\u001b[1m4421/4421\u001b[0m \u001b[32m━━━━━━━━━━━━━━━━━━━━\u001b[0m\u001b[37m\u001b[0m \u001b[1m5s\u001b[0m 1ms/step - accuracy: 0.9793 - loss: 0.0793 - val_accuracy: 0.9801 - val_loss: 0.0769\n",
      "Epoch 2/5\n",
      "\u001b[1m4421/4421\u001b[0m \u001b[32m━━━━━━━━━━━━━━━━━━━━\u001b[0m\u001b[37m\u001b[0m \u001b[1m5s\u001b[0m 1ms/step - accuracy: 0.9800 - loss: 0.0765 - val_accuracy: 0.9801 - val_loss: 0.0769\n",
      "Epoch 3/5\n",
      "\u001b[1m4421/4421\u001b[0m \u001b[32m━━━━━━━━━━━━━━━━━━━━\u001b[0m\u001b[37m\u001b[0m \u001b[1m5s\u001b[0m 1ms/step - accuracy: 0.9792 - loss: 0.0795 - val_accuracy: 0.9801 - val_loss: 0.0769\n",
      "Epoch 4/5\n",
      "\u001b[1m4421/4421\u001b[0m \u001b[32m━━━━━━━━━━━━━━━━━━━━\u001b[0m\u001b[37m\u001b[0m \u001b[1m5s\u001b[0m 1ms/step - accuracy: 0.9795 - loss: 0.0779 - val_accuracy: 0.9801 - val_loss: 0.0771\n",
      "Epoch 5/5\n",
      "\u001b[1m4421/4421\u001b[0m \u001b[32m━━━━━━━━━━━━━━━━━━━━\u001b[0m\u001b[37m\u001b[0m \u001b[1m5s\u001b[0m 1ms/step - accuracy: 0.9800 - loss: 0.0777 - val_accuracy: 0.9801 - val_loss: 0.0772\n",
      "\u001b[1m1382/1382\u001b[0m \u001b[32m━━━━━━━━━━━━━━━━━━━━\u001b[0m\u001b[37m\u001b[0m \u001b[1m1s\u001b[0m 628us/step\n"
     ]
    },
    {
     "name": "stderr",
     "output_type": "stream",
     "text": [
      " 17%|█▋        | 28/169 [15:02<1:20:54, 34.43s/it]"
     ]
    },
    {
     "name": "stdout",
     "output_type": "stream",
     "text": [
      "Epoch 1/5\n",
      "\u001b[1m5025/5025\u001b[0m \u001b[32m━━━━━━━━━━━━━━━━━━━━\u001b[0m\u001b[37m\u001b[0m \u001b[1m6s\u001b[0m 1ms/step - accuracy: 0.9794 - loss: 0.0797 - val_accuracy: 0.9809 - val_loss: 0.0745\n",
      "Epoch 2/5\n",
      "\u001b[1m5025/5025\u001b[0m \u001b[32m━━━━━━━━━━━━━━━━━━━━\u001b[0m\u001b[37m\u001b[0m \u001b[1m6s\u001b[0m 1ms/step - accuracy: 0.9800 - loss: 0.0776 - val_accuracy: 0.9809 - val_loss: 0.0750\n",
      "Epoch 3/5\n",
      "\u001b[1m5025/5025\u001b[0m \u001b[32m━━━━━━━━━━━━━━━━━━━━\u001b[0m\u001b[37m\u001b[0m \u001b[1m6s\u001b[0m 1ms/step - accuracy: 0.9802 - loss: 0.0781 - val_accuracy: 0.9809 - val_loss: 0.0746\n",
      "Epoch 4/5\n",
      "\u001b[1m5025/5025\u001b[0m \u001b[32m━━━━━━━━━━━━━━━━━━━━\u001b[0m\u001b[37m\u001b[0m \u001b[1m6s\u001b[0m 1ms/step - accuracy: 0.9795 - loss: 0.0790 - val_accuracy: 0.9809 - val_loss: 0.0747\n",
      "Epoch 5/5\n",
      "\u001b[1m5025/5025\u001b[0m \u001b[32m━━━━━━━━━━━━━━━━━━━━\u001b[0m\u001b[37m\u001b[0m \u001b[1m6s\u001b[0m 1ms/step - accuracy: 0.9800 - loss: 0.0788 - val_accuracy: 0.9809 - val_loss: 0.0744\n",
      "\u001b[1m1571/1571\u001b[0m \u001b[32m━━━━━━━━━━━━━━━━━━━━\u001b[0m\u001b[37m\u001b[0m \u001b[1m1s\u001b[0m 617us/step\n"
     ]
    },
    {
     "name": "stderr",
     "output_type": "stream",
     "text": [
      " 17%|█▋        | 29/169 [15:36<1:19:30, 34.07s/it]"
     ]
    },
    {
     "name": "stdout",
     "output_type": "stream",
     "text": [
      "Epoch 1/5\n",
      "\u001b[1m5034/5034\u001b[0m \u001b[32m━━━━━━━━━━━━━━━━━━━━\u001b[0m\u001b[37m\u001b[0m \u001b[1m6s\u001b[0m 1ms/step - accuracy: 0.9790 - loss: 0.0815 - val_accuracy: 0.9795 - val_loss: 0.0792\n",
      "Epoch 2/5\n",
      "\u001b[1m5034/5034\u001b[0m \u001b[32m━━━━━━━━━━━━━━━━━━━━\u001b[0m\u001b[37m\u001b[0m \u001b[1m6s\u001b[0m 1ms/step - accuracy: 0.9792 - loss: 0.0796 - val_accuracy: 0.9795 - val_loss: 0.0789\n",
      "Epoch 3/5\n",
      "\u001b[1m5034/5034\u001b[0m \u001b[32m━━━━━━━━━━━━━━━━━━━━\u001b[0m\u001b[37m\u001b[0m \u001b[1m6s\u001b[0m 1ms/step - accuracy: 0.9792 - loss: 0.0799 - val_accuracy: 0.9795 - val_loss: 0.0789\n",
      "Epoch 4/5\n",
      "\u001b[1m5034/5034\u001b[0m \u001b[32m━━━━━━━━━━━━━━━━━━━━\u001b[0m\u001b[37m\u001b[0m \u001b[1m6s\u001b[0m 1ms/step - accuracy: 0.9792 - loss: 0.0807 - val_accuracy: 0.9795 - val_loss: 0.0793\n",
      "Epoch 5/5\n",
      "\u001b[1m5034/5034\u001b[0m \u001b[32m━━━━━━━━━━━━━━━━━━━━\u001b[0m\u001b[37m\u001b[0m \u001b[1m6s\u001b[0m 1ms/step - accuracy: 0.9790 - loss: 0.0809 - val_accuracy: 0.9795 - val_loss: 0.0789\n",
      "\u001b[1m1573/1573\u001b[0m \u001b[32m━━━━━━━━━━━━━━━━━━━━\u001b[0m\u001b[37m\u001b[0m \u001b[1m1s\u001b[0m 580us/step\n"
     ]
    },
    {
     "name": "stderr",
     "output_type": "stream",
     "text": [
      " 18%|█▊        | 30/169 [16:09<1:18:14, 33.77s/it]"
     ]
    },
    {
     "name": "stdout",
     "output_type": "stream",
     "text": [
      "Epoch 1/5\n",
      "\u001b[1m4767/4767\u001b[0m \u001b[32m━━━━━━━━━━━━━━━━━━━━\u001b[0m\u001b[37m\u001b[0m \u001b[1m6s\u001b[0m 1ms/step - accuracy: 0.9792 - loss: 0.3461 - val_accuracy: 0.9794 - val_loss: 0.0777\n",
      "Epoch 2/5\n",
      "\u001b[1m4767/4767\u001b[0m \u001b[32m━━━━━━━━━━━━━━━━━━━━\u001b[0m\u001b[37m\u001b[0m \u001b[1m6s\u001b[0m 1ms/step - accuracy: 0.9793 - loss: 0.0795 - val_accuracy: 0.9794 - val_loss: 0.0779\n",
      "Epoch 3/5\n",
      "\u001b[1m4767/4767\u001b[0m \u001b[32m━━━━━━━━━━━━━━━━━━━━\u001b[0m\u001b[37m\u001b[0m \u001b[1m6s\u001b[0m 1ms/step - accuracy: 0.9796 - loss: 0.0775 - val_accuracy: 0.9795 - val_loss: 0.0776\n",
      "Epoch 4/5\n",
      "\u001b[1m4767/4767\u001b[0m \u001b[32m━━━━━━━━━━━━━━━━━━━━\u001b[0m\u001b[37m\u001b[0m \u001b[1m6s\u001b[0m 1ms/step - accuracy: 0.9794 - loss: 0.0843 - val_accuracy: 0.9794 - val_loss: 0.0778\n",
      "Epoch 5/5\n",
      "\u001b[1m4767/4767\u001b[0m \u001b[32m━━━━━━━━━━━━━━━━━━━━\u001b[0m\u001b[37m\u001b[0m \u001b[1m6s\u001b[0m 1ms/step - accuracy: 0.9792 - loss: 0.0778 - val_accuracy: 0.9796 - val_loss: 0.0777\n",
      "\u001b[1m1490/1490\u001b[0m \u001b[32m━━━━━━━━━━━━━━━━━━━━\u001b[0m\u001b[37m\u001b[0m \u001b[1m1s\u001b[0m 616us/step\n"
     ]
    },
    {
     "name": "stderr",
     "output_type": "stream",
     "text": [
      " 18%|█▊        | 31/169 [16:40<1:15:52, 32.99s/it]"
     ]
    },
    {
     "name": "stdout",
     "output_type": "stream",
     "text": [
      "Epoch 1/5\n",
      "\u001b[1m4575/4575\u001b[0m \u001b[32m━━━━━━━━━━━━━━━━━━━━\u001b[0m\u001b[37m\u001b[0m \u001b[1m6s\u001b[0m 1ms/step - accuracy: 0.9804 - loss: 0.0778 - val_accuracy: 0.9805 - val_loss: 0.0745\n",
      "Epoch 2/5\n",
      "\u001b[1m4575/4575\u001b[0m \u001b[32m━━━━━━━━━━━━━━━━━━━━\u001b[0m\u001b[37m\u001b[0m \u001b[1m6s\u001b[0m 1ms/step - accuracy: 0.9802 - loss: 0.0761 - val_accuracy: 0.9807 - val_loss: 0.0744\n",
      "Epoch 3/5\n",
      "\u001b[1m4575/4575\u001b[0m \u001b[32m━━━━━━━━━━━━━━━━━━━━\u001b[0m\u001b[37m\u001b[0m \u001b[1m6s\u001b[0m 1ms/step - accuracy: 0.9810 - loss: 0.0749 - val_accuracy: 0.9805 - val_loss: 0.0753\n",
      "Epoch 4/5\n",
      "\u001b[1m4575/4575\u001b[0m \u001b[32m━━━━━━━━━━━━━━━━━━━━\u001b[0m\u001b[37m\u001b[0m \u001b[1m6s\u001b[0m 1ms/step - accuracy: 0.9806 - loss: 0.0764 - val_accuracy: 0.9806 - val_loss: 0.0745\n",
      "Epoch 5/5\n",
      "\u001b[1m4575/4575\u001b[0m \u001b[32m━━━━━━━━━━━━━━━━━━━━\u001b[0m\u001b[37m\u001b[0m \u001b[1m6s\u001b[0m 1ms/step - accuracy: 0.9813 - loss: 0.0738 - val_accuracy: 0.9807 - val_loss: 0.0743\n",
      "\u001b[1m1430/1430\u001b[0m \u001b[32m━━━━━━━━━━━━━━━━━━━━\u001b[0m\u001b[37m\u001b[0m \u001b[1m1s\u001b[0m 624us/step\n"
     ]
    },
    {
     "name": "stderr",
     "output_type": "stream",
     "text": [
      " 19%|█▉        | 32/169 [17:10<1:13:21, 32.13s/it]"
     ]
    },
    {
     "name": "stdout",
     "output_type": "stream",
     "text": [
      "Epoch 1/5\n",
      "\u001b[1m4553/4553\u001b[0m \u001b[32m━━━━━━━━━━━━━━━━━━━━\u001b[0m\u001b[37m\u001b[0m \u001b[1m6s\u001b[0m 1ms/step - accuracy: 0.9796 - loss: 0.0799 - val_accuracy: 0.9801 - val_loss: 0.0754\n",
      "Epoch 2/5\n",
      "\u001b[1m4553/4553\u001b[0m \u001b[32m━━━━━━━━━━━━━━━━━━━━\u001b[0m\u001b[37m\u001b[0m \u001b[1m6s\u001b[0m 1ms/step - accuracy: 0.9795 - loss: 0.0806 - val_accuracy: 0.9803 - val_loss: 0.0753\n",
      "Epoch 3/5\n",
      "\u001b[1m4553/4553\u001b[0m \u001b[32m━━━━━━━━━━━━━━━━━━━━\u001b[0m\u001b[37m\u001b[0m \u001b[1m6s\u001b[0m 1ms/step - accuracy: 0.9790 - loss: 0.0805 - val_accuracy: 0.9805 - val_loss: 0.0750\n",
      "Epoch 4/5\n",
      "\u001b[1m4553/4553\u001b[0m \u001b[32m━━━━━━━━━━━━━━━━━━━━\u001b[0m\u001b[37m\u001b[0m \u001b[1m6s\u001b[0m 1ms/step - accuracy: 0.9788 - loss: 0.0888 - val_accuracy: 0.9801 - val_loss: 0.0754\n",
      "Epoch 5/5\n",
      "\u001b[1m4553/4553\u001b[0m \u001b[32m━━━━━━━━━━━━━━━━━━━━\u001b[0m\u001b[37m\u001b[0m \u001b[1m6s\u001b[0m 1ms/step - accuracy: 0.9795 - loss: 0.0788 - val_accuracy: 0.9800 - val_loss: 0.0755\n",
      "\u001b[1m1423/1423\u001b[0m \u001b[32m━━━━━━━━━━━━━━━━━━━━\u001b[0m\u001b[37m\u001b[0m \u001b[1m1s\u001b[0m 591us/step\n"
     ]
    },
    {
     "name": "stderr",
     "output_type": "stream",
     "text": [
      " 20%|█▉        | 33/169 [17:40<1:11:16, 31.45s/it]"
     ]
    },
    {
     "name": "stdout",
     "output_type": "stream",
     "text": [
      "Epoch 1/5\n",
      "\u001b[1m8956/8956\u001b[0m \u001b[32m━━━━━━━━━━━━━━━━━━━━\u001b[0m\u001b[37m\u001b[0m \u001b[1m11s\u001b[0m 1ms/step - accuracy: 0.9800 - loss: 0.0770 - val_accuracy: 0.9791 - val_loss: 0.0798\n",
      "Epoch 2/5\n",
      "\u001b[1m8956/8956\u001b[0m \u001b[32m━━━━━━━━━━━━━━━━━━━━\u001b[0m\u001b[37m\u001b[0m \u001b[1m11s\u001b[0m 1ms/step - accuracy: 0.9798 - loss: 0.0851 - val_accuracy: 0.9794 - val_loss: 0.0791\n",
      "Epoch 3/5\n",
      "\u001b[1m8956/8956\u001b[0m \u001b[32m━━━━━━━━━━━━━━━━━━━━\u001b[0m\u001b[37m\u001b[0m \u001b[1m11s\u001b[0m 1ms/step - accuracy: 0.9807 - loss: 0.1310 - val_accuracy: 0.9790 - val_loss: 0.0798\n",
      "Epoch 4/5\n",
      "\u001b[1m8956/8956\u001b[0m \u001b[32m━━━━━━━━━━━━━━━━━━━━\u001b[0m\u001b[37m\u001b[0m \u001b[1m11s\u001b[0m 1ms/step - accuracy: 0.9805 - loss: 0.0759 - val_accuracy: 0.9790 - val_loss: 0.0798\n",
      "Epoch 5/5\n",
      "\u001b[1m8956/8956\u001b[0m \u001b[32m━━━━━━━━━━━━━━━━━━━━\u001b[0m\u001b[37m\u001b[0m \u001b[1m11s\u001b[0m 1ms/step - accuracy: 0.9804 - loss: 0.0758 - val_accuracy: 0.9790 - val_loss: 0.0801\n",
      "\u001b[1m2799/2799\u001b[0m \u001b[32m━━━━━━━━━━━━━━━━━━━━\u001b[0m\u001b[37m\u001b[0m \u001b[1m2s\u001b[0m 597us/step\n"
     ]
    },
    {
     "name": "stderr",
     "output_type": "stream",
     "text": [
      " 20%|██        | 34/169 [18:39<1:29:19, 39.70s/it]"
     ]
    },
    {
     "name": "stdout",
     "output_type": "stream",
     "text": [
      "Epoch 1/5\n",
      "\u001b[1m4645/4645\u001b[0m \u001b[32m━━━━━━━━━━━━━━━━━━━━\u001b[0m\u001b[37m\u001b[0m \u001b[1m6s\u001b[0m 1ms/step - accuracy: 0.9808 - loss: 0.0726 - val_accuracy: 0.9797 - val_loss: 0.0781\n",
      "Epoch 2/5\n",
      "\u001b[1m4645/4645\u001b[0m \u001b[32m━━━━━━━━━━━━━━━━━━━━\u001b[0m\u001b[37m\u001b[0m \u001b[1m6s\u001b[0m 1ms/step - accuracy: 0.9802 - loss: 0.0751 - val_accuracy: 0.9797 - val_loss: 0.0783\n",
      "Epoch 3/5\n",
      "\u001b[1m4645/4645\u001b[0m \u001b[32m━━━━━━━━━━━━━━━━━━━━\u001b[0m\u001b[37m\u001b[0m \u001b[1m6s\u001b[0m 1ms/step - accuracy: 0.9807 - loss: 0.0739 - val_accuracy: 0.9797 - val_loss: 0.0782\n",
      "Epoch 4/5\n",
      "\u001b[1m4645/4645\u001b[0m \u001b[32m━━━━━━━━━━━━━━━━━━━━\u001b[0m\u001b[37m\u001b[0m \u001b[1m6s\u001b[0m 1ms/step - accuracy: 0.9799 - loss: 0.0763 - val_accuracy: 0.9797 - val_loss: 0.0782\n",
      "Epoch 5/5\n",
      "\u001b[1m4645/4645\u001b[0m \u001b[32m━━━━━━━━━━━━━━━━━━━━\u001b[0m\u001b[37m\u001b[0m \u001b[1m6s\u001b[0m 1ms/step - accuracy: 0.9802 - loss: 0.1072 - val_accuracy: 0.9797 - val_loss: 0.0781\n",
      "\u001b[1m1452/1452\u001b[0m \u001b[32m━━━━━━━━━━━━━━━━━━━━\u001b[0m\u001b[37m\u001b[0m \u001b[1m1s\u001b[0m 600us/step\n"
     ]
    },
    {
     "name": "stderr",
     "output_type": "stream",
     "text": [
      " 21%|██        | 35/169 [19:10<1:22:51, 37.10s/it]"
     ]
    },
    {
     "name": "stdout",
     "output_type": "stream",
     "text": [
      "Epoch 1/5\n",
      "\u001b[1m5055/5055\u001b[0m \u001b[32m━━━━━━━━━━━━━━━━━━━━\u001b[0m\u001b[37m\u001b[0m \u001b[1m7s\u001b[0m 1ms/step - accuracy: 0.9809 - loss: 0.0748 - val_accuracy: 0.9806 - val_loss: 0.0769\n",
      "Epoch 2/5\n",
      "\u001b[1m5055/5055\u001b[0m \u001b[32m━━━━━━━━━━━━━━━━━━━━\u001b[0m\u001b[37m\u001b[0m \u001b[1m6s\u001b[0m 1ms/step - accuracy: 0.9801 - loss: 0.0775 - val_accuracy: 0.9806 - val_loss: 0.0769\n",
      "Epoch 3/5\n",
      "\u001b[1m5055/5055\u001b[0m \u001b[32m━━━━━━━━━━━━━━━━━━━━\u001b[0m\u001b[37m\u001b[0m \u001b[1m6s\u001b[0m 1ms/step - accuracy: 0.9802 - loss: 0.0759 - val_accuracy: 0.9805 - val_loss: 0.0772\n",
      "Epoch 4/5\n",
      "\u001b[1m5055/5055\u001b[0m \u001b[32m━━━━━━━━━━━━━━━━━━━━\u001b[0m\u001b[37m\u001b[0m \u001b[1m6s\u001b[0m 1ms/step - accuracy: 0.9801 - loss: 0.0764 - val_accuracy: 0.9806 - val_loss: 0.0769\n",
      "Epoch 5/5\n",
      "\u001b[1m5055/5055\u001b[0m \u001b[32m━━━━━━━━━━━━━━━━━━━━\u001b[0m\u001b[37m\u001b[0m \u001b[1m6s\u001b[0m 1ms/step - accuracy: 0.9809 - loss: 0.0747 - val_accuracy: 0.9806 - val_loss: 0.0769\n",
      "\u001b[1m1580/1580\u001b[0m \u001b[32m━━━━━━━━━━━━━━━━━━━━\u001b[0m\u001b[37m\u001b[0m \u001b[1m1s\u001b[0m 597us/step\n"
     ]
    },
    {
     "name": "stderr",
     "output_type": "stream",
     "text": [
      " 21%|██▏       | 36/169 [19:44<1:20:05, 36.13s/it]"
     ]
    },
    {
     "name": "stdout",
     "output_type": "stream",
     "text": [
      "Epoch 1/5\n",
      "\u001b[1m8785/8785\u001b[0m \u001b[32m━━━━━━━━━━━━━━━━━━━━\u001b[0m\u001b[37m\u001b[0m \u001b[1m12s\u001b[0m 1ms/step - accuracy: 0.9797 - loss: 0.0808 - val_accuracy: 0.9798 - val_loss: 0.0773\n",
      "Epoch 2/5\n",
      "\u001b[1m8785/8785\u001b[0m \u001b[32m━━━━━━━━━━━━━━━━━━━━\u001b[0m\u001b[37m\u001b[0m \u001b[1m11s\u001b[0m 1ms/step - accuracy: 0.9797 - loss: 0.0816 - val_accuracy: 0.9799 - val_loss: 0.0773\n",
      "Epoch 3/5\n",
      "\u001b[1m8785/8785\u001b[0m \u001b[32m━━━━━━━━━━━━━━━━━━━━\u001b[0m\u001b[37m\u001b[0m \u001b[1m11s\u001b[0m 1ms/step - accuracy: 0.9796 - loss: 0.0787 - val_accuracy: 0.9797 - val_loss: 0.0774\n",
      "Epoch 4/5\n",
      "\u001b[1m8785/8785\u001b[0m \u001b[32m━━━━━━━━━━━━━━━━━━━━\u001b[0m\u001b[37m\u001b[0m \u001b[1m11s\u001b[0m 1ms/step - accuracy: 0.9799 - loss: 0.0780 - val_accuracy: 0.9797 - val_loss: 0.0774\n",
      "Epoch 5/5\n",
      "\u001b[1m8785/8785\u001b[0m \u001b[32m━━━━━━━━━━━━━━━━━━━━\u001b[0m\u001b[37m\u001b[0m \u001b[1m11s\u001b[0m 1ms/step - accuracy: 0.9796 - loss: 0.0784 - val_accuracy: 0.9797 - val_loss: 0.0775\n",
      "\u001b[1m2746/2746\u001b[0m \u001b[32m━━━━━━━━━━━━━━━━━━━━\u001b[0m\u001b[37m\u001b[0m \u001b[1m2s\u001b[0m 572us/step\n"
     ]
    },
    {
     "name": "stderr",
     "output_type": "stream",
     "text": [
      " 22%|██▏       | 37/169 [20:42<1:34:22, 42.90s/it]"
     ]
    },
    {
     "name": "stdout",
     "output_type": "stream",
     "text": [
      "Epoch 1/5\n",
      "\u001b[1m4300/4300\u001b[0m \u001b[32m━━━━━━━━━━━━━━━━━━━━\u001b[0m\u001b[37m\u001b[0m \u001b[1m6s\u001b[0m 1ms/step - accuracy: 0.9796 - loss: 0.0803 - val_accuracy: 0.9810 - val_loss: 0.0743\n",
      "Epoch 2/5\n",
      "\u001b[1m4300/4300\u001b[0m \u001b[32m━━━━━━━━━━━━━━━━━━━━\u001b[0m\u001b[37m\u001b[0m \u001b[1m6s\u001b[0m 1ms/step - accuracy: 0.9799 - loss: 0.0785 - val_accuracy: 0.9810 - val_loss: 0.0742\n",
      "Epoch 3/5\n",
      "\u001b[1m4300/4300\u001b[0m \u001b[32m━━━━━━━━━━━━━━━━━━━━\u001b[0m\u001b[37m\u001b[0m \u001b[1m5s\u001b[0m 1ms/step - accuracy: 0.9797 - loss: 0.0783 - val_accuracy: 0.9810 - val_loss: 0.0742\n",
      "Epoch 4/5\n",
      "\u001b[1m4300/4300\u001b[0m \u001b[32m━━━━━━━━━━━━━━━━━━━━\u001b[0m\u001b[37m\u001b[0m \u001b[1m5s\u001b[0m 1ms/step - accuracy: 0.9803 - loss: 0.0774 - val_accuracy: 0.9810 - val_loss: 0.0743\n",
      "Epoch 5/5\n",
      "\u001b[1m4300/4300\u001b[0m \u001b[32m━━━━━━━━━━━━━━━━━━━━\u001b[0m\u001b[37m\u001b[0m \u001b[1m5s\u001b[0m 1ms/step - accuracy: 0.9796 - loss: 0.0794 - val_accuracy: 0.9810 - val_loss: 0.0742\n",
      "\u001b[1m1344/1344\u001b[0m \u001b[32m━━━━━━━━━━━━━━━━━━━━\u001b[0m\u001b[37m\u001b[0m \u001b[1m1s\u001b[0m 577us/step\n"
     ]
    },
    {
     "name": "stderr",
     "output_type": "stream",
     "text": [
      " 22%|██▏       | 38/169 [21:11<1:24:27, 38.68s/it]"
     ]
    },
    {
     "name": "stdout",
     "output_type": "stream",
     "text": [
      "Epoch 1/5\n",
      "\u001b[1m4734/4734\u001b[0m \u001b[32m━━━━━━━━━━━━━━━━━━━━\u001b[0m\u001b[37m\u001b[0m \u001b[1m6s\u001b[0m 1ms/step - accuracy: 0.9798 - loss: 0.0776 - val_accuracy: 0.9798 - val_loss: 0.0761\n",
      "Epoch 2/5\n",
      "\u001b[1m4734/4734\u001b[0m \u001b[32m━━━━━━━━━━━━━━━━━━━━\u001b[0m\u001b[37m\u001b[0m \u001b[1m6s\u001b[0m 1ms/step - accuracy: 0.9796 - loss: 0.0783 - val_accuracy: 0.9800 - val_loss: 0.0759\n",
      "Epoch 3/5\n",
      "\u001b[1m4734/4734\u001b[0m \u001b[32m━━━━━━━━━━━━━━━━━━━━\u001b[0m\u001b[37m\u001b[0m \u001b[1m6s\u001b[0m 1ms/step - accuracy: 0.9801 - loss: 0.0768 - val_accuracy: 0.9800 - val_loss: 0.0759\n",
      "Epoch 4/5\n",
      "\u001b[1m4734/4734\u001b[0m \u001b[32m━━━━━━━━━━━━━━━━━━━━\u001b[0m\u001b[37m\u001b[0m \u001b[1m6s\u001b[0m 1ms/step - accuracy: 0.9801 - loss: 0.0758 - val_accuracy: 0.9797 - val_loss: 0.0763\n",
      "Epoch 5/5\n",
      "\u001b[1m4734/4734\u001b[0m \u001b[32m━━━━━━━━━━━━━━━━━━━━\u001b[0m\u001b[37m\u001b[0m \u001b[1m6s\u001b[0m 1ms/step - accuracy: 0.9804 - loss: 0.0758 - val_accuracy: 0.9800 - val_loss: 0.0760\n",
      "\u001b[1m1480/1480\u001b[0m \u001b[32m━━━━━━━━━━━━━━━━━━━━\u001b[0m\u001b[37m\u001b[0m \u001b[1m1s\u001b[0m 595us/step\n"
     ]
    },
    {
     "name": "stderr",
     "output_type": "stream",
     "text": [
      " 23%|██▎       | 39/169 [21:43<1:19:06, 36.51s/it]"
     ]
    },
    {
     "name": "stdout",
     "output_type": "stream",
     "text": [
      "Epoch 1/5\n",
      "\u001b[1m8748/8748\u001b[0m \u001b[32m━━━━━━━━━━━━━━━━━━━━\u001b[0m\u001b[37m\u001b[0m \u001b[1m11s\u001b[0m 1ms/step - accuracy: 0.9800 - loss: 0.0776 - val_accuracy: 0.9800 - val_loss: 0.0759\n",
      "Epoch 2/5\n",
      "\u001b[1m8748/8748\u001b[0m \u001b[32m━━━━━━━━━━━━━━━━━━━━\u001b[0m\u001b[37m\u001b[0m \u001b[1m11s\u001b[0m 1ms/step - accuracy: 0.9794 - loss: 0.0990 - val_accuracy: 0.9800 - val_loss: 0.0760\n",
      "Epoch 3/5\n",
      "\u001b[1m8748/8748\u001b[0m \u001b[32m━━━━━━━━━━━━━━━━━━━━\u001b[0m\u001b[37m\u001b[0m \u001b[1m10s\u001b[0m 1ms/step - accuracy: 0.9799 - loss: 0.0773 - val_accuracy: 0.9799 - val_loss: 0.0762\n",
      "Epoch 4/5\n",
      "\u001b[1m8748/8748\u001b[0m \u001b[32m━━━━━━━━━━━━━━━━━━━━\u001b[0m\u001b[37m\u001b[0m \u001b[1m11s\u001b[0m 1ms/step - accuracy: 0.9796 - loss: 0.0781 - val_accuracy: 0.9800 - val_loss: 0.0760\n",
      "Epoch 5/5\n",
      "\u001b[1m8748/8748\u001b[0m \u001b[32m━━━━━━━━━━━━━━━━━━━━\u001b[0m\u001b[37m\u001b[0m \u001b[1m11s\u001b[0m 1ms/step - accuracy: 0.9798 - loss: 0.0889 - val_accuracy: 0.9798 - val_loss: 0.0762\n",
      "\u001b[1m2734/2734\u001b[0m \u001b[32m━━━━━━━━━━━━━━━━━━━━\u001b[0m\u001b[37m\u001b[0m \u001b[1m2s\u001b[0m 588us/step\n"
     ]
    },
    {
     "name": "stderr",
     "output_type": "stream",
     "text": [
      " 24%|██▎       | 40/169 [22:39<1:31:27, 42.54s/it]"
     ]
    },
    {
     "name": "stdout",
     "output_type": "stream",
     "text": [
      "Epoch 1/5\n",
      "\u001b[1m4608/4608\u001b[0m \u001b[32m━━━━━━━━━━━━━━━━━━━━\u001b[0m\u001b[37m\u001b[0m \u001b[1m6s\u001b[0m 1ms/step - accuracy: 0.9804 - loss: 0.0752 - val_accuracy: 0.9800 - val_loss: 0.0768\n",
      "Epoch 2/5\n",
      "\u001b[1m4608/4608\u001b[0m \u001b[32m━━━━━━━━━━━━━━━━━━━━\u001b[0m\u001b[37m\u001b[0m \u001b[1m6s\u001b[0m 1ms/step - accuracy: 0.9806 - loss: 0.0916 - val_accuracy: 0.9802 - val_loss: 0.0787\n",
      "Epoch 3/5\n",
      "\u001b[1m4608/4608\u001b[0m \u001b[32m━━━━━━━━━━━━━━━━━━━━\u001b[0m\u001b[37m\u001b[0m \u001b[1m6s\u001b[0m 1ms/step - accuracy: 0.9805 - loss: 0.0751 - val_accuracy: 0.9802 - val_loss: 0.0771\n",
      "Epoch 4/5\n",
      "\u001b[1m4608/4608\u001b[0m \u001b[32m━━━━━━━━━━━━━━━━━━━━\u001b[0m\u001b[37m\u001b[0m \u001b[1m6s\u001b[0m 1ms/step - accuracy: 0.9805 - loss: 0.0762 - val_accuracy: 0.9801 - val_loss: 0.0766\n",
      "Epoch 5/5\n",
      "\u001b[1m4608/4608\u001b[0m \u001b[32m━━━━━━━━━━━━━━━━━━━━\u001b[0m\u001b[37m\u001b[0m \u001b[1m6s\u001b[0m 1ms/step - accuracy: 0.9805 - loss: 0.0758 - val_accuracy: 0.9802 - val_loss: 0.0781\n",
      "\u001b[1m1440/1440\u001b[0m \u001b[32m━━━━━━━━━━━━━━━━━━━━\u001b[0m\u001b[37m\u001b[0m \u001b[1m1s\u001b[0m 604us/step\n"
     ]
    },
    {
     "name": "stderr",
     "output_type": "stream",
     "text": [
      " 24%|██▍       | 41/169 [23:11<1:23:36, 39.19s/it]"
     ]
    },
    {
     "name": "stdout",
     "output_type": "stream",
     "text": [
      "Epoch 1/5\n",
      "\u001b[1m8906/8906\u001b[0m \u001b[32m━━━━━━━━━━━━━━━━━━━━\u001b[0m\u001b[37m\u001b[0m \u001b[1m11s\u001b[0m 1ms/step - accuracy: 0.9806 - loss: 0.0806 - val_accuracy: 0.9796 - val_loss: 0.0770\n",
      "Epoch 2/5\n",
      "\u001b[1m8906/8906\u001b[0m \u001b[32m━━━━━━━━━━━━━━━━━━━━\u001b[0m\u001b[37m\u001b[0m \u001b[1m11s\u001b[0m 1ms/step - accuracy: 0.9807 - loss: 0.0753 - val_accuracy: 0.9795 - val_loss: 0.0770\n",
      "Epoch 3/5\n",
      "\u001b[1m8906/8906\u001b[0m \u001b[32m━━━━━━━━━━━━━━━━━━━━\u001b[0m\u001b[37m\u001b[0m \u001b[1m11s\u001b[0m 1ms/step - accuracy: 0.9808 - loss: 0.0742 - val_accuracy: 0.9796 - val_loss: 0.0774\n",
      "Epoch 4/5\n",
      "\u001b[1m8906/8906\u001b[0m \u001b[32m━━━━━━━━━━━━━━━━━━━━\u001b[0m\u001b[37m\u001b[0m \u001b[1m11s\u001b[0m 1ms/step - accuracy: 0.9807 - loss: 0.0800 - val_accuracy: 0.9795 - val_loss: 0.0770\n",
      "Epoch 5/5\n",
      "\u001b[1m8906/8906\u001b[0m \u001b[32m━━━━━━━━━━━━━━━━━━━━\u001b[0m\u001b[37m\u001b[0m \u001b[1m11s\u001b[0m 1ms/step - accuracy: 0.9806 - loss: 0.0763 - val_accuracy: 0.9796 - val_loss: 0.0772\n",
      "\u001b[1m2784/2784\u001b[0m \u001b[32m━━━━━━━━━━━━━━━━━━━━\u001b[0m\u001b[37m\u001b[0m \u001b[1m2s\u001b[0m 593us/step\n"
     ]
    },
    {
     "name": "stderr",
     "output_type": "stream",
     "text": [
      " 25%|██▍       | 42/169 [24:10<1:35:33, 45.14s/it]"
     ]
    },
    {
     "name": "stdout",
     "output_type": "stream",
     "text": [
      "Epoch 1/5\n",
      "\u001b[1m4449/4449\u001b[0m \u001b[32m━━━━━━━━━━━━━━━━━━━━\u001b[0m\u001b[37m\u001b[0m \u001b[1m6s\u001b[0m 1ms/step - accuracy: 0.9792 - loss: 0.0841 - val_accuracy: 0.9806 - val_loss: 0.0763\n",
      "Epoch 2/5\n",
      "\u001b[1m4449/4449\u001b[0m \u001b[32m━━━━━━━━━━━━━━━━━━━━\u001b[0m\u001b[37m\u001b[0m \u001b[1m6s\u001b[0m 1ms/step - accuracy: 0.9792 - loss: 0.0804 - val_accuracy: 0.9805 - val_loss: 0.0760\n",
      "Epoch 3/5\n",
      "\u001b[1m4449/4449\u001b[0m \u001b[32m━━━━━━━━━━━━━━━━━━━━\u001b[0m\u001b[37m\u001b[0m \u001b[1m6s\u001b[0m 1ms/step - accuracy: 0.9788 - loss: 0.0800 - val_accuracy: 0.9806 - val_loss: 0.0758\n",
      "Epoch 4/5\n",
      "\u001b[1m4449/4449\u001b[0m \u001b[32m━━━━━━━━━━━━━━━━━━━━\u001b[0m\u001b[37m\u001b[0m \u001b[1m6s\u001b[0m 1ms/step - accuracy: 0.9795 - loss: 0.0792 - val_accuracy: 0.9805 - val_loss: 0.0766\n",
      "Epoch 5/5\n",
      "\u001b[1m4449/4449\u001b[0m \u001b[32m━━━━━━━━━━━━━━━━━━━━\u001b[0m\u001b[37m\u001b[0m \u001b[1m6s\u001b[0m 1ms/step - accuracy: 0.9791 - loss: 0.0797 - val_accuracy: 0.9805 - val_loss: 0.0759\n",
      "\u001b[1m1391/1391\u001b[0m \u001b[32m━━━━━━━━━━━━━━━━━━━━\u001b[0m\u001b[37m\u001b[0m \u001b[1m1s\u001b[0m 598us/step\n"
     ]
    },
    {
     "name": "stderr",
     "output_type": "stream",
     "text": [
      " 25%|██▌       | 43/169 [24:40<1:25:37, 40.77s/it]"
     ]
    },
    {
     "name": "stdout",
     "output_type": "stream",
     "text": [
      "Epoch 1/5\n",
      "\u001b[1m5020/5020\u001b[0m \u001b[32m━━━━━━━━━━━━━━━━━━━━\u001b[0m\u001b[37m\u001b[0m \u001b[1m6s\u001b[0m 1ms/step - accuracy: 0.9799 - loss: 0.6126 - val_accuracy: 0.9809 - val_loss: 0.0762\n",
      "Epoch 2/5\n",
      "\u001b[1m5020/5020\u001b[0m \u001b[32m━━━━━━━━━━━━━━━━━━━━\u001b[0m\u001b[37m\u001b[0m \u001b[1m6s\u001b[0m 1ms/step - accuracy: 0.9803 - loss: 0.0762 - val_accuracy: 0.9811 - val_loss: 0.0760\n",
      "Epoch 3/5\n",
      "\u001b[1m5020/5020\u001b[0m \u001b[32m━━━━━━━━━━━━━━━━━━━━\u001b[0m\u001b[37m\u001b[0m \u001b[1m6s\u001b[0m 1ms/step - accuracy: 0.9799 - loss: 0.0784 - val_accuracy: 0.9811 - val_loss: 0.0759\n",
      "Epoch 4/5\n",
      "\u001b[1m5020/5020\u001b[0m \u001b[32m━━━━━━━━━━━━━━━━━━━━\u001b[0m\u001b[37m\u001b[0m \u001b[1m6s\u001b[0m 1ms/step - accuracy: 0.9801 - loss: 0.0763 - val_accuracy: 0.9811 - val_loss: 0.0760\n",
      "Epoch 5/5\n",
      "\u001b[1m5020/5020\u001b[0m \u001b[32m━━━━━━━━━━━━━━━━━━━━\u001b[0m\u001b[37m\u001b[0m \u001b[1m6s\u001b[0m 1ms/step - accuracy: 0.9800 - loss: 0.0773 - val_accuracy: 0.9811 - val_loss: 0.0759\n",
      "\u001b[1m1569/1569\u001b[0m \u001b[32m━━━━━━━━━━━━━━━━━━━━\u001b[0m\u001b[37m\u001b[0m \u001b[1m1s\u001b[0m 575us/step\n"
     ]
    },
    {
     "name": "stderr",
     "output_type": "stream",
     "text": [
      " 26%|██▌       | 44/169 [25:14<1:20:18, 38.55s/it]"
     ]
    },
    {
     "name": "stdout",
     "output_type": "stream",
     "text": [
      "Epoch 1/5\n",
      "\u001b[1m4640/4640\u001b[0m \u001b[32m━━━━━━━━━━━━━━━━━━━━\u001b[0m\u001b[37m\u001b[0m \u001b[1m6s\u001b[0m 1ms/step - accuracy: 0.9795 - loss: 0.0790 - val_accuracy: 0.9808 - val_loss: 0.0728\n",
      "Epoch 2/5\n",
      "\u001b[1m4640/4640\u001b[0m \u001b[32m━━━━━━━━━━━━━━━━━━━━\u001b[0m\u001b[37m\u001b[0m \u001b[1m6s\u001b[0m 1ms/step - accuracy: 0.9796 - loss: 0.0790 - val_accuracy: 0.9808 - val_loss: 0.0729\n",
      "Epoch 3/5\n",
      "\u001b[1m4640/4640\u001b[0m \u001b[32m━━━━━━━━━━━━━━━━━━━━\u001b[0m\u001b[37m\u001b[0m \u001b[1m6s\u001b[0m 1ms/step - accuracy: 0.9797 - loss: 0.0798 - val_accuracy: 0.9808 - val_loss: 0.0730\n",
      "Epoch 4/5\n",
      "\u001b[1m4640/4640\u001b[0m \u001b[32m━━━━━━━━━━━━━━━━━━━━\u001b[0m\u001b[37m\u001b[0m \u001b[1m6s\u001b[0m 1ms/step - accuracy: 0.9793 - loss: 0.0810 - val_accuracy: 0.9808 - val_loss: 0.0728\n",
      "Epoch 5/5\n",
      "\u001b[1m4640/4640\u001b[0m \u001b[32m━━━━━━━━━━━━━━━━━━━━\u001b[0m\u001b[37m\u001b[0m \u001b[1m6s\u001b[0m 1ms/step - accuracy: 0.9803 - loss: 0.0773 - val_accuracy: 0.9808 - val_loss: 0.0731\n",
      "\u001b[1m1450/1450\u001b[0m \u001b[32m━━━━━━━━━━━━━━━━━━━━\u001b[0m\u001b[37m\u001b[0m \u001b[1m1s\u001b[0m 597us/step\n"
     ]
    },
    {
     "name": "stderr",
     "output_type": "stream",
     "text": [
      " 27%|██▋       | 45/169 [25:44<1:14:51, 36.22s/it]"
     ]
    },
    {
     "name": "stdout",
     "output_type": "stream",
     "text": [
      "Epoch 1/5\n",
      "\u001b[1m4946/4946\u001b[0m \u001b[32m━━━━━━━━━━━━━━━━━━━━\u001b[0m\u001b[37m\u001b[0m \u001b[1m6s\u001b[0m 1ms/step - accuracy: 0.9799 - loss: 0.0785 - val_accuracy: 0.9789 - val_loss: 0.0813\n",
      "Epoch 2/5\n",
      "\u001b[1m4946/4946\u001b[0m \u001b[32m━━━━━━━━━━━━━━━━━━━━\u001b[0m\u001b[37m\u001b[0m \u001b[1m6s\u001b[0m 1ms/step - accuracy: 0.9802 - loss: 0.0760 - val_accuracy: 0.9789 - val_loss: 0.0812\n",
      "Epoch 3/5\n",
      "\u001b[1m4946/4946\u001b[0m \u001b[32m━━━━━━━━━━━━━━━━━━━━\u001b[0m\u001b[37m\u001b[0m \u001b[1m6s\u001b[0m 1ms/step - accuracy: 0.9801 - loss: 0.0764 - val_accuracy: 0.9789 - val_loss: 0.0815\n",
      "Epoch 4/5\n",
      "\u001b[1m4946/4946\u001b[0m \u001b[32m━━━━━━━━━━━━━━━━━━━━\u001b[0m\u001b[37m\u001b[0m \u001b[1m6s\u001b[0m 1ms/step - accuracy: 0.9803 - loss: 0.0751 - val_accuracy: 0.9789 - val_loss: 0.0813\n",
      "Epoch 5/5\n",
      "\u001b[1m4946/4946\u001b[0m \u001b[32m━━━━━━━━━━━━━━━━━━━━\u001b[0m\u001b[37m\u001b[0m \u001b[1m6s\u001b[0m 1ms/step - accuracy: 0.9802 - loss: 0.0760 - val_accuracy: 0.9789 - val_loss: 0.0814\n",
      "\u001b[1m1546/1546\u001b[0m \u001b[32m━━━━━━━━━━━━━━━━━━━━\u001b[0m\u001b[37m\u001b[0m \u001b[1m1s\u001b[0m 565us/step\n"
     ]
    },
    {
     "name": "stderr",
     "output_type": "stream",
     "text": [
      " 27%|██▋       | 46/169 [26:17<1:12:08, 35.19s/it]"
     ]
    },
    {
     "name": "stdout",
     "output_type": "stream",
     "text": [
      "Epoch 1/5\n",
      "\u001b[1m4712/4712\u001b[0m \u001b[32m━━━━━━━━━━━━━━━━━━━━\u001b[0m\u001b[37m\u001b[0m \u001b[1m6s\u001b[0m 1ms/step - accuracy: 0.9791 - loss: 0.0802 - val_accuracy: 0.9803 - val_loss: 0.0760\n",
      "Epoch 2/5\n",
      "\u001b[1m4712/4712\u001b[0m \u001b[32m━━━━━━━━━━━━━━━━━━━━\u001b[0m\u001b[37m\u001b[0m \u001b[1m6s\u001b[0m 1ms/step - accuracy: 0.9791 - loss: 0.0787 - val_accuracy: 0.9803 - val_loss: 0.0760\n",
      "Epoch 3/5\n",
      "\u001b[1m4712/4712\u001b[0m \u001b[32m━━━━━━━━━━━━━━━━━━━━\u001b[0m\u001b[37m\u001b[0m \u001b[1m6s\u001b[0m 1ms/step - accuracy: 0.9796 - loss: 0.0787 - val_accuracy: 0.9803 - val_loss: 0.0759\n",
      "Epoch 4/5\n",
      "\u001b[1m4712/4712\u001b[0m \u001b[32m━━━━━━━━━━━━━━━━━━━━\u001b[0m\u001b[37m\u001b[0m \u001b[1m6s\u001b[0m 1ms/step - accuracy: 0.9795 - loss: 0.0779 - val_accuracy: 0.9803 - val_loss: 0.0760\n",
      "Epoch 5/5\n",
      "\u001b[1m4712/4712\u001b[0m \u001b[32m━━━━━━━━━━━━━━━━━━━━\u001b[0m\u001b[37m\u001b[0m \u001b[1m6s\u001b[0m 1ms/step - accuracy: 0.9796 - loss: 0.0768 - val_accuracy: 0.9803 - val_loss: 0.0763\n",
      "\u001b[1m1473/1473\u001b[0m \u001b[32m━━━━━━━━━━━━━━━━━━━━\u001b[0m\u001b[37m\u001b[0m \u001b[1m1s\u001b[0m 584us/step\n"
     ]
    },
    {
     "name": "stderr",
     "output_type": "stream",
     "text": [
      " 28%|██▊       | 47/169 [26:48<1:09:03, 33.96s/it]"
     ]
    },
    {
     "name": "stdout",
     "output_type": "stream",
     "text": [
      "Epoch 1/5\n",
      "\u001b[1m4782/4782\u001b[0m \u001b[32m━━━━━━━━━━━━━━━━━━━━\u001b[0m\u001b[37m\u001b[0m \u001b[1m6s\u001b[0m 1ms/step - accuracy: 0.9800 - loss: 0.0762 - val_accuracy: 0.9810 - val_loss: 0.0755\n",
      "Epoch 2/5\n",
      "\u001b[1m4782/4782\u001b[0m \u001b[32m━━━━━━━━━━━━━━━━━━━━\u001b[0m\u001b[37m\u001b[0m \u001b[1m6s\u001b[0m 1ms/step - accuracy: 0.9807 - loss: 0.0750 - val_accuracy: 0.9810 - val_loss: 0.0757\n",
      "Epoch 3/5\n",
      "\u001b[1m4782/4782\u001b[0m \u001b[32m━━━━━━━━━━━━━━━━━━━━\u001b[0m\u001b[37m\u001b[0m \u001b[1m6s\u001b[0m 1ms/step - accuracy: 0.9805 - loss: 0.0756 - val_accuracy: 0.9810 - val_loss: 0.0755\n",
      "Epoch 4/5\n",
      "\u001b[1m4782/4782\u001b[0m \u001b[32m━━━━━━━━━━━━━━━━━━━━\u001b[0m\u001b[37m\u001b[0m \u001b[1m6s\u001b[0m 1ms/step - accuracy: 0.9807 - loss: 0.0760 - val_accuracy: 0.9810 - val_loss: 0.0755\n",
      "Epoch 5/5\n",
      "\u001b[1m4782/4782\u001b[0m \u001b[32m━━━━━━━━━━━━━━━━━━━━\u001b[0m\u001b[37m\u001b[0m \u001b[1m6s\u001b[0m 1ms/step - accuracy: 0.9805 - loss: 0.0760 - val_accuracy: 0.9810 - val_loss: 0.0756\n",
      "\u001b[1m1495/1495\u001b[0m \u001b[32m━━━━━━━━━━━━━━━━━━━━\u001b[0m\u001b[37m\u001b[0m \u001b[1m1s\u001b[0m 591us/step\n"
     ]
    },
    {
     "name": "stderr",
     "output_type": "stream",
     "text": [
      " 28%|██▊       | 48/169 [27:20<1:06:52, 33.16s/it]"
     ]
    },
    {
     "name": "stdout",
     "output_type": "stream",
     "text": [
      "Epoch 1/5\n",
      "\u001b[1m4398/4398\u001b[0m \u001b[32m━━━━━━━━━━━━━━━━━━━━\u001b[0m\u001b[37m\u001b[0m \u001b[1m5s\u001b[0m 1ms/step - accuracy: 0.9796 - loss: 0.0791 - val_accuracy: 0.9796 - val_loss: 0.0776\n",
      "Epoch 2/5\n",
      "\u001b[1m4398/4398\u001b[0m \u001b[32m━━━━━━━━━━━━━━━━━━━━\u001b[0m\u001b[37m\u001b[0m \u001b[1m5s\u001b[0m 1ms/step - accuracy: 0.9800 - loss: 0.0780 - val_accuracy: 0.9796 - val_loss: 0.0773\n",
      "Epoch 3/5\n",
      "\u001b[1m4398/4398\u001b[0m \u001b[32m━━━━━━━━━━━━━━━━━━━━\u001b[0m\u001b[37m\u001b[0m \u001b[1m5s\u001b[0m 1ms/step - accuracy: 0.9801 - loss: 0.0768 - val_accuracy: 0.9796 - val_loss: 0.0774\n",
      "Epoch 4/5\n",
      "\u001b[1m4398/4398\u001b[0m \u001b[32m━━━━━━━━━━━━━━━━━━━━\u001b[0m\u001b[37m\u001b[0m \u001b[1m6s\u001b[0m 1ms/step - accuracy: 0.9796 - loss: 0.0800 - val_accuracy: 0.9796 - val_loss: 0.0773\n",
      "Epoch 5/5\n",
      "\u001b[1m4398/4398\u001b[0m \u001b[32m━━━━━━━━━━━━━━━━━━━━\u001b[0m\u001b[37m\u001b[0m \u001b[1m6s\u001b[0m 1ms/step - accuracy: 0.9791 - loss: 0.0798 - val_accuracy: 0.9796 - val_loss: 0.0774\n",
      "\u001b[1m1375/1375\u001b[0m \u001b[32m━━━━━━━━━━━━━━━━━━━━\u001b[0m\u001b[37m\u001b[0m \u001b[1m1s\u001b[0m 596us/step\n"
     ]
    },
    {
     "name": "stderr",
     "output_type": "stream",
     "text": [
      " 29%|██▉       | 49/169 [27:49<1:03:54, 31.95s/it]"
     ]
    },
    {
     "name": "stdout",
     "output_type": "stream",
     "text": [
      "Epoch 1/5\n",
      "\u001b[1m4980/4980\u001b[0m \u001b[32m━━━━━━━━━━━━━━━━━━━━\u001b[0m\u001b[37m\u001b[0m \u001b[1m6s\u001b[0m 1ms/step - accuracy: 0.9805 - loss: 0.0749 - val_accuracy: 0.9790 - val_loss: 0.0796\n",
      "Epoch 2/5\n",
      "\u001b[1m4980/4980\u001b[0m \u001b[32m━━━━━━━━━━━━━━━━━━━━\u001b[0m\u001b[37m\u001b[0m \u001b[1m6s\u001b[0m 1ms/step - accuracy: 0.9811 - loss: 0.0721 - val_accuracy: 0.9790 - val_loss: 0.0798\n",
      "Epoch 3/5\n",
      "\u001b[1m4980/4980\u001b[0m \u001b[32m━━━━━━━━━━━━━━━━━━━━\u001b[0m\u001b[37m\u001b[0m \u001b[1m6s\u001b[0m 1ms/step - accuracy: 0.9801 - loss: 0.0775 - val_accuracy: 0.9788 - val_loss: 0.0800\n",
      "Epoch 4/5\n",
      "\u001b[1m4980/4980\u001b[0m \u001b[32m━━━━━━━━━━━━━━━━━━━━\u001b[0m\u001b[37m\u001b[0m \u001b[1m6s\u001b[0m 1ms/step - accuracy: 0.9801 - loss: 0.0746 - val_accuracy: 0.9790 - val_loss: 0.0863\n",
      "Epoch 5/5\n",
      "\u001b[1m4980/4980\u001b[0m \u001b[32m━━━━━━━━━━━━━━━━━━━━\u001b[0m\u001b[37m\u001b[0m \u001b[1m6s\u001b[0m 1ms/step - accuracy: 0.9809 - loss: 0.0733 - val_accuracy: 0.9789 - val_loss: 0.0797\n",
      "\u001b[1m1557/1557\u001b[0m \u001b[32m━━━━━━━━━━━━━━━━━━━━\u001b[0m\u001b[37m\u001b[0m \u001b[1m1s\u001b[0m 573us/step\n"
     ]
    },
    {
     "name": "stderr",
     "output_type": "stream",
     "text": [
      " 30%|██▉       | 50/169 [28:22<1:04:02, 32.29s/it]"
     ]
    },
    {
     "name": "stdout",
     "output_type": "stream",
     "text": [
      "Epoch 1/5\n",
      "\u001b[1m4673/4673\u001b[0m \u001b[32m━━━━━━━━━━━━━━━━━━━━\u001b[0m\u001b[37m\u001b[0m \u001b[1m6s\u001b[0m 1ms/step - accuracy: 0.9801 - loss: 0.0745 - val_accuracy: 0.9800 - val_loss: 0.0787\n",
      "Epoch 2/5\n",
      "\u001b[1m4673/4673\u001b[0m \u001b[32m━━━━━━━━━━━━━━━━━━━━\u001b[0m\u001b[37m\u001b[0m \u001b[1m6s\u001b[0m 1ms/step - accuracy: 0.9800 - loss: 0.0771 - val_accuracy: 0.9799 - val_loss: 0.0786\n",
      "Epoch 3/5\n",
      "\u001b[1m4673/4673\u001b[0m \u001b[32m━━━━━━━━━━━━━━━━━━━━\u001b[0m\u001b[37m\u001b[0m \u001b[1m6s\u001b[0m 1ms/step - accuracy: 0.9787 - loss: 0.0798 - val_accuracy: 0.9795 - val_loss: 0.0789\n",
      "Epoch 4/5\n",
      "\u001b[1m4673/4673\u001b[0m \u001b[32m━━━━━━━━━━━━━━━━━━━━\u001b[0m\u001b[37m\u001b[0m \u001b[1m6s\u001b[0m 1ms/step - accuracy: 0.9796 - loss: 0.0771 - val_accuracy: 0.9799 - val_loss: 0.0787\n",
      "Epoch 5/5\n",
      "\u001b[1m4673/4673\u001b[0m \u001b[32m━━━━━━━━━━━━━━━━━━━━\u001b[0m\u001b[37m\u001b[0m \u001b[1m6s\u001b[0m 1ms/step - accuracy: 0.9797 - loss: 0.0759 - val_accuracy: 0.9799 - val_loss: 0.0786\n",
      "\u001b[1m1461/1461\u001b[0m \u001b[32m━━━━━━━━━━━━━━━━━━━━\u001b[0m\u001b[37m\u001b[0m \u001b[1m1s\u001b[0m 595us/step\n"
     ]
    },
    {
     "name": "stderr",
     "output_type": "stream",
     "text": [
      " 30%|███       | 51/169 [28:53<1:02:44, 31.90s/it]"
     ]
    },
    {
     "name": "stdout",
     "output_type": "stream",
     "text": [
      "Epoch 1/5\n",
      "\u001b[1m5026/5026\u001b[0m \u001b[32m━━━━━━━━━━━━━━━━━━━━\u001b[0m\u001b[37m\u001b[0m \u001b[1m6s\u001b[0m 1ms/step - accuracy: 0.9794 - loss: 0.0782 - val_accuracy: 0.9806 - val_loss: 0.0750\n",
      "Epoch 2/5\n",
      "\u001b[1m5026/5026\u001b[0m \u001b[32m━━━━━━━━━━━━━━━━━━━━\u001b[0m\u001b[37m\u001b[0m \u001b[1m6s\u001b[0m 1ms/step - accuracy: 0.9790 - loss: 0.0802 - val_accuracy: 0.9806 - val_loss: 0.0749\n",
      "Epoch 3/5\n",
      "\u001b[1m5026/5026\u001b[0m \u001b[32m━━━━━━━━━━━━━━━━━━━━\u001b[0m\u001b[37m\u001b[0m \u001b[1m6s\u001b[0m 1ms/step - accuracy: 0.9798 - loss: 0.0776 - val_accuracy: 0.9806 - val_loss: 0.0749\n",
      "Epoch 4/5\n",
      "\u001b[1m5026/5026\u001b[0m \u001b[32m━━━━━━━━━━━━━━━━━━━━\u001b[0m\u001b[37m\u001b[0m \u001b[1m6s\u001b[0m 1ms/step - accuracy: 0.9799 - loss: 0.0767 - val_accuracy: 0.9806 - val_loss: 0.0750\n",
      "Epoch 5/5\n",
      "\u001b[1m5026/5026\u001b[0m \u001b[32m━━━━━━━━━━━━━━━━━━━━\u001b[0m\u001b[37m\u001b[0m \u001b[1m6s\u001b[0m 1ms/step - accuracy: 0.9787 - loss: 0.0815 - val_accuracy: 0.9806 - val_loss: 0.0749\n",
      "\u001b[1m1571/1571\u001b[0m \u001b[32m━━━━━━━━━━━━━━━━━━━━\u001b[0m\u001b[37m\u001b[0m \u001b[1m1s\u001b[0m 606us/step\n"
     ]
    },
    {
     "name": "stderr",
     "output_type": "stream",
     "text": [
      " 31%|███       | 52/169 [29:26<1:02:56, 32.28s/it]"
     ]
    },
    {
     "name": "stdout",
     "output_type": "stream",
     "text": [
      "Epoch 1/5\n",
      "\u001b[1m8909/8909\u001b[0m \u001b[32m━━━━━━━━━━━━━━━━━━━━\u001b[0m\u001b[37m\u001b[0m \u001b[1m11s\u001b[0m 1ms/step - accuracy: 0.9793 - loss: 0.1007 - val_accuracy: 0.9797 - val_loss: 0.0764\n",
      "Epoch 2/5\n",
      "\u001b[1m8909/8909\u001b[0m \u001b[32m━━━━━━━━━━━━━━━━━━━━\u001b[0m\u001b[37m\u001b[0m \u001b[1m11s\u001b[0m 1ms/step - accuracy: 0.9798 - loss: 0.0921 - val_accuracy: 0.9797 - val_loss: 0.0764\n",
      "Epoch 3/5\n",
      "\u001b[1m8909/8909\u001b[0m \u001b[32m━━━━━━━━━━━━━━━━━━━━\u001b[0m\u001b[37m\u001b[0m \u001b[1m11s\u001b[0m 1ms/step - accuracy: 0.9794 - loss: 0.0791 - val_accuracy: 0.9798 - val_loss: 0.0763\n",
      "Epoch 4/5\n",
      "\u001b[1m8909/8909\u001b[0m \u001b[32m━━━━━━━━━━━━━━━━━━━━\u001b[0m\u001b[37m\u001b[0m \u001b[1m11s\u001b[0m 1ms/step - accuracy: 0.9793 - loss: 0.0843 - val_accuracy: 0.9797 - val_loss: 0.0771\n",
      "Epoch 5/5\n",
      "\u001b[1m8909/8909\u001b[0m \u001b[32m━━━━━━━━━━━━━━━━━━━━\u001b[0m\u001b[37m\u001b[0m \u001b[1m11s\u001b[0m 1ms/step - accuracy: 0.9795 - loss: 0.0794 - val_accuracy: 0.9799 - val_loss: 0.0763\n",
      "\u001b[1m2784/2784\u001b[0m \u001b[32m━━━━━━━━━━━━━━━━━━━━\u001b[0m\u001b[37m\u001b[0m \u001b[1m2s\u001b[0m 582us/step\n"
     ]
    },
    {
     "name": "stderr",
     "output_type": "stream",
     "text": [
      " 31%|███▏      | 53/169 [30:25<1:17:44, 40.21s/it]"
     ]
    },
    {
     "name": "stdout",
     "output_type": "stream",
     "text": [
      "Epoch 1/5\n",
      "\u001b[1m4866/4866\u001b[0m \u001b[32m━━━━━━━━━━━━━━━━━━━━\u001b[0m\u001b[37m\u001b[0m \u001b[1m6s\u001b[0m 1ms/step - accuracy: 0.9799 - loss: 0.3391 - val_accuracy: 0.9809 - val_loss: 0.0752\n",
      "Epoch 2/5\n",
      "\u001b[1m4866/4866\u001b[0m \u001b[32m━━━━━━━━━━━━━━━━━━━━\u001b[0m\u001b[37m\u001b[0m \u001b[1m6s\u001b[0m 1ms/step - accuracy: 0.9794 - loss: 0.0787 - val_accuracy: 0.9809 - val_loss: 0.0753\n",
      "Epoch 3/5\n",
      "\u001b[1m4866/4866\u001b[0m \u001b[32m━━━━━━━━━━━━━━━━━━━━\u001b[0m\u001b[37m\u001b[0m \u001b[1m6s\u001b[0m 1ms/step - accuracy: 0.9806 - loss: 0.0833 - val_accuracy: 0.9808 - val_loss: 0.0752\n",
      "Epoch 4/5\n",
      "\u001b[1m4866/4866\u001b[0m \u001b[32m━━━━━━━━━━━━━━━━━━━━\u001b[0m\u001b[37m\u001b[0m \u001b[1m6s\u001b[0m 1ms/step - accuracy: 0.9802 - loss: 0.0762 - val_accuracy: 0.9809 - val_loss: 0.0754\n",
      "Epoch 5/5\n",
      "\u001b[1m4866/4866\u001b[0m \u001b[32m━━━━━━━━━━━━━━━━━━━━\u001b[0m\u001b[37m\u001b[0m \u001b[1m7s\u001b[0m 1ms/step - accuracy: 0.9800 - loss: 0.0783 - val_accuracy: 0.9808 - val_loss: 0.0753\n",
      "\u001b[1m1521/1521\u001b[0m \u001b[32m━━━━━━━━━━━━━━━━━━━━\u001b[0m\u001b[37m\u001b[0m \u001b[1m1s\u001b[0m 612us/step\n"
     ]
    },
    {
     "name": "stderr",
     "output_type": "stream",
     "text": [
      " 32%|███▏      | 54/169 [30:58<1:13:13, 38.20s/it]"
     ]
    },
    {
     "name": "stdout",
     "output_type": "stream",
     "text": [
      "Epoch 1/5\n",
      "\u001b[1m4713/4713\u001b[0m \u001b[32m━━━━━━━━━━━━━━━━━━━━\u001b[0m\u001b[37m\u001b[0m \u001b[1m6s\u001b[0m 1ms/step - accuracy: 0.9788 - loss: 0.0801 - val_accuracy: 0.9793 - val_loss: 0.0795\n",
      "Epoch 2/5\n",
      "\u001b[1m4713/4713\u001b[0m \u001b[32m━━━━━━━━━━━━━━━━━━━━\u001b[0m\u001b[37m\u001b[0m \u001b[1m6s\u001b[0m 1ms/step - accuracy: 0.9795 - loss: 0.0781 - val_accuracy: 0.9793 - val_loss: 0.0794\n",
      "Epoch 3/5\n",
      "\u001b[1m4713/4713\u001b[0m \u001b[32m━━━━━━━━━━━━━━━━━━━━\u001b[0m\u001b[37m\u001b[0m \u001b[1m6s\u001b[0m 1ms/step - accuracy: 0.9795 - loss: 0.0784 - val_accuracy: 0.9793 - val_loss: 0.0794\n",
      "Epoch 4/5\n",
      "\u001b[1m4713/4713\u001b[0m \u001b[32m━━━━━━━━━━━━━━━━━━━━\u001b[0m\u001b[37m\u001b[0m \u001b[1m6s\u001b[0m 1ms/step - accuracy: 0.9802 - loss: 0.0755 - val_accuracy: 0.9793 - val_loss: 0.0794\n",
      "Epoch 5/5\n",
      "\u001b[1m4713/4713\u001b[0m \u001b[32m━━━━━━━━━━━━━━━━━━━━\u001b[0m\u001b[37m\u001b[0m \u001b[1m6s\u001b[0m 1ms/step - accuracy: 0.9804 - loss: 0.0753 - val_accuracy: 0.9793 - val_loss: 0.0794\n",
      "\u001b[1m1473/1473\u001b[0m \u001b[32m━━━━━━━━━━━━━━━━━━━━\u001b[0m\u001b[37m\u001b[0m \u001b[1m1s\u001b[0m 629us/step\n"
     ]
    },
    {
     "name": "stderr",
     "output_type": "stream",
     "text": [
      " 33%|███▎      | 55/169 [31:30<1:08:58, 36.30s/it]"
     ]
    },
    {
     "name": "stdout",
     "output_type": "stream",
     "text": [
      "Epoch 1/5\n",
      "\u001b[1m4448/4448\u001b[0m \u001b[32m━━━━━━━━━━━━━━━━━━━━\u001b[0m\u001b[37m\u001b[0m \u001b[1m6s\u001b[0m 1ms/step - accuracy: 0.9799 - loss: 0.0760 - val_accuracy: 0.9809 - val_loss: 0.0763\n",
      "Epoch 2/5\n",
      "\u001b[1m4448/4448\u001b[0m \u001b[32m━━━━━━━━━━━━━━━━━━━━\u001b[0m\u001b[37m\u001b[0m \u001b[1m6s\u001b[0m 1ms/step - accuracy: 0.9799 - loss: 0.0752 - val_accuracy: 0.9808 - val_loss: 0.0765\n",
      "Epoch 3/5\n",
      "\u001b[1m4448/4448\u001b[0m \u001b[32m━━━━━━━━━━━━━━━━━━━━\u001b[0m\u001b[37m\u001b[0m \u001b[1m6s\u001b[0m 1ms/step - accuracy: 0.9806 - loss: 0.0750 - val_accuracy: 0.9808 - val_loss: 0.0767\n",
      "Epoch 4/5\n",
      "\u001b[1m4448/4448\u001b[0m \u001b[32m━━━━━━━━━━━━━━━━━━━━\u001b[0m\u001b[37m\u001b[0m \u001b[1m6s\u001b[0m 1ms/step - accuracy: 0.9799 - loss: 0.0762 - val_accuracy: 0.9809 - val_loss: 0.0763\n",
      "Epoch 5/5\n",
      "\u001b[1m4448/4448\u001b[0m \u001b[32m━━━━━━━━━━━━━━━━━━━━\u001b[0m\u001b[37m\u001b[0m \u001b[1m6s\u001b[0m 1ms/step - accuracy: 0.9800 - loss: 0.0746 - val_accuracy: 0.9809 - val_loss: 0.0765\n",
      "\u001b[1m1390/1390\u001b[0m \u001b[32m━━━━━━━━━━━━━━━━━━━━\u001b[0m\u001b[37m\u001b[0m \u001b[1m1s\u001b[0m 611us/step\n"
     ]
    },
    {
     "name": "stderr",
     "output_type": "stream",
     "text": [
      " 33%|███▎      | 56/169 [32:00<1:05:02, 34.54s/it]"
     ]
    },
    {
     "name": "stdout",
     "output_type": "stream",
     "text": [
      "Epoch 1/5\n",
      "\u001b[1m4701/4701\u001b[0m \u001b[32m━━━━━━━━━━━━━━━━━━━━\u001b[0m\u001b[37m\u001b[0m \u001b[1m6s\u001b[0m 1ms/step - accuracy: 0.9798 - loss: 0.0772 - val_accuracy: 0.9801 - val_loss: 0.0776\n",
      "Epoch 2/5\n",
      "\u001b[1m4701/4701\u001b[0m \u001b[32m━━━━━━━━━━━━━━━━━━━━\u001b[0m\u001b[37m\u001b[0m \u001b[1m6s\u001b[0m 1ms/step - accuracy: 0.9796 - loss: 0.0785 - val_accuracy: 0.9801 - val_loss: 0.0776\n",
      "Epoch 3/5\n",
      "\u001b[1m4701/4701\u001b[0m \u001b[32m━━━━━━━━━━━━━━━━━━━━\u001b[0m\u001b[37m\u001b[0m \u001b[1m6s\u001b[0m 1ms/step - accuracy: 0.9796 - loss: 0.0792 - val_accuracy: 0.9801 - val_loss: 0.0778\n",
      "Epoch 4/5\n",
      "\u001b[1m4701/4701\u001b[0m \u001b[32m━━━━━━━━━━━━━━━━━━━━\u001b[0m\u001b[37m\u001b[0m \u001b[1m6s\u001b[0m 1ms/step - accuracy: 0.9799 - loss: 0.0781 - val_accuracy: 0.9801 - val_loss: 0.0775\n",
      "Epoch 5/5\n",
      "\u001b[1m4701/4701\u001b[0m \u001b[32m━━━━━━━━━━━━━━━━━━━━\u001b[0m\u001b[37m\u001b[0m \u001b[1m6s\u001b[0m 1ms/step - accuracy: 0.9800 - loss: 0.0778 - val_accuracy: 0.9801 - val_loss: 0.0778\n",
      "\u001b[1m1469/1469\u001b[0m \u001b[32m━━━━━━━━━━━━━━━━━━━━\u001b[0m\u001b[37m\u001b[0m \u001b[1m1s\u001b[0m 587us/step\n"
     ]
    },
    {
     "name": "stderr",
     "output_type": "stream",
     "text": [
      " 34%|███▎      | 57/169 [32:32<1:02:49, 33.66s/it]"
     ]
    },
    {
     "name": "stdout",
     "output_type": "stream",
     "text": [
      "Epoch 1/5\n",
      "\u001b[1m8592/8592\u001b[0m \u001b[32m━━━━━━━━━━━━━━━━━━━━\u001b[0m\u001b[37m\u001b[0m \u001b[1m11s\u001b[0m 1ms/step - accuracy: 0.9804 - loss: 0.0750 - val_accuracy: 0.9798 - val_loss: 0.0772\n",
      "Epoch 2/5\n",
      "\u001b[1m8592/8592\u001b[0m \u001b[32m━━━━━━━━━━━━━━━━━━━━\u001b[0m\u001b[37m\u001b[0m \u001b[1m11s\u001b[0m 1ms/step - accuracy: 0.9807 - loss: 0.0773 - val_accuracy: 0.9798 - val_loss: 0.0772\n",
      "Epoch 3/5\n",
      "\u001b[1m8592/8592\u001b[0m \u001b[32m━━━━━━━━━━━━━━━━━━━━\u001b[0m\u001b[37m\u001b[0m \u001b[1m11s\u001b[0m 1ms/step - accuracy: 0.9804 - loss: 0.0760 - val_accuracy: 0.9798 - val_loss: 0.0771\n",
      "Epoch 4/5\n",
      "\u001b[1m8592/8592\u001b[0m \u001b[32m━━━━━━━━━━━━━━━━━━━━\u001b[0m\u001b[37m\u001b[0m \u001b[1m11s\u001b[0m 1ms/step - accuracy: 0.9800 - loss: 0.0762 - val_accuracy: 0.9799 - val_loss: 0.0771\n",
      "Epoch 5/5\n",
      "\u001b[1m8592/8592\u001b[0m \u001b[32m━━━━━━━━━━━━━━━━━━━━\u001b[0m\u001b[37m\u001b[0m \u001b[1m11s\u001b[0m 1ms/step - accuracy: 0.9805 - loss: 0.0864 - val_accuracy: 0.9800 - val_loss: 0.0771\n",
      "\u001b[1m2685/2685\u001b[0m \u001b[32m━━━━━━━━━━━━━━━━━━━━\u001b[0m\u001b[37m\u001b[0m \u001b[1m2s\u001b[0m 578us/step\n"
     ]
    },
    {
     "name": "stderr",
     "output_type": "stream",
     "text": [
      " 34%|███▍      | 58/169 [33:28<1:14:44, 40.40s/it]"
     ]
    },
    {
     "name": "stdout",
     "output_type": "stream",
     "text": [
      "Epoch 1/5\n",
      "\u001b[1m4740/4740\u001b[0m \u001b[32m━━━━━━━━━━━━━━━━━━━━\u001b[0m\u001b[37m\u001b[0m \u001b[1m6s\u001b[0m 1ms/step - accuracy: 0.9802 - loss: 0.0776 - val_accuracy: 0.9814 - val_loss: 0.0748\n",
      "Epoch 2/5\n",
      "\u001b[1m4740/4740\u001b[0m \u001b[32m━━━━━━━━━━━━━━━━━━━━\u001b[0m\u001b[37m\u001b[0m \u001b[1m6s\u001b[0m 1ms/step - accuracy: 0.9807 - loss: 0.0763 - val_accuracy: 0.9815 - val_loss: 0.0746\n",
      "Epoch 3/5\n",
      "\u001b[1m4740/4740\u001b[0m \u001b[32m━━━━━━━━━━━━━━━━━━━━\u001b[0m\u001b[37m\u001b[0m \u001b[1m6s\u001b[0m 1ms/step - accuracy: 0.9804 - loss: 0.0770 - val_accuracy: 0.9814 - val_loss: 0.0746\n",
      "Epoch 4/5\n",
      "\u001b[1m4740/4740\u001b[0m \u001b[32m━━━━━━━━━━━━━━━━━━━━\u001b[0m\u001b[37m\u001b[0m \u001b[1m6s\u001b[0m 1ms/step - accuracy: 0.9806 - loss: 0.0759 - val_accuracy: 0.9815 - val_loss: 0.1418\n",
      "Epoch 5/5\n",
      "\u001b[1m4740/4740\u001b[0m \u001b[32m━━━━━━━━━━━━━━━━━━━━\u001b[0m\u001b[37m\u001b[0m \u001b[1m6s\u001b[0m 1ms/step - accuracy: 0.9800 - loss: 0.0796 - val_accuracy: 0.9814 - val_loss: 0.0746\n",
      "\u001b[1m1482/1482\u001b[0m \u001b[32m━━━━━━━━━━━━━━━━━━━━\u001b[0m\u001b[37m\u001b[0m \u001b[1m1s\u001b[0m 587us/step\n"
     ]
    },
    {
     "name": "stderr",
     "output_type": "stream",
     "text": [
      " 35%|███▍      | 59/169 [34:00<1:09:04, 37.67s/it]"
     ]
    },
    {
     "name": "stdout",
     "output_type": "stream",
     "text": [
      "Epoch 1/5\n",
      "\u001b[1m4904/4904\u001b[0m \u001b[32m━━━━━━━━━━━━━━━━━━━━\u001b[0m\u001b[37m\u001b[0m \u001b[1m6s\u001b[0m 1ms/step - accuracy: 0.9801 - loss: 0.0781 - val_accuracy: 0.9805 - val_loss: 0.0768\n",
      "Epoch 2/5\n",
      "\u001b[1m4904/4904\u001b[0m \u001b[32m━━━━━━━━━━━━━━━━━━━━\u001b[0m\u001b[37m\u001b[0m \u001b[1m6s\u001b[0m 1ms/step - accuracy: 0.9800 - loss: 0.0767 - val_accuracy: 0.9806 - val_loss: 0.0768\n",
      "Epoch 3/5\n",
      "\u001b[1m4904/4904\u001b[0m \u001b[32m━━━━━━━━━━━━━━━━━━━━\u001b[0m\u001b[37m\u001b[0m \u001b[1m6s\u001b[0m 1ms/step - accuracy: 0.9807 - loss: 0.0756 - val_accuracy: 0.9805 - val_loss: 0.0768\n",
      "Epoch 4/5\n",
      "\u001b[1m4904/4904\u001b[0m \u001b[32m━━━━━━━━━━━━━━━━━━━━\u001b[0m\u001b[37m\u001b[0m \u001b[1m6s\u001b[0m 1ms/step - accuracy: 0.9806 - loss: 0.0760 - val_accuracy: 0.9806 - val_loss: 0.0768\n",
      "Epoch 5/5\n",
      "\u001b[1m4904/4904\u001b[0m \u001b[32m━━━━━━━━━━━━━━━━━━━━\u001b[0m\u001b[37m\u001b[0m \u001b[1m6s\u001b[0m 1ms/step - accuracy: 0.9793 - loss: 0.0790 - val_accuracy: 0.9806 - val_loss: 0.0768\n",
      "\u001b[1m1533/1533\u001b[0m \u001b[32m━━━━━━━━━━━━━━━━━━━━\u001b[0m\u001b[37m\u001b[0m \u001b[1m1s\u001b[0m 567us/step\n"
     ]
    },
    {
     "name": "stderr",
     "output_type": "stream",
     "text": [
      " 36%|███▌      | 60/169 [34:32<1:05:31, 36.07s/it]"
     ]
    },
    {
     "name": "stdout",
     "output_type": "stream",
     "text": [
      "Epoch 1/5\n",
      "\u001b[1m5083/5083\u001b[0m \u001b[32m━━━━━━━━━━━━━━━━━━━━\u001b[0m\u001b[37m\u001b[0m \u001b[1m7s\u001b[0m 1ms/step - accuracy: 0.9795 - loss: 0.0792 - val_accuracy: 0.9804 - val_loss: 0.0757\n",
      "Epoch 2/5\n",
      "\u001b[1m5083/5083\u001b[0m \u001b[32m━━━━━━━━━━━━━━━━━━━━\u001b[0m\u001b[37m\u001b[0m \u001b[1m6s\u001b[0m 1ms/step - accuracy: 0.9791 - loss: 0.1255 - val_accuracy: 0.9803 - val_loss: 0.0758\n",
      "Epoch 3/5\n",
      "\u001b[1m5083/5083\u001b[0m \u001b[32m━━━━━━━━━━━━━━━━━━━━\u001b[0m\u001b[37m\u001b[0m \u001b[1m6s\u001b[0m 1ms/step - accuracy: 0.9794 - loss: 0.0799 - val_accuracy: 0.9803 - val_loss: 0.0758\n",
      "Epoch 4/5\n",
      "\u001b[1m5083/5083\u001b[0m \u001b[32m━━━━━━━━━━━━━━━━━━━━\u001b[0m\u001b[37m\u001b[0m \u001b[1m7s\u001b[0m 1ms/step - accuracy: 0.9795 - loss: 0.0777 - val_accuracy: 0.9803 - val_loss: 0.0758\n",
      "Epoch 5/5\n",
      "\u001b[1m5083/5083\u001b[0m \u001b[32m━━━━━━━━━━━━━━━━━━━━\u001b[0m\u001b[37m\u001b[0m \u001b[1m6s\u001b[0m 1ms/step - accuracy: 0.9796 - loss: 0.0777 - val_accuracy: 0.9803 - val_loss: 0.0760\n",
      "\u001b[1m1589/1589\u001b[0m \u001b[32m━━━━━━━━━━━━━━━━━━━━\u001b[0m\u001b[37m\u001b[0m \u001b[1m1s\u001b[0m 646us/step\n"
     ]
    },
    {
     "name": "stderr",
     "output_type": "stream",
     "text": [
      " 36%|███▌      | 61/169 [35:06<1:03:43, 35.40s/it]"
     ]
    },
    {
     "name": "stdout",
     "output_type": "stream",
     "text": [
      "Epoch 1/5\n",
      "\u001b[1m4793/4793\u001b[0m \u001b[32m━━━━━━━━━━━━━━━━━━━━\u001b[0m\u001b[37m\u001b[0m \u001b[1m6s\u001b[0m 1ms/step - accuracy: 0.9783 - loss: 0.0861 - val_accuracy: 0.9796 - val_loss: 0.0800\n",
      "Epoch 2/5\n",
      "\u001b[1m4793/4793\u001b[0m \u001b[32m━━━━━━━━━━━━━━━━━━━━\u001b[0m\u001b[37m\u001b[0m \u001b[1m6s\u001b[0m 1ms/step - accuracy: 0.9787 - loss: 0.0820 - val_accuracy: 0.9796 - val_loss: 0.0798\n",
      "Epoch 3/5\n",
      "\u001b[1m4793/4793\u001b[0m \u001b[32m━━━━━━━━━━━━━━━━━━━━\u001b[0m\u001b[37m\u001b[0m \u001b[1m6s\u001b[0m 1ms/step - accuracy: 0.9789 - loss: 0.0810 - val_accuracy: 0.9796 - val_loss: 0.0799\n",
      "Epoch 4/5\n",
      "\u001b[1m4793/4793\u001b[0m \u001b[32m━━━━━━━━━━━━━━━━━━━━\u001b[0m\u001b[37m\u001b[0m \u001b[1m6s\u001b[0m 1ms/step - accuracy: 0.9796 - loss: 0.0789 - val_accuracy: 0.9796 - val_loss: 0.0799\n",
      "Epoch 5/5\n",
      "\u001b[1m4793/4793\u001b[0m \u001b[32m━━━━━━━━━━━━━━━━━━━━\u001b[0m\u001b[37m\u001b[0m \u001b[1m6s\u001b[0m 1ms/step - accuracy: 0.9789 - loss: 0.0806 - val_accuracy: 0.9796 - val_loss: 0.0800\n",
      "\u001b[1m1498/1498\u001b[0m \u001b[32m━━━━━━━━━━━━━━━━━━━━\u001b[0m\u001b[37m\u001b[0m \u001b[1m1s\u001b[0m 629us/step\n"
     ]
    },
    {
     "name": "stderr",
     "output_type": "stream",
     "text": [
      " 37%|███▋      | 62/169 [35:37<1:00:55, 34.16s/it]"
     ]
    },
    {
     "name": "stdout",
     "output_type": "stream",
     "text": [
      "Epoch 1/5\n",
      "\u001b[1m8821/8821\u001b[0m \u001b[32m━━━━━━━━━━━━━━━━━━━━\u001b[0m\u001b[37m\u001b[0m \u001b[1m11s\u001b[0m 1ms/step - accuracy: 0.9795 - loss: 0.0800 - val_accuracy: 0.9806 - val_loss: 0.0751\n",
      "Epoch 2/5\n",
      "\u001b[1m8821/8821\u001b[0m \u001b[32m━━━━━━━━━━━━━━━━━━━━\u001b[0m\u001b[37m\u001b[0m \u001b[1m11s\u001b[0m 1ms/step - accuracy: 0.9795 - loss: 0.0956 - val_accuracy: 0.9806 - val_loss: 0.0754\n",
      "Epoch 3/5\n",
      "\u001b[1m8821/8821\u001b[0m \u001b[32m━━━━━━━━━━━━━━━━━━━━\u001b[0m\u001b[37m\u001b[0m \u001b[1m11s\u001b[0m 1ms/step - accuracy: 0.9792 - loss: 0.0808 - val_accuracy: 0.9806 - val_loss: 0.0751\n",
      "Epoch 4/5\n",
      "\u001b[1m8821/8821\u001b[0m \u001b[32m━━━━━━━━━━━━━━━━━━━━\u001b[0m\u001b[37m\u001b[0m \u001b[1m11s\u001b[0m 1ms/step - accuracy: 0.9796 - loss: 0.0794 - val_accuracy: 0.9806 - val_loss: 0.0751\n",
      "Epoch 5/5\n",
      "\u001b[1m8821/8821\u001b[0m \u001b[32m━━━━━━━━━━━━━━━━━━━━\u001b[0m\u001b[37m\u001b[0m \u001b[1m11s\u001b[0m 1ms/step - accuracy: 0.9795 - loss: 0.0800 - val_accuracy: 0.9806 - val_loss: 0.0751\n",
      "\u001b[1m2757/2757\u001b[0m \u001b[32m━━━━━━━━━━━━━━━━━━━━\u001b[0m\u001b[37m\u001b[0m \u001b[1m2s\u001b[0m 592us/step\n"
     ]
    },
    {
     "name": "stderr",
     "output_type": "stream",
     "text": [
      " 37%|███▋      | 63/169 [36:36<1:13:20, 41.51s/it]"
     ]
    },
    {
     "name": "stdout",
     "output_type": "stream",
     "text": [
      "Epoch 1/5\n",
      "\u001b[1m4749/4749\u001b[0m \u001b[32m━━━━━━━━━━━━━━━━━━━━\u001b[0m\u001b[37m\u001b[0m \u001b[1m6s\u001b[0m 1ms/step - accuracy: 0.9791 - loss: 0.0777 - val_accuracy: 0.9800 - val_loss: 0.0765\n",
      "Epoch 2/5\n",
      "\u001b[1m4749/4749\u001b[0m \u001b[32m━━━━━━━━━━━━━━━━━━━━\u001b[0m\u001b[37m\u001b[0m \u001b[1m6s\u001b[0m 1ms/step - accuracy: 0.9792 - loss: 0.0784 - val_accuracy: 0.9800 - val_loss: 0.0764\n",
      "Epoch 3/5\n",
      "\u001b[1m4749/4749\u001b[0m \u001b[32m━━━━━━━━━━━━━━━━━━━━\u001b[0m\u001b[37m\u001b[0m \u001b[1m6s\u001b[0m 1ms/step - accuracy: 0.9790 - loss: 0.0804 - val_accuracy: 0.9800 - val_loss: 0.0764\n",
      "Epoch 4/5\n",
      "\u001b[1m4749/4749\u001b[0m \u001b[32m━━━━━━━━━━━━━━━━━━━━\u001b[0m\u001b[37m\u001b[0m \u001b[1m6s\u001b[0m 1ms/step - accuracy: 0.9785 - loss: 0.0808 - val_accuracy: 0.9800 - val_loss: 0.0765\n",
      "Epoch 5/5\n",
      "\u001b[1m4749/4749\u001b[0m \u001b[32m━━━━━━━━━━━━━━━━━━━━\u001b[0m\u001b[37m\u001b[0m \u001b[1m6s\u001b[0m 1ms/step - accuracy: 0.9795 - loss: 0.0785 - val_accuracy: 0.9800 - val_loss: 0.0765\n",
      "\u001b[1m1484/1484\u001b[0m \u001b[32m━━━━━━━━━━━━━━━━━━━━\u001b[0m\u001b[37m\u001b[0m \u001b[1m1s\u001b[0m 579us/step\n"
     ]
    },
    {
     "name": "stderr",
     "output_type": "stream",
     "text": [
      " 38%|███▊      | 64/169 [37:07<1:07:05, 38.34s/it]"
     ]
    },
    {
     "name": "stdout",
     "output_type": "stream",
     "text": [
      "Epoch 1/5\n",
      "\u001b[1m5262/5262\u001b[0m \u001b[32m━━━━━━━━━━━━━━━━━━━━\u001b[0m\u001b[37m\u001b[0m \u001b[1m7s\u001b[0m 1ms/step - accuracy: 0.9802 - loss: 0.0768 - val_accuracy: 0.9791 - val_loss: 0.0795\n",
      "Epoch 2/5\n",
      "\u001b[1m5262/5262\u001b[0m \u001b[32m━━━━━━━━━━━━━━━━━━━━\u001b[0m\u001b[37m\u001b[0m \u001b[1m7s\u001b[0m 1ms/step - accuracy: 0.9795 - loss: 0.0782 - val_accuracy: 0.9791 - val_loss: 0.0795\n",
      "Epoch 3/5\n",
      "\u001b[1m5262/5262\u001b[0m \u001b[32m━━━━━━━━━━━━━━━━━━━━\u001b[0m\u001b[37m\u001b[0m \u001b[1m7s\u001b[0m 1ms/step - accuracy: 0.9804 - loss: 0.0752 - val_accuracy: 0.9791 - val_loss: 0.0795\n",
      "Epoch 4/5\n",
      "\u001b[1m5262/5262\u001b[0m \u001b[32m━━━━━━━━━━━━━━━━━━━━\u001b[0m\u001b[37m\u001b[0m \u001b[1m7s\u001b[0m 1ms/step - accuracy: 0.9801 - loss: 0.0760 - val_accuracy: 0.9791 - val_loss: 0.0796\n",
      "Epoch 5/5\n",
      "\u001b[1m5262/5262\u001b[0m \u001b[32m━━━━━━━━━━━━━━━━━━━━\u001b[0m\u001b[37m\u001b[0m \u001b[1m7s\u001b[0m 1ms/step - accuracy: 0.9797 - loss: 0.0774 - val_accuracy: 0.9791 - val_loss: 0.0796\n",
      "\u001b[1m1645/1645\u001b[0m \u001b[32m━━━━━━━━━━━━━━━━━━━━\u001b[0m\u001b[37m\u001b[0m \u001b[1m1s\u001b[0m 591us/step\n"
     ]
    },
    {
     "name": "stderr",
     "output_type": "stream",
     "text": [
      " 38%|███▊      | 65/169 [37:41<1:04:26, 37.18s/it]"
     ]
    },
    {
     "name": "stdout",
     "output_type": "stream",
     "text": [
      "Epoch 1/5\n",
      "\u001b[1m4899/4899\u001b[0m \u001b[32m━━━━━━━━━━━━━━━━━━━━\u001b[0m\u001b[37m\u001b[0m \u001b[1m6s\u001b[0m 1ms/step - accuracy: 0.9802 - loss: 0.0777 - val_accuracy: 0.9798 - val_loss: 0.0786\n",
      "Epoch 2/5\n",
      "\u001b[1m4899/4899\u001b[0m \u001b[32m━━━━━━━━━━━━━━━━━━━━\u001b[0m\u001b[37m\u001b[0m \u001b[1m6s\u001b[0m 1ms/step - accuracy: 0.9799 - loss: 0.0849 - val_accuracy: 0.9798 - val_loss: 0.0786\n",
      "Epoch 3/5\n",
      "\u001b[1m4899/4899\u001b[0m \u001b[32m━━━━━━━━━━━━━━━━━━━━\u001b[0m\u001b[37m\u001b[0m \u001b[1m6s\u001b[0m 1ms/step - accuracy: 0.9794 - loss: 0.0788 - val_accuracy: 0.9798 - val_loss: 0.0786\n",
      "Epoch 4/5\n",
      "\u001b[1m4899/4899\u001b[0m \u001b[32m━━━━━━━━━━━━━━━━━━━━\u001b[0m\u001b[37m\u001b[0m \u001b[1m6s\u001b[0m 1ms/step - accuracy: 0.9800 - loss: 0.0783 - val_accuracy: 0.9798 - val_loss: 0.0786\n",
      "Epoch 5/5\n",
      "\u001b[1m4899/4899\u001b[0m \u001b[32m━━━━━━━━━━━━━━━━━━━━\u001b[0m\u001b[37m\u001b[0m \u001b[1m6s\u001b[0m 1ms/step - accuracy: 0.9806 - loss: 0.0741 - val_accuracy: 0.9798 - val_loss: 0.0786\n",
      "\u001b[1m1531/1531\u001b[0m \u001b[32m━━━━━━━━━━━━━━━━━━━━\u001b[0m\u001b[37m\u001b[0m \u001b[1m1s\u001b[0m 582us/step\n"
     ]
    },
    {
     "name": "stderr",
     "output_type": "stream",
     "text": [
      " 39%|███▉      | 66/169 [38:13<1:01:15, 35.68s/it]"
     ]
    },
    {
     "name": "stdout",
     "output_type": "stream",
     "text": [
      "Epoch 1/5\n",
      "\u001b[1m4322/4322\u001b[0m \u001b[32m━━━━━━━━━━━━━━━━━━━━\u001b[0m\u001b[37m\u001b[0m \u001b[1m6s\u001b[0m 1ms/step - accuracy: 0.9805 - loss: 0.0768 - val_accuracy: 0.9789 - val_loss: 0.0823\n",
      "Epoch 2/5\n",
      "\u001b[1m4322/4322\u001b[0m \u001b[32m━━━━━━━━━━━━━━━━━━━━\u001b[0m\u001b[37m\u001b[0m \u001b[1m5s\u001b[0m 1ms/step - accuracy: 0.9803 - loss: 0.0784 - val_accuracy: 0.9789 - val_loss: 0.0824\n",
      "Epoch 3/5\n",
      "\u001b[1m4322/4322\u001b[0m \u001b[32m━━━━━━━━━━━━━━━━━━━━\u001b[0m\u001b[37m\u001b[0m \u001b[1m6s\u001b[0m 1ms/step - accuracy: 0.9801 - loss: 0.0776 - val_accuracy: 0.9789 - val_loss: 0.0822\n",
      "Epoch 4/5\n",
      "\u001b[1m4322/4322\u001b[0m \u001b[32m━━━━━━━━━━━━━━━━━━━━\u001b[0m\u001b[37m\u001b[0m \u001b[1m5s\u001b[0m 1ms/step - accuracy: 0.9799 - loss: 0.0791 - val_accuracy: 0.9789 - val_loss: 0.0823\n",
      "Epoch 5/5\n",
      "\u001b[1m4322/4322\u001b[0m \u001b[32m━━━━━━━━━━━━━━━━━━━━\u001b[0m\u001b[37m\u001b[0m \u001b[1m6s\u001b[0m 1ms/step - accuracy: 0.9800 - loss: 0.0785 - val_accuracy: 0.9789 - val_loss: 0.0822\n",
      "\u001b[1m1351/1351\u001b[0m \u001b[32m━━━━━━━━━━━━━━━━━━━━\u001b[0m\u001b[37m\u001b[0m \u001b[1m1s\u001b[0m 607us/step\n"
     ]
    },
    {
     "name": "stderr",
     "output_type": "stream",
     "text": [
      " 40%|███▉      | 67/169 [38:42<57:16, 33.69s/it]  "
     ]
    },
    {
     "name": "stdout",
     "output_type": "stream",
     "text": [
      "Epoch 1/5\n",
      "\u001b[1m5359/5359\u001b[0m \u001b[32m━━━━━━━━━━━━━━━━━━━━\u001b[0m\u001b[37m\u001b[0m \u001b[1m7s\u001b[0m 1ms/step - accuracy: 0.9800 - loss: 0.0773 - val_accuracy: 0.9802 - val_loss: 0.0763\n",
      "Epoch 2/5\n",
      "\u001b[1m5359/5359\u001b[0m \u001b[32m━━━━━━━━━━━━━━━━━━━━\u001b[0m\u001b[37m\u001b[0m \u001b[1m7s\u001b[0m 1ms/step - accuracy: 0.9797 - loss: 0.0784 - val_accuracy: 0.9802 - val_loss: 0.0765\n",
      "Epoch 3/5\n",
      "\u001b[1m5359/5359\u001b[0m \u001b[32m━━━━━━━━━━━━━━━━━━━━\u001b[0m\u001b[37m\u001b[0m \u001b[1m7s\u001b[0m 1ms/step - accuracy: 0.9800 - loss: 0.0773 - val_accuracy: 0.9802 - val_loss: 0.0764\n",
      "Epoch 4/5\n",
      "\u001b[1m5359/5359\u001b[0m \u001b[32m━━━━━━━━━━━━━━━━━━━━\u001b[0m\u001b[37m\u001b[0m \u001b[1m7s\u001b[0m 1ms/step - accuracy: 0.9801 - loss: 0.0755 - val_accuracy: 0.9802 - val_loss: 0.0763\n",
      "Epoch 5/5\n",
      "\u001b[1m5359/5359\u001b[0m \u001b[32m━━━━━━━━━━━━━━━━━━━━\u001b[0m\u001b[37m\u001b[0m \u001b[1m7s\u001b[0m 1ms/step - accuracy: 0.9806 - loss: 0.0761 - val_accuracy: 0.9802 - val_loss: 0.0764\n",
      "\u001b[1m1675/1675\u001b[0m \u001b[32m━━━━━━━━━━━━━━━━━━━━\u001b[0m\u001b[37m\u001b[0m \u001b[1m1s\u001b[0m 609us/step\n"
     ]
    },
    {
     "name": "stderr",
     "output_type": "stream",
     "text": [
      " 40%|████      | 68/169 [39:18<57:36, 34.23s/it]"
     ]
    },
    {
     "name": "stdout",
     "output_type": "stream",
     "text": [
      "Epoch 1/5\n",
      "\u001b[1m4482/4482\u001b[0m \u001b[32m━━━━━━━━━━━━━━━━━━━━\u001b[0m\u001b[37m\u001b[0m \u001b[1m6s\u001b[0m 1ms/step - accuracy: 0.9795 - loss: 0.0792 - val_accuracy: 0.9802 - val_loss: 0.0779\n",
      "Epoch 2/5\n",
      "\u001b[1m4482/4482\u001b[0m \u001b[32m━━━━━━━━━━━━━━━━━━━━\u001b[0m\u001b[37m\u001b[0m \u001b[1m6s\u001b[0m 1ms/step - accuracy: 0.9792 - loss: 0.0797 - val_accuracy: 0.9802 - val_loss: 0.0780\n",
      "Epoch 3/5\n",
      "\u001b[1m4482/4482\u001b[0m \u001b[32m━━━━━━━━━━━━━━━━━━━━\u001b[0m\u001b[37m\u001b[0m \u001b[1m6s\u001b[0m 1ms/step - accuracy: 0.9797 - loss: 0.0781 - val_accuracy: 0.9802 - val_loss: 0.0778\n",
      "Epoch 4/5\n",
      "\u001b[1m4482/4482\u001b[0m \u001b[32m━━━━━━━━━━━━━━━━━━━━\u001b[0m\u001b[37m\u001b[0m \u001b[1m6s\u001b[0m 1ms/step - accuracy: 0.9798 - loss: 0.0792 - val_accuracy: 0.9802 - val_loss: 0.0779\n",
      "Epoch 5/5\n",
      "\u001b[1m4482/4482\u001b[0m \u001b[32m━━━━━━━━━━━━━━━━━━━━\u001b[0m\u001b[37m\u001b[0m \u001b[1m6s\u001b[0m 1ms/step - accuracy: 0.9798 - loss: 0.0788 - val_accuracy: 0.9802 - val_loss: 0.0777\n",
      "\u001b[1m1401/1401\u001b[0m \u001b[32m━━━━━━━━━━━━━━━━━━━━\u001b[0m\u001b[37m\u001b[0m \u001b[1m1s\u001b[0m 588us/step\n"
     ]
    },
    {
     "name": "stderr",
     "output_type": "stream",
     "text": [
      " 41%|████      | 69/169 [39:47<54:42, 32.82s/it]"
     ]
    },
    {
     "name": "stdout",
     "output_type": "stream",
     "text": [
      "Epoch 1/5\n",
      "\u001b[1m4805/4805\u001b[0m \u001b[32m━━━━━━━━━━━━━━━━━━━━\u001b[0m\u001b[37m\u001b[0m \u001b[1m6s\u001b[0m 1ms/step - accuracy: 0.9791 - loss: 0.0796 - val_accuracy: 0.9813 - val_loss: 0.0738\n",
      "Epoch 2/5\n",
      "\u001b[1m4805/4805\u001b[0m \u001b[32m━━━━━━━━━━━━━━━━━━━━\u001b[0m\u001b[37m\u001b[0m \u001b[1m6s\u001b[0m 1ms/step - accuracy: 0.9793 - loss: 0.0770 - val_accuracy: 0.9814 - val_loss: 0.0740\n",
      "Epoch 3/5\n",
      "\u001b[1m4805/4805\u001b[0m \u001b[32m━━━━━━━━━━━━━━━━━━━━\u001b[0m\u001b[37m\u001b[0m \u001b[1m6s\u001b[0m 1ms/step - accuracy: 0.9794 - loss: 0.0786 - val_accuracy: 0.9814 - val_loss: 0.0738\n",
      "Epoch 4/5\n",
      "\u001b[1m4805/4805\u001b[0m \u001b[32m━━━━━━━━━━━━━━━━━━━━\u001b[0m\u001b[37m\u001b[0m \u001b[1m6s\u001b[0m 1ms/step - accuracy: 0.9804 - loss: 0.0747 - val_accuracy: 0.9813 - val_loss: 0.0741\n",
      "Epoch 5/5\n",
      "\u001b[1m4805/4805\u001b[0m \u001b[32m━━━━━━━━━━━━━━━━━━━━\u001b[0m\u001b[37m\u001b[0m \u001b[1m6s\u001b[0m 1ms/step - accuracy: 0.9792 - loss: 0.0786 - val_accuracy: 0.9813 - val_loss: 0.0738\n",
      "\u001b[1m1502/1502\u001b[0m \u001b[32m━━━━━━━━━━━━━━━━━━━━\u001b[0m\u001b[37m\u001b[0m \u001b[1m1s\u001b[0m 579us/step\n"
     ]
    },
    {
     "name": "stderr",
     "output_type": "stream",
     "text": [
      " 41%|████▏     | 70/169 [40:19<53:43, 32.56s/it]"
     ]
    },
    {
     "name": "stdout",
     "output_type": "stream",
     "text": [
      "Epoch 1/5\n",
      "\u001b[1m4596/4596\u001b[0m \u001b[32m━━━━━━━━━━━━━━━━━━━━\u001b[0m\u001b[37m\u001b[0m \u001b[1m6s\u001b[0m 1ms/step - accuracy: 0.9791 - loss: 0.0795 - val_accuracy: 0.9809 - val_loss: 0.0729\n",
      "Epoch 2/5\n",
      "\u001b[1m4596/4596\u001b[0m \u001b[32m━━━━━━━━━━━━━━━━━━━━\u001b[0m\u001b[37m\u001b[0m \u001b[1m6s\u001b[0m 1ms/step - accuracy: 0.9795 - loss: 0.0784 - val_accuracy: 0.9809 - val_loss: 0.0729\n",
      "Epoch 3/5\n",
      "\u001b[1m4596/4596\u001b[0m \u001b[32m━━━━━━━━━━━━━━━━━━━━\u001b[0m\u001b[37m\u001b[0m \u001b[1m6s\u001b[0m 1ms/step - accuracy: 0.9798 - loss: 0.0780 - val_accuracy: 0.9809 - val_loss: 0.0729\n",
      "Epoch 4/5\n",
      "\u001b[1m4596/4596\u001b[0m \u001b[32m━━━━━━━━━━━━━━━━━━━━\u001b[0m\u001b[37m\u001b[0m \u001b[1m6s\u001b[0m 1ms/step - accuracy: 0.9795 - loss: 0.0789 - val_accuracy: 0.9809 - val_loss: 0.0729\n",
      "Epoch 5/5\n",
      "\u001b[1m4596/4596\u001b[0m \u001b[32m━━━━━━━━━━━━━━━━━━━━\u001b[0m\u001b[37m\u001b[0m \u001b[1m6s\u001b[0m 1ms/step - accuracy: 0.9791 - loss: 0.0787 - val_accuracy: 0.9809 - val_loss: 0.0729\n",
      "\u001b[1m1437/1437\u001b[0m \u001b[32m━━━━━━━━━━━━━━━━━━━━\u001b[0m\u001b[37m\u001b[0m \u001b[1m1s\u001b[0m 608us/step\n"
     ]
    },
    {
     "name": "stderr",
     "output_type": "stream",
     "text": [
      " 42%|████▏     | 71/169 [40:50<52:14, 31.98s/it]"
     ]
    },
    {
     "name": "stdout",
     "output_type": "stream",
     "text": [
      "Epoch 1/5\n",
      "\u001b[1m5555/5555\u001b[0m \u001b[32m━━━━━━━━━━━━━━━━━━━━\u001b[0m\u001b[37m\u001b[0m \u001b[1m7s\u001b[0m 1ms/step - accuracy: 0.9797 - loss: 0.0772 - val_accuracy: 0.9793 - val_loss: 0.0786\n",
      "Epoch 2/5\n",
      "\u001b[1m5555/5555\u001b[0m \u001b[32m━━━━━━━━━━━━━━━━━━━━\u001b[0m\u001b[37m\u001b[0m \u001b[1m7s\u001b[0m 1ms/step - accuracy: 0.9794 - loss: 0.0789 - val_accuracy: 0.9793 - val_loss: 0.0786\n",
      "Epoch 3/5\n",
      "\u001b[1m5555/5555\u001b[0m \u001b[32m━━━━━━━━━━━━━━━━━━━━\u001b[0m\u001b[37m\u001b[0m \u001b[1m7s\u001b[0m 1ms/step - accuracy: 0.9794 - loss: 0.0778 - val_accuracy: 0.9793 - val_loss: 0.0787\n",
      "Epoch 4/5\n",
      "\u001b[1m5555/5555\u001b[0m \u001b[32m━━━━━━━━━━━━━━━━━━━━\u001b[0m\u001b[37m\u001b[0m \u001b[1m7s\u001b[0m 1ms/step - accuracy: 0.9788 - loss: 0.0790 - val_accuracy: 0.9793 - val_loss: 0.0786\n",
      "Epoch 5/5\n",
      "\u001b[1m5555/5555\u001b[0m \u001b[32m━━━━━━━━━━━━━━━━━━━━\u001b[0m\u001b[37m\u001b[0m \u001b[1m7s\u001b[0m 1ms/step - accuracy: 0.9795 - loss: 0.0771 - val_accuracy: 0.9793 - val_loss: 0.0787\n",
      "\u001b[1m1736/1736\u001b[0m \u001b[32m━━━━━━━━━━━━━━━━━━━━\u001b[0m\u001b[37m\u001b[0m \u001b[1m1s\u001b[0m 602us/step\n"
     ]
    },
    {
     "name": "stderr",
     "output_type": "stream",
     "text": [
      " 43%|████▎     | 72/169 [41:27<54:22, 33.64s/it]"
     ]
    },
    {
     "name": "stdout",
     "output_type": "stream",
     "text": [
      "Epoch 1/5\n",
      "\u001b[1m5214/5214\u001b[0m \u001b[32m━━━━━━━━━━━━━━━━━━━━\u001b[0m\u001b[37m\u001b[0m \u001b[1m7s\u001b[0m 1ms/step - accuracy: 0.9797 - loss: 0.0780 - val_accuracy: 0.9794 - val_loss: 0.0821\n",
      "Epoch 2/5\n",
      "\u001b[1m5214/5214\u001b[0m \u001b[32m━━━━━━━━━━━━━━━━━━━━\u001b[0m\u001b[37m\u001b[0m \u001b[1m7s\u001b[0m 1ms/step - accuracy: 0.9795 - loss: 0.0811 - val_accuracy: 0.9793 - val_loss: 0.0822\n",
      "Epoch 3/5\n",
      "\u001b[1m5214/5214\u001b[0m \u001b[32m━━━━━━━━━━━━━━━━━━━━\u001b[0m\u001b[37m\u001b[0m \u001b[1m6s\u001b[0m 1ms/step - accuracy: 0.9792 - loss: 0.0779 - val_accuracy: 0.9793 - val_loss: 0.0821\n",
      "Epoch 4/5\n",
      "\u001b[1m5214/5214\u001b[0m \u001b[32m━━━━━━━━━━━━━━━━━━━━\u001b[0m\u001b[37m\u001b[0m \u001b[1m7s\u001b[0m 1ms/step - accuracy: 0.9798 - loss: 0.0774 - val_accuracy: 0.9793 - val_loss: 0.0822\n",
      "Epoch 5/5\n",
      "\u001b[1m5214/5214\u001b[0m \u001b[32m━━━━━━━━━━━━━━━━━━━━\u001b[0m\u001b[37m\u001b[0m \u001b[1m7s\u001b[0m 1ms/step - accuracy: 0.9796 - loss: 0.0780 - val_accuracy: 0.9794 - val_loss: 0.0820\n",
      "\u001b[1m1630/1630\u001b[0m \u001b[32m━━━━━━━━━━━━━━━━━━━━\u001b[0m\u001b[37m\u001b[0m \u001b[1m1s\u001b[0m 601us/step\n"
     ]
    },
    {
     "name": "stderr",
     "output_type": "stream",
     "text": [
      " 43%|████▎     | 73/169 [42:02<54:15, 33.91s/it]"
     ]
    },
    {
     "name": "stdout",
     "output_type": "stream",
     "text": [
      "Epoch 1/5\n",
      "\u001b[1m4715/4715\u001b[0m \u001b[32m━━━━━━━━━━━━━━━━━━━━\u001b[0m\u001b[37m\u001b[0m \u001b[1m6s\u001b[0m 1ms/step - accuracy: 0.9802 - loss: 0.0840 - val_accuracy: 0.9798 - val_loss: 0.0906\n",
      "Epoch 2/5\n",
      "\u001b[1m4715/4715\u001b[0m \u001b[32m━━━━━━━━━━━━━━━━━━━━\u001b[0m\u001b[37m\u001b[0m \u001b[1m6s\u001b[0m 1ms/step - accuracy: 0.9798 - loss: 0.0777 - val_accuracy: 0.9798 - val_loss: 0.0914\n",
      "Epoch 3/5\n",
      "\u001b[1m4715/4715\u001b[0m \u001b[32m━━━━━━━━━━━━━━━━━━━━\u001b[0m\u001b[37m\u001b[0m \u001b[1m6s\u001b[0m 1ms/step - accuracy: 0.9798 - loss: 0.0777 - val_accuracy: 0.9798 - val_loss: 0.0915\n",
      "Epoch 4/5\n",
      "\u001b[1m4715/4715\u001b[0m \u001b[32m━━━━━━━━━━━━━━━━━━━━\u001b[0m\u001b[37m\u001b[0m \u001b[1m6s\u001b[0m 1ms/step - accuracy: 0.9793 - loss: 0.0784 - val_accuracy: 0.9798 - val_loss: 0.0914\n",
      "Epoch 5/5\n",
      "\u001b[1m4715/4715\u001b[0m \u001b[32m━━━━━━━━━━━━━━━━━━━━\u001b[0m\u001b[37m\u001b[0m \u001b[1m6s\u001b[0m 1ms/step - accuracy: 0.9799 - loss: 0.0771 - val_accuracy: 0.9798 - val_loss: 0.0914\n",
      "\u001b[1m1474/1474\u001b[0m \u001b[32m━━━━━━━━━━━━━━━━━━━━\u001b[0m\u001b[37m\u001b[0m \u001b[1m1s\u001b[0m 585us/step\n"
     ]
    },
    {
     "name": "stderr",
     "output_type": "stream",
     "text": [
      " 44%|████▍     | 74/169 [42:34<52:41, 33.28s/it]"
     ]
    },
    {
     "name": "stdout",
     "output_type": "stream",
     "text": [
      "Epoch 1/5\n",
      "\u001b[1m4941/4941\u001b[0m \u001b[32m━━━━━━━━━━━━━━━━━━━━\u001b[0m\u001b[37m\u001b[0m \u001b[1m6s\u001b[0m 1ms/step - accuracy: 0.9806 - loss: 0.0755 - val_accuracy: 0.9800 - val_loss: 0.0777\n",
      "Epoch 2/5\n",
      "\u001b[1m4941/4941\u001b[0m \u001b[32m━━━━━━━━━━━━━━━━━━━━\u001b[0m\u001b[37m\u001b[0m \u001b[1m6s\u001b[0m 1ms/step - accuracy: 0.9796 - loss: 0.0798 - val_accuracy: 0.9801 - val_loss: 0.0777\n",
      "Epoch 3/5\n",
      "\u001b[1m4941/4941\u001b[0m \u001b[32m━━━━━━━━━━━━━━━━━━━━\u001b[0m\u001b[37m\u001b[0m \u001b[1m6s\u001b[0m 1ms/step - accuracy: 0.9797 - loss: 0.0776 - val_accuracy: 0.9801 - val_loss: 0.0816\n",
      "Epoch 4/5\n",
      "\u001b[1m4941/4941\u001b[0m \u001b[32m━━━━━━━━━━━━━━━━━━━━\u001b[0m\u001b[37m\u001b[0m \u001b[1m6s\u001b[0m 1ms/step - accuracy: 0.9803 - loss: 0.0764 - val_accuracy: 0.9801 - val_loss: 0.0776\n",
      "Epoch 5/5\n",
      "\u001b[1m4941/4941\u001b[0m \u001b[32m━━━━━━━━━━━━━━━━━━━━\u001b[0m\u001b[37m\u001b[0m \u001b[1m6s\u001b[0m 1ms/step - accuracy: 0.9800 - loss: 0.0759 - val_accuracy: 0.9801 - val_loss: 0.0777\n",
      "\u001b[1m1544/1544\u001b[0m \u001b[32m━━━━━━━━━━━━━━━━━━━━\u001b[0m\u001b[37m\u001b[0m \u001b[1m1s\u001b[0m 587us/step\n"
     ]
    },
    {
     "name": "stderr",
     "output_type": "stream",
     "text": [
      " 44%|████▍     | 75/169 [43:07<52:11, 33.32s/it]"
     ]
    },
    {
     "name": "stdout",
     "output_type": "stream",
     "text": [
      "Epoch 1/5\n",
      "\u001b[1m8887/8887\u001b[0m \u001b[32m━━━━━━━━━━━━━━━━━━━━\u001b[0m\u001b[37m\u001b[0m \u001b[1m11s\u001b[0m 1ms/step - accuracy: 0.9794 - loss: 0.0793 - val_accuracy: 0.9795 - val_loss: 0.0786\n",
      "Epoch 2/5\n",
      "\u001b[1m8887/8887\u001b[0m \u001b[32m━━━━━━━━━━━━━━━━━━━━\u001b[0m\u001b[37m\u001b[0m \u001b[1m11s\u001b[0m 1ms/step - accuracy: 0.9800 - loss: 0.0781 - val_accuracy: 0.9795 - val_loss: 0.0786\n",
      "Epoch 3/5\n",
      "\u001b[1m8887/8887\u001b[0m \u001b[32m━━━━━━━━━━━━━━━━━━━━\u001b[0m\u001b[37m\u001b[0m \u001b[1m11s\u001b[0m 1ms/step - accuracy: 0.9797 - loss: 0.0782 - val_accuracy: 0.9795 - val_loss: 0.0786\n",
      "Epoch 4/5\n",
      "\u001b[1m8887/8887\u001b[0m \u001b[32m━━━━━━━━━━━━━━━━━━━━\u001b[0m\u001b[37m\u001b[0m \u001b[1m12s\u001b[0m 1ms/step - accuracy: 0.9799 - loss: 0.0836 - val_accuracy: 0.9795 - val_loss: 0.0785\n",
      "Epoch 5/5\n",
      "\u001b[1m8887/8887\u001b[0m \u001b[32m━━━━━━━━━━━━━━━━━━━━\u001b[0m\u001b[37m\u001b[0m \u001b[1m13s\u001b[0m 1ms/step - accuracy: 0.9797 - loss: 0.0794 - val_accuracy: 0.9795 - val_loss: 0.0786\n",
      "\u001b[1m2778/2778\u001b[0m \u001b[32m━━━━━━━━━━━━━━━━━━━━\u001b[0m\u001b[37m\u001b[0m \u001b[1m2s\u001b[0m 621us/step\n"
     ]
    },
    {
     "name": "stderr",
     "output_type": "stream",
     "text": [
      " 45%|████▍     | 76/169 [44:08<1:04:35, 41.67s/it]"
     ]
    },
    {
     "name": "stdout",
     "output_type": "stream",
     "text": [
      "Epoch 1/5\n",
      "\u001b[1m8936/8936\u001b[0m \u001b[32m━━━━━━━━━━━━━━━━━━━━\u001b[0m\u001b[37m\u001b[0m \u001b[1m11s\u001b[0m 1ms/step - accuracy: 0.9807 - loss: 0.0765 - val_accuracy: 0.9806 - val_loss: 0.0755\n",
      "Epoch 2/5\n",
      "\u001b[1m8936/8936\u001b[0m \u001b[32m━━━━━━━━━━━━━━━━━━━━\u001b[0m\u001b[37m\u001b[0m \u001b[1m12s\u001b[0m 1ms/step - accuracy: 0.9804 - loss: 0.0766 - val_accuracy: 0.9807 - val_loss: 0.0754\n",
      "Epoch 3/5\n",
      "\u001b[1m8936/8936\u001b[0m \u001b[32m━━━━━━━━━━━━━━━━━━━━\u001b[0m\u001b[37m\u001b[0m \u001b[1m12s\u001b[0m 1ms/step - accuracy: 0.9806 - loss: 0.0804 - val_accuracy: 0.9807 - val_loss: 0.0761\n",
      "Epoch 4/5\n",
      "\u001b[1m8936/8936\u001b[0m \u001b[32m━━━━━━━━━━━━━━━━━━━━\u001b[0m\u001b[37m\u001b[0m \u001b[1m11s\u001b[0m 1ms/step - accuracy: 0.9803 - loss: 0.0762 - val_accuracy: 0.9806 - val_loss: 0.0754\n",
      "Epoch 5/5\n",
      "\u001b[1m8936/8936\u001b[0m \u001b[32m━━━━━━━━━━━━━━━━━━━━\u001b[0m\u001b[37m\u001b[0m \u001b[1m11s\u001b[0m 1ms/step - accuracy: 0.9808 - loss: 0.0755 - val_accuracy: 0.9806 - val_loss: 0.0755\n",
      "\u001b[1m2793/2793\u001b[0m \u001b[32m━━━━━━━━━━━━━━━━━━━━\u001b[0m\u001b[37m\u001b[0m \u001b[1m2s\u001b[0m 634us/step\n"
     ]
    },
    {
     "name": "stderr",
     "output_type": "stream",
     "text": [
      " 46%|████▌     | 77/169 [45:09<1:12:25, 47.24s/it]"
     ]
    },
    {
     "name": "stdout",
     "output_type": "stream",
     "text": [
      "Epoch 1/5\n",
      "\u001b[1m8714/8714\u001b[0m \u001b[32m━━━━━━━━━━━━━━━━━━━━\u001b[0m\u001b[37m\u001b[0m \u001b[1m11s\u001b[0m 1ms/step - accuracy: 0.9801 - loss: 0.0766 - val_accuracy: 0.9797 - val_loss: 0.0846\n",
      "Epoch 2/5\n",
      "\u001b[1m8714/8714\u001b[0m \u001b[32m━━━━━━━━━━━━━━━━━━━━\u001b[0m\u001b[37m\u001b[0m \u001b[1m11s\u001b[0m 1ms/step - accuracy: 0.9804 - loss: 0.0762 - val_accuracy: 0.9797 - val_loss: 0.0822\n",
      "Epoch 3/5\n",
      "\u001b[1m8714/8714\u001b[0m \u001b[32m━━━━━━━━━━━━━━━━━━━━\u001b[0m\u001b[37m\u001b[0m \u001b[1m11s\u001b[0m 1ms/step - accuracy: 0.9798 - loss: 0.0778 - val_accuracy: 0.9797 - val_loss: 0.0838\n",
      "Epoch 4/5\n",
      "\u001b[1m8714/8714\u001b[0m \u001b[32m━━━━━━━━━━━━━━━━━━━━\u001b[0m\u001b[37m\u001b[0m \u001b[1m11s\u001b[0m 1ms/step - accuracy: 0.9805 - loss: 0.0766 - val_accuracy: 0.9797 - val_loss: 0.0838\n",
      "Epoch 5/5\n",
      "\u001b[1m8714/8714\u001b[0m \u001b[32m━━━━━━━━━━━━━━━━━━━━\u001b[0m\u001b[37m\u001b[0m \u001b[1m11s\u001b[0m 1ms/step - accuracy: 0.9803 - loss: 0.0760 - val_accuracy: 0.9797 - val_loss: 0.0840\n",
      "\u001b[1m2724/2724\u001b[0m \u001b[32m━━━━━━━━━━━━━━━━━━━━\u001b[0m\u001b[37m\u001b[0m \u001b[1m2s\u001b[0m 595us/step\n"
     ]
    },
    {
     "name": "stderr",
     "output_type": "stream",
     "text": [
      " 46%|████▌     | 78/169 [46:07<1:16:31, 50.46s/it]"
     ]
    },
    {
     "name": "stdout",
     "output_type": "stream",
     "text": [
      "Epoch 1/5\n",
      "\u001b[1m8697/8697\u001b[0m \u001b[32m━━━━━━━━━━━━━━━━━━━━\u001b[0m\u001b[37m\u001b[0m \u001b[1m11s\u001b[0m 1ms/step - accuracy: 0.9803 - loss: 0.0772 - val_accuracy: 0.9791 - val_loss: 0.0782\n",
      "Epoch 2/5\n",
      "\u001b[1m8697/8697\u001b[0m \u001b[32m━━━━━━━━━━━━━━━━━━━━\u001b[0m\u001b[37m\u001b[0m \u001b[1m11s\u001b[0m 1ms/step - accuracy: 0.9793 - loss: 0.0784 - val_accuracy: 0.9791 - val_loss: 0.0783\n",
      "Epoch 3/5\n",
      "\u001b[1m8697/8697\u001b[0m \u001b[32m━━━━━━━━━━━━━━━━━━━━\u001b[0m\u001b[37m\u001b[0m \u001b[1m11s\u001b[0m 1ms/step - accuracy: 0.9802 - loss: 0.0790 - val_accuracy: 0.9792 - val_loss: 0.0783\n",
      "Epoch 4/5\n",
      "\u001b[1m8697/8697\u001b[0m \u001b[32m━━━━━━━━━━━━━━━━━━━━\u001b[0m\u001b[37m\u001b[0m \u001b[1m11s\u001b[0m 1ms/step - accuracy: 0.9802 - loss: 0.0759 - val_accuracy: 0.9791 - val_loss: 0.0784\n",
      "Epoch 5/5\n",
      "\u001b[1m8697/8697\u001b[0m \u001b[32m━━━━━━━━━━━━━━━━━━━━\u001b[0m\u001b[37m\u001b[0m \u001b[1m11s\u001b[0m 1ms/step - accuracy: 0.9797 - loss: 0.0770 - val_accuracy: 0.9791 - val_loss: 0.0784\n",
      "\u001b[1m2718/2718\u001b[0m \u001b[32m━━━━━━━━━━━━━━━━━━━━\u001b[0m\u001b[37m\u001b[0m \u001b[1m2s\u001b[0m 589us/step\n"
     ]
    },
    {
     "name": "stderr",
     "output_type": "stream",
     "text": [
      " 47%|████▋     | 79/169 [47:04<1:18:48, 52.54s/it]"
     ]
    },
    {
     "name": "stdout",
     "output_type": "stream",
     "text": [
      "Epoch 1/5\n",
      "\u001b[1m9021/9021\u001b[0m \u001b[32m━━━━━━━━━━━━━━━━━━━━\u001b[0m\u001b[37m\u001b[0m \u001b[1m11s\u001b[0m 1ms/step - accuracy: 0.9801 - loss: 0.0774 - val_accuracy: 0.9795 - val_loss: 0.0832\n",
      "Epoch 2/5\n",
      "\u001b[1m9021/9021\u001b[0m \u001b[32m━━━━━━━━━━━━━━━━━━━━\u001b[0m\u001b[37m\u001b[0m \u001b[1m11s\u001b[0m 1ms/step - accuracy: 0.9802 - loss: 0.0770 - val_accuracy: 0.9795 - val_loss: 0.0832\n",
      "Epoch 3/5\n",
      "\u001b[1m9021/9021\u001b[0m \u001b[32m━━━━━━━━━━━━━━━━━━━━\u001b[0m\u001b[37m\u001b[0m \u001b[1m11s\u001b[0m 1ms/step - accuracy: 0.9805 - loss: 0.0768 - val_accuracy: 0.9795 - val_loss: 0.0835\n",
      "Epoch 4/5\n",
      "\u001b[1m9021/9021\u001b[0m \u001b[32m━━━━━━━━━━━━━━━━━━━━\u001b[0m\u001b[37m\u001b[0m \u001b[1m11s\u001b[0m 1ms/step - accuracy: 0.9801 - loss: 0.0780 - val_accuracy: 0.9795 - val_loss: 0.0833\n",
      "Epoch 5/5\n",
      "\u001b[1m9021/9021\u001b[0m \u001b[32m━━━━━━━━━━━━━━━━━━━━\u001b[0m\u001b[37m\u001b[0m \u001b[1m11s\u001b[0m 1ms/step - accuracy: 0.9796 - loss: 0.0793 - val_accuracy: 0.9795 - val_loss: 0.0833\n",
      "\u001b[1m2819/2819\u001b[0m \u001b[32m━━━━━━━━━━━━━━━━━━━━\u001b[0m\u001b[37m\u001b[0m \u001b[1m2s\u001b[0m 573us/step\n"
     ]
    },
    {
     "name": "stderr",
     "output_type": "stream",
     "text": [
      " 47%|████▋     | 80/169 [48:03<1:20:50, 54.50s/it]"
     ]
    },
    {
     "name": "stdout",
     "output_type": "stream",
     "text": [
      "Epoch 1/5\n",
      "\u001b[1m4714/4714\u001b[0m \u001b[32m━━━━━━━━━━━━━━━━━━━━\u001b[0m\u001b[37m\u001b[0m \u001b[1m6s\u001b[0m 1ms/step - accuracy: 0.9799 - loss: 0.0790 - val_accuracy: 0.9794 - val_loss: 0.0794\n",
      "Epoch 2/5\n",
      "\u001b[1m4714/4714\u001b[0m \u001b[32m━━━━━━━━━━━━━━━━━━━━\u001b[0m\u001b[37m\u001b[0m \u001b[1m6s\u001b[0m 1ms/step - accuracy: 0.9796 - loss: 0.0804 - val_accuracy: 0.9794 - val_loss: 0.0794\n",
      "Epoch 3/5\n",
      "\u001b[1m4714/4714\u001b[0m \u001b[32m━━━━━━━━━━━━━━━━━━━━\u001b[0m\u001b[37m\u001b[0m \u001b[1m6s\u001b[0m 1ms/step - accuracy: 0.9800 - loss: 0.0793 - val_accuracy: 0.9794 - val_loss: 0.0795\n",
      "Epoch 4/5\n",
      "\u001b[1m4714/4714\u001b[0m \u001b[32m━━━━━━━━━━━━━━━━━━━━\u001b[0m\u001b[37m\u001b[0m \u001b[1m6s\u001b[0m 1ms/step - accuracy: 0.9803 - loss: 1.3259 - val_accuracy: 0.9794 - val_loss: 0.0794\n",
      "Epoch 5/5\n",
      "\u001b[1m4714/4714\u001b[0m \u001b[32m━━━━━━━━━━━━━━━━━━━━\u001b[0m\u001b[37m\u001b[0m \u001b[1m6s\u001b[0m 1ms/step - accuracy: 0.9806 - loss: 0.0770 - val_accuracy: 0.9794 - val_loss: 0.0795\n",
      "\u001b[1m1474/1474\u001b[0m \u001b[32m━━━━━━━━━━━━━━━━━━━━\u001b[0m\u001b[37m\u001b[0m \u001b[1m1s\u001b[0m 592us/step\n"
     ]
    },
    {
     "name": "stderr",
     "output_type": "stream",
     "text": [
      " 48%|████▊     | 81/169 [48:34<1:09:42, 47.53s/it]"
     ]
    },
    {
     "name": "stdout",
     "output_type": "stream",
     "text": [
      "Epoch 1/5\n",
      "\u001b[1m4615/4615\u001b[0m \u001b[32m━━━━━━━━━━━━━━━━━━━━\u001b[0m\u001b[37m\u001b[0m \u001b[1m6s\u001b[0m 1ms/step - accuracy: 0.9793 - loss: 0.0779 - val_accuracy: 0.9808 - val_loss: 0.0750\n",
      "Epoch 2/5\n",
      "\u001b[1m4615/4615\u001b[0m \u001b[32m━━━━━━━━━━━━━━━━━━━━\u001b[0m\u001b[37m\u001b[0m \u001b[1m6s\u001b[0m 1ms/step - accuracy: 0.9798 - loss: 0.0777 - val_accuracy: 0.9807 - val_loss: 0.0751\n",
      "Epoch 3/5\n",
      "\u001b[1m4615/4615\u001b[0m \u001b[32m━━━━━━━━━━━━━━━━━━━━\u001b[0m\u001b[37m\u001b[0m \u001b[1m6s\u001b[0m 1ms/step - accuracy: 0.9796 - loss: 0.0772 - val_accuracy: 0.9808 - val_loss: 0.0752\n",
      "Epoch 4/5\n",
      "\u001b[1m4615/4615\u001b[0m \u001b[32m━━━━━━━━━━━━━━━━━━━━\u001b[0m\u001b[37m\u001b[0m \u001b[1m6s\u001b[0m 1ms/step - accuracy: 0.9795 - loss: 0.0768 - val_accuracy: 0.9808 - val_loss: 0.0750\n",
      "Epoch 5/5\n",
      "\u001b[1m4615/4615\u001b[0m \u001b[32m━━━━━━━━━━━━━━━━━━━━\u001b[0m\u001b[37m\u001b[0m \u001b[1m6s\u001b[0m 1ms/step - accuracy: 0.9803 - loss: 0.0745 - val_accuracy: 0.9806 - val_loss: 0.0762\n",
      "\u001b[1m1443/1443\u001b[0m \u001b[32m━━━━━━━━━━━━━━━━━━━━\u001b[0m\u001b[37m\u001b[0m \u001b[1m1s\u001b[0m 596us/step\n"
     ]
    },
    {
     "name": "stderr",
     "output_type": "stream",
     "text": [
      " 49%|████▊     | 82/169 [49:05<1:01:28, 42.40s/it]"
     ]
    },
    {
     "name": "stdout",
     "output_type": "stream",
     "text": [
      "Epoch 1/5\n",
      "\u001b[1m4604/4604\u001b[0m \u001b[32m━━━━━━━━━━━━━━━━━━━━\u001b[0m\u001b[37m\u001b[0m \u001b[1m6s\u001b[0m 1ms/step - accuracy: 0.9788 - loss: 0.0795 - val_accuracy: 0.9793 - val_loss: 0.0778\n",
      "Epoch 2/5\n",
      "\u001b[1m4604/4604\u001b[0m \u001b[32m━━━━━━━━━━━━━━━━━━━━\u001b[0m\u001b[37m\u001b[0m \u001b[1m6s\u001b[0m 1ms/step - accuracy: 0.9795 - loss: 0.0777 - val_accuracy: 0.9793 - val_loss: 0.0777\n",
      "Epoch 3/5\n",
      "\u001b[1m4604/4604\u001b[0m \u001b[32m━━━━━━━━━━━━━━━━━━━━\u001b[0m\u001b[37m\u001b[0m \u001b[1m6s\u001b[0m 1ms/step - accuracy: 0.9787 - loss: 0.0807 - val_accuracy: 0.9793 - val_loss: 0.0777\n",
      "Epoch 4/5\n",
      "\u001b[1m4604/4604\u001b[0m \u001b[32m━━━━━━━━━━━━━━━━━━━━\u001b[0m\u001b[37m\u001b[0m \u001b[1m6s\u001b[0m 1ms/step - accuracy: 0.9801 - loss: 0.0772 - val_accuracy: 0.9793 - val_loss: 0.0776\n",
      "Epoch 5/5\n",
      "\u001b[1m4604/4604\u001b[0m \u001b[32m━━━━━━━━━━━━━━━━━━━━\u001b[0m\u001b[37m\u001b[0m \u001b[1m6s\u001b[0m 1ms/step - accuracy: 0.9794 - loss: 0.0791 - val_accuracy: 0.9793 - val_loss: 0.0777\n",
      "\u001b[1m1439/1439\u001b[0m \u001b[32m━━━━━━━━━━━━━━━━━━━━\u001b[0m\u001b[37m\u001b[0m \u001b[1m1s\u001b[0m 609us/step\n"
     ]
    },
    {
     "name": "stderr",
     "output_type": "stream",
     "text": [
      " 49%|████▉     | 83/169 [49:35<55:40, 38.85s/it]  "
     ]
    },
    {
     "name": "stdout",
     "output_type": "stream",
     "text": [
      "Epoch 1/5\n",
      "\u001b[1m4574/4574\u001b[0m \u001b[32m━━━━━━━━━━━━━━━━━━━━\u001b[0m\u001b[37m\u001b[0m \u001b[1m6s\u001b[0m 1ms/step - accuracy: 0.9798 - loss: 0.0765 - val_accuracy: 0.9796 - val_loss: 0.0795\n",
      "Epoch 2/5\n",
      "\u001b[1m4574/4574\u001b[0m \u001b[32m━━━━━━━━━━━━━━━━━━━━\u001b[0m\u001b[37m\u001b[0m \u001b[1m6s\u001b[0m 1ms/step - accuracy: 0.9803 - loss: 0.0757 - val_accuracy: 0.9796 - val_loss: 0.0796\n",
      "Epoch 3/5\n",
      "\u001b[1m4574/4574\u001b[0m \u001b[32m━━━━━━━━━━━━━━━━━━━━\u001b[0m\u001b[37m\u001b[0m \u001b[1m6s\u001b[0m 1ms/step - accuracy: 0.9796 - loss: 0.0783 - val_accuracy: 0.9796 - val_loss: 0.0796\n",
      "Epoch 4/5\n",
      "\u001b[1m4574/4574\u001b[0m \u001b[32m━━━━━━━━━━━━━━━━━━━━\u001b[0m\u001b[37m\u001b[0m \u001b[1m6s\u001b[0m 1ms/step - accuracy: 0.9801 - loss: 0.0750 - val_accuracy: 0.9796 - val_loss: 0.0795\n",
      "Epoch 5/5\n",
      "\u001b[1m4574/4574\u001b[0m \u001b[32m━━━━━━━━━━━━━━━━━━━━\u001b[0m\u001b[37m\u001b[0m \u001b[1m6s\u001b[0m 1ms/step - accuracy: 0.9800 - loss: 0.0771 - val_accuracy: 0.9796 - val_loss: 0.0796\n",
      "\u001b[1m1430/1430\u001b[0m \u001b[32m━━━━━━━━━━━━━━━━━━━━\u001b[0m\u001b[37m\u001b[0m \u001b[1m1s\u001b[0m 594us/step\n"
     ]
    },
    {
     "name": "stderr",
     "output_type": "stream",
     "text": [
      " 50%|████▉     | 84/169 [50:06<51:39, 36.47s/it]"
     ]
    },
    {
     "name": "stdout",
     "output_type": "stream",
     "text": [
      "Epoch 1/5\n",
      "\u001b[1m4497/4497\u001b[0m \u001b[32m━━━━━━━━━━━━━━━━━━━━\u001b[0m\u001b[37m\u001b[0m \u001b[1m6s\u001b[0m 1ms/step - accuracy: 0.9802 - loss: 0.0995 - val_accuracy: 0.9799 - val_loss: 0.4388\n",
      "Epoch 2/5\n",
      "\u001b[1m4497/4497\u001b[0m \u001b[32m━━━━━━━━━━━━━━━━━━━━\u001b[0m\u001b[37m\u001b[0m \u001b[1m6s\u001b[0m 1ms/step - accuracy: 0.9810 - loss: 0.0775 - val_accuracy: 0.9798 - val_loss: 0.0765\n",
      "Epoch 3/5\n",
      "\u001b[1m4497/4497\u001b[0m \u001b[32m━━━━━━━━━━━━━━━━━━━━\u001b[0m\u001b[37m\u001b[0m \u001b[1m6s\u001b[0m 1ms/step - accuracy: 0.9806 - loss: 0.0742 - val_accuracy: 0.9798 - val_loss: 0.0766\n",
      "Epoch 4/5\n",
      "\u001b[1m4497/4497\u001b[0m \u001b[32m━━━━━━━━━━━━━━━━━━━━\u001b[0m\u001b[37m\u001b[0m \u001b[1m6s\u001b[0m 1ms/step - accuracy: 0.9802 - loss: 0.0759 - val_accuracy: 0.9798 - val_loss: 0.0766\n",
      "Epoch 5/5\n",
      "\u001b[1m4497/4497\u001b[0m \u001b[32m━━━━━━━━━━━━━━━━━━━━\u001b[0m\u001b[37m\u001b[0m \u001b[1m6s\u001b[0m 1ms/step - accuracy: 0.9806 - loss: 0.0749 - val_accuracy: 0.9799 - val_loss: 0.0764\n",
      "\u001b[1m1406/1406\u001b[0m \u001b[32m━━━━━━━━━━━━━━━━━━━━\u001b[0m\u001b[37m\u001b[0m \u001b[1m1s\u001b[0m 581us/step\n"
     ]
    },
    {
     "name": "stderr",
     "output_type": "stream",
     "text": [
      " 50%|█████     | 85/169 [50:36<48:11, 34.43s/it]"
     ]
    },
    {
     "name": "stdout",
     "output_type": "stream",
     "text": [
      "Epoch 1/5\n",
      "\u001b[1m4860/4860\u001b[0m \u001b[32m━━━━━━━━━━━━━━━━━━━━\u001b[0m\u001b[37m\u001b[0m \u001b[1m6s\u001b[0m 1ms/step - accuracy: 0.9808 - loss: 0.0747 - val_accuracy: 0.9796 - val_loss: 0.0781\n",
      "Epoch 2/5\n",
      "\u001b[1m4860/4860\u001b[0m \u001b[32m━━━━━━━━━━━━━━━━━━━━\u001b[0m\u001b[37m\u001b[0m \u001b[1m6s\u001b[0m 1ms/step - accuracy: 0.9804 - loss: 0.0753 - val_accuracy: 0.9796 - val_loss: 0.0781\n",
      "Epoch 3/5\n",
      "\u001b[1m4860/4860\u001b[0m \u001b[32m━━━━━━━━━━━━━━━━━━━━\u001b[0m\u001b[37m\u001b[0m \u001b[1m6s\u001b[0m 1ms/step - accuracy: 0.9803 - loss: 0.0755 - val_accuracy: 0.9796 - val_loss: 0.0781\n",
      "Epoch 4/5\n",
      "\u001b[1m4860/4860\u001b[0m \u001b[32m━━━━━━━━━━━━━━━━━━━━\u001b[0m\u001b[37m\u001b[0m \u001b[1m6s\u001b[0m 1ms/step - accuracy: 0.9801 - loss: 0.0758 - val_accuracy: 0.9796 - val_loss: 0.0783\n",
      "Epoch 5/5\n",
      "\u001b[1m4860/4860\u001b[0m \u001b[32m━━━━━━━━━━━━━━━━━━━━\u001b[0m\u001b[37m\u001b[0m \u001b[1m6s\u001b[0m 1ms/step - accuracy: 0.9802 - loss: 0.0741 - val_accuracy: 0.9796 - val_loss: 0.0781\n",
      "\u001b[1m1519/1519\u001b[0m \u001b[32m━━━━━━━━━━━━━━━━━━━━\u001b[0m\u001b[37m\u001b[0m \u001b[1m1s\u001b[0m 585us/step\n"
     ]
    },
    {
     "name": "stderr",
     "output_type": "stream",
     "text": [
      " 51%|█████     | 86/169 [51:08<46:47, 33.83s/it]"
     ]
    },
    {
     "name": "stdout",
     "output_type": "stream",
     "text": [
      "Epoch 1/5\n",
      "\u001b[1m4861/4861\u001b[0m \u001b[32m━━━━━━━━━━━━━━━━━━━━\u001b[0m\u001b[37m\u001b[0m \u001b[1m6s\u001b[0m 1ms/step - accuracy: 0.9798 - loss: 0.0764 - val_accuracy: 0.9809 - val_loss: 0.0737\n",
      "Epoch 2/5\n",
      "\u001b[1m4861/4861\u001b[0m \u001b[32m━━━━━━━━━━━━━━━━━━━━\u001b[0m\u001b[37m\u001b[0m \u001b[1m6s\u001b[0m 1ms/step - accuracy: 0.9806 - loss: 0.0736 - val_accuracy: 0.9809 - val_loss: 0.0737\n",
      "Epoch 3/5\n",
      "\u001b[1m4861/4861\u001b[0m \u001b[32m━━━━━━━━━━━━━━━━━━━━\u001b[0m\u001b[37m\u001b[0m \u001b[1m6s\u001b[0m 1ms/step - accuracy: 0.9807 - loss: 0.0749 - val_accuracy: 0.9809 - val_loss: 0.0737\n",
      "Epoch 4/5\n",
      "\u001b[1m4861/4861\u001b[0m \u001b[32m━━━━━━━━━━━━━━━━━━━━\u001b[0m\u001b[37m\u001b[0m \u001b[1m6s\u001b[0m 1ms/step - accuracy: 0.9805 - loss: 0.0744 - val_accuracy: 0.9809 - val_loss: 0.0737\n",
      "Epoch 5/5\n",
      "\u001b[1m4861/4861\u001b[0m \u001b[32m━━━━━━━━━━━━━━━━━━━━\u001b[0m\u001b[37m\u001b[0m \u001b[1m6s\u001b[0m 1ms/step - accuracy: 0.9802 - loss: 0.0754 - val_accuracy: 0.9809 - val_loss: 0.0738\n",
      "\u001b[1m1519/1519\u001b[0m \u001b[32m━━━━━━━━━━━━━━━━━━━━\u001b[0m\u001b[37m\u001b[0m \u001b[1m1s\u001b[0m 583us/step\n"
     ]
    },
    {
     "name": "stderr",
     "output_type": "stream",
     "text": [
      " 51%|█████▏    | 87/169 [51:41<45:51, 33.55s/it]"
     ]
    },
    {
     "name": "stdout",
     "output_type": "stream",
     "text": [
      "Epoch 1/5\n",
      "\u001b[1m4727/4727\u001b[0m \u001b[32m━━━━━━━━━━━━━━━━━━━━\u001b[0m\u001b[37m\u001b[0m \u001b[1m6s\u001b[0m 1ms/step - accuracy: 0.9795 - loss: 0.0787 - val_accuracy: 0.9809 - val_loss: 0.0727\n",
      "Epoch 2/5\n",
      "\u001b[1m4727/4727\u001b[0m \u001b[32m━━━━━━━━━━━━━━━━━━━━\u001b[0m\u001b[37m\u001b[0m \u001b[1m6s\u001b[0m 1ms/step - accuracy: 0.9812 - loss: 0.0734 - val_accuracy: 0.9809 - val_loss: 0.0729\n",
      "Epoch 3/5\n",
      "\u001b[1m4727/4727\u001b[0m \u001b[32m━━━━━━━━━━━━━━━━━━━━\u001b[0m\u001b[37m\u001b[0m \u001b[1m6s\u001b[0m 1ms/step - accuracy: 0.9804 - loss: 0.0756 - val_accuracy: 0.9809 - val_loss: 0.0727\n",
      "Epoch 4/5\n",
      "\u001b[1m4727/4727\u001b[0m \u001b[32m━━━━━━━━━━━━━━━━━━━━\u001b[0m\u001b[37m\u001b[0m \u001b[1m6s\u001b[0m 1ms/step - accuracy: 0.9797 - loss: 0.0779 - val_accuracy: 0.9809 - val_loss: 0.0727\n",
      "Epoch 5/5\n",
      "\u001b[1m4727/4727\u001b[0m \u001b[32m━━━━━━━━━━━━━━━━━━━━\u001b[0m\u001b[37m\u001b[0m \u001b[1m6s\u001b[0m 1ms/step - accuracy: 0.9797 - loss: 0.0776 - val_accuracy: 0.9809 - val_loss: 0.0726\n",
      "\u001b[1m1478/1478\u001b[0m \u001b[32m━━━━━━━━━━━━━━━━━━━━\u001b[0m\u001b[37m\u001b[0m \u001b[1m1s\u001b[0m 583us/step\n"
     ]
    },
    {
     "name": "stderr",
     "output_type": "stream",
     "text": [
      " 52%|█████▏    | 88/169 [52:13<44:36, 33.04s/it]"
     ]
    },
    {
     "name": "stdout",
     "output_type": "stream",
     "text": [
      "Epoch 1/5\n",
      "\u001b[1m4540/4540\u001b[0m \u001b[32m━━━━━━━━━━━━━━━━━━━━\u001b[0m\u001b[37m\u001b[0m \u001b[1m6s\u001b[0m 1ms/step - accuracy: 0.9795 - loss: 0.0773 - val_accuracy: 0.9794 - val_loss: 0.0789\n",
      "Epoch 2/5\n",
      "\u001b[1m4540/4540\u001b[0m \u001b[32m━━━━━━━━━━━━━━━━━━━━\u001b[0m\u001b[37m\u001b[0m \u001b[1m6s\u001b[0m 1ms/step - accuracy: 0.9799 - loss: 0.0766 - val_accuracy: 0.9794 - val_loss: 0.0790\n",
      "Epoch 3/5\n",
      "\u001b[1m4540/4540\u001b[0m \u001b[32m━━━━━━━━━━━━━━━━━━━━\u001b[0m\u001b[37m\u001b[0m \u001b[1m6s\u001b[0m 1ms/step - accuracy: 0.9800 - loss: 0.0768 - val_accuracy: 0.9794 - val_loss: 0.0791\n",
      "Epoch 4/5\n",
      "\u001b[1m4540/4540\u001b[0m \u001b[32m━━━━━━━━━━━━━━━━━━━━\u001b[0m\u001b[37m\u001b[0m \u001b[1m6s\u001b[0m 1ms/step - accuracy: 0.9796 - loss: 0.0789 - val_accuracy: 0.9794 - val_loss: 0.0790\n",
      "Epoch 5/5\n",
      "\u001b[1m4540/4540\u001b[0m \u001b[32m━━━━━━━━━━━━━━━━━━━━\u001b[0m\u001b[37m\u001b[0m \u001b[1m6s\u001b[0m 1ms/step - accuracy: 0.9802 - loss: 0.0754 - val_accuracy: 0.9794 - val_loss: 0.0791\n",
      "\u001b[1m1419/1419\u001b[0m \u001b[32m━━━━━━━━━━━━━━━━━━━━\u001b[0m\u001b[37m\u001b[0m \u001b[1m1s\u001b[0m 606us/step\n"
     ]
    },
    {
     "name": "stderr",
     "output_type": "stream",
     "text": [
      " 53%|█████▎    | 89/169 [52:44<43:12, 32.40s/it]"
     ]
    },
    {
     "name": "stdout",
     "output_type": "stream",
     "text": [
      "Epoch 1/5\n",
      "\u001b[1m4848/4848\u001b[0m \u001b[32m━━━━━━━━━━━━━━━━━━━━\u001b[0m\u001b[37m\u001b[0m \u001b[1m6s\u001b[0m 1ms/step - accuracy: 0.9795 - loss: 0.0800 - val_accuracy: 0.9792 - val_loss: 0.0801\n",
      "Epoch 2/5\n",
      "\u001b[1m4848/4848\u001b[0m \u001b[32m━━━━━━━━━━━━━━━━━━━━\u001b[0m\u001b[37m\u001b[0m \u001b[1m6s\u001b[0m 1ms/step - accuracy: 0.9800 - loss: 0.0785 - val_accuracy: 0.9792 - val_loss: 0.0802\n",
      "Epoch 3/5\n",
      "\u001b[1m4848/4848\u001b[0m \u001b[32m━━━━━━━━━━━━━━━━━━━━\u001b[0m\u001b[37m\u001b[0m \u001b[1m6s\u001b[0m 1ms/step - accuracy: 0.9797 - loss: 0.0800 - val_accuracy: 0.9792 - val_loss: 0.0802\n",
      "Epoch 4/5\n",
      "\u001b[1m4848/4848\u001b[0m \u001b[32m━━━━━━━━━━━━━━━━━━━━\u001b[0m\u001b[37m\u001b[0m \u001b[1m6s\u001b[0m 1ms/step - accuracy: 0.9800 - loss: 0.0769 - val_accuracy: 0.9792 - val_loss: 0.0803\n",
      "Epoch 5/5\n",
      "\u001b[1m4848/4848\u001b[0m \u001b[32m━━━━━━━━━━━━━━━━━━━━\u001b[0m\u001b[37m\u001b[0m \u001b[1m6s\u001b[0m 1ms/step - accuracy: 0.9794 - loss: 0.0784 - val_accuracy: 0.9792 - val_loss: 0.0802\n",
      "\u001b[1m1515/1515\u001b[0m \u001b[32m━━━━━━━━━━━━━━━━━━━━\u001b[0m\u001b[37m\u001b[0m \u001b[1m1s\u001b[0m 615us/step\n"
     ]
    },
    {
     "name": "stderr",
     "output_type": "stream",
     "text": [
      " 53%|█████▎    | 90/169 [53:17<42:51, 32.55s/it]"
     ]
    },
    {
     "name": "stdout",
     "output_type": "stream",
     "text": [
      "Epoch 1/5\n",
      "\u001b[1m4816/4816\u001b[0m \u001b[32m━━━━━━━━━━━━━━━━━━━━\u001b[0m\u001b[37m\u001b[0m \u001b[1m6s\u001b[0m 1ms/step - accuracy: 0.9797 - loss: 0.0783 - val_accuracy: 0.9785 - val_loss: 0.0826\n",
      "Epoch 2/5\n",
      "\u001b[1m4816/4816\u001b[0m \u001b[32m━━━━━━━━━━━━━━━━━━━━\u001b[0m\u001b[37m\u001b[0m \u001b[1m6s\u001b[0m 1ms/step - accuracy: 0.9803 - loss: 0.0758 - val_accuracy: 0.9785 - val_loss: 0.0826\n",
      "Epoch 3/5\n",
      "\u001b[1m4816/4816\u001b[0m \u001b[32m━━━━━━━━━━━━━━━━━━━━\u001b[0m\u001b[37m\u001b[0m \u001b[1m6s\u001b[0m 1ms/step - accuracy: 0.9789 - loss: 0.0809 - val_accuracy: 0.9785 - val_loss: 0.0827\n",
      "Epoch 4/5\n",
      "\u001b[1m4816/4816\u001b[0m \u001b[32m━━━━━━━━━━━━━━━━━━━━\u001b[0m\u001b[37m\u001b[0m \u001b[1m6s\u001b[0m 1ms/step - accuracy: 0.9795 - loss: 0.0785 - val_accuracy: 0.9785 - val_loss: 0.0826\n",
      "Epoch 5/5\n",
      "\u001b[1m4816/4816\u001b[0m \u001b[32m━━━━━━━━━━━━━━━━━━━━\u001b[0m\u001b[37m\u001b[0m \u001b[1m6s\u001b[0m 1ms/step - accuracy: 0.9794 - loss: 0.0794 - val_accuracy: 0.9785 - val_loss: 0.0826\n",
      "\u001b[1m1505/1505\u001b[0m \u001b[32m━━━━━━━━━━━━━━━━━━━━\u001b[0m\u001b[37m\u001b[0m \u001b[1m1s\u001b[0m 578us/step\n"
     ]
    },
    {
     "name": "stderr",
     "output_type": "stream",
     "text": [
      " 54%|█████▍    | 91/169 [53:49<42:18, 32.55s/it]"
     ]
    },
    {
     "name": "stdout",
     "output_type": "stream",
     "text": [
      "Epoch 1/5\n",
      "\u001b[1m5201/5201\u001b[0m \u001b[32m━━━━━━━━━━━━━━━━━━━━\u001b[0m\u001b[37m\u001b[0m \u001b[1m7s\u001b[0m 1ms/step - accuracy: 0.9795 - loss: 0.0785 - val_accuracy: 0.9801 - val_loss: 0.0797\n",
      "Epoch 2/5\n",
      "\u001b[1m5201/5201\u001b[0m \u001b[32m━━━━━━━━━━━━━━━━━━━━\u001b[0m\u001b[37m\u001b[0m \u001b[1m7s\u001b[0m 1ms/step - accuracy: 0.9793 - loss: 0.0791 - val_accuracy: 0.9800 - val_loss: 0.0796\n",
      "Epoch 3/5\n",
      "\u001b[1m5201/5201\u001b[0m \u001b[32m━━━━━━━━━━━━━━━━━━━━\u001b[0m\u001b[37m\u001b[0m \u001b[1m7s\u001b[0m 1ms/step - accuracy: 0.9790 - loss: 0.0796 - val_accuracy: 0.9800 - val_loss: 0.0795\n",
      "Epoch 4/5\n",
      "\u001b[1m5201/5201\u001b[0m \u001b[32m━━━━━━━━━━━━━━━━━━━━\u001b[0m\u001b[37m\u001b[0m \u001b[1m7s\u001b[0m 1ms/step - accuracy: 0.9798 - loss: 0.0771 - val_accuracy: 0.9800 - val_loss: 0.0795\n",
      "Epoch 5/5\n",
      "\u001b[1m5201/5201\u001b[0m \u001b[32m━━━━━━━━━━━━━━━━━━━━\u001b[0m\u001b[37m\u001b[0m \u001b[1m7s\u001b[0m 1ms/step - accuracy: 0.9795 - loss: 0.0790 - val_accuracy: 0.9800 - val_loss: 0.0797\n",
      "\u001b[1m1626/1626\u001b[0m \u001b[32m━━━━━━━━━━━━━━━━━━━━\u001b[0m\u001b[37m\u001b[0m \u001b[1m1s\u001b[0m 599us/step\n"
     ]
    },
    {
     "name": "stderr",
     "output_type": "stream",
     "text": [
      " 54%|█████▍    | 92/169 [54:25<43:08, 33.61s/it]"
     ]
    },
    {
     "name": "stdout",
     "output_type": "stream",
     "text": [
      "Epoch 1/5\n",
      "\u001b[1m4237/4237\u001b[0m \u001b[32m━━━━━━━━━━━━━━━━━━━━\u001b[0m\u001b[37m\u001b[0m \u001b[1m5s\u001b[0m 1ms/step - accuracy: 0.9802 - loss: 0.0764 - val_accuracy: 0.9804 - val_loss: 0.0780\n",
      "Epoch 2/5\n",
      "\u001b[1m4237/4237\u001b[0m \u001b[32m━━━━━━━━━━━━━━━━━━━━\u001b[0m\u001b[37m\u001b[0m \u001b[1m6s\u001b[0m 1ms/step - accuracy: 0.9801 - loss: 0.0768 - val_accuracy: 0.9804 - val_loss: 0.0779\n",
      "Epoch 3/5\n",
      "\u001b[1m4237/4237\u001b[0m \u001b[32m━━━━━━━━━━━━━━━━━━━━\u001b[0m\u001b[37m\u001b[0m \u001b[1m5s\u001b[0m 1ms/step - accuracy: 0.9803 - loss: 0.0759 - val_accuracy: 0.9804 - val_loss: 0.0779\n",
      "Epoch 4/5\n",
      "\u001b[1m4237/4237\u001b[0m \u001b[32m━━━━━━━━━━━━━━━━━━━━\u001b[0m\u001b[37m\u001b[0m \u001b[1m5s\u001b[0m 1ms/step - accuracy: 0.9798 - loss: 0.0770 - val_accuracy: 0.9804 - val_loss: 0.0779\n",
      "Epoch 5/5\n",
      "\u001b[1m4237/4237\u001b[0m \u001b[32m━━━━━━━━━━━━━━━━━━━━\u001b[0m\u001b[37m\u001b[0m \u001b[1m5s\u001b[0m 1ms/step - accuracy: 0.9798 - loss: 0.0771 - val_accuracy: 0.9804 - val_loss: 0.0779\n",
      "\u001b[1m1324/1324\u001b[0m \u001b[32m━━━━━━━━━━━━━━━━━━━━\u001b[0m\u001b[37m\u001b[0m \u001b[1m1s\u001b[0m 608us/step\n"
     ]
    },
    {
     "name": "stderr",
     "output_type": "stream",
     "text": [
      " 55%|█████▌    | 93/169 [54:54<40:44, 32.17s/it]"
     ]
    },
    {
     "name": "stdout",
     "output_type": "stream",
     "text": [
      "Epoch 1/5\n",
      "\u001b[1m5078/5078\u001b[0m \u001b[32m━━━━━━━━━━━━━━━━━━━━\u001b[0m\u001b[37m\u001b[0m \u001b[1m7s\u001b[0m 1ms/step - accuracy: 0.9791 - loss: 0.0798 - val_accuracy: 0.9796 - val_loss: 0.0776\n",
      "Epoch 2/5\n",
      "\u001b[1m5078/5078\u001b[0m \u001b[32m━━━━━━━━━━━━━━━━━━━━\u001b[0m\u001b[37m\u001b[0m \u001b[1m6s\u001b[0m 1ms/step - accuracy: 0.9801 - loss: 0.0772 - val_accuracy: 0.9796 - val_loss: 0.0776\n",
      "Epoch 3/5\n",
      "\u001b[1m5078/5078\u001b[0m \u001b[32m━━━━━━━━━━━━━━━━━━━━\u001b[0m\u001b[37m\u001b[0m \u001b[1m7s\u001b[0m 1ms/step - accuracy: 0.9809 - loss: 0.0750 - val_accuracy: 0.9796 - val_loss: 0.0776\n",
      "Epoch 4/5\n",
      "\u001b[1m5078/5078\u001b[0m \u001b[32m━━━━━━━━━━━━━━━━━━━━\u001b[0m\u001b[37m\u001b[0m \u001b[1m7s\u001b[0m 1ms/step - accuracy: 0.9802 - loss: 0.0765 - val_accuracy: 0.9796 - val_loss: 0.0776\n",
      "Epoch 5/5\n",
      "\u001b[1m5078/5078\u001b[0m \u001b[32m━━━━━━━━━━━━━━━━━━━━\u001b[0m\u001b[37m\u001b[0m \u001b[1m7s\u001b[0m 1ms/step - accuracy: 0.9797 - loss: 0.0782 - val_accuracy: 0.9796 - val_loss: 0.0777\n",
      "\u001b[1m1587/1587\u001b[0m \u001b[32m━━━━━━━━━━━━━━━━━━━━\u001b[0m\u001b[37m\u001b[0m \u001b[1m1s\u001b[0m 611us/step\n"
     ]
    },
    {
     "name": "stderr",
     "output_type": "stream",
     "text": [
      " 56%|█████▌    | 94/169 [55:29<41:07, 32.90s/it]"
     ]
    },
    {
     "name": "stdout",
     "output_type": "stream",
     "text": [
      "Epoch 1/5\n",
      "\u001b[1m8573/8573\u001b[0m \u001b[32m━━━━━━━━━━━━━━━━━━━━\u001b[0m\u001b[37m\u001b[0m \u001b[1m11s\u001b[0m 1ms/step - accuracy: 0.9796 - loss: 0.0791 - val_accuracy: 0.9793 - val_loss: 0.0772\n",
      "Epoch 2/5\n",
      "\u001b[1m8573/8573\u001b[0m \u001b[32m━━━━━━━━━━━━━━━━━━━━\u001b[0m\u001b[37m\u001b[0m \u001b[1m11s\u001b[0m 1ms/step - accuracy: 0.9798 - loss: 0.0772 - val_accuracy: 0.9793 - val_loss: 0.0772\n",
      "Epoch 3/5\n",
      "\u001b[1m8573/8573\u001b[0m \u001b[32m━━━━━━━━━━━━━━━━━━━━\u001b[0m\u001b[37m\u001b[0m \u001b[1m11s\u001b[0m 1ms/step - accuracy: 0.9794 - loss: 0.0779 - val_accuracy: 0.9793 - val_loss: 0.0773\n",
      "Epoch 4/5\n",
      "\u001b[1m8573/8573\u001b[0m \u001b[32m━━━━━━━━━━━━━━━━━━━━\u001b[0m\u001b[37m\u001b[0m \u001b[1m11s\u001b[0m 1ms/step - accuracy: 0.9793 - loss: 0.0788 - val_accuracy: 0.9792 - val_loss: 0.0774\n",
      "Epoch 5/5\n",
      "\u001b[1m8573/8573\u001b[0m \u001b[32m━━━━━━━━━━━━━━━━━━━━\u001b[0m\u001b[37m\u001b[0m \u001b[1m11s\u001b[0m 1ms/step - accuracy: 0.9796 - loss: 0.0792 - val_accuracy: 0.9793 - val_loss: 0.0773\n",
      "\u001b[1m2679/2679\u001b[0m \u001b[32m━━━━━━━━━━━━━━━━━━━━\u001b[0m\u001b[37m\u001b[0m \u001b[1m2s\u001b[0m 591us/step\n"
     ]
    },
    {
     "name": "stderr",
     "output_type": "stream",
     "text": [
      " 56%|█████▌    | 95/169 [56:26<49:40, 40.27s/it]"
     ]
    },
    {
     "name": "stdout",
     "output_type": "stream",
     "text": [
      "Epoch 1/5\n",
      "\u001b[1m8885/8885\u001b[0m \u001b[32m━━━━━━━━━━━━━━━━━━━━\u001b[0m\u001b[37m\u001b[0m \u001b[1m11s\u001b[0m 1ms/step - accuracy: 0.9798 - loss: 0.0790 - val_accuracy: 0.9806 - val_loss: 0.0767\n",
      "Epoch 2/5\n",
      "\u001b[1m8885/8885\u001b[0m \u001b[32m━━━━━━━━━━━━━━━━━━━━\u001b[0m\u001b[37m\u001b[0m \u001b[1m11s\u001b[0m 1ms/step - accuracy: 0.9799 - loss: 0.0860 - val_accuracy: 0.9805 - val_loss: 0.0768\n",
      "Epoch 3/5\n",
      "\u001b[1m8885/8885\u001b[0m \u001b[32m━━━━━━━━━━━━━━━━━━━━\u001b[0m\u001b[37m\u001b[0m \u001b[1m11s\u001b[0m 1ms/step - accuracy: 0.9799 - loss: 0.0789 - val_accuracy: 0.9805 - val_loss: 0.0768\n",
      "Epoch 4/5\n",
      "\u001b[1m8885/8885\u001b[0m \u001b[32m━━━━━━━━━━━━━━━━━━━━\u001b[0m\u001b[37m\u001b[0m \u001b[1m11s\u001b[0m 1ms/step - accuracy: 0.9796 - loss: 0.0785 - val_accuracy: 0.9805 - val_loss: 0.0768\n",
      "Epoch 5/5\n",
      "\u001b[1m8885/8885\u001b[0m \u001b[32m━━━━━━━━━━━━━━━━━━━━\u001b[0m\u001b[37m\u001b[0m \u001b[1m11s\u001b[0m 1ms/step - accuracy: 0.9801 - loss: 0.0777 - val_accuracy: 0.9807 - val_loss: 0.1187\n",
      "\u001b[1m2777/2777\u001b[0m \u001b[32m━━━━━━━━━━━━━━━━━━━━\u001b[0m\u001b[37m\u001b[0m \u001b[1m2s\u001b[0m 589us/step\n"
     ]
    },
    {
     "name": "stderr",
     "output_type": "stream",
     "text": [
      " 57%|█████▋    | 96/169 [57:25<55:40, 45.77s/it]"
     ]
    },
    {
     "name": "stdout",
     "output_type": "stream",
     "text": [
      "Epoch 1/5\n",
      "\u001b[1m5103/5103\u001b[0m \u001b[32m━━━━━━━━━━━━━━━━━━━━\u001b[0m\u001b[37m\u001b[0m \u001b[1m7s\u001b[0m 1ms/step - accuracy: 0.9802 - loss: 0.2010 - val_accuracy: 0.9795 - val_loss: 0.0789\n",
      "Epoch 2/5\n",
      "\u001b[1m5103/5103\u001b[0m \u001b[32m━━━━━━━━━━━━━━━━━━━━\u001b[0m\u001b[37m\u001b[0m \u001b[1m6s\u001b[0m 1ms/step - accuracy: 0.9804 - loss: 0.0749 - val_accuracy: 0.9795 - val_loss: 0.0789\n",
      "Epoch 3/5\n",
      "\u001b[1m5103/5103\u001b[0m \u001b[32m━━━━━━━━━━━━━━━━━━━━\u001b[0m\u001b[37m\u001b[0m \u001b[1m6s\u001b[0m 1ms/step - accuracy: 0.9793 - loss: 0.0778 - val_accuracy: 0.9795 - val_loss: 0.0789\n",
      "Epoch 4/5\n",
      "\u001b[1m5103/5103\u001b[0m \u001b[32m━━━━━━━━━━━━━━━━━━━━\u001b[0m\u001b[37m\u001b[0m \u001b[1m7s\u001b[0m 1ms/step - accuracy: 0.9797 - loss: 0.0760 - val_accuracy: 0.9795 - val_loss: 0.0789\n",
      "Epoch 5/5\n",
      "\u001b[1m5103/5103\u001b[0m \u001b[32m━━━━━━━━━━━━━━━━━━━━\u001b[0m\u001b[37m\u001b[0m \u001b[1m7s\u001b[0m 1ms/step - accuracy: 0.9794 - loss: 0.0776 - val_accuracy: 0.9795 - val_loss: 0.0790\n",
      "\u001b[1m1595/1595\u001b[0m \u001b[32m━━━━━━━━━━━━━━━━━━━━\u001b[0m\u001b[37m\u001b[0m \u001b[1m1s\u001b[0m 608us/step\n"
     ]
    },
    {
     "name": "stderr",
     "output_type": "stream",
     "text": [
      " 57%|█████▋    | 97/169 [57:59<50:44, 42.29s/it]"
     ]
    },
    {
     "name": "stdout",
     "output_type": "stream",
     "text": [
      "Epoch 1/5\n",
      "\u001b[1m4892/4892\u001b[0m \u001b[32m━━━━━━━━━━━━━━━━━━━━\u001b[0m\u001b[37m\u001b[0m \u001b[1m6s\u001b[0m 1ms/step - accuracy: 0.9804 - loss: 0.0757 - val_accuracy: 0.9813 - val_loss: 0.0731\n",
      "Epoch 2/5\n",
      "\u001b[1m4892/4892\u001b[0m \u001b[32m━━━━━━━━━━━━━━━━━━━━\u001b[0m\u001b[37m\u001b[0m \u001b[1m6s\u001b[0m 1ms/step - accuracy: 0.9805 - loss: 0.0762 - val_accuracy: 0.9813 - val_loss: 0.0731\n",
      "Epoch 3/5\n",
      "\u001b[1m4892/4892\u001b[0m \u001b[32m━━━━━━━━━━━━━━━━━━━━\u001b[0m\u001b[37m\u001b[0m \u001b[1m6s\u001b[0m 1ms/step - accuracy: 0.9800 - loss: 0.0774 - val_accuracy: 0.9813 - val_loss: 0.0731\n",
      "Epoch 4/5\n",
      "\u001b[1m4892/4892\u001b[0m \u001b[32m━━━━━━━━━━━━━━━━━━━━\u001b[0m\u001b[37m\u001b[0m \u001b[1m6s\u001b[0m 1ms/step - accuracy: 0.9801 - loss: 0.0765 - val_accuracy: 0.9813 - val_loss: 0.0731\n",
      "Epoch 5/5\n",
      "\u001b[1m4892/4892\u001b[0m \u001b[32m━━━━━━━━━━━━━━━━━━━━\u001b[0m\u001b[37m\u001b[0m \u001b[1m6s\u001b[0m 1ms/step - accuracy: 0.9806 - loss: 0.0754 - val_accuracy: 0.9813 - val_loss: 0.0731\n",
      "\u001b[1m1529/1529\u001b[0m \u001b[32m━━━━━━━━━━━━━━━━━━━━\u001b[0m\u001b[37m\u001b[0m \u001b[1m1s\u001b[0m 599us/step\n"
     ]
    },
    {
     "name": "stderr",
     "output_type": "stream",
     "text": [
      " 58%|█████▊    | 98/169 [58:32<46:45, 39.51s/it]"
     ]
    },
    {
     "name": "stdout",
     "output_type": "stream",
     "text": [
      "Epoch 1/5\n",
      "\u001b[1m8936/8936\u001b[0m \u001b[32m━━━━━━━━━━━━━━━━━━━━\u001b[0m\u001b[37m\u001b[0m \u001b[1m11s\u001b[0m 1ms/step - accuracy: 0.9801 - loss: 0.0855 - val_accuracy: 0.9794 - val_loss: 0.0829\n",
      "Epoch 2/5\n",
      "\u001b[1m8936/8936\u001b[0m \u001b[32m━━━━━━━━━━━━━━━━━━━━\u001b[0m\u001b[37m\u001b[0m \u001b[1m11s\u001b[0m 1ms/step - accuracy: 0.9802 - loss: 0.0762 - val_accuracy: 0.9794 - val_loss: 0.0831\n",
      "Epoch 3/5\n",
      "\u001b[1m8936/8936\u001b[0m \u001b[32m━━━━━━━━━━━━━━━━━━━━\u001b[0m\u001b[37m\u001b[0m \u001b[1m11s\u001b[0m 1ms/step - accuracy: 0.9803 - loss: 0.0753 - val_accuracy: 0.9794 - val_loss: 0.0830\n",
      "Epoch 4/5\n",
      "\u001b[1m8936/8936\u001b[0m \u001b[32m━━━━━━━━━━━━━━━━━━━━\u001b[0m\u001b[37m\u001b[0m \u001b[1m11s\u001b[0m 1ms/step - accuracy: 0.9802 - loss: 0.0757 - val_accuracy: 0.9794 - val_loss: 0.0830\n",
      "Epoch 5/5\n",
      "\u001b[1m8936/8936\u001b[0m \u001b[32m━━━━━━━━━━━━━━━━━━━━\u001b[0m\u001b[37m\u001b[0m \u001b[1m12s\u001b[0m 1ms/step - accuracy: 0.9796 - loss: 0.0781 - val_accuracy: 0.9794 - val_loss: 0.0833\n",
      "\u001b[1m2793/2793\u001b[0m \u001b[32m━━━━━━━━━━━━━━━━━━━━\u001b[0m\u001b[37m\u001b[0m \u001b[1m2s\u001b[0m 605us/step\n"
     ]
    },
    {
     "name": "stderr",
     "output_type": "stream",
     "text": [
      " 59%|█████▊    | 99/169 [59:31<52:52, 45.32s/it]"
     ]
    },
    {
     "name": "stdout",
     "output_type": "stream",
     "text": [
      "Epoch 1/5\n",
      "\u001b[1m4835/4835\u001b[0m \u001b[32m━━━━━━━━━━━━━━━━━━━━\u001b[0m\u001b[37m\u001b[0m \u001b[1m6s\u001b[0m 1ms/step - accuracy: 0.9804 - loss: 0.0831 - val_accuracy: 0.9790 - val_loss: 0.0806\n",
      "Epoch 2/5\n",
      "\u001b[1m4835/4835\u001b[0m \u001b[32m━━━━━━━━━━━━━━━━━━━━\u001b[0m\u001b[37m\u001b[0m \u001b[1m6s\u001b[0m 1ms/step - accuracy: 0.9807 - loss: 0.0754 - val_accuracy: 0.9790 - val_loss: 0.0805\n",
      "Epoch 3/5\n",
      "\u001b[1m4835/4835\u001b[0m \u001b[32m━━━━━━━━━━━━━━━━━━━━\u001b[0m\u001b[37m\u001b[0m \u001b[1m6s\u001b[0m 1ms/step - accuracy: 0.9804 - loss: 0.0765 - val_accuracy: 0.9790 - val_loss: 0.0803\n",
      "Epoch 4/5\n",
      "\u001b[1m4835/4835\u001b[0m \u001b[32m━━━━━━━━━━━━━━━━━━━━\u001b[0m\u001b[37m\u001b[0m \u001b[1m6s\u001b[0m 1ms/step - accuracy: 0.9802 - loss: 0.0774 - val_accuracy: 0.9790 - val_loss: 0.0807\n",
      "Epoch 5/5\n",
      "\u001b[1m4835/4835\u001b[0m \u001b[32m━━━━━━━━━━━━━━━━━━━━\u001b[0m\u001b[37m\u001b[0m \u001b[1m6s\u001b[0m 1ms/step - accuracy: 0.9806 - loss: 0.0759 - val_accuracy: 0.9790 - val_loss: 0.0807\n",
      "\u001b[1m1511/1511\u001b[0m \u001b[32m━━━━━━━━━━━━━━━━━━━━\u001b[0m\u001b[37m\u001b[0m \u001b[1m1s\u001b[0m 585us/step\n"
     ]
    },
    {
     "name": "stderr",
     "output_type": "stream",
     "text": [
      " 59%|█████▉    | 100/169 [1:00:04<47:45, 41.53s/it]"
     ]
    },
    {
     "name": "stdout",
     "output_type": "stream",
     "text": [
      "Epoch 1/5\n",
      "\u001b[1m4519/4519\u001b[0m \u001b[32m━━━━━━━━━━━━━━━━━━━━\u001b[0m\u001b[37m\u001b[0m \u001b[1m6s\u001b[0m 1ms/step - accuracy: 0.9800 - loss: 0.0783 - val_accuracy: 0.9803 - val_loss: 0.0801\n",
      "Epoch 2/5\n",
      "\u001b[1m4519/4519\u001b[0m \u001b[32m━━━━━━━━━━━━━━━━━━━━\u001b[0m\u001b[37m\u001b[0m \u001b[1m6s\u001b[0m 1ms/step - accuracy: 0.9801 - loss: 0.0782 - val_accuracy: 0.9803 - val_loss: 0.0801\n",
      "Epoch 3/5\n",
      "\u001b[1m4519/4519\u001b[0m \u001b[32m━━━━━━━━━━━━━━━━━━━━\u001b[0m\u001b[37m\u001b[0m \u001b[1m6s\u001b[0m 1ms/step - accuracy: 0.9790 - loss: 0.0804 - val_accuracy: 0.9803 - val_loss: 0.0801\n",
      "Epoch 4/5\n",
      "\u001b[1m4519/4519\u001b[0m \u001b[32m━━━━━━━━━━━━━━━━━━━━\u001b[0m\u001b[37m\u001b[0m \u001b[1m6s\u001b[0m 1ms/step - accuracy: 0.9801 - loss: 0.0770 - val_accuracy: 0.9803 - val_loss: 0.0801\n",
      "Epoch 5/5\n",
      "\u001b[1m4519/4519\u001b[0m \u001b[32m━━━━━━━━━━━━━━━━━━━━\u001b[0m\u001b[37m\u001b[0m \u001b[1m6s\u001b[0m 1ms/step - accuracy: 0.9803 - loss: 0.0759 - val_accuracy: 0.9803 - val_loss: 0.0800\n",
      "\u001b[1m1412/1412\u001b[0m \u001b[32m━━━━━━━━━━━━━━━━━━━━\u001b[0m\u001b[37m\u001b[0m \u001b[1m1s\u001b[0m 588us/step\n"
     ]
    },
    {
     "name": "stderr",
     "output_type": "stream",
     "text": [
      " 60%|█████▉    | 101/169 [1:00:34<43:12, 38.13s/it]"
     ]
    },
    {
     "name": "stdout",
     "output_type": "stream",
     "text": [
      "Epoch 1/5\n",
      "\u001b[1m4675/4675\u001b[0m \u001b[32m━━━━━━━━━━━━━━━━━━━━\u001b[0m\u001b[37m\u001b[0m \u001b[1m6s\u001b[0m 1ms/step - accuracy: 0.9802 - loss: 0.0784 - val_accuracy: 0.9797 - val_loss: 0.0782\n",
      "Epoch 2/5\n",
      "\u001b[1m4675/4675\u001b[0m \u001b[32m━━━━━━━━━━━━━━━━━━━━\u001b[0m\u001b[37m\u001b[0m \u001b[1m6s\u001b[0m 1ms/step - accuracy: 0.9790 - loss: 0.0786 - val_accuracy: 0.9797 - val_loss: 0.0783\n",
      "Epoch 3/5\n",
      "\u001b[1m4675/4675\u001b[0m \u001b[32m━━━━━━━━━━━━━━━━━━━━\u001b[0m\u001b[37m\u001b[0m \u001b[1m6s\u001b[0m 1ms/step - accuracy: 0.9795 - loss: 0.0789 - val_accuracy: 0.9797 - val_loss: 0.0782\n",
      "Epoch 4/5\n",
      "\u001b[1m4675/4675\u001b[0m \u001b[32m━━━━━━━━━━━━━━━━━━━━\u001b[0m\u001b[37m\u001b[0m \u001b[1m6s\u001b[0m 1ms/step - accuracy: 0.9795 - loss: 0.0788 - val_accuracy: 0.9797 - val_loss: 0.0782\n",
      "Epoch 5/5\n",
      "\u001b[1m4675/4675\u001b[0m \u001b[32m━━━━━━━━━━━━━━━━━━━━\u001b[0m\u001b[37m\u001b[0m \u001b[1m6s\u001b[0m 1ms/step - accuracy: 0.9796 - loss: 0.0784 - val_accuracy: 0.9797 - val_loss: 0.0784\n",
      "\u001b[1m1461/1461\u001b[0m \u001b[32m━━━━━━━━━━━━━━━━━━━━\u001b[0m\u001b[37m\u001b[0m \u001b[1m1s\u001b[0m 605us/step\n"
     ]
    },
    {
     "name": "stderr",
     "output_type": "stream",
     "text": [
      " 60%|██████    | 102/169 [1:01:05<40:17, 36.08s/it]"
     ]
    },
    {
     "name": "stdout",
     "output_type": "stream",
     "text": [
      "Epoch 1/5\n",
      "\u001b[1m4639/4639\u001b[0m \u001b[32m━━━━━━━━━━━━━━━━━━━━\u001b[0m\u001b[37m\u001b[0m \u001b[1m6s\u001b[0m 1ms/step - accuracy: 0.9799 - loss: 0.0778 - val_accuracy: 0.9795 - val_loss: 0.0793\n",
      "Epoch 2/5\n",
      "\u001b[1m4639/4639\u001b[0m \u001b[32m━━━━━━━━━━━━━━━━━━━━\u001b[0m\u001b[37m\u001b[0m \u001b[1m6s\u001b[0m 1ms/step - accuracy: 0.9803 - loss: 0.0750 - val_accuracy: 0.9795 - val_loss: 0.0792\n",
      "Epoch 3/5\n",
      "\u001b[1m4639/4639\u001b[0m \u001b[32m━━━━━━━━━━━━━━━━━━━━\u001b[0m\u001b[37m\u001b[0m \u001b[1m6s\u001b[0m 1ms/step - accuracy: 0.9808 - loss: 0.0760 - val_accuracy: 0.9795 - val_loss: 0.0793\n",
      "Epoch 4/5\n",
      "\u001b[1m4639/4639\u001b[0m \u001b[32m━━━━━━━━━━━━━━━━━━━━\u001b[0m\u001b[37m\u001b[0m \u001b[1m6s\u001b[0m 1ms/step - accuracy: 0.9798 - loss: 0.0785 - val_accuracy: 0.9795 - val_loss: 0.0792\n",
      "Epoch 5/5\n",
      "\u001b[1m4639/4639\u001b[0m \u001b[32m━━━━━━━━━━━━━━━━━━━━\u001b[0m\u001b[37m\u001b[0m \u001b[1m6s\u001b[0m 1ms/step - accuracy: 0.9803 - loss: 0.0761 - val_accuracy: 0.9795 - val_loss: 0.0794\n",
      "\u001b[1m1450/1450\u001b[0m \u001b[32m━━━━━━━━━━━━━━━━━━━━\u001b[0m\u001b[37m\u001b[0m \u001b[1m1s\u001b[0m 589us/step\n"
     ]
    },
    {
     "name": "stderr",
     "output_type": "stream",
     "text": [
      " 61%|██████    | 103/169 [1:01:36<37:50, 34.40s/it]"
     ]
    },
    {
     "name": "stdout",
     "output_type": "stream",
     "text": [
      "Epoch 1/5\n",
      "\u001b[1m5050/5050\u001b[0m \u001b[32m━━━━━━━━━━━━━━━━━━━━\u001b[0m\u001b[37m\u001b[0m \u001b[1m6s\u001b[0m 1ms/step - accuracy: 0.9810 - loss: 0.0736 - val_accuracy: 0.9805 - val_loss: 0.0753\n",
      "Epoch 2/5\n",
      "\u001b[1m5050/5050\u001b[0m \u001b[32m━━━━━━━━━━━━━━━━━━━━\u001b[0m\u001b[37m\u001b[0m \u001b[1m6s\u001b[0m 1ms/step - accuracy: 0.9801 - loss: 0.0761 - val_accuracy: 0.9805 - val_loss: 0.0753\n",
      "Epoch 3/5\n",
      "\u001b[1m5050/5050\u001b[0m \u001b[32m━━━━━━━━━━━━━━━━━━━━\u001b[0m\u001b[37m\u001b[0m \u001b[1m6s\u001b[0m 1ms/step - accuracy: 0.9804 - loss: 0.0760 - val_accuracy: 0.9805 - val_loss: 0.0755\n",
      "Epoch 4/5\n",
      "\u001b[1m5050/5050\u001b[0m \u001b[32m━━━━━━━━━━━━━━━━━━━━\u001b[0m\u001b[37m\u001b[0m \u001b[1m6s\u001b[0m 1ms/step - accuracy: 0.9801 - loss: 0.0753 - val_accuracy: 0.9805 - val_loss: 0.0753\n",
      "Epoch 5/5\n",
      "\u001b[1m5050/5050\u001b[0m \u001b[32m━━━━━━━━━━━━━━━━━━━━\u001b[0m\u001b[37m\u001b[0m \u001b[1m6s\u001b[0m 1ms/step - accuracy: 0.9801 - loss: 0.0761 - val_accuracy: 0.9805 - val_loss: 0.0754\n",
      "\u001b[1m1579/1579\u001b[0m \u001b[32m━━━━━━━━━━━━━━━━━━━━\u001b[0m\u001b[37m\u001b[0m \u001b[1m1s\u001b[0m 581us/step\n"
     ]
    },
    {
     "name": "stderr",
     "output_type": "stream",
     "text": [
      " 62%|██████▏   | 104/169 [1:02:09<36:51, 34.02s/it]"
     ]
    },
    {
     "name": "stdout",
     "output_type": "stream",
     "text": [
      "Epoch 1/5\n",
      "\u001b[1m4471/4471\u001b[0m \u001b[32m━━━━━━━━━━━━━━━━━━━━\u001b[0m\u001b[37m\u001b[0m \u001b[1m6s\u001b[0m 1ms/step - accuracy: 0.9800 - loss: 0.0771 - val_accuracy: 0.9793 - val_loss: 0.0802\n",
      "Epoch 2/5\n",
      "\u001b[1m4471/4471\u001b[0m \u001b[32m━━━━━━━━━━━━━━━━━━━━\u001b[0m\u001b[37m\u001b[0m \u001b[1m5s\u001b[0m 1ms/step - accuracy: 0.9801 - loss: 0.0750 - val_accuracy: 0.9792 - val_loss: 0.0804\n",
      "Epoch 3/5\n",
      "\u001b[1m4471/4471\u001b[0m \u001b[32m━━━━━━━━━━━━━━━━━━━━\u001b[0m\u001b[37m\u001b[0m \u001b[1m6s\u001b[0m 1ms/step - accuracy: 0.9798 - loss: 0.0779 - val_accuracy: 0.9792 - val_loss: 0.0803\n",
      "Epoch 4/5\n",
      "\u001b[1m4471/4471\u001b[0m \u001b[32m━━━━━━━━━━━━━━━━━━━━\u001b[0m\u001b[37m\u001b[0m \u001b[1m6s\u001b[0m 1ms/step - accuracy: 0.9802 - loss: 0.0766 - val_accuracy: 0.9792 - val_loss: 0.0805\n",
      "Epoch 5/5\n",
      "\u001b[1m4471/4471\u001b[0m \u001b[32m━━━━━━━━━━━━━━━━━━━━\u001b[0m\u001b[37m\u001b[0m \u001b[1m6s\u001b[0m 1ms/step - accuracy: 0.9799 - loss: 0.0773 - val_accuracy: 0.9792 - val_loss: 0.0804\n",
      "\u001b[1m1398/1398\u001b[0m \u001b[32m━━━━━━━━━━━━━━━━━━━━\u001b[0m\u001b[37m\u001b[0m \u001b[1m1s\u001b[0m 595us/step\n"
     ]
    },
    {
     "name": "stderr",
     "output_type": "stream",
     "text": [
      " 62%|██████▏   | 105/169 [1:02:38<34:46, 32.60s/it]"
     ]
    },
    {
     "name": "stdout",
     "output_type": "stream",
     "text": [
      "Epoch 1/5\n",
      "\u001b[1m4636/4636\u001b[0m \u001b[32m━━━━━━━━━━━━━━━━━━━━\u001b[0m\u001b[37m\u001b[0m \u001b[1m6s\u001b[0m 1ms/step - accuracy: 0.9796 - loss: 0.0790 - val_accuracy: 0.9806 - val_loss: 0.0758\n",
      "Epoch 2/5\n",
      "\u001b[1m4636/4636\u001b[0m \u001b[32m━━━━━━━━━━━━━━━━━━━━\u001b[0m\u001b[37m\u001b[0m \u001b[1m6s\u001b[0m 1ms/step - accuracy: 0.9803 - loss: 0.0769 - val_accuracy: 0.9806 - val_loss: 0.0760\n",
      "Epoch 3/5\n",
      "\u001b[1m4636/4636\u001b[0m \u001b[32m━━━━━━━━━━━━━━━━━━━━\u001b[0m\u001b[37m\u001b[0m \u001b[1m6s\u001b[0m 1ms/step - accuracy: 0.9798 - loss: 0.0773 - val_accuracy: 0.9805 - val_loss: 0.0761\n",
      "Epoch 4/5\n",
      "\u001b[1m4636/4636\u001b[0m \u001b[32m━━━━━━━━━━━━━━━━━━━━\u001b[0m\u001b[37m\u001b[0m \u001b[1m6s\u001b[0m 1ms/step - accuracy: 0.9801 - loss: 0.0765 - val_accuracy: 0.9806 - val_loss: 0.0758\n",
      "Epoch 5/5\n",
      "\u001b[1m4636/4636\u001b[0m \u001b[32m━━━━━━━━━━━━━━━━━━━━\u001b[0m\u001b[37m\u001b[0m \u001b[1m6s\u001b[0m 1ms/step - accuracy: 0.9798 - loss: 0.0790 - val_accuracy: 0.9804 - val_loss: 0.0759\n",
      "\u001b[1m1449/1449\u001b[0m \u001b[32m━━━━━━━━━━━━━━━━━━━━\u001b[0m\u001b[37m\u001b[0m \u001b[1m1s\u001b[0m 605us/step\n"
     ]
    },
    {
     "name": "stderr",
     "output_type": "stream",
     "text": [
      " 63%|██████▎   | 106/169 [1:03:09<33:48, 32.21s/it]"
     ]
    },
    {
     "name": "stdout",
     "output_type": "stream",
     "text": [
      "Epoch 1/5\n",
      "\u001b[1m5017/5017\u001b[0m \u001b[32m━━━━━━━━━━━━━━━━━━━━\u001b[0m\u001b[37m\u001b[0m \u001b[1m6s\u001b[0m 1ms/step - accuracy: 0.9789 - loss: 0.1432 - val_accuracy: 0.9797 - val_loss: 0.0769\n",
      "Epoch 2/5\n",
      "\u001b[1m5017/5017\u001b[0m \u001b[32m━━━━━━━━━━━━━━━━━━━━\u001b[0m\u001b[37m\u001b[0m \u001b[1m6s\u001b[0m 1ms/step - accuracy: 0.9796 - loss: 0.0788 - val_accuracy: 0.9797 - val_loss: 0.0769\n",
      "Epoch 3/5\n",
      "\u001b[1m5017/5017\u001b[0m \u001b[32m━━━━━━━━━━━━━━━━━━━━\u001b[0m\u001b[37m\u001b[0m \u001b[1m6s\u001b[0m 1ms/step - accuracy: 0.9793 - loss: 0.0812 - val_accuracy: 0.9797 - val_loss: 0.0770\n",
      "Epoch 4/5\n",
      "\u001b[1m5017/5017\u001b[0m \u001b[32m━━━━━━━━━━━━━━━━━━━━\u001b[0m\u001b[37m\u001b[0m \u001b[1m6s\u001b[0m 1ms/step - accuracy: 0.9794 - loss: 0.0799 - val_accuracy: 0.9797 - val_loss: 0.0769\n",
      "Epoch 5/5\n",
      "\u001b[1m5017/5017\u001b[0m \u001b[32m━━━━━━━━━━━━━━━━━━━━\u001b[0m\u001b[37m\u001b[0m \u001b[1m6s\u001b[0m 1ms/step - accuracy: 0.9800 - loss: 0.0786 - val_accuracy: 0.9797 - val_loss: 0.0769\n",
      "\u001b[1m1568/1568\u001b[0m \u001b[32m━━━━━━━━━━━━━━━━━━━━\u001b[0m\u001b[37m\u001b[0m \u001b[1m1s\u001b[0m 580us/step\n"
     ]
    },
    {
     "name": "stderr",
     "output_type": "stream",
     "text": [
      " 63%|██████▎   | 107/169 [1:03:43<33:35, 32.51s/it]"
     ]
    },
    {
     "name": "stdout",
     "output_type": "stream",
     "text": [
      "Epoch 1/5\n",
      "\u001b[1m4471/4471\u001b[0m \u001b[32m━━━━━━━━━━━━━━━━━━━━\u001b[0m\u001b[37m\u001b[0m \u001b[1m6s\u001b[0m 1ms/step - accuracy: 0.9795 - loss: 0.0797 - val_accuracy: 0.9806 - val_loss: 0.0757\n",
      "Epoch 2/5\n",
      "\u001b[1m4471/4471\u001b[0m \u001b[32m━━━━━━━━━━━━━━━━━━━━\u001b[0m\u001b[37m\u001b[0m \u001b[1m6s\u001b[0m 1ms/step - accuracy: 0.9800 - loss: 0.0774 - val_accuracy: 0.9806 - val_loss: 0.0758\n",
      "Epoch 3/5\n",
      "\u001b[1m4471/4471\u001b[0m \u001b[32m━━━━━━━━━━━━━━━━━━━━\u001b[0m\u001b[37m\u001b[0m \u001b[1m6s\u001b[0m 1ms/step - accuracy: 0.9799 - loss: 0.0779 - val_accuracy: 0.9806 - val_loss: 0.0760\n",
      "Epoch 4/5\n",
      "\u001b[1m4471/4471\u001b[0m \u001b[32m━━━━━━━━━━━━━━━━━━━━\u001b[0m\u001b[37m\u001b[0m \u001b[1m6s\u001b[0m 1ms/step - accuracy: 0.9803 - loss: 0.0768 - val_accuracy: 0.9806 - val_loss: 0.0757\n",
      "Epoch 5/5\n",
      "\u001b[1m4471/4471\u001b[0m \u001b[32m━━━━━━━━━━━━━━━━━━━━\u001b[0m\u001b[37m\u001b[0m \u001b[1m6s\u001b[0m 1ms/step - accuracy: 0.9803 - loss: 0.0760 - val_accuracy: 0.9806 - val_loss: 0.0758\n",
      "\u001b[1m1397/1397\u001b[0m \u001b[32m━━━━━━━━━━━━━━━━━━━━\u001b[0m\u001b[37m\u001b[0m \u001b[1m1s\u001b[0m 587us/step\n"
     ]
    },
    {
     "name": "stderr",
     "output_type": "stream",
     "text": [
      " 64%|██████▍   | 108/169 [1:04:12<32:13, 31.69s/it]"
     ]
    },
    {
     "name": "stdout",
     "output_type": "stream",
     "text": [
      "Epoch 1/5\n",
      "\u001b[1m4634/4634\u001b[0m \u001b[32m━━━━━━━━━━━━━━━━━━━━\u001b[0m\u001b[37m\u001b[0m \u001b[1m6s\u001b[0m 1ms/step - accuracy: 0.9799 - loss: 0.0772 - val_accuracy: 0.9802 - val_loss: 0.0801\n",
      "Epoch 2/5\n",
      "\u001b[1m4634/4634\u001b[0m \u001b[32m━━━━━━━━━━━━━━━━━━━━\u001b[0m\u001b[37m\u001b[0m \u001b[1m6s\u001b[0m 1ms/step - accuracy: 0.9793 - loss: 0.0882 - val_accuracy: 0.9802 - val_loss: 0.0773\n",
      "Epoch 3/5\n",
      "\u001b[1m4634/4634\u001b[0m \u001b[32m━━━━━━━━━━━━━━━━━━━━\u001b[0m\u001b[37m\u001b[0m \u001b[1m6s\u001b[0m 1ms/step - accuracy: 0.9797 - loss: 0.0783 - val_accuracy: 0.9802 - val_loss: 0.0773\n",
      "Epoch 4/5\n",
      "\u001b[1m4634/4634\u001b[0m \u001b[32m━━━━━━━━━━━━━━━━━━━━\u001b[0m\u001b[37m\u001b[0m \u001b[1m6s\u001b[0m 1ms/step - accuracy: 0.9795 - loss: 0.0786 - val_accuracy: 0.9802 - val_loss: 0.0776\n",
      "Epoch 5/5\n",
      "\u001b[1m4634/4634\u001b[0m \u001b[32m━━━━━━━━━━━━━━━━━━━━\u001b[0m\u001b[37m\u001b[0m \u001b[1m6s\u001b[0m 1ms/step - accuracy: 0.9795 - loss: 0.0790 - val_accuracy: 0.9802 - val_loss: 0.0775\n",
      "\u001b[1m1449/1449\u001b[0m \u001b[32m━━━━━━━━━━━━━━━━━━━━\u001b[0m\u001b[37m\u001b[0m \u001b[1m1s\u001b[0m 595us/step\n"
     ]
    },
    {
     "name": "stderr",
     "output_type": "stream",
     "text": [
      " 64%|██████▍   | 109/169 [1:04:43<31:17, 31.30s/it]"
     ]
    },
    {
     "name": "stdout",
     "output_type": "stream",
     "text": [
      "Epoch 1/5\n",
      "\u001b[1m5259/5259\u001b[0m \u001b[32m━━━━━━━━━━━━━━━━━━━━\u001b[0m\u001b[37m\u001b[0m \u001b[1m7s\u001b[0m 1ms/step - accuracy: 0.9809 - loss: 0.0719 - val_accuracy: 0.9790 - val_loss: 0.0812\n",
      "Epoch 2/5\n",
      "\u001b[1m5259/5259\u001b[0m \u001b[32m━━━━━━━━━━━━━━━━━━━━\u001b[0m\u001b[37m\u001b[0m \u001b[1m7s\u001b[0m 1ms/step - accuracy: 0.9805 - loss: 0.0748 - val_accuracy: 0.9790 - val_loss: 0.0813\n",
      "Epoch 3/5\n",
      "\u001b[1m5259/5259\u001b[0m \u001b[32m━━━━━━━━━━━━━━━━━━━━\u001b[0m\u001b[37m\u001b[0m \u001b[1m7s\u001b[0m 1ms/step - accuracy: 0.9807 - loss: 0.0738 - val_accuracy: 0.9789 - val_loss: 0.0819\n",
      "Epoch 4/5\n",
      "\u001b[1m5259/5259\u001b[0m \u001b[32m━━━━━━━━━━━━━━━━━━━━\u001b[0m\u001b[37m\u001b[0m \u001b[1m7s\u001b[0m 1ms/step - accuracy: 0.9807 - loss: 0.0736 - val_accuracy: 0.9790 - val_loss: 0.0815\n",
      "Epoch 5/5\n",
      "\u001b[1m5259/5259\u001b[0m \u001b[32m━━━━━━━━━━━━━━━━━━━━\u001b[0m\u001b[37m\u001b[0m \u001b[1m7s\u001b[0m 1ms/step - accuracy: 0.9806 - loss: 0.0738 - val_accuracy: 0.9791 - val_loss: 0.0814\n",
      "\u001b[1m1644/1644\u001b[0m \u001b[32m━━━━━━━━━━━━━━━━━━━━\u001b[0m\u001b[37m\u001b[0m \u001b[1m1s\u001b[0m 597us/step\n"
     ]
    },
    {
     "name": "stderr",
     "output_type": "stream",
     "text": [
      " 65%|██████▌   | 110/169 [1:05:18<31:57, 32.49s/it]"
     ]
    },
    {
     "name": "stdout",
     "output_type": "stream",
     "text": [
      "Epoch 1/5\n",
      "\u001b[1m4735/4735\u001b[0m \u001b[32m━━━━━━━━━━━━━━━━━━━━\u001b[0m\u001b[37m\u001b[0m \u001b[1m6s\u001b[0m 1ms/step - accuracy: 0.9802 - loss: 0.6967 - val_accuracy: 0.9803 - val_loss: 0.0775\n",
      "Epoch 2/5\n",
      "\u001b[1m4735/4735\u001b[0m \u001b[32m━━━━━━━━━━━━━━━━━━━━\u001b[0m\u001b[37m\u001b[0m \u001b[1m6s\u001b[0m 1ms/step - accuracy: 0.9813 - loss: 0.0737 - val_accuracy: 0.9802 - val_loss: 0.0779\n",
      "Epoch 3/5\n",
      "\u001b[1m4735/4735\u001b[0m \u001b[32m━━━━━━━━━━━━━━━━━━━━\u001b[0m\u001b[37m\u001b[0m \u001b[1m6s\u001b[0m 1ms/step - accuracy: 0.9803 - loss: 0.0762 - val_accuracy: 0.9803 - val_loss: 0.0774\n",
      "Epoch 4/5\n",
      "\u001b[1m4735/4735\u001b[0m \u001b[32m━━━━━━━━━━━━━━━━━━━━\u001b[0m\u001b[37m\u001b[0m \u001b[1m6s\u001b[0m 1ms/step - accuracy: 0.9810 - loss: 0.0748 - val_accuracy: 0.9803 - val_loss: 0.0775\n",
      "Epoch 5/5\n",
      "\u001b[1m4735/4735\u001b[0m \u001b[32m━━━━━━━━━━━━━━━━━━━━\u001b[0m\u001b[37m\u001b[0m \u001b[1m6s\u001b[0m 1ms/step - accuracy: 0.9809 - loss: 0.0756 - val_accuracy: 0.9802 - val_loss: 0.0775\n",
      "\u001b[1m1480/1480\u001b[0m \u001b[32m━━━━━━━━━━━━━━━━━━━━\u001b[0m\u001b[37m\u001b[0m \u001b[1m1s\u001b[0m 615us/step\n"
     ]
    },
    {
     "name": "stderr",
     "output_type": "stream",
     "text": [
      " 66%|██████▌   | 111/169 [1:05:50<31:11, 32.26s/it]"
     ]
    },
    {
     "name": "stdout",
     "output_type": "stream",
     "text": [
      "Epoch 1/5\n",
      "\u001b[1m5386/5386\u001b[0m \u001b[32m━━━━━━━━━━━━━━━━━━━━\u001b[0m\u001b[37m\u001b[0m \u001b[1m7s\u001b[0m 1ms/step - accuracy: 0.9808 - loss: 0.0742 - val_accuracy: 0.9801 - val_loss: 0.0776\n",
      "Epoch 2/5\n",
      "\u001b[1m5386/5386\u001b[0m \u001b[32m━━━━━━━━━━━━━━━━━━━━\u001b[0m\u001b[37m\u001b[0m \u001b[1m7s\u001b[0m 1ms/step - accuracy: 0.9802 - loss: 0.0771 - val_accuracy: 0.9801 - val_loss: 0.0776\n",
      "Epoch 3/5\n",
      "\u001b[1m5386/5386\u001b[0m \u001b[32m━━━━━━━━━━━━━━━━━━━━\u001b[0m\u001b[37m\u001b[0m \u001b[1m8s\u001b[0m 1ms/step - accuracy: 0.9799 - loss: 0.0781 - val_accuracy: 0.9801 - val_loss: 0.0779\n",
      "Epoch 4/5\n",
      "\u001b[1m5386/5386\u001b[0m \u001b[32m━━━━━━━━━━━━━━━━━━━━\u001b[0m\u001b[37m\u001b[0m \u001b[1m7s\u001b[0m 1ms/step - accuracy: 0.9803 - loss: 0.0762 - val_accuracy: 0.9801 - val_loss: 0.0778\n",
      "Epoch 5/5\n",
      "\u001b[1m5386/5386\u001b[0m \u001b[32m━━━━━━━━━━━━━━━━━━━━\u001b[0m\u001b[37m\u001b[0m \u001b[1m7s\u001b[0m 1ms/step - accuracy: 0.9801 - loss: 0.0756 - val_accuracy: 0.9801 - val_loss: 0.0776\n",
      "\u001b[1m1683/1683\u001b[0m \u001b[32m━━━━━━━━━━━━━━━━━━━━\u001b[0m\u001b[37m\u001b[0m \u001b[1m1s\u001b[0m 599us/step\n"
     ]
    },
    {
     "name": "stderr",
     "output_type": "stream",
     "text": [
      " 66%|██████▋   | 112/169 [1:06:27<32:06, 33.81s/it]"
     ]
    },
    {
     "name": "stdout",
     "output_type": "stream",
     "text": [
      "Epoch 1/5\n",
      "\u001b[1m5072/5072\u001b[0m \u001b[32m━━━━━━━━━━━━━━━━━━━━\u001b[0m\u001b[37m\u001b[0m \u001b[1m7s\u001b[0m 1ms/step - accuracy: 0.9799 - loss: 0.0761 - val_accuracy: 0.9789 - val_loss: 0.0810\n",
      "Epoch 2/5\n",
      "\u001b[1m5072/5072\u001b[0m \u001b[32m━━━━━━━━━━━━━━━━━━━━\u001b[0m\u001b[37m\u001b[0m \u001b[1m7s\u001b[0m 1ms/step - accuracy: 0.9802 - loss: 0.0757 - val_accuracy: 0.9789 - val_loss: 0.0815\n",
      "Epoch 3/5\n",
      "\u001b[1m5072/5072\u001b[0m \u001b[32m━━━━━━━━━━━━━━━━━━━━\u001b[0m\u001b[37m\u001b[0m \u001b[1m7s\u001b[0m 1ms/step - accuracy: 0.9807 - loss: 0.0751 - val_accuracy: 0.9789 - val_loss: 0.0811\n",
      "Epoch 4/5\n",
      "\u001b[1m5072/5072\u001b[0m \u001b[32m━━━━━━━━━━━━━━━━━━━━\u001b[0m\u001b[37m\u001b[0m \u001b[1m7s\u001b[0m 1ms/step - accuracy: 0.9806 - loss: 0.0748 - val_accuracy: 0.9789 - val_loss: 0.0810\n",
      "Epoch 5/5\n",
      "\u001b[1m5072/5072\u001b[0m \u001b[32m━━━━━━━━━━━━━━━━━━━━\u001b[0m\u001b[37m\u001b[0m \u001b[1m7s\u001b[0m 1ms/step - accuracy: 0.9800 - loss: 0.0764 - val_accuracy: 0.9789 - val_loss: 0.0811\n",
      "\u001b[1m1585/1585\u001b[0m \u001b[32m━━━━━━━━━━━━━━━━━━━━\u001b[0m\u001b[37m\u001b[0m \u001b[1m1s\u001b[0m 592us/step\n"
     ]
    },
    {
     "name": "stderr",
     "output_type": "stream",
     "text": [
      " 67%|██████▋   | 113/169 [1:07:02<31:48, 34.09s/it]"
     ]
    },
    {
     "name": "stdout",
     "output_type": "stream",
     "text": [
      "Epoch 1/5\n",
      "\u001b[1m9030/9030\u001b[0m \u001b[32m━━━━━━━━━━━━━━━━━━━━\u001b[0m\u001b[37m\u001b[0m \u001b[1m12s\u001b[0m 1ms/step - accuracy: 0.9796 - loss: 0.0771 - val_accuracy: 0.9805 - val_loss: 0.0751\n",
      "Epoch 2/5\n",
      "\u001b[1m9030/9030\u001b[0m \u001b[32m━━━━━━━━━━━━━━━━━━━━\u001b[0m\u001b[37m\u001b[0m \u001b[1m12s\u001b[0m 1ms/step - accuracy: 0.9793 - loss: 0.0803 - val_accuracy: 0.9804 - val_loss: 0.0755\n",
      "Epoch 3/5\n",
      "\u001b[1m9030/9030\u001b[0m \u001b[32m━━━━━━━━━━━━━━━━━━━━\u001b[0m\u001b[37m\u001b[0m \u001b[1m12s\u001b[0m 1ms/step - accuracy: 0.9799 - loss: 0.0782 - val_accuracy: 0.9805 - val_loss: 0.0754\n",
      "Epoch 4/5\n",
      "\u001b[1m9030/9030\u001b[0m \u001b[32m━━━━━━━━━━━━━━━━━━━━\u001b[0m\u001b[37m\u001b[0m \u001b[1m12s\u001b[0m 1ms/step - accuracy: 0.9795 - loss: 0.0789 - val_accuracy: 0.9804 - val_loss: 0.0751\n",
      "Epoch 5/5\n",
      "\u001b[1m9030/9030\u001b[0m \u001b[32m━━━━━━━━━━━━━━━━━━━━\u001b[0m\u001b[37m\u001b[0m \u001b[1m12s\u001b[0m 1ms/step - accuracy: 0.9794 - loss: 0.0784 - val_accuracy: 0.9805 - val_loss: 0.0754\n",
      "\u001b[1m2822/2822\u001b[0m \u001b[32m━━━━━━━━━━━━━━━━━━━━\u001b[0m\u001b[37m\u001b[0m \u001b[1m2s\u001b[0m 606us/step\n"
     ]
    },
    {
     "name": "stderr",
     "output_type": "stream",
     "text": [
      " 67%|██████▋   | 114/169 [1:08:04<38:49, 42.35s/it]"
     ]
    },
    {
     "name": "stdout",
     "output_type": "stream",
     "text": [
      "Epoch 1/5\n",
      "\u001b[1m4798/4798\u001b[0m \u001b[32m━━━━━━━━━━━━━━━━━━━━\u001b[0m\u001b[37m\u001b[0m \u001b[1m7s\u001b[0m 1ms/step - accuracy: 0.9798 - loss: 0.0778 - val_accuracy: 0.9806 - val_loss: 0.0837\n",
      "Epoch 2/5\n",
      "\u001b[1m4798/4798\u001b[0m \u001b[32m━━━━━━━━━━━━━━━━━━━━\u001b[0m\u001b[37m\u001b[0m \u001b[1m7s\u001b[0m 1ms/step - accuracy: 0.9796 - loss: 0.0830 - val_accuracy: 0.9806 - val_loss: 0.0761\n",
      "Epoch 3/5\n",
      "\u001b[1m4798/4798\u001b[0m \u001b[32m━━━━━━━━━━━━━━━━━━━━\u001b[0m\u001b[37m\u001b[0m \u001b[1m7s\u001b[0m 1ms/step - accuracy: 0.9799 - loss: 0.0759 - val_accuracy: 0.9806 - val_loss: 0.0760\n",
      "Epoch 4/5\n",
      "\u001b[1m4798/4798\u001b[0m \u001b[32m━━━━━━━━━━━━━━━━━━━━\u001b[0m\u001b[37m\u001b[0m \u001b[1m7s\u001b[0m 1ms/step - accuracy: 0.9802 - loss: 0.0760 - val_accuracy: 0.9805 - val_loss: 0.0761\n",
      "Epoch 5/5\n",
      "\u001b[1m4798/4798\u001b[0m \u001b[32m━━━━━━━━━━━━━━━━━━━━\u001b[0m\u001b[37m\u001b[0m \u001b[1m6s\u001b[0m 1ms/step - accuracy: 0.9805 - loss: 0.0740 - val_accuracy: 0.9806 - val_loss: 0.0761\n",
      "\u001b[1m1500/1500\u001b[0m \u001b[32m━━━━━━━━━━━━━━━━━━━━\u001b[0m\u001b[37m\u001b[0m \u001b[1m1s\u001b[0m 640us/step\n"
     ]
    },
    {
     "name": "stderr",
     "output_type": "stream",
     "text": [
      " 68%|██████▊   | 115/169 [1:08:39<36:11, 40.21s/it]"
     ]
    },
    {
     "name": "stdout",
     "output_type": "stream",
     "text": [
      "Epoch 1/5\n",
      "\u001b[1m4378/4378\u001b[0m \u001b[32m━━━━━━━━━━━━━━━━━━━━\u001b[0m\u001b[37m\u001b[0m \u001b[1m6s\u001b[0m 1ms/step - accuracy: 0.9797 - loss: 0.0797 - val_accuracy: 0.9808 - val_loss: 0.0764\n",
      "Epoch 2/5\n",
      "\u001b[1m4378/4378\u001b[0m \u001b[32m━━━━━━━━━━━━━━━━━━━━\u001b[0m\u001b[37m\u001b[0m \u001b[1m6s\u001b[0m 1ms/step - accuracy: 0.9800 - loss: 0.0780 - val_accuracy: 0.9807 - val_loss: 0.0765\n",
      "Epoch 3/5\n",
      "\u001b[1m4378/4378\u001b[0m \u001b[32m━━━━━━━━━━━━━━━━━━━━\u001b[0m\u001b[37m\u001b[0m \u001b[1m6s\u001b[0m 1ms/step - accuracy: 0.9803 - loss: 0.0935 - val_accuracy: 0.9807 - val_loss: 0.0765\n",
      "Epoch 4/5\n",
      "\u001b[1m4378/4378\u001b[0m \u001b[32m━━━━━━━━━━━━━━━━━━━━\u001b[0m\u001b[37m\u001b[0m \u001b[1m6s\u001b[0m 1ms/step - accuracy: 0.9804 - loss: 0.0772 - val_accuracy: 0.9807 - val_loss: 0.0765\n",
      "Epoch 5/5\n",
      "\u001b[1m4378/4378\u001b[0m \u001b[32m━━━━━━━━━━━━━━━━━━━━\u001b[0m\u001b[37m\u001b[0m \u001b[1m6s\u001b[0m 1ms/step - accuracy: 0.9796 - loss: 0.0788 - val_accuracy: 0.9808 - val_loss: 0.0764\n",
      "\u001b[1m1368/1368\u001b[0m \u001b[32m━━━━━━━━━━━━━━━━━━━━\u001b[0m\u001b[37m\u001b[0m \u001b[1m1s\u001b[0m 612us/step\n"
     ]
    },
    {
     "name": "stderr",
     "output_type": "stream",
     "text": [
      " 69%|██████▊   | 116/169 [1:09:10<33:03, 37.42s/it]"
     ]
    },
    {
     "name": "stdout",
     "output_type": "stream",
     "text": [
      "Epoch 1/5\n",
      "\u001b[1m4896/4896\u001b[0m \u001b[32m━━━━━━━━━━━━━━━━━━━━\u001b[0m\u001b[37m\u001b[0m \u001b[1m6s\u001b[0m 1ms/step - accuracy: 0.9801 - loss: 0.0778 - val_accuracy: 0.9812 - val_loss: 0.0715\n",
      "Epoch 2/5\n",
      "\u001b[1m4896/4896\u001b[0m \u001b[32m━━━━━━━━━━━━━━━━━━━━\u001b[0m\u001b[37m\u001b[0m \u001b[1m6s\u001b[0m 1ms/step - accuracy: 0.9803 - loss: 0.0779 - val_accuracy: 0.9812 - val_loss: 0.0716\n",
      "Epoch 3/5\n",
      "\u001b[1m4896/4896\u001b[0m \u001b[32m━━━━━━━━━━━━━━━━━━━━\u001b[0m\u001b[37m\u001b[0m \u001b[1m6s\u001b[0m 1ms/step - accuracy: 0.9807 - loss: 0.0766 - val_accuracy: 0.9813 - val_loss: 0.0715\n",
      "Epoch 4/5\n",
      "\u001b[1m4896/4896\u001b[0m \u001b[32m━━━━━━━━━━━━━━━━━━━━\u001b[0m\u001b[37m\u001b[0m \u001b[1m6s\u001b[0m 1ms/step - accuracy: 0.9801 - loss: 0.0780 - val_accuracy: 0.9812 - val_loss: 0.0717\n",
      "Epoch 5/5\n",
      "\u001b[1m4896/4896\u001b[0m \u001b[32m━━━━━━━━━━━━━━━━━━━━\u001b[0m\u001b[37m\u001b[0m \u001b[1m6s\u001b[0m 1ms/step - accuracy: 0.9800 - loss: 0.0775 - val_accuracy: 0.9813 - val_loss: 0.0715\n",
      "\u001b[1m1530/1530\u001b[0m \u001b[32m━━━━━━━━━━━━━━━━━━━━\u001b[0m\u001b[37m\u001b[0m \u001b[1m1s\u001b[0m 606us/step\n"
     ]
    },
    {
     "name": "stderr",
     "output_type": "stream",
     "text": [
      " 69%|██████▉   | 117/169 [1:09:43<31:25, 36.26s/it]"
     ]
    },
    {
     "name": "stdout",
     "output_type": "stream",
     "text": [
      "Epoch 1/5\n",
      "\u001b[1m4870/4870\u001b[0m \u001b[32m━━━━━━━━━━━━━━━━━━━━\u001b[0m\u001b[37m\u001b[0m \u001b[1m6s\u001b[0m 1ms/step - accuracy: 0.9803 - loss: 0.0767 - val_accuracy: 0.9808 - val_loss: 0.0770\n",
      "Epoch 2/5\n",
      "\u001b[1m4870/4870\u001b[0m \u001b[32m━━━━━━━━━━━━━━━━━━━━\u001b[0m\u001b[37m\u001b[0m \u001b[1m6s\u001b[0m 1ms/step - accuracy: 0.9803 - loss: 0.0784 - val_accuracy: 0.9807 - val_loss: 0.0771\n",
      "Epoch 3/5\n",
      "\u001b[1m4870/4870\u001b[0m \u001b[32m━━━━━━━━━━━━━━━━━━━━\u001b[0m\u001b[37m\u001b[0m \u001b[1m6s\u001b[0m 1ms/step - accuracy: 0.9804 - loss: 0.0776 - val_accuracy: 0.9807 - val_loss: 0.0771\n",
      "Epoch 4/5\n",
      "\u001b[1m4870/4870\u001b[0m \u001b[32m━━━━━━━━━━━━━━━━━━━━\u001b[0m\u001b[37m\u001b[0m \u001b[1m6s\u001b[0m 1ms/step - accuracy: 0.9800 - loss: 0.0810 - val_accuracy: 0.9808 - val_loss: 0.0770\n",
      "Epoch 5/5\n",
      "\u001b[1m4870/4870\u001b[0m \u001b[32m━━━━━━━━━━━━━━━━━━━━\u001b[0m\u001b[37m\u001b[0m \u001b[1m6s\u001b[0m 1ms/step - accuracy: 0.9798 - loss: 0.0804 - val_accuracy: 0.9808 - val_loss: 0.0772\n",
      "\u001b[1m1522/1522\u001b[0m \u001b[32m━━━━━━━━━━━━━━━━━━━━\u001b[0m\u001b[37m\u001b[0m \u001b[1m1s\u001b[0m 607us/step\n"
     ]
    },
    {
     "name": "stderr",
     "output_type": "stream",
     "text": [
      " 70%|██████▉   | 118/169 [1:10:16<30:03, 35.36s/it]"
     ]
    },
    {
     "name": "stdout",
     "output_type": "stream",
     "text": [
      "Epoch 1/5\n",
      "\u001b[1m4397/4397\u001b[0m \u001b[32m━━━━━━━━━━━━━━━━━━━━\u001b[0m\u001b[37m\u001b[0m \u001b[1m6s\u001b[0m 1ms/step - accuracy: 0.9805 - loss: 0.0767 - val_accuracy: 0.9814 - val_loss: 0.0729\n",
      "Epoch 2/5\n",
      "\u001b[1m4397/4397\u001b[0m \u001b[32m━━━━━━━━━━━━━━━━━━━━\u001b[0m\u001b[37m\u001b[0m \u001b[1m6s\u001b[0m 1ms/step - accuracy: 0.9803 - loss: 0.0793 - val_accuracy: 0.9814 - val_loss: 0.0727\n",
      "Epoch 3/5\n",
      "\u001b[1m4397/4397\u001b[0m \u001b[32m━━━━━━━━━━━━━━━━━━━━\u001b[0m\u001b[37m\u001b[0m \u001b[1m6s\u001b[0m 1ms/step - accuracy: 0.9811 - loss: 0.0767 - val_accuracy: 0.9814 - val_loss: 0.0726\n",
      "Epoch 4/5\n",
      "\u001b[1m4397/4397\u001b[0m \u001b[32m━━━━━━━━━━━━━━━━━━━━\u001b[0m\u001b[37m\u001b[0m \u001b[1m6s\u001b[0m 1ms/step - accuracy: 0.9801 - loss: 0.0793 - val_accuracy: 0.9814 - val_loss: 0.0726\n",
      "Epoch 5/5\n",
      "\u001b[1m4397/4397\u001b[0m \u001b[32m━━━━━━━━━━━━━━━━━━━━\u001b[0m\u001b[37m\u001b[0m \u001b[1m6s\u001b[0m 1ms/step - accuracy: 0.9809 - loss: 0.0759 - val_accuracy: 0.9814 - val_loss: 0.0729\n",
      "\u001b[1m1375/1375\u001b[0m \u001b[32m━━━━━━━━━━━━━━━━━━━━\u001b[0m\u001b[37m\u001b[0m \u001b[1m1s\u001b[0m 600us/step\n"
     ]
    },
    {
     "name": "stderr",
     "output_type": "stream",
     "text": [
      " 70%|███████   | 119/169 [1:10:46<28:07, 33.76s/it]"
     ]
    },
    {
     "name": "stdout",
     "output_type": "stream",
     "text": [
      "Epoch 1/5\n",
      "\u001b[1m4798/4798\u001b[0m \u001b[32m━━━━━━━━━━━━━━━━━━━━\u001b[0m\u001b[37m\u001b[0m \u001b[1m6s\u001b[0m 1ms/step - accuracy: 0.9801 - loss: 0.1055 - val_accuracy: 0.9804 - val_loss: 0.0793\n",
      "Epoch 2/5\n",
      "\u001b[1m4798/4798\u001b[0m \u001b[32m━━━━━━━━━━━━━━━━━━━━\u001b[0m\u001b[37m\u001b[0m \u001b[1m6s\u001b[0m 1ms/step - accuracy: 0.9809 - loss: 0.0764 - val_accuracy: 0.9804 - val_loss: 0.0781\n",
      "Epoch 3/5\n",
      "\u001b[1m4798/4798\u001b[0m \u001b[32m━━━━━━━━━━━━━━━━━━━━\u001b[0m\u001b[37m\u001b[0m \u001b[1m6s\u001b[0m 1ms/step - accuracy: 0.9807 - loss: 0.0769 - val_accuracy: 0.9804 - val_loss: 0.0782\n",
      "Epoch 4/5\n",
      "\u001b[1m4798/4798\u001b[0m \u001b[32m━━━━━━━━━━━━━━━━━━━━\u001b[0m\u001b[37m\u001b[0m \u001b[1m6s\u001b[0m 1ms/step - accuracy: 0.9796 - loss: 0.0800 - val_accuracy: 0.9804 - val_loss: 0.0780\n",
      "Epoch 5/5\n",
      "\u001b[1m4798/4798\u001b[0m \u001b[32m━━━━━━━━━━━━━━━━━━━━\u001b[0m\u001b[37m\u001b[0m \u001b[1m6s\u001b[0m 1ms/step - accuracy: 0.9790 - loss: 0.0819 - val_accuracy: 0.9804 - val_loss: 0.0780\n",
      "\u001b[1m1500/1500\u001b[0m \u001b[32m━━━━━━━━━━━━━━━━━━━━\u001b[0m\u001b[37m\u001b[0m \u001b[1m1s\u001b[0m 600us/step\n"
     ]
    },
    {
     "name": "stderr",
     "output_type": "stream",
     "text": [
      " 71%|███████   | 120/169 [1:11:19<27:18, 33.43s/it]"
     ]
    },
    {
     "name": "stdout",
     "output_type": "stream",
     "text": [
      "Epoch 1/5\n",
      "\u001b[1m4704/4704\u001b[0m \u001b[32m━━━━━━━━━━━━━━━━━━━━\u001b[0m\u001b[37m\u001b[0m \u001b[1m6s\u001b[0m 1ms/step - accuracy: 0.9802 - loss: 0.0749 - val_accuracy: 0.9814 - val_loss: 0.1019\n",
      "Epoch 2/5\n",
      "\u001b[1m4704/4704\u001b[0m \u001b[32m━━━━━━━━━━━━━━━━━━━━\u001b[0m\u001b[37m\u001b[0m \u001b[1m6s\u001b[0m 1ms/step - accuracy: 0.9802 - loss: 0.0763 - val_accuracy: 0.9814 - val_loss: 0.0754\n",
      "Epoch 3/5\n",
      "\u001b[1m4704/4704\u001b[0m \u001b[32m━━━━━━━━━━━━━━━━━━━━\u001b[0m\u001b[37m\u001b[0m \u001b[1m6s\u001b[0m 1ms/step - accuracy: 0.9804 - loss: 0.0750 - val_accuracy: 0.9814 - val_loss: 0.2638\n",
      "Epoch 4/5\n",
      "\u001b[1m4704/4704\u001b[0m \u001b[32m━━━━━━━━━━━━━━━━━━━━\u001b[0m\u001b[37m\u001b[0m \u001b[1m6s\u001b[0m 1ms/step - accuracy: 0.9809 - loss: 0.0902 - val_accuracy: 0.9813 - val_loss: 0.0756\n",
      "Epoch 5/5\n",
      "\u001b[1m4704/4704\u001b[0m \u001b[32m━━━━━━━━━━━━━━━━━━━━\u001b[0m\u001b[37m\u001b[0m \u001b[1m6s\u001b[0m 1ms/step - accuracy: 0.9808 - loss: 0.0734 - val_accuracy: 0.9814 - val_loss: 0.0754\n",
      "\u001b[1m1470/1470\u001b[0m \u001b[32m━━━━━━━━━━━━━━━━━━━━\u001b[0m\u001b[37m\u001b[0m \u001b[1m1s\u001b[0m 596us/step\n"
     ]
    },
    {
     "name": "stderr",
     "output_type": "stream",
     "text": [
      " 72%|███████▏  | 121/169 [1:11:51<26:27, 33.08s/it]"
     ]
    },
    {
     "name": "stdout",
     "output_type": "stream",
     "text": [
      "Epoch 1/5\n",
      "\u001b[1m4932/4932\u001b[0m \u001b[32m━━━━━━━━━━━━━━━━━━━━\u001b[0m\u001b[37m\u001b[0m \u001b[1m6s\u001b[0m 1ms/step - accuracy: 0.9804 - loss: 0.0796 - val_accuracy: 0.9805 - val_loss: 0.0773\n",
      "Epoch 2/5\n",
      "\u001b[1m4932/4932\u001b[0m \u001b[32m━━━━━━━━━━━━━━━━━━━━\u001b[0m\u001b[37m\u001b[0m \u001b[1m7s\u001b[0m 1ms/step - accuracy: 0.9796 - loss: 0.0789 - val_accuracy: 0.9805 - val_loss: 0.0773\n",
      "Epoch 3/5\n",
      "\u001b[1m4932/4932\u001b[0m \u001b[32m━━━━━━━━━━━━━━━━━━━━\u001b[0m\u001b[37m\u001b[0m \u001b[1m6s\u001b[0m 1ms/step - accuracy: 0.9794 - loss: 0.0801 - val_accuracy: 0.9805 - val_loss: 0.0772\n",
      "Epoch 4/5\n",
      "\u001b[1m4932/4932\u001b[0m \u001b[32m━━━━━━━━━━━━━━━━━━━━\u001b[0m\u001b[37m\u001b[0m \u001b[1m6s\u001b[0m 1ms/step - accuracy: 0.9802 - loss: 0.1030 - val_accuracy: 0.9805 - val_loss: 0.0773\n",
      "Epoch 5/5\n",
      "\u001b[1m4932/4932\u001b[0m \u001b[32m━━━━━━━━━━━━━━━━━━━━\u001b[0m\u001b[37m\u001b[0m \u001b[1m6s\u001b[0m 1ms/step - accuracy: 0.9797 - loss: 0.1297 - val_accuracy: 0.9806 - val_loss: 0.0772\n",
      "\u001b[1m1542/1542\u001b[0m \u001b[32m━━━━━━━━━━━━━━━━━━━━\u001b[0m\u001b[37m\u001b[0m \u001b[1m1s\u001b[0m 594us/step\n"
     ]
    },
    {
     "name": "stderr",
     "output_type": "stream",
     "text": [
      " 72%|███████▏  | 122/169 [1:12:25<26:02, 33.25s/it]"
     ]
    },
    {
     "name": "stdout",
     "output_type": "stream",
     "text": [
      "Epoch 1/5\n",
      "\u001b[1m4965/4965\u001b[0m \u001b[32m━━━━━━━━━━━━━━━━━━━━\u001b[0m\u001b[37m\u001b[0m \u001b[1m6s\u001b[0m 1ms/step - accuracy: 0.9810 - loss: 0.0759 - val_accuracy: 0.9807 - val_loss: 0.0757\n",
      "Epoch 2/5\n",
      "\u001b[1m4965/4965\u001b[0m \u001b[32m━━━━━━━━━━━━━━━━━━━━\u001b[0m\u001b[37m\u001b[0m \u001b[1m6s\u001b[0m 1ms/step - accuracy: 0.9809 - loss: 0.0752 - val_accuracy: 0.9807 - val_loss: 0.0765\n",
      "Epoch 3/5\n",
      "\u001b[1m4965/4965\u001b[0m \u001b[32m━━━━━━━━━━━━━━━━━━━━\u001b[0m\u001b[37m\u001b[0m \u001b[1m6s\u001b[0m 1ms/step - accuracy: 0.9804 - loss: 0.0923 - val_accuracy: 0.9806 - val_loss: 0.0757\n",
      "Epoch 4/5\n",
      "\u001b[1m4965/4965\u001b[0m \u001b[32m━━━━━━━━━━━━━━━━━━━━\u001b[0m\u001b[37m\u001b[0m \u001b[1m6s\u001b[0m 1ms/step - accuracy: 0.9800 - loss: 0.0786 - val_accuracy: 0.9806 - val_loss: 0.0757\n",
      "Epoch 5/5\n",
      "\u001b[1m4965/4965\u001b[0m \u001b[32m━━━━━━━━━━━━━━━━━━━━\u001b[0m\u001b[37m\u001b[0m \u001b[1m8s\u001b[0m 2ms/step - accuracy: 0.9800 - loss: 0.0766 - val_accuracy: 0.9805 - val_loss: 0.0759\n",
      "\u001b[1m1552/1552\u001b[0m \u001b[32m━━━━━━━━━━━━━━━━━━━━\u001b[0m\u001b[37m\u001b[0m \u001b[1m1s\u001b[0m 624us/step\n"
     ]
    },
    {
     "name": "stderr",
     "output_type": "stream",
     "text": [
      " 73%|███████▎  | 123/169 [1:13:00<25:55, 33.82s/it]"
     ]
    },
    {
     "name": "stdout",
     "output_type": "stream",
     "text": [
      "Epoch 1/5\n",
      "\u001b[1m5132/5132\u001b[0m \u001b[32m━━━━━━━━━━━━━━━━━━━━\u001b[0m\u001b[37m\u001b[0m \u001b[1m7s\u001b[0m 1ms/step - accuracy: 0.9798 - loss: 0.0784 - val_accuracy: 0.9807 - val_loss: 0.0752\n",
      "Epoch 2/5\n",
      "\u001b[1m5132/5132\u001b[0m \u001b[32m━━━━━━━━━━━━━━━━━━━━\u001b[0m\u001b[37m\u001b[0m \u001b[1m7s\u001b[0m 1ms/step - accuracy: 0.9810 - loss: 0.0747 - val_accuracy: 0.9808 - val_loss: 0.0754\n",
      "Epoch 3/5\n",
      "\u001b[1m5132/5132\u001b[0m \u001b[32m━━━━━━━━━━━━━━━━━━━━\u001b[0m\u001b[37m\u001b[0m \u001b[1m7s\u001b[0m 1ms/step - accuracy: 0.9805 - loss: 0.0772 - val_accuracy: 0.9808 - val_loss: 0.0754\n",
      "Epoch 4/5\n",
      "\u001b[1m5132/5132\u001b[0m \u001b[32m━━━━━━━━━━━━━━━━━━━━\u001b[0m\u001b[37m\u001b[0m \u001b[1m7s\u001b[0m 1ms/step - accuracy: 0.9811 - loss: 0.0743 - val_accuracy: 0.9807 - val_loss: 0.0751\n",
      "Epoch 5/5\n",
      "\u001b[1m5132/5132\u001b[0m \u001b[32m━━━━━━━━━━━━━━━━━━━━\u001b[0m\u001b[37m\u001b[0m \u001b[1m7s\u001b[0m 1ms/step - accuracy: 0.9798 - loss: 0.0788 - val_accuracy: 0.9807 - val_loss: 0.0752\n",
      "\u001b[1m1604/1604\u001b[0m \u001b[32m━━━━━━━━━━━━━━━━━━━━\u001b[0m\u001b[37m\u001b[0m \u001b[1m1s\u001b[0m 597us/step\n"
     ]
    },
    {
     "name": "stderr",
     "output_type": "stream",
     "text": [
      " 73%|███████▎  | 124/169 [1:13:36<25:45, 34.33s/it]"
     ]
    },
    {
     "name": "stdout",
     "output_type": "stream",
     "text": [
      "Epoch 1/5\n",
      "\u001b[1m4975/4975\u001b[0m \u001b[32m━━━━━━━━━━━━━━━━━━━━\u001b[0m\u001b[37m\u001b[0m \u001b[1m7s\u001b[0m 1ms/step - accuracy: 0.9799 - loss: 0.0786 - val_accuracy: 0.9806 - val_loss: 0.0764\n",
      "Epoch 2/5\n",
      "\u001b[1m4975/4975\u001b[0m \u001b[32m━━━━━━━━━━━━━━━━━━━━\u001b[0m\u001b[37m\u001b[0m \u001b[1m7s\u001b[0m 1ms/step - accuracy: 0.9801 - loss: 0.0791 - val_accuracy: 0.9806 - val_loss: 0.0765\n",
      "Epoch 3/5\n",
      "\u001b[1m4975/4975\u001b[0m \u001b[32m━━━━━━━━━━━━━━━━━━━━\u001b[0m\u001b[37m\u001b[0m \u001b[1m6s\u001b[0m 1ms/step - accuracy: 0.9803 - loss: 0.0779 - val_accuracy: 0.9806 - val_loss: 0.0764\n",
      "Epoch 4/5\n",
      "\u001b[1m4975/4975\u001b[0m \u001b[32m━━━━━━━━━━━━━━━━━━━━\u001b[0m\u001b[37m\u001b[0m \u001b[1m7s\u001b[0m 1ms/step - accuracy: 0.9813 - loss: 0.0744 - val_accuracy: 0.9806 - val_loss: 0.0765\n",
      "Epoch 5/5\n",
      "\u001b[1m4975/4975\u001b[0m \u001b[32m━━━━━━━━━━━━━━━━━━━━\u001b[0m\u001b[37m\u001b[0m \u001b[1m7s\u001b[0m 1ms/step - accuracy: 0.9801 - loss: 0.0781 - val_accuracy: 0.9806 - val_loss: 0.0765\n",
      "\u001b[1m1555/1555\u001b[0m \u001b[32m━━━━━━━━━━━━━━━━━━━━\u001b[0m\u001b[37m\u001b[0m \u001b[1m1s\u001b[0m 620us/step\n"
     ]
    },
    {
     "name": "stderr",
     "output_type": "stream",
     "text": [
      " 74%|███████▍  | 125/169 [1:14:10<25:12, 34.38s/it]"
     ]
    },
    {
     "name": "stdout",
     "output_type": "stream",
     "text": [
      "Epoch 1/5\n",
      "\u001b[1m8973/8973\u001b[0m \u001b[32m━━━━━━━━━━━━━━━━━━━━\u001b[0m\u001b[37m\u001b[0m \u001b[1m12s\u001b[0m 1ms/step - accuracy: 0.9801 - loss: 0.0872 - val_accuracy: 0.9803 - val_loss: 0.0778\n",
      "Epoch 2/5\n",
      "\u001b[1m8973/8973\u001b[0m \u001b[32m━━━━━━━━━━━━━━━━━━━━\u001b[0m\u001b[37m\u001b[0m \u001b[1m12s\u001b[0m 1ms/step - accuracy: 0.9805 - loss: 0.0764 - val_accuracy: 0.9803 - val_loss: 0.0778\n",
      "Epoch 3/5\n",
      "\u001b[1m8973/8973\u001b[0m \u001b[32m━━━━━━━━━━━━━━━━━━━━\u001b[0m\u001b[37m\u001b[0m \u001b[1m12s\u001b[0m 1ms/step - accuracy: 0.9802 - loss: 0.0782 - val_accuracy: 0.9803 - val_loss: 0.0777\n",
      "Epoch 4/5\n",
      "\u001b[1m8973/8973\u001b[0m \u001b[32m━━━━━━━━━━━━━━━━━━━━\u001b[0m\u001b[37m\u001b[0m \u001b[1m12s\u001b[0m 1ms/step - accuracy: 0.9802 - loss: 0.0766 - val_accuracy: 0.9803 - val_loss: 0.0778\n",
      "Epoch 5/5\n",
      "\u001b[1m8973/8973\u001b[0m \u001b[32m━━━━━━━━━━━━━━━━━━━━\u001b[0m\u001b[37m\u001b[0m \u001b[1m12s\u001b[0m 1ms/step - accuracy: 0.9803 - loss: 0.1597 - val_accuracy: 0.9803 - val_loss: 0.0777\n",
      "\u001b[1m2805/2805\u001b[0m \u001b[32m━━━━━━━━━━━━━━━━━━━━\u001b[0m\u001b[37m\u001b[0m \u001b[1m2s\u001b[0m 606us/step\n"
     ]
    },
    {
     "name": "stderr",
     "output_type": "stream",
     "text": [
      " 75%|███████▍  | 126/169 [1:15:12<30:25, 42.46s/it]"
     ]
    },
    {
     "name": "stdout",
     "output_type": "stream",
     "text": [
      "Epoch 1/5\n",
      "\u001b[1m4693/4693\u001b[0m \u001b[32m━━━━━━━━━━━━━━━━━━━━\u001b[0m\u001b[37m\u001b[0m \u001b[1m6s\u001b[0m 1ms/step - accuracy: 0.9805 - loss: 0.0777 - val_accuracy: 0.9808 - val_loss: 0.0750\n",
      "Epoch 2/5\n",
      "\u001b[1m4693/4693\u001b[0m \u001b[32m━━━━━━━━━━━━━━━━━━━━\u001b[0m\u001b[37m\u001b[0m \u001b[1m6s\u001b[0m 1ms/step - accuracy: 0.9796 - loss: 0.0804 - val_accuracy: 0.9808 - val_loss: 0.0750\n",
      "Epoch 3/5\n",
      "\u001b[1m4693/4693\u001b[0m \u001b[32m━━━━━━━━━━━━━━━━━━━━\u001b[0m\u001b[37m\u001b[0m \u001b[1m6s\u001b[0m 1ms/step - accuracy: 0.9797 - loss: 0.0874 - val_accuracy: 0.9808 - val_loss: 0.0749\n",
      "Epoch 4/5\n",
      "\u001b[1m4693/4693\u001b[0m \u001b[32m━━━━━━━━━━━━━━━━━━━━\u001b[0m\u001b[37m\u001b[0m \u001b[1m6s\u001b[0m 1ms/step - accuracy: 0.9798 - loss: 0.0798 - val_accuracy: 0.9808 - val_loss: 0.0749\n",
      "Epoch 5/5\n",
      "\u001b[1m4693/4693\u001b[0m \u001b[32m━━━━━━━━━━━━━━━━━━━━\u001b[0m\u001b[37m\u001b[0m \u001b[1m6s\u001b[0m 1ms/step - accuracy: 0.9800 - loss: 0.1806 - val_accuracy: 0.9808 - val_loss: 0.0751\n",
      "\u001b[1m1467/1467\u001b[0m \u001b[32m━━━━━━━━━━━━━━━━━━━━\u001b[0m\u001b[37m\u001b[0m \u001b[1m1s\u001b[0m 665us/step\n"
     ]
    },
    {
     "name": "stderr",
     "output_type": "stream",
     "text": [
      " 75%|███████▌  | 127/169 [1:15:44<27:34, 39.38s/it]"
     ]
    },
    {
     "name": "stdout",
     "output_type": "stream",
     "text": [
      "Epoch 1/5\n",
      "\u001b[1m8955/8955\u001b[0m \u001b[32m━━━━━━━━━━━━━━━━━━━━\u001b[0m\u001b[37m\u001b[0m \u001b[1m12s\u001b[0m 1ms/step - accuracy: 0.9805 - loss: 0.0762 - val_accuracy: 0.9795 - val_loss: 0.0785\n",
      "Epoch 2/5\n",
      "\u001b[1m8955/8955\u001b[0m \u001b[32m━━━━━━━━━━━━━━━━━━━━\u001b[0m\u001b[37m\u001b[0m \u001b[1m12s\u001b[0m 1ms/step - accuracy: 0.9799 - loss: 0.0848 - val_accuracy: 0.9794 - val_loss: 0.0785\n",
      "Epoch 3/5\n",
      "\u001b[1m8955/8955\u001b[0m \u001b[32m━━━━━━━━━━━━━━━━━━━━\u001b[0m\u001b[37m\u001b[0m \u001b[1m12s\u001b[0m 1ms/step - accuracy: 0.9800 - loss: 0.0780 - val_accuracy: 0.9795 - val_loss: 0.0784\n",
      "Epoch 4/5\n",
      "\u001b[1m8955/8955\u001b[0m \u001b[32m━━━━━━━━━━━━━━━━━━━━\u001b[0m\u001b[37m\u001b[0m \u001b[1m12s\u001b[0m 1ms/step - accuracy: 0.9804 - loss: 0.0776 - val_accuracy: 0.9795 - val_loss: 0.0784\n",
      "Epoch 5/5\n",
      "\u001b[1m8955/8955\u001b[0m \u001b[32m━━━━━━━━━━━━━━━━━━━━\u001b[0m\u001b[37m\u001b[0m \u001b[1m12s\u001b[0m 1ms/step - accuracy: 0.9808 - loss: 0.0763 - val_accuracy: 0.9795 - val_loss: 0.0788\n",
      "\u001b[1m2799/2799\u001b[0m \u001b[32m━━━━━━━━━━━━━━━━━━━━\u001b[0m\u001b[37m\u001b[0m \u001b[1m2s\u001b[0m 611us/step\n"
     ]
    },
    {
     "name": "stderr",
     "output_type": "stream",
     "text": [
      " 76%|███████▌  | 128/169 [1:16:44<31:14, 45.72s/it]"
     ]
    },
    {
     "name": "stdout",
     "output_type": "stream",
     "text": [
      "Epoch 1/5\n",
      "\u001b[1m4794/4794\u001b[0m \u001b[32m━━━━━━━━━━━━━━━━━━━━\u001b[0m\u001b[37m\u001b[0m \u001b[1m6s\u001b[0m 1ms/step - accuracy: 0.9805 - loss: 0.0760 - val_accuracy: 0.9802 - val_loss: 0.0783\n",
      "Epoch 2/5\n",
      "\u001b[1m4794/4794\u001b[0m \u001b[32m━━━━━━━━━━━━━━━━━━━━\u001b[0m\u001b[37m\u001b[0m \u001b[1m6s\u001b[0m 1ms/step - accuracy: 0.9800 - loss: 0.0775 - val_accuracy: 0.9803 - val_loss: 0.0780\n",
      "Epoch 3/5\n",
      "\u001b[1m4794/4794\u001b[0m \u001b[32m━━━━━━━━━━━━━━━━━━━━\u001b[0m\u001b[37m\u001b[0m \u001b[1m6s\u001b[0m 1ms/step - accuracy: 0.9805 - loss: 0.0901 - val_accuracy: 0.9802 - val_loss: 0.0780\n",
      "Epoch 4/5\n",
      "\u001b[1m4794/4794\u001b[0m \u001b[32m━━━━━━━━━━━━━━━━━━━━\u001b[0m\u001b[37m\u001b[0m \u001b[1m6s\u001b[0m 1ms/step - accuracy: 0.9804 - loss: 0.0770 - val_accuracy: 0.9802 - val_loss: 0.0781\n",
      "Epoch 5/5\n",
      "\u001b[1m4794/4794\u001b[0m \u001b[32m━━━━━━━━━━━━━━━━━━━━\u001b[0m\u001b[37m\u001b[0m \u001b[1m6s\u001b[0m 1ms/step - accuracy: 0.9802 - loss: 0.0770 - val_accuracy: 0.9802 - val_loss: 0.0782\n",
      "\u001b[1m1498/1498\u001b[0m \u001b[32m━━━━━━━━━━━━━━━━━━━━\u001b[0m\u001b[37m\u001b[0m \u001b[1m1s\u001b[0m 600us/step\n"
     ]
    },
    {
     "name": "stderr",
     "output_type": "stream",
     "text": [
      " 76%|███████▋  | 129/169 [1:17:17<27:53, 41.83s/it]"
     ]
    },
    {
     "name": "stdout",
     "output_type": "stream",
     "text": [
      "Epoch 1/5\n",
      "\u001b[1m4593/4593\u001b[0m \u001b[32m━━━━━━━━━━━━━━━━━━━━\u001b[0m\u001b[37m\u001b[0m \u001b[1m7s\u001b[0m 1ms/step - accuracy: 0.9807 - loss: 0.1461 - val_accuracy: 0.9808 - val_loss: 0.0747\n",
      "Epoch 2/5\n",
      "\u001b[1m4593/4593\u001b[0m \u001b[32m━━━━━━━━━━━━━━━━━━━━\u001b[0m\u001b[37m\u001b[0m \u001b[1m6s\u001b[0m 1ms/step - accuracy: 0.9805 - loss: 0.0753 - val_accuracy: 0.9808 - val_loss: 0.0749\n",
      "Epoch 3/5\n",
      "\u001b[1m4593/4593\u001b[0m \u001b[32m━━━━━━━━━━━━━━━━━━━━\u001b[0m\u001b[37m\u001b[0m \u001b[1m6s\u001b[0m 1ms/step - accuracy: 0.9806 - loss: 0.0754 - val_accuracy: 0.9809 - val_loss: 0.0747\n",
      "Epoch 4/5\n",
      "\u001b[1m4593/4593\u001b[0m \u001b[32m━━━━━━━━━━━━━━━━━━━━\u001b[0m\u001b[37m\u001b[0m \u001b[1m6s\u001b[0m 1ms/step - accuracy: 0.9807 - loss: 0.0820 - val_accuracy: 0.9808 - val_loss: 0.0747\n",
      "Epoch 5/5\n",
      "\u001b[1m4593/4593\u001b[0m \u001b[32m━━━━━━━━━━━━━━━━━━━━\u001b[0m\u001b[37m\u001b[0m \u001b[1m6s\u001b[0m 1ms/step - accuracy: 0.9805 - loss: 0.0773 - val_accuracy: 0.9804 - val_loss: 0.0750\n",
      "\u001b[1m1436/1436\u001b[0m \u001b[32m━━━━━━━━━━━━━━━━━━━━\u001b[0m\u001b[37m\u001b[0m \u001b[1m1s\u001b[0m 600us/step\n"
     ]
    },
    {
     "name": "stderr",
     "output_type": "stream",
     "text": [
      " 77%|███████▋  | 130/169 [1:17:49<25:14, 38.83s/it]"
     ]
    },
    {
     "name": "stdout",
     "output_type": "stream",
     "text": [
      "Epoch 1/5\n",
      "\u001b[1m5140/5140\u001b[0m \u001b[32m━━━━━━━━━━━━━━━━━━━━\u001b[0m\u001b[37m\u001b[0m \u001b[1m7s\u001b[0m 1ms/step - accuracy: 0.9800 - loss: 0.0777 - val_accuracy: 0.9797 - val_loss: 0.0780\n",
      "Epoch 2/5\n",
      "\u001b[1m5140/5140\u001b[0m \u001b[32m━━━━━━━━━━━━━━━━━━━━\u001b[0m\u001b[37m\u001b[0m \u001b[1m7s\u001b[0m 1ms/step - accuracy: 0.9798 - loss: 0.0820 - val_accuracy: 0.9797 - val_loss: 0.0782\n",
      "Epoch 3/5\n",
      "\u001b[1m5140/5140\u001b[0m \u001b[32m━━━━━━━━━━━━━━━━━━━━\u001b[0m\u001b[37m\u001b[0m \u001b[1m7s\u001b[0m 1ms/step - accuracy: 0.9803 - loss: 0.1003 - val_accuracy: 0.9797 - val_loss: 0.0779\n",
      "Epoch 4/5\n",
      "\u001b[1m5140/5140\u001b[0m \u001b[32m━━━━━━━━━━━━━━━━━━━━\u001b[0m\u001b[37m\u001b[0m \u001b[1m7s\u001b[0m 1ms/step - accuracy: 0.9806 - loss: 0.0784 - val_accuracy: 0.9803 - val_loss: 0.0774\n",
      "Epoch 5/5\n",
      "\u001b[1m5140/5140\u001b[0m \u001b[32m━━━━━━━━━━━━━━━━━━━━\u001b[0m\u001b[37m\u001b[0m \u001b[1m7s\u001b[0m 1ms/step - accuracy: 0.9802 - loss: 0.0918 - val_accuracy: 0.9803 - val_loss: 0.0775\n",
      "\u001b[1m1606/1606\u001b[0m \u001b[32m━━━━━━━━━━━━━━━━━━━━\u001b[0m\u001b[37m\u001b[0m \u001b[1m1s\u001b[0m 612us/step\n"
     ]
    },
    {
     "name": "stderr",
     "output_type": "stream",
     "text": [
      " 78%|███████▊  | 131/169 [1:18:24<23:55, 37.76s/it]"
     ]
    },
    {
     "name": "stdout",
     "output_type": "stream",
     "text": [
      "Epoch 1/5\n",
      "\u001b[1m8916/8916\u001b[0m \u001b[32m━━━━━━━━━━━━━━━━━━━━\u001b[0m\u001b[37m\u001b[0m \u001b[1m12s\u001b[0m 1ms/step - accuracy: 0.9797 - loss: 0.1205 - val_accuracy: 0.9799 - val_loss: 0.0763\n",
      "Epoch 2/5\n",
      "\u001b[1m8916/8916\u001b[0m \u001b[32m━━━━━━━━━━━━━━━━━━━━\u001b[0m\u001b[37m\u001b[0m \u001b[1m11s\u001b[0m 1ms/step - accuracy: 0.9797 - loss: 0.0791 - val_accuracy: 0.9799 - val_loss: 0.0766\n",
      "Epoch 3/5\n",
      "\u001b[1m8916/8916\u001b[0m \u001b[32m━━━━━━━━━━━━━━━━━━━━\u001b[0m\u001b[37m\u001b[0m \u001b[1m12s\u001b[0m 1ms/step - accuracy: 0.9800 - loss: 0.0786 - val_accuracy: 0.9799 - val_loss: 0.0763\n",
      "Epoch 4/5\n",
      "\u001b[1m8916/8916\u001b[0m \u001b[32m━━━━━━━━━━━━━━━━━━━━\u001b[0m\u001b[37m\u001b[0m \u001b[1m11s\u001b[0m 1ms/step - accuracy: 0.9796 - loss: 0.0780 - val_accuracy: 0.9800 - val_loss: 0.0766\n",
      "Epoch 5/5\n",
      "\u001b[1m8916/8916\u001b[0m \u001b[32m━━━━━━━━━━━━━━━━━━━━\u001b[0m\u001b[37m\u001b[0m \u001b[1m12s\u001b[0m 1ms/step - accuracy: 0.9798 - loss: 0.1910 - val_accuracy: 0.9799 - val_loss: 0.0766\n",
      "\u001b[1m2786/2786\u001b[0m \u001b[32m━━━━━━━━━━━━━━━━━━━━\u001b[0m\u001b[37m\u001b[0m \u001b[1m2s\u001b[0m 622us/step\n"
     ]
    },
    {
     "name": "stderr",
     "output_type": "stream",
     "text": [
      " 78%|███████▊  | 132/169 [1:19:25<27:29, 44.58s/it]"
     ]
    },
    {
     "name": "stdout",
     "output_type": "stream",
     "text": [
      "Epoch 1/5\n",
      "\u001b[1m4782/4782\u001b[0m \u001b[32m━━━━━━━━━━━━━━━━━━━━\u001b[0m\u001b[37m\u001b[0m \u001b[1m6s\u001b[0m 1ms/step - accuracy: 0.9809 - loss: 0.0782 - val_accuracy: 0.9815 - val_loss: 0.0744\n",
      "Epoch 2/5\n",
      "\u001b[1m4782/4782\u001b[0m \u001b[32m━━━━━━━━━━━━━━━━━━━━\u001b[0m\u001b[37m\u001b[0m \u001b[1m6s\u001b[0m 1ms/step - accuracy: 0.9810 - loss: 0.4555 - val_accuracy: 0.9815 - val_loss: 0.0745\n",
      "Epoch 3/5\n",
      "\u001b[1m4782/4782\u001b[0m \u001b[32m━━━━━━━━━━━━━━━━━━━━\u001b[0m\u001b[37m\u001b[0m \u001b[1m6s\u001b[0m 1ms/step - accuracy: 0.9811 - loss: 0.0740 - val_accuracy: 0.9815 - val_loss: 0.0746\n",
      "Epoch 4/5\n",
      "\u001b[1m4782/4782\u001b[0m \u001b[32m━━━━━━━━━━━━━━━━━━━━\u001b[0m\u001b[37m\u001b[0m \u001b[1m6s\u001b[0m 1ms/step - accuracy: 0.9814 - loss: 0.0777 - val_accuracy: 0.9815 - val_loss: 0.0746\n",
      "Epoch 5/5\n",
      "\u001b[1m4782/4782\u001b[0m \u001b[32m━━━━━━━━━━━━━━━━━━━━\u001b[0m\u001b[37m\u001b[0m \u001b[1m6s\u001b[0m 1ms/step - accuracy: 0.9803 - loss: 0.1147 - val_accuracy: 0.9815 - val_loss: 0.0747\n",
      "\u001b[1m1495/1495\u001b[0m \u001b[32m━━━━━━━━━━━━━━━━━━━━\u001b[0m\u001b[37m\u001b[0m \u001b[1m1s\u001b[0m 659us/step\n"
     ]
    },
    {
     "name": "stderr",
     "output_type": "stream",
     "text": [
      " 79%|███████▊  | 133/169 [1:19:57<24:38, 41.06s/it]"
     ]
    },
    {
     "name": "stdout",
     "output_type": "stream",
     "text": [
      "Epoch 1/5\n",
      "\u001b[1m4797/4797\u001b[0m \u001b[32m━━━━━━━━━━━━━━━━━━━━\u001b[0m\u001b[37m\u001b[0m \u001b[1m6s\u001b[0m 1ms/step - accuracy: 0.9793 - loss: 0.0804 - val_accuracy: 0.9797 - val_loss: 0.0799\n",
      "Epoch 2/5\n",
      "\u001b[1m4797/4797\u001b[0m \u001b[32m━━━━━━━━━━━━━━━━━━━━\u001b[0m\u001b[37m\u001b[0m \u001b[1m6s\u001b[0m 1ms/step - accuracy: 0.9800 - loss: 0.0794 - val_accuracy: 0.9798 - val_loss: 0.0798\n",
      "Epoch 3/5\n",
      "\u001b[1m4797/4797\u001b[0m \u001b[32m━━━━━━━━━━━━━━━━━━━━\u001b[0m\u001b[37m\u001b[0m \u001b[1m6s\u001b[0m 1ms/step - accuracy: 0.9792 - loss: 0.0814 - val_accuracy: 0.9798 - val_loss: 0.0802\n",
      "Epoch 4/5\n",
      "\u001b[1m4797/4797\u001b[0m \u001b[32m━━━━━━━━━━━━━━━━━━━━\u001b[0m\u001b[37m\u001b[0m \u001b[1m6s\u001b[0m 1ms/step - accuracy: 0.9796 - loss: 0.0789 - val_accuracy: 0.9798 - val_loss: 0.0801\n",
      "Epoch 5/5\n",
      "\u001b[1m4797/4797\u001b[0m \u001b[32m━━━━━━━━━━━━━━━━━━━━\u001b[0m\u001b[37m\u001b[0m \u001b[1m6s\u001b[0m 1ms/step - accuracy: 0.9794 - loss: 0.0809 - val_accuracy: 0.9798 - val_loss: 0.0803\n",
      "\u001b[1m1499/1499\u001b[0m \u001b[32m━━━━━━━━━━━━━━━━━━━━\u001b[0m\u001b[37m\u001b[0m \u001b[1m1s\u001b[0m 627us/step\n"
     ]
    },
    {
     "name": "stderr",
     "output_type": "stream",
     "text": [
      " 79%|███████▉  | 134/169 [1:20:30<22:32, 38.64s/it]"
     ]
    },
    {
     "name": "stdout",
     "output_type": "stream",
     "text": [
      "Epoch 1/5\n",
      "\u001b[1m4873/4873\u001b[0m \u001b[32m━━━━━━━━━━━━━━━━━━━━\u001b[0m\u001b[37m\u001b[0m \u001b[1m6s\u001b[0m 1ms/step - accuracy: 0.9804 - loss: 0.1475 - val_accuracy: 0.9801 - val_loss: 0.0779\n",
      "Epoch 2/5\n",
      "\u001b[1m4873/4873\u001b[0m \u001b[32m━━━━━━━━━━━━━━━━━━━━\u001b[0m\u001b[37m\u001b[0m \u001b[1m6s\u001b[0m 1ms/step - accuracy: 0.9805 - loss: 0.1602 - val_accuracy: 0.9801 - val_loss: 0.0784\n",
      "Epoch 3/5\n",
      "\u001b[1m4873/4873\u001b[0m \u001b[32m━━━━━━━━━━━━━━━━━━━━\u001b[0m\u001b[37m\u001b[0m \u001b[1m6s\u001b[0m 1ms/step - accuracy: 0.9807 - loss: 0.0771 - val_accuracy: 0.9801 - val_loss: 0.0778\n",
      "Epoch 4/5\n",
      "\u001b[1m4873/4873\u001b[0m \u001b[32m━━━━━━━━━━━━━━━━━━━━\u001b[0m\u001b[37m\u001b[0m \u001b[1m6s\u001b[0m 1ms/step - accuracy: 0.9811 - loss: 0.0749 - val_accuracy: 0.9801 - val_loss: 0.0835\n",
      "Epoch 5/5\n",
      "\u001b[1m4873/4873\u001b[0m \u001b[32m━━━━━━━━━━━━━━━━━━━━\u001b[0m\u001b[37m\u001b[0m \u001b[1m7s\u001b[0m 1ms/step - accuracy: 0.9808 - loss: 0.0818 - val_accuracy: 0.9800 - val_loss: 0.0780\n",
      "\u001b[1m1523/1523\u001b[0m \u001b[32m━━━━━━━━━━━━━━━━━━━━\u001b[0m\u001b[37m\u001b[0m \u001b[1m1s\u001b[0m 613us/step\n"
     ]
    },
    {
     "name": "stderr",
     "output_type": "stream",
     "text": [
      " 80%|███████▉  | 135/169 [1:21:04<21:03, 37.16s/it]"
     ]
    },
    {
     "name": "stdout",
     "output_type": "stream",
     "text": [
      "Epoch 1/5\n",
      "\u001b[1m4785/4785\u001b[0m \u001b[32m━━━━━━━━━━━━━━━━━━━━\u001b[0m\u001b[37m\u001b[0m \u001b[1m6s\u001b[0m 1ms/step - accuracy: 0.9808 - loss: 0.1150 - val_accuracy: 0.9805 - val_loss: 0.0783\n",
      "Epoch 2/5\n",
      "\u001b[1m4785/4785\u001b[0m \u001b[32m━━━━━━━━━━━━━━━━━━━━\u001b[0m\u001b[37m\u001b[0m \u001b[1m6s\u001b[0m 1ms/step - accuracy: 0.9795 - loss: 0.0800 - val_accuracy: 0.9805 - val_loss: 0.0782\n",
      "Epoch 3/5\n",
      "\u001b[1m4785/4785\u001b[0m \u001b[32m━━━━━━━━━━━━━━━━━━━━\u001b[0m\u001b[37m\u001b[0m \u001b[1m6s\u001b[0m 1ms/step - accuracy: 0.9808 - loss: 0.0766 - val_accuracy: 0.9805 - val_loss: 0.0781\n",
      "Epoch 4/5\n",
      "\u001b[1m4785/4785\u001b[0m \u001b[32m━━━━━━━━━━━━━━━━━━━━\u001b[0m\u001b[37m\u001b[0m \u001b[1m6s\u001b[0m 1ms/step - accuracy: 0.9804 - loss: 0.0774 - val_accuracy: 0.9806 - val_loss: 0.0784\n",
      "Epoch 5/5\n",
      "\u001b[1m4785/4785\u001b[0m \u001b[32m━━━━━━━━━━━━━━━━━━━━\u001b[0m\u001b[37m\u001b[0m \u001b[1m6s\u001b[0m 1ms/step - accuracy: 0.9801 - loss: 0.3667 - val_accuracy: 0.9805 - val_loss: 0.0780\n",
      "\u001b[1m1496/1496\u001b[0m \u001b[32m━━━━━━━━━━━━━━━━━━━━\u001b[0m\u001b[37m\u001b[0m \u001b[1m1s\u001b[0m 627us/step\n"
     ]
    },
    {
     "name": "stderr",
     "output_type": "stream",
     "text": [
      " 80%|████████  | 136/169 [1:21:37<19:43, 35.88s/it]"
     ]
    },
    {
     "name": "stdout",
     "output_type": "stream",
     "text": [
      "Epoch 1/5\n",
      "\u001b[1m8895/8895\u001b[0m \u001b[32m━━━━━━━━━━━━━━━━━━━━\u001b[0m\u001b[37m\u001b[0m \u001b[1m11s\u001b[0m 1ms/step - accuracy: 0.9804 - loss: 0.0811 - val_accuracy: 0.9801 - val_loss: 0.0795\n",
      "Epoch 2/5\n",
      "\u001b[1m8895/8895\u001b[0m \u001b[32m━━━━━━━━━━━━━━━━━━━━\u001b[0m\u001b[37m\u001b[0m \u001b[1m11s\u001b[0m 1ms/step - accuracy: 0.9804 - loss: 0.0810 - val_accuracy: 0.9801 - val_loss: 0.0789\n",
      "Epoch 3/5\n",
      "\u001b[1m8895/8895\u001b[0m \u001b[32m━━━━━━━━━━━━━━━━━━━━\u001b[0m\u001b[37m\u001b[0m \u001b[1m12s\u001b[0m 1ms/step - accuracy: 0.9806 - loss: 0.0759 - val_accuracy: 0.9800 - val_loss: 0.0785\n",
      "Epoch 4/5\n",
      "\u001b[1m8895/8895\u001b[0m \u001b[32m━━━━━━━━━━━━━━━━━━━━\u001b[0m\u001b[37m\u001b[0m \u001b[1m11s\u001b[0m 1ms/step - accuracy: 0.9803 - loss: 0.0916 - val_accuracy: 0.9801 - val_loss: 0.0788\n",
      "Epoch 5/5\n",
      "\u001b[1m8895/8895\u001b[0m \u001b[32m━━━━━━━━━━━━━━━━━━━━\u001b[0m\u001b[37m\u001b[0m \u001b[1m11s\u001b[0m 1ms/step - accuracy: 0.9804 - loss: 0.0971 - val_accuracy: 0.9801 - val_loss: 0.0790\n",
      "\u001b[1m2780/2780\u001b[0m \u001b[32m━━━━━━━━━━━━━━━━━━━━\u001b[0m\u001b[37m\u001b[0m \u001b[1m2s\u001b[0m 625us/step\n"
     ]
    },
    {
     "name": "stderr",
     "output_type": "stream",
     "text": [
      " 81%|████████  | 137/169 [1:22:37<23:01, 43.18s/it]"
     ]
    },
    {
     "name": "stdout",
     "output_type": "stream",
     "text": [
      "Epoch 1/5\n",
      "\u001b[1m5130/5130\u001b[0m \u001b[32m━━━━━━━━━━━━━━━━━━━━\u001b[0m\u001b[37m\u001b[0m \u001b[1m7s\u001b[0m 1ms/step - accuracy: 0.9803 - loss: 0.1185 - val_accuracy: 0.9801 - val_loss: 0.0757\n",
      "Epoch 2/5\n",
      "\u001b[1m5130/5130\u001b[0m \u001b[32m━━━━━━━━━━━━━━━━━━━━\u001b[0m\u001b[37m\u001b[0m \u001b[1m7s\u001b[0m 1ms/step - accuracy: 0.9802 - loss: 0.0771 - val_accuracy: 0.9801 - val_loss: 0.0755\n",
      "Epoch 3/5\n",
      "\u001b[1m5130/5130\u001b[0m \u001b[32m━━━━━━━━━━━━━━━━━━━━\u001b[0m\u001b[37m\u001b[0m \u001b[1m7s\u001b[0m 1ms/step - accuracy: 0.9803 - loss: 0.0787 - val_accuracy: 0.9800 - val_loss: 0.0757\n",
      "Epoch 4/5\n",
      "\u001b[1m5130/5130\u001b[0m \u001b[32m━━━━━━━━━━━━━━━━━━━━\u001b[0m\u001b[37m\u001b[0m \u001b[1m7s\u001b[0m 1ms/step - accuracy: 0.9800 - loss: 0.0785 - val_accuracy: 0.9801 - val_loss: 0.0762\n",
      "Epoch 5/5\n",
      "\u001b[1m5130/5130\u001b[0m \u001b[32m━━━━━━━━━━━━━━━━━━━━\u001b[0m\u001b[37m\u001b[0m \u001b[1m7s\u001b[0m 1ms/step - accuracy: 0.9802 - loss: 0.0785 - val_accuracy: 0.9800 - val_loss: 0.0758\n",
      "\u001b[1m1603/1603\u001b[0m \u001b[32m━━━━━━━━━━━━━━━━━━━━\u001b[0m\u001b[37m\u001b[0m \u001b[1m1s\u001b[0m 607us/step\n"
     ]
    },
    {
     "name": "stderr",
     "output_type": "stream",
     "text": [
      " 82%|████████▏ | 138/169 [1:23:12<21:03, 40.77s/it]"
     ]
    },
    {
     "name": "stdout",
     "output_type": "stream",
     "text": [
      "Epoch 1/5\n",
      "\u001b[1m8937/8937\u001b[0m \u001b[32m━━━━━━━━━━━━━━━━━━━━\u001b[0m\u001b[37m\u001b[0m \u001b[1m12s\u001b[0m 1ms/step - accuracy: 0.9804 - loss: 0.0774 - val_accuracy: 0.9798 - val_loss: 0.0788\n",
      "Epoch 2/5\n",
      "\u001b[1m8937/8937\u001b[0m \u001b[32m━━━━━━━━━━━━━━━━━━━━\u001b[0m\u001b[37m\u001b[0m \u001b[1m12s\u001b[0m 1ms/step - accuracy: 0.9800 - loss: 0.2435 - val_accuracy: 0.9798 - val_loss: 0.0790\n",
      "Epoch 3/5\n",
      "\u001b[1m8937/8937\u001b[0m \u001b[32m━━━━━━━━━━━━━━━━━━━━\u001b[0m\u001b[37m\u001b[0m \u001b[1m12s\u001b[0m 1ms/step - accuracy: 0.9807 - loss: 0.0789 - val_accuracy: 0.9798 - val_loss: 0.0786\n",
      "Epoch 4/5\n",
      "\u001b[1m8937/8937\u001b[0m \u001b[32m━━━━━━━━━━━━━━━━━━━━\u001b[0m\u001b[37m\u001b[0m \u001b[1m11s\u001b[0m 1ms/step - accuracy: 0.9811 - loss: 0.1315 - val_accuracy: 0.9798 - val_loss: 0.0787\n",
      "Epoch 5/5\n",
      "\u001b[1m8937/8937\u001b[0m \u001b[32m━━━━━━━━━━━━━━━━━━━━\u001b[0m\u001b[37m\u001b[0m \u001b[1m12s\u001b[0m 1ms/step - accuracy: 0.9805 - loss: 0.0775 - val_accuracy: 0.9798 - val_loss: 0.0787\n",
      "\u001b[1m2793/2793\u001b[0m \u001b[32m━━━━━━━━━━━━━━━━━━━━\u001b[0m\u001b[37m\u001b[0m \u001b[1m2s\u001b[0m 616us/step\n"
     ]
    },
    {
     "name": "stderr",
     "output_type": "stream",
     "text": [
      " 82%|████████▏ | 139/169 [1:24:13<23:22, 46.75s/it]"
     ]
    },
    {
     "name": "stdout",
     "output_type": "stream",
     "text": [
      "Epoch 1/5\n",
      "\u001b[1m4843/4843\u001b[0m \u001b[32m━━━━━━━━━━━━━━━━━━━━\u001b[0m\u001b[37m\u001b[0m \u001b[1m6s\u001b[0m 1ms/step - accuracy: 0.9796 - loss: 0.0827 - val_accuracy: 0.9815 - val_loss: 0.0735\n",
      "Epoch 2/5\n",
      "\u001b[1m4843/4843\u001b[0m \u001b[32m━━━━━━━━━━━━━━━━━━━━\u001b[0m\u001b[37m\u001b[0m \u001b[1m6s\u001b[0m 1ms/step - accuracy: 0.9795 - loss: 0.0789 - val_accuracy: 0.9815 - val_loss: 0.0727\n",
      "Epoch 3/5\n",
      "\u001b[1m4843/4843\u001b[0m \u001b[32m━━━━━━━━━━━━━━━━━━━━\u001b[0m\u001b[37m\u001b[0m \u001b[1m6s\u001b[0m 1ms/step - accuracy: 0.9796 - loss: 0.0776 - val_accuracy: 0.9815 - val_loss: 0.0733\n",
      "Epoch 4/5\n",
      "\u001b[1m4843/4843\u001b[0m \u001b[32m━━━━━━━━━━━━━━━━━━━━\u001b[0m\u001b[37m\u001b[0m \u001b[1m6s\u001b[0m 1ms/step - accuracy: 0.9791 - loss: 0.0807 - val_accuracy: 0.9815 - val_loss: 0.0732\n",
      "Epoch 5/5\n",
      "\u001b[1m4843/4843\u001b[0m \u001b[32m━━━━━━━━━━━━━━━━━━━━\u001b[0m\u001b[37m\u001b[0m \u001b[1m6s\u001b[0m 1ms/step - accuracy: 0.9796 - loss: 0.0844 - val_accuracy: 0.9815 - val_loss: 0.0727\n",
      "\u001b[1m1514/1514\u001b[0m \u001b[32m━━━━━━━━━━━━━━━━━━━━\u001b[0m\u001b[37m\u001b[0m \u001b[1m1s\u001b[0m 596us/step\n"
     ]
    },
    {
     "name": "stderr",
     "output_type": "stream",
     "text": [
      " 83%|████████▎ | 140/169 [1:24:46<20:37, 42.66s/it]"
     ]
    },
    {
     "name": "stdout",
     "output_type": "stream",
     "text": [
      "Epoch 1/5\n",
      "\u001b[1m8985/8985\u001b[0m \u001b[32m━━━━━━━━━━━━━━━━━━━━\u001b[0m\u001b[37m\u001b[0m \u001b[1m12s\u001b[0m 1ms/step - accuracy: 0.9802 - loss: 0.1018 - val_accuracy: 0.9793 - val_loss: 0.0808\n",
      "Epoch 2/5\n",
      "\u001b[1m8985/8985\u001b[0m \u001b[32m━━━━━━━━━━━━━━━━━━━━\u001b[0m\u001b[37m\u001b[0m \u001b[1m12s\u001b[0m 1ms/step - accuracy: 0.9807 - loss: 0.0856 - val_accuracy: 0.9793 - val_loss: 0.0808\n",
      "Epoch 3/5\n",
      "\u001b[1m8985/8985\u001b[0m \u001b[32m━━━━━━━━━━━━━━━━━━━━\u001b[0m\u001b[37m\u001b[0m \u001b[1m12s\u001b[0m 1ms/step - accuracy: 0.9803 - loss: 0.0766 - val_accuracy: 0.9793 - val_loss: 0.0810\n",
      "Epoch 4/5\n",
      "\u001b[1m8985/8985\u001b[0m \u001b[32m━━━━━━━━━━━━━━━━━━━━\u001b[0m\u001b[37m\u001b[0m \u001b[1m12s\u001b[0m 1ms/step - accuracy: 0.9799 - loss: 0.9195 - val_accuracy: 0.9794 - val_loss: 0.0808\n",
      "Epoch 5/5\n",
      "\u001b[1m8985/8985\u001b[0m \u001b[32m━━━━━━━━━━━━━━━━━━━━\u001b[0m\u001b[37m\u001b[0m \u001b[1m12s\u001b[0m 1ms/step - accuracy: 0.9803 - loss: 0.1729 - val_accuracy: 0.9793 - val_loss: 0.0809\n",
      "\u001b[1m2808/2808\u001b[0m \u001b[32m━━━━━━━━━━━━━━━━━━━━\u001b[0m\u001b[37m\u001b[0m \u001b[1m2s\u001b[0m 656us/step\n"
     ]
    },
    {
     "name": "stderr",
     "output_type": "stream",
     "text": [
      " 83%|████████▎ | 141/169 [1:25:47<22:30, 48.25s/it]"
     ]
    },
    {
     "name": "stdout",
     "output_type": "stream",
     "text": [
      "Epoch 1/5\n",
      "\u001b[1m4480/4480\u001b[0m \u001b[32m━━━━━━━━━━━━━━━━━━━━\u001b[0m\u001b[37m\u001b[0m \u001b[1m6s\u001b[0m 1ms/step - accuracy: 0.9796 - loss: 0.0823 - val_accuracy: 0.9788 - val_loss: 0.0819\n",
      "Epoch 2/5\n",
      "\u001b[1m4480/4480\u001b[0m \u001b[32m━━━━━━━━━━━━━━━━━━━━\u001b[0m\u001b[37m\u001b[0m \u001b[1m6s\u001b[0m 1ms/step - accuracy: 0.9797 - loss: 0.0789 - val_accuracy: 0.9788 - val_loss: 0.0818\n",
      "Epoch 3/5\n",
      "\u001b[1m4480/4480\u001b[0m \u001b[32m━━━━━━━━━━━━━━━━━━━━\u001b[0m\u001b[37m\u001b[0m \u001b[1m6s\u001b[0m 1ms/step - accuracy: 0.9803 - loss: 0.0767 - val_accuracy: 0.9788 - val_loss: 0.0816\n",
      "Epoch 4/5\n",
      "\u001b[1m4480/4480\u001b[0m \u001b[32m━━━━━━━━━━━━━━━━━━━━\u001b[0m\u001b[37m\u001b[0m \u001b[1m6s\u001b[0m 1ms/step - accuracy: 0.9802 - loss: 0.0769 - val_accuracy: 0.9788 - val_loss: 0.0817\n",
      "Epoch 5/5\n",
      "\u001b[1m4480/4480\u001b[0m \u001b[32m━━━━━━━━━━━━━━━━━━━━\u001b[0m\u001b[37m\u001b[0m \u001b[1m6s\u001b[0m 1ms/step - accuracy: 0.9799 - loss: 0.0786 - val_accuracy: 0.9788 - val_loss: 0.0821\n",
      "\u001b[1m1400/1400\u001b[0m \u001b[32m━━━━━━━━━━━━━━━━━━━━\u001b[0m\u001b[37m\u001b[0m \u001b[1m1s\u001b[0m 634us/step\n"
     ]
    },
    {
     "name": "stderr",
     "output_type": "stream",
     "text": [
      " 84%|████████▍ | 142/169 [1:26:18<19:21, 43.01s/it]"
     ]
    },
    {
     "name": "stdout",
     "output_type": "stream",
     "text": [
      "Epoch 1/5\n",
      "\u001b[1m5214/5214\u001b[0m \u001b[32m━━━━━━━━━━━━━━━━━━━━\u001b[0m\u001b[37m\u001b[0m \u001b[1m7s\u001b[0m 1ms/step - accuracy: 0.9801 - loss: 0.0770 - val_accuracy: 0.9798 - val_loss: 0.0792\n",
      "Epoch 2/5\n",
      "\u001b[1m5214/5214\u001b[0m \u001b[32m━━━━━━━━━━━━━━━━━━━━\u001b[0m\u001b[37m\u001b[0m \u001b[1m7s\u001b[0m 1ms/step - accuracy: 0.9801 - loss: 0.0777 - val_accuracy: 0.9799 - val_loss: 0.0793\n",
      "Epoch 3/5\n",
      "\u001b[1m5214/5214\u001b[0m \u001b[32m━━━━━━━━━━━━━━━━━━━━\u001b[0m\u001b[37m\u001b[0m \u001b[1m7s\u001b[0m 1ms/step - accuracy: 0.9803 - loss: 0.0766 - val_accuracy: 0.9799 - val_loss: 0.0799\n",
      "Epoch 4/5\n",
      "\u001b[1m5214/5214\u001b[0m \u001b[32m━━━━━━━━━━━━━━━━━━━━\u001b[0m\u001b[37m\u001b[0m \u001b[1m7s\u001b[0m 1ms/step - accuracy: 0.9808 - loss: 0.3223 - val_accuracy: 0.9799 - val_loss: 0.0800\n",
      "Epoch 5/5\n",
      "\u001b[1m5214/5214\u001b[0m \u001b[32m━━━━━━━━━━━━━━━━━━━━\u001b[0m\u001b[37m\u001b[0m \u001b[1m7s\u001b[0m 1ms/step - accuracy: 0.9799 - loss: 0.0787 - val_accuracy: 0.9799 - val_loss: 0.0795\n",
      "\u001b[1m1630/1630\u001b[0m \u001b[32m━━━━━━━━━━━━━━━━━━━━\u001b[0m\u001b[37m\u001b[0m \u001b[1m1s\u001b[0m 625us/step\n"
     ]
    },
    {
     "name": "stderr",
     "output_type": "stream",
     "text": [
      " 85%|████████▍ | 143/169 [1:26:54<17:39, 40.77s/it]"
     ]
    },
    {
     "name": "stdout",
     "output_type": "stream",
     "text": [
      "Epoch 1/5\n",
      "\u001b[1m4784/4784\u001b[0m \u001b[32m━━━━━━━━━━━━━━━━━━━━\u001b[0m\u001b[37m\u001b[0m \u001b[1m6s\u001b[0m 1ms/step - accuracy: 0.9809 - loss: 0.0747 - val_accuracy: 0.9806 - val_loss: 0.0782\n",
      "Epoch 2/5\n",
      "\u001b[1m4784/4784\u001b[0m \u001b[32m━━━━━━━━━━━━━━━━━━━━\u001b[0m\u001b[37m\u001b[0m \u001b[1m6s\u001b[0m 1ms/step - accuracy: 0.9807 - loss: 0.0757 - val_accuracy: 0.9807 - val_loss: 0.0781\n",
      "Epoch 3/5\n",
      "\u001b[1m4784/4784\u001b[0m \u001b[32m━━━━━━━━━━━━━━━━━━━━\u001b[0m\u001b[37m\u001b[0m \u001b[1m6s\u001b[0m 1ms/step - accuracy: 0.9812 - loss: 0.0742 - val_accuracy: 0.9807 - val_loss: 0.0781\n",
      "Epoch 4/5\n",
      "\u001b[1m4784/4784\u001b[0m \u001b[32m━━━━━━━━━━━━━━━━━━━━\u001b[0m\u001b[37m\u001b[0m \u001b[1m6s\u001b[0m 1ms/step - accuracy: 0.9803 - loss: 0.0770 - val_accuracy: 0.9807 - val_loss: 0.0782\n",
      "Epoch 5/5\n",
      "\u001b[1m4784/4784\u001b[0m \u001b[32m━━━━━━━━━━━━━━━━━━━━\u001b[0m\u001b[37m\u001b[0m \u001b[1m6s\u001b[0m 1ms/step - accuracy: 0.9809 - loss: 0.0752 - val_accuracy: 0.9807 - val_loss: 0.0781\n",
      "\u001b[1m1496/1496\u001b[0m \u001b[32m━━━━━━━━━━━━━━━━━━━━\u001b[0m\u001b[37m\u001b[0m \u001b[1m1s\u001b[0m 607us/step\n"
     ]
    },
    {
     "name": "stderr",
     "output_type": "stream",
     "text": [
      " 85%|████████▌ | 144/169 [1:27:27<16:00, 38.42s/it]"
     ]
    },
    {
     "name": "stdout",
     "output_type": "stream",
     "text": [
      "Epoch 1/5\n",
      "\u001b[1m4898/4898\u001b[0m \u001b[32m━━━━━━━━━━━━━━━━━━━━\u001b[0m\u001b[37m\u001b[0m \u001b[1m6s\u001b[0m 1ms/step - accuracy: 0.9810 - loss: 0.5329 - val_accuracy: 0.9803 - val_loss: 0.0776\n",
      "Epoch 2/5\n",
      "\u001b[1m4898/4898\u001b[0m \u001b[32m━━━━━━━━━━━━━━━━━━━━\u001b[0m\u001b[37m\u001b[0m \u001b[1m6s\u001b[0m 1ms/step - accuracy: 0.9810 - loss: 0.2052 - val_accuracy: 0.9803 - val_loss: 0.0775\n",
      "Epoch 3/5\n",
      "\u001b[1m4898/4898\u001b[0m \u001b[32m━━━━━━━━━━━━━━━━━━━━\u001b[0m\u001b[37m\u001b[0m \u001b[1m6s\u001b[0m 1ms/step - accuracy: 0.9808 - loss: 0.0958 - val_accuracy: 0.9803 - val_loss: 0.0776\n",
      "Epoch 4/5\n",
      "\u001b[1m4898/4898\u001b[0m \u001b[32m━━━━━━━━━━━━━━━━━━━━\u001b[0m\u001b[37m\u001b[0m \u001b[1m6s\u001b[0m 1ms/step - accuracy: 0.9810 - loss: 0.0785 - val_accuracy: 0.9804 - val_loss: 0.0775\n",
      "Epoch 5/5\n",
      "\u001b[1m4898/4898\u001b[0m \u001b[32m━━━━━━━━━━━━━━━━━━━━\u001b[0m\u001b[37m\u001b[0m \u001b[1m6s\u001b[0m 1ms/step - accuracy: 0.9808 - loss: 0.0756 - val_accuracy: 0.9804 - val_loss: 0.0776\n",
      "\u001b[1m1531/1531\u001b[0m \u001b[32m━━━━━━━━━━━━━━━━━━━━\u001b[0m\u001b[37m\u001b[0m \u001b[1m1s\u001b[0m 597us/step\n"
     ]
    },
    {
     "name": "stderr",
     "output_type": "stream",
     "text": [
      " 86%|████████▌ | 145/169 [1:28:00<14:43, 36.83s/it]"
     ]
    },
    {
     "name": "stdout",
     "output_type": "stream",
     "text": [
      "Epoch 1/5\n",
      "\u001b[1m8855/8855\u001b[0m \u001b[32m━━━━━━━━━━━━━━━━━━━━\u001b[0m\u001b[37m\u001b[0m \u001b[1m11s\u001b[0m 1ms/step - accuracy: 0.9804 - loss: 0.0891 - val_accuracy: 0.9796 - val_loss: 0.0794\n",
      "Epoch 2/5\n",
      "\u001b[1m8855/8855\u001b[0m \u001b[32m━━━━━━━━━━━━━━━━━━━━\u001b[0m\u001b[37m\u001b[0m \u001b[1m11s\u001b[0m 1ms/step - accuracy: 0.9805 - loss: 0.1599 - val_accuracy: 0.9796 - val_loss: 0.0796\n",
      "Epoch 3/5\n",
      "\u001b[1m8855/8855\u001b[0m \u001b[32m━━━━━━━━━━━━━━━━━━━━\u001b[0m\u001b[37m\u001b[0m \u001b[1m11s\u001b[0m 1ms/step - accuracy: 0.9802 - loss: 0.0764 - val_accuracy: 0.9797 - val_loss: 0.0808\n",
      "Epoch 4/5\n",
      "\u001b[1m8855/8855\u001b[0m \u001b[32m━━━━━━━━━━━━━━━━━━━━\u001b[0m\u001b[37m\u001b[0m \u001b[1m12s\u001b[0m 1ms/step - accuracy: 0.9803 - loss: 0.0759 - val_accuracy: 0.9796 - val_loss: 0.0797\n",
      "Epoch 5/5\n",
      "\u001b[1m8855/8855\u001b[0m \u001b[32m━━━━━━━━━━━━━━━━━━━━\u001b[0m\u001b[37m\u001b[0m \u001b[1m12s\u001b[0m 1ms/step - accuracy: 0.9801 - loss: 0.0865 - val_accuracy: 0.9796 - val_loss: 0.0797\n",
      "\u001b[1m2768/2768\u001b[0m \u001b[32m━━━━━━━━━━━━━━━━━━━━\u001b[0m\u001b[37m\u001b[0m \u001b[1m2s\u001b[0m 615us/step\n"
     ]
    },
    {
     "name": "stderr",
     "output_type": "stream",
     "text": [
      " 86%|████████▋ | 146/169 [1:29:00<16:49, 43.91s/it]"
     ]
    },
    {
     "name": "stdout",
     "output_type": "stream",
     "text": [
      "Epoch 1/5\n",
      "\u001b[1m4543/4543\u001b[0m \u001b[32m━━━━━━━━━━━━━━━━━━━━\u001b[0m\u001b[37m\u001b[0m \u001b[1m6s\u001b[0m 1ms/step - accuracy: 0.9801 - loss: 0.0817 - val_accuracy: 0.9802 - val_loss: 0.0751\n",
      "Epoch 2/5\n",
      "\u001b[1m4543/4543\u001b[0m \u001b[32m━━━━━━━━━━━━━━━━━━━━\u001b[0m\u001b[37m\u001b[0m \u001b[1m6s\u001b[0m 1ms/step - accuracy: 0.9804 - loss: 0.0760 - val_accuracy: 0.9802 - val_loss: 0.3327\n",
      "Epoch 3/5\n",
      "\u001b[1m4543/4543\u001b[0m \u001b[32m━━━━━━━━━━━━━━━━━━━━\u001b[0m\u001b[37m\u001b[0m \u001b[1m6s\u001b[0m 1ms/step - accuracy: 0.9796 - loss: 0.0937 - val_accuracy: 0.9802 - val_loss: 0.0747\n",
      "Epoch 4/5\n",
      "\u001b[1m4543/4543\u001b[0m \u001b[32m━━━━━━━━━━━━━━━━━━━━\u001b[0m\u001b[37m\u001b[0m \u001b[1m6s\u001b[0m 1ms/step - accuracy: 0.9801 - loss: 0.0778 - val_accuracy: 0.9802 - val_loss: 0.0747\n",
      "Epoch 5/5\n",
      "\u001b[1m4543/4543\u001b[0m \u001b[32m━━━━━━━━━━━━━━━━━━━━\u001b[0m\u001b[37m\u001b[0m \u001b[1m6s\u001b[0m 1ms/step - accuracy: 0.9801 - loss: 0.0766 - val_accuracy: 0.9802 - val_loss: 0.0748\n",
      "\u001b[1m1420/1420\u001b[0m \u001b[32m━━━━━━━━━━━━━━━━━━━━\u001b[0m\u001b[37m\u001b[0m \u001b[1m1s\u001b[0m 603us/step\n"
     ]
    },
    {
     "name": "stderr",
     "output_type": "stream",
     "text": [
      " 87%|████████▋ | 147/169 [1:29:32<14:42, 40.13s/it]"
     ]
    },
    {
     "name": "stdout",
     "output_type": "stream",
     "text": [
      "Epoch 1/5\n",
      "\u001b[1m4758/4758\u001b[0m \u001b[32m━━━━━━━━━━━━━━━━━━━━\u001b[0m\u001b[37m\u001b[0m \u001b[1m6s\u001b[0m 1ms/step - accuracy: 0.9800 - loss: 0.0784 - val_accuracy: 0.9801 - val_loss: 0.0793\n",
      "Epoch 2/5\n",
      "\u001b[1m4758/4758\u001b[0m \u001b[32m━━━━━━━━━━━━━━━━━━━━\u001b[0m\u001b[37m\u001b[0m \u001b[1m6s\u001b[0m 1ms/step - accuracy: 0.9808 - loss: 0.0758 - val_accuracy: 0.9801 - val_loss: 0.0794\n",
      "Epoch 3/5\n",
      "\u001b[1m4758/4758\u001b[0m \u001b[32m━━━━━━━━━━━━━━━━━━━━\u001b[0m\u001b[37m\u001b[0m \u001b[1m6s\u001b[0m 1ms/step - accuracy: 0.9803 - loss: 0.0779 - val_accuracy: 0.9801 - val_loss: 0.0793\n",
      "Epoch 4/5\n",
      "\u001b[1m4758/4758\u001b[0m \u001b[32m━━━━━━━━━━━━━━━━━━━━\u001b[0m\u001b[37m\u001b[0m \u001b[1m6s\u001b[0m 1ms/step - accuracy: 0.9799 - loss: 0.0794 - val_accuracy: 0.9801 - val_loss: 0.0793\n",
      "Epoch 5/5\n",
      "\u001b[1m4758/4758\u001b[0m \u001b[32m━━━━━━━━━━━━━━━━━━━━\u001b[0m\u001b[37m\u001b[0m \u001b[1m6s\u001b[0m 1ms/step - accuracy: 0.9804 - loss: 0.0776 - val_accuracy: 0.9801 - val_loss: 0.0793\n",
      "\u001b[1m1487/1487\u001b[0m \u001b[32m━━━━━━━━━━━━━━━━━━━━\u001b[0m\u001b[37m\u001b[0m \u001b[1m1s\u001b[0m 603us/step\n"
     ]
    },
    {
     "name": "stderr",
     "output_type": "stream",
     "text": [
      " 88%|████████▊ | 148/169 [1:30:05<13:17, 37.96s/it]"
     ]
    },
    {
     "name": "stdout",
     "output_type": "stream",
     "text": [
      "Epoch 1/5\n",
      "\u001b[1m4701/4701\u001b[0m \u001b[32m━━━━━━━━━━━━━━━━━━━━\u001b[0m\u001b[37m\u001b[0m \u001b[1m6s\u001b[0m 1ms/step - accuracy: 0.9805 - loss: 0.0774 - val_accuracy: 0.9810 - val_loss: 0.0865\n",
      "Epoch 2/5\n",
      "\u001b[1m4701/4701\u001b[0m \u001b[32m━━━━━━━━━━━━━━━━━━━━\u001b[0m\u001b[37m\u001b[0m \u001b[1m6s\u001b[0m 1ms/step - accuracy: 0.9802 - loss: 0.2611 - val_accuracy: 0.9809 - val_loss: 0.0783\n",
      "Epoch 3/5\n",
      "\u001b[1m4701/4701\u001b[0m \u001b[32m━━━━━━━━━━━━━━━━━━━━\u001b[0m\u001b[37m\u001b[0m \u001b[1m6s\u001b[0m 1ms/step - accuracy: 0.9808 - loss: 0.0751 - val_accuracy: 0.9809 - val_loss: 0.0780\n",
      "Epoch 4/5\n",
      "\u001b[1m4701/4701\u001b[0m \u001b[32m━━━━━━━━━━━━━━━━━━━━\u001b[0m\u001b[37m\u001b[0m \u001b[1m6s\u001b[0m 1ms/step - accuracy: 0.9811 - loss: 0.0739 - val_accuracy: 0.9810 - val_loss: 0.0794\n",
      "Epoch 5/5\n",
      "\u001b[1m4701/4701\u001b[0m \u001b[32m━━━━━━━━━━━━━━━━━━━━\u001b[0m\u001b[37m\u001b[0m \u001b[1m6s\u001b[0m 1ms/step - accuracy: 0.9806 - loss: 0.0758 - val_accuracy: 0.9809 - val_loss: 0.0780\n",
      "\u001b[1m1469/1469\u001b[0m \u001b[32m━━━━━━━━━━━━━━━━━━━━\u001b[0m\u001b[37m\u001b[0m \u001b[1m1s\u001b[0m 616us/step\n"
     ]
    },
    {
     "name": "stderr",
     "output_type": "stream",
     "text": [
      " 88%|████████▊ | 149/169 [1:30:37<12:08, 36.41s/it]"
     ]
    },
    {
     "name": "stdout",
     "output_type": "stream",
     "text": [
      "Epoch 1/5\n",
      "\u001b[1m8918/8918\u001b[0m \u001b[32m━━━━━━━━━━━━━━━━━━━━\u001b[0m\u001b[37m\u001b[0m \u001b[1m12s\u001b[0m 1ms/step - accuracy: 0.9802 - loss: 0.0816 - val_accuracy: 0.9803 - val_loss: 0.0759\n",
      "Epoch 2/5\n",
      "\u001b[1m8918/8918\u001b[0m \u001b[32m━━━━━━━━━━━━━━━━━━━━\u001b[0m\u001b[37m\u001b[0m \u001b[1m12s\u001b[0m 1ms/step - accuracy: 0.9803 - loss: 0.0761 - val_accuracy: 0.9804 - val_loss: 0.0758\n",
      "Epoch 3/5\n",
      "\u001b[1m8918/8918\u001b[0m \u001b[32m━━━━━━━━━━━━━━━━━━━━\u001b[0m\u001b[37m\u001b[0m \u001b[1m12s\u001b[0m 1ms/step - accuracy: 0.9805 - loss: 0.0761 - val_accuracy: 0.9803 - val_loss: 0.0761\n",
      "Epoch 4/5\n",
      "\u001b[1m8918/8918\u001b[0m \u001b[32m━━━━━━━━━━━━━━━━━━━━\u001b[0m\u001b[37m\u001b[0m \u001b[1m12s\u001b[0m 1ms/step - accuracy: 0.9808 - loss: 0.1501 - val_accuracy: 0.9803 - val_loss: 0.0757\n",
      "Epoch 5/5\n",
      "\u001b[1m8918/8918\u001b[0m \u001b[32m━━━━━━━━━━━━━━━━━━━━\u001b[0m\u001b[37m\u001b[0m \u001b[1m11s\u001b[0m 1ms/step - accuracy: 0.9803 - loss: 0.1960 - val_accuracy: 0.9804 - val_loss: 0.0758\n",
      "\u001b[1m2787/2787\u001b[0m \u001b[32m━━━━━━━━━━━━━━━━━━━━\u001b[0m\u001b[37m\u001b[0m \u001b[1m2s\u001b[0m 620us/step\n"
     ]
    },
    {
     "name": "stderr",
     "output_type": "stream",
     "text": [
      " 89%|████████▉ | 150/169 [1:31:38<13:52, 43.79s/it]"
     ]
    },
    {
     "name": "stdout",
     "output_type": "stream",
     "text": [
      "Epoch 1/5\n",
      "\u001b[1m4644/4644\u001b[0m \u001b[32m━━━━━━━━━━━━━━━━━━━━\u001b[0m\u001b[37m\u001b[0m \u001b[1m6s\u001b[0m 1ms/step - accuracy: 0.9808 - loss: 0.4734 - val_accuracy: 0.9800 - val_loss: 0.0774\n",
      "Epoch 2/5\n",
      "\u001b[1m4644/4644\u001b[0m \u001b[32m━━━━━━━━━━━━━━━━━━━━\u001b[0m\u001b[37m\u001b[0m \u001b[1m6s\u001b[0m 1ms/step - accuracy: 0.9808 - loss: 0.0765 - val_accuracy: 0.9799 - val_loss: 0.0774\n",
      "Epoch 3/5\n",
      "\u001b[1m4644/4644\u001b[0m \u001b[32m━━━━━━━━━━━━━━━━━━━━\u001b[0m\u001b[37m\u001b[0m \u001b[1m6s\u001b[0m 1ms/step - accuracy: 0.9804 - loss: 0.0759 - val_accuracy: 0.9799 - val_loss: 0.0776\n",
      "Epoch 4/5\n",
      "\u001b[1m4644/4644\u001b[0m \u001b[32m━━━━━━━━━━━━━━━━━━━━\u001b[0m\u001b[37m\u001b[0m \u001b[1m6s\u001b[0m 1ms/step - accuracy: 0.9804 - loss: 1.8745 - val_accuracy: 0.9800 - val_loss: 0.0773\n",
      "Epoch 5/5\n",
      "\u001b[1m4644/4644\u001b[0m \u001b[32m━━━━━━━━━━━━━━━━━━━━\u001b[0m\u001b[37m\u001b[0m \u001b[1m6s\u001b[0m 1ms/step - accuracy: 0.9804 - loss: 0.0784 - val_accuracy: 0.9800 - val_loss: 0.0775\n",
      "\u001b[1m1452/1452\u001b[0m \u001b[32m━━━━━━━━━━━━━━━━━━━━\u001b[0m\u001b[37m\u001b[0m \u001b[1m1s\u001b[0m 620us/step\n"
     ]
    },
    {
     "name": "stderr",
     "output_type": "stream",
     "text": [
      " 89%|████████▉ | 151/169 [1:32:10<12:04, 40.26s/it]"
     ]
    },
    {
     "name": "stdout",
     "output_type": "stream",
     "text": [
      "Epoch 1/5\n",
      "\u001b[1m4593/4593\u001b[0m \u001b[32m━━━━━━━━━━━━━━━━━━━━\u001b[0m\u001b[37m\u001b[0m \u001b[1m6s\u001b[0m 1ms/step - accuracy: 0.9802 - loss: 0.0920 - val_accuracy: 0.9798 - val_loss: 0.0760\n",
      "Epoch 2/5\n",
      "\u001b[1m4593/4593\u001b[0m \u001b[32m━━━━━━━━━━━━━━━━━━━━\u001b[0m\u001b[37m\u001b[0m \u001b[1m6s\u001b[0m 1ms/step - accuracy: 0.9806 - loss: 0.0745 - val_accuracy: 0.9798 - val_loss: 0.0761\n",
      "Epoch 3/5\n",
      "\u001b[1m4593/4593\u001b[0m \u001b[32m━━━━━━━━━━━━━━━━━━━━\u001b[0m\u001b[37m\u001b[0m \u001b[1m6s\u001b[0m 1ms/step - accuracy: 0.9808 - loss: 0.0760 - val_accuracy: 0.9798 - val_loss: 0.0760\n",
      "Epoch 4/5\n",
      "\u001b[1m4593/4593\u001b[0m \u001b[32m━━━━━━━━━━━━━━━━━━━━\u001b[0m\u001b[37m\u001b[0m \u001b[1m6s\u001b[0m 1ms/step - accuracy: 0.9808 - loss: 0.0764 - val_accuracy: 0.9798 - val_loss: 0.0761\n",
      "Epoch 5/5\n",
      "\u001b[1m4593/4593\u001b[0m \u001b[32m━━━━━━━━━━━━━━━━━━━━\u001b[0m\u001b[37m\u001b[0m \u001b[1m6s\u001b[0m 1ms/step - accuracy: 0.9798 - loss: 0.0786 - val_accuracy: 0.9798 - val_loss: 0.0765\n",
      "\u001b[1m1436/1436\u001b[0m \u001b[32m━━━━━━━━━━━━━━━━━━━━\u001b[0m\u001b[37m\u001b[0m \u001b[1m1s\u001b[0m 597us/step\n"
     ]
    },
    {
     "name": "stderr",
     "output_type": "stream",
     "text": [
      " 90%|████████▉ | 152/169 [1:32:42<10:41, 37.71s/it]"
     ]
    },
    {
     "name": "stdout",
     "output_type": "stream",
     "text": [
      "Epoch 1/5\n",
      "\u001b[1m8935/8935\u001b[0m \u001b[32m━━━━━━━━━━━━━━━━━━━━\u001b[0m\u001b[37m\u001b[0m \u001b[1m12s\u001b[0m 1ms/step - accuracy: 0.9807 - loss: 0.4717 - val_accuracy: 0.9796 - val_loss: 0.0760\n",
      "Epoch 2/5\n",
      "\u001b[1m8935/8935\u001b[0m \u001b[32m━━━━━━━━━━━━━━━━━━━━\u001b[0m\u001b[37m\u001b[0m \u001b[1m12s\u001b[0m 1ms/step - accuracy: 0.9804 - loss: 0.1026 - val_accuracy: 0.9796 - val_loss: 0.0763\n",
      "Epoch 3/5\n",
      "\u001b[1m8935/8935\u001b[0m \u001b[32m━━━━━━━━━━━━━━━━━━━━\u001b[0m\u001b[37m\u001b[0m \u001b[1m12s\u001b[0m 1ms/step - accuracy: 0.9807 - loss: 0.3281 - val_accuracy: 0.9796 - val_loss: 0.0762\n",
      "Epoch 4/5\n",
      "\u001b[1m8935/8935\u001b[0m \u001b[32m━━━━━━━━━━━━━━━━━━━━\u001b[0m\u001b[37m\u001b[0m \u001b[1m12s\u001b[0m 1ms/step - accuracy: 0.9803 - loss: 0.0768 - val_accuracy: 0.9796 - val_loss: 0.1342\n",
      "Epoch 5/5\n",
      "\u001b[1m8935/8935\u001b[0m \u001b[32m━━━━━━━━━━━━━━━━━━━━\u001b[0m\u001b[37m\u001b[0m \u001b[1m12s\u001b[0m 1ms/step - accuracy: 0.9804 - loss: 0.0981 - val_accuracy: 0.9796 - val_loss: 0.0763\n",
      "\u001b[1m2793/2793\u001b[0m \u001b[32m━━━━━━━━━━━━━━━━━━━━\u001b[0m\u001b[37m\u001b[0m \u001b[1m2s\u001b[0m 616us/step\n"
     ]
    },
    {
     "name": "stderr",
     "output_type": "stream",
     "text": [
      " 91%|█████████ | 153/169 [1:33:43<11:54, 44.66s/it]"
     ]
    },
    {
     "name": "stdout",
     "output_type": "stream",
     "text": [
      "Epoch 1/5\n",
      "\u001b[1m8700/8700\u001b[0m \u001b[32m━━━━━━━━━━━━━━━━━━━━\u001b[0m\u001b[37m\u001b[0m \u001b[1m11s\u001b[0m 1ms/step - accuracy: 0.9798 - loss: 0.1611 - val_accuracy: 0.9804 - val_loss: 0.0774\n",
      "Epoch 2/5\n",
      "\u001b[1m8700/8700\u001b[0m \u001b[32m━━━━━━━━━━━━━━━━━━━━\u001b[0m\u001b[37m\u001b[0m \u001b[1m11s\u001b[0m 1ms/step - accuracy: 0.9797 - loss: 0.0792 - val_accuracy: 0.9803 - val_loss: 0.0774\n",
      "Epoch 3/5\n",
      "\u001b[1m8700/8700\u001b[0m \u001b[32m━━━━━━━━━━━━━━━━━━━━\u001b[0m\u001b[37m\u001b[0m \u001b[1m11s\u001b[0m 1ms/step - accuracy: 0.9800 - loss: 0.0769 - val_accuracy: 0.9804 - val_loss: 0.0773\n",
      "Epoch 4/5\n",
      "\u001b[1m8700/8700\u001b[0m \u001b[32m━━━━━━━━━━━━━━━━━━━━\u001b[0m\u001b[37m\u001b[0m \u001b[1m11s\u001b[0m 1ms/step - accuracy: 0.9797 - loss: 0.0837 - val_accuracy: 0.9804 - val_loss: 0.0774\n",
      "Epoch 5/5\n",
      "\u001b[1m8700/8700\u001b[0m \u001b[32m━━━━━━━━━━━━━━━━━━━━\u001b[0m\u001b[37m\u001b[0m \u001b[1m11s\u001b[0m 1ms/step - accuracy: 0.9798 - loss: 0.0780 - val_accuracy: 0.9804 - val_loss: 0.0771\n",
      "\u001b[1m2719/2719\u001b[0m \u001b[32m━━━━━━━━━━━━━━━━━━━━\u001b[0m\u001b[37m\u001b[0m \u001b[1m2s\u001b[0m 589us/step\n"
     ]
    },
    {
     "name": "stderr",
     "output_type": "stream",
     "text": [
      " 91%|█████████ | 154/169 [1:34:42<12:14, 48.98s/it]"
     ]
    },
    {
     "name": "stdout",
     "output_type": "stream",
     "text": [
      "Epoch 1/5\n",
      "\u001b[1m4645/4645\u001b[0m \u001b[32m━━━━━━━━━━━━━━━━━━━━\u001b[0m\u001b[37m\u001b[0m \u001b[1m6s\u001b[0m 1ms/step - accuracy: 0.9801 - loss: 0.1067 - val_accuracy: 0.9809 - val_loss: 0.0735\n",
      "Epoch 2/5\n",
      "\u001b[1m4645/4645\u001b[0m \u001b[32m━━━━━━━━━━━━━━━━━━━━\u001b[0m\u001b[37m\u001b[0m \u001b[1m6s\u001b[0m 1ms/step - accuracy: 0.9804 - loss: 0.0761 - val_accuracy: 0.9809 - val_loss: 0.0736\n",
      "Epoch 3/5\n",
      "\u001b[1m4645/4645\u001b[0m \u001b[32m━━━━━━━━━━━━━━━━━━━━\u001b[0m\u001b[37m\u001b[0m \u001b[1m6s\u001b[0m 1ms/step - accuracy: 0.9802 - loss: 0.0764 - val_accuracy: 0.9809 - val_loss: 0.0735\n",
      "Epoch 4/5\n",
      "\u001b[1m4645/4645\u001b[0m \u001b[32m━━━━━━━━━━━━━━━━━━━━\u001b[0m\u001b[37m\u001b[0m \u001b[1m6s\u001b[0m 1ms/step - accuracy: 0.9795 - loss: 0.0792 - val_accuracy: 0.9809 - val_loss: 0.0734\n",
      "Epoch 5/5\n",
      "\u001b[1m4645/4645\u001b[0m \u001b[32m━━━━━━━━━━━━━━━━━━━━\u001b[0m\u001b[37m\u001b[0m \u001b[1m6s\u001b[0m 1ms/step - accuracy: 0.9800 - loss: 0.0765 - val_accuracy: 0.9809 - val_loss: 0.0735\n",
      "\u001b[1m1452/1452\u001b[0m \u001b[32m━━━━━━━━━━━━━━━━━━━━\u001b[0m\u001b[37m\u001b[0m \u001b[1m1s\u001b[0m 612us/step\n"
     ]
    },
    {
     "name": "stderr",
     "output_type": "stream",
     "text": [
      " 92%|█████████▏| 155/169 [1:35:14<10:14, 43.90s/it]"
     ]
    },
    {
     "name": "stdout",
     "output_type": "stream",
     "text": [
      "Epoch 1/5\n",
      "\u001b[1m4598/4598\u001b[0m \u001b[32m━━━━━━━━━━━━━━━━━━━━\u001b[0m\u001b[37m\u001b[0m \u001b[1m6s\u001b[0m 1ms/step - accuracy: 0.9813 - loss: 0.0736 - val_accuracy: 0.9801 - val_loss: 0.0830\n",
      "Epoch 2/5\n",
      "\u001b[1m4598/4598\u001b[0m \u001b[32m━━━━━━━━━━━━━━━━━━━━\u001b[0m\u001b[37m\u001b[0m \u001b[1m6s\u001b[0m 1ms/step - accuracy: 0.9800 - loss: 0.0786 - val_accuracy: 0.9800 - val_loss: 0.0800\n",
      "Epoch 3/5\n",
      "\u001b[1m4598/4598\u001b[0m \u001b[32m━━━━━━━━━━━━━━━━━━━━\u001b[0m\u001b[37m\u001b[0m \u001b[1m6s\u001b[0m 1ms/step - accuracy: 0.9802 - loss: 0.0766 - val_accuracy: 0.9800 - val_loss: 0.0800\n",
      "Epoch 4/5\n",
      "\u001b[1m4598/4598\u001b[0m \u001b[32m━━━━━━━━━━━━━━━━━━━━\u001b[0m\u001b[37m\u001b[0m \u001b[1m6s\u001b[0m 1ms/step - accuracy: 0.9803 - loss: 0.0774 - val_accuracy: 0.9800 - val_loss: 0.0801\n",
      "Epoch 5/5\n",
      "\u001b[1m4598/4598\u001b[0m \u001b[32m━━━━━━━━━━━━━━━━━━━━\u001b[0m\u001b[37m\u001b[0m \u001b[1m6s\u001b[0m 1ms/step - accuracy: 0.9804 - loss: 0.0771 - val_accuracy: 0.9800 - val_loss: 0.0801\n",
      "\u001b[1m1437/1437\u001b[0m \u001b[32m━━━━━━━━━━━━━━━━━━━━\u001b[0m\u001b[37m\u001b[0m \u001b[1m1s\u001b[0m 615us/step\n"
     ]
    },
    {
     "name": "stderr",
     "output_type": "stream",
     "text": [
      " 92%|█████████▏| 156/169 [1:35:46<08:43, 40.26s/it]"
     ]
    },
    {
     "name": "stdout",
     "output_type": "stream",
     "text": [
      "Epoch 1/5\n",
      "\u001b[1m5129/5129\u001b[0m \u001b[32m━━━━━━━━━━━━━━━━━━━━\u001b[0m\u001b[37m\u001b[0m \u001b[1m7s\u001b[0m 1ms/step - accuracy: 0.9801 - loss: 0.0902 - val_accuracy: 0.9797 - val_loss: 0.0766\n",
      "Epoch 2/5\n",
      "\u001b[1m5129/5129\u001b[0m \u001b[32m━━━━━━━━━━━━━━━━━━━━\u001b[0m\u001b[37m\u001b[0m \u001b[1m7s\u001b[0m 1ms/step - accuracy: 0.9806 - loss: 0.0750 - val_accuracy: 0.9797 - val_loss: 0.0767\n",
      "Epoch 3/5\n",
      "\u001b[1m5129/5129\u001b[0m \u001b[32m━━━━━━━━━━━━━━━━━━━━\u001b[0m\u001b[37m\u001b[0m \u001b[1m7s\u001b[0m 1ms/step - accuracy: 0.9790 - loss: 0.0807 - val_accuracy: 0.9798 - val_loss: 0.0766\n",
      "Epoch 4/5\n",
      "\u001b[1m5129/5129\u001b[0m \u001b[32m━━━━━━━━━━━━━━━━━━━━\u001b[0m\u001b[37m\u001b[0m \u001b[1m7s\u001b[0m 1ms/step - accuracy: 0.9801 - loss: 0.0770 - val_accuracy: 0.9799 - val_loss: 0.0902\n",
      "Epoch 5/5\n",
      "\u001b[1m5129/5129\u001b[0m \u001b[32m━━━━━━━━━━━━━━━━━━━━\u001b[0m\u001b[37m\u001b[0m \u001b[1m7s\u001b[0m 1ms/step - accuracy: 0.9796 - loss: 0.0794 - val_accuracy: 0.9798 - val_loss: 0.0767\n",
      "\u001b[1m1603/1603\u001b[0m \u001b[32m━━━━━━━━━━━━━━━━━━━━\u001b[0m\u001b[37m\u001b[0m \u001b[1m1s\u001b[0m 615us/step\n"
     ]
    },
    {
     "name": "stderr",
     "output_type": "stream",
     "text": [
      " 93%|█████████▎| 157/169 [1:36:21<07:45, 38.79s/it]"
     ]
    },
    {
     "name": "stdout",
     "output_type": "stream",
     "text": [
      "Epoch 1/5\n",
      "\u001b[1m4799/4799\u001b[0m \u001b[32m━━━━━━━━━━━━━━━━━━━━\u001b[0m\u001b[37m\u001b[0m \u001b[1m6s\u001b[0m 1ms/step - accuracy: 0.9799 - loss: 0.0785 - val_accuracy: 0.9793 - val_loss: 0.0792\n",
      "Epoch 2/5\n",
      "\u001b[1m4799/4799\u001b[0m \u001b[32m━━━━━━━━━━━━━━━━━━━━\u001b[0m\u001b[37m\u001b[0m \u001b[1m6s\u001b[0m 1ms/step - accuracy: 0.9800 - loss: 0.0788 - val_accuracy: 0.9793 - val_loss: 0.0792\n",
      "Epoch 3/5\n",
      "\u001b[1m4799/4799\u001b[0m \u001b[32m━━━━━━━━━━━━━━━━━━━━\u001b[0m\u001b[37m\u001b[0m \u001b[1m6s\u001b[0m 1ms/step - accuracy: 0.9795 - loss: 0.0786 - val_accuracy: 0.9793 - val_loss: 0.0791\n",
      "Epoch 4/5\n",
      "\u001b[1m4799/4799\u001b[0m \u001b[32m━━━━━━━━━━━━━━━━━━━━\u001b[0m\u001b[37m\u001b[0m \u001b[1m6s\u001b[0m 1ms/step - accuracy: 0.9811 - loss: 0.0752 - val_accuracy: 0.9793 - val_loss: 0.0793\n",
      "Epoch 5/5\n",
      "\u001b[1m4799/4799\u001b[0m \u001b[32m━━━━━━━━━━━━━━━━━━━━\u001b[0m\u001b[37m\u001b[0m \u001b[1m6s\u001b[0m 1ms/step - accuracy: 0.9805 - loss: 0.0762 - val_accuracy: 0.9793 - val_loss: 0.0792\n",
      "\u001b[1m1500/1500\u001b[0m \u001b[32m━━━━━━━━━━━━━━━━━━━━\u001b[0m\u001b[37m\u001b[0m \u001b[1m1s\u001b[0m 587us/step\n"
     ]
    },
    {
     "name": "stderr",
     "output_type": "stream",
     "text": [
      " 93%|█████████▎| 158/169 [1:36:54<06:47, 37.07s/it]"
     ]
    },
    {
     "name": "stdout",
     "output_type": "stream",
     "text": [
      "Epoch 1/5\n",
      "\u001b[1m4610/4610\u001b[0m \u001b[32m━━━━━━━━━━━━━━━━━━━━\u001b[0m\u001b[37m\u001b[0m \u001b[1m6s\u001b[0m 1ms/step - accuracy: 0.9804 - loss: 0.3518 - val_accuracy: 0.9802 - val_loss: 0.0800\n",
      "Epoch 2/5\n",
      "\u001b[1m4610/4610\u001b[0m \u001b[32m━━━━━━━━━━━━━━━━━━━━\u001b[0m\u001b[37m\u001b[0m \u001b[1m6s\u001b[0m 1ms/step - accuracy: 0.9805 - loss: 0.0761 - val_accuracy: 0.9802 - val_loss: 0.0800\n",
      "Epoch 3/5\n",
      "\u001b[1m4610/4610\u001b[0m \u001b[32m━━━━━━━━━━━━━━━━━━━━\u001b[0m\u001b[37m\u001b[0m \u001b[1m6s\u001b[0m 1ms/step - accuracy: 0.9802 - loss: 0.0776 - val_accuracy: 0.9802 - val_loss: 0.0799\n",
      "Epoch 4/5\n",
      "\u001b[1m4610/4610\u001b[0m \u001b[32m━━━━━━━━━━━━━━━━━━━━\u001b[0m\u001b[37m\u001b[0m \u001b[1m6s\u001b[0m 1ms/step - accuracy: 0.9802 - loss: 0.0771 - val_accuracy: 0.9802 - val_loss: 0.0800\n",
      "Epoch 5/5\n",
      "\u001b[1m4610/4610\u001b[0m \u001b[32m━━━━━━━━━━━━━━━━━━━━\u001b[0m\u001b[37m\u001b[0m \u001b[1m6s\u001b[0m 1ms/step - accuracy: 0.9802 - loss: 0.0780 - val_accuracy: 0.9802 - val_loss: 0.0802\n",
      "\u001b[1m1441/1441\u001b[0m \u001b[32m━━━━━━━━━━━━━━━━━━━━\u001b[0m\u001b[37m\u001b[0m \u001b[1m1s\u001b[0m 608us/step\n"
     ]
    },
    {
     "name": "stderr",
     "output_type": "stream",
     "text": [
      " 94%|█████████▍| 159/169 [1:37:26<05:55, 35.60s/it]"
     ]
    },
    {
     "name": "stdout",
     "output_type": "stream",
     "text": [
      "Epoch 1/5\n",
      "\u001b[1m4627/4627\u001b[0m \u001b[32m━━━━━━━━━━━━━━━━━━━━\u001b[0m\u001b[37m\u001b[0m \u001b[1m6s\u001b[0m 1ms/step - accuracy: 0.9797 - loss: 0.0830 - val_accuracy: 0.9808 - val_loss: 0.0742\n",
      "Epoch 2/5\n",
      "\u001b[1m4627/4627\u001b[0m \u001b[32m━━━━━━━━━━━━━━━━━━━━\u001b[0m\u001b[37m\u001b[0m \u001b[1m6s\u001b[0m 1ms/step - accuracy: 0.9802 - loss: 0.0797 - val_accuracy: 0.9807 - val_loss: 0.0746\n",
      "Epoch 3/5\n",
      "\u001b[1m4627/4627\u001b[0m \u001b[32m━━━━━━━━━━━━━━━━━━━━\u001b[0m\u001b[37m\u001b[0m \u001b[1m6s\u001b[0m 1ms/step - accuracy: 0.9803 - loss: 0.0794 - val_accuracy: 0.9807 - val_loss: 0.0741\n",
      "Epoch 4/5\n",
      "\u001b[1m4627/4627\u001b[0m \u001b[32m━━━━━━━━━━━━━━━━━━━━\u001b[0m\u001b[37m\u001b[0m \u001b[1m6s\u001b[0m 1ms/step - accuracy: 0.9799 - loss: 0.0852 - val_accuracy: 0.9808 - val_loss: 0.0743\n",
      "Epoch 5/5\n",
      "\u001b[1m4627/4627\u001b[0m \u001b[32m━━━━━━━━━━━━━━━━━━━━\u001b[0m\u001b[37m\u001b[0m \u001b[1m6s\u001b[0m 1ms/step - accuracy: 0.9802 - loss: 0.0949 - val_accuracy: 0.9807 - val_loss: 0.0742\n",
      "\u001b[1m1446/1446\u001b[0m \u001b[32m━━━━━━━━━━━━━━━━━━━━\u001b[0m\u001b[37m\u001b[0m \u001b[1m1s\u001b[0m 607us/step\n"
     ]
    },
    {
     "name": "stderr",
     "output_type": "stream",
     "text": [
      " 95%|█████████▍| 160/169 [1:37:59<05:11, 34.56s/it]"
     ]
    },
    {
     "name": "stdout",
     "output_type": "stream",
     "text": [
      "Epoch 1/5\n",
      "\u001b[1m4627/4627\u001b[0m \u001b[32m━━━━━━━━━━━━━━━━━━━━\u001b[0m\u001b[37m\u001b[0m \u001b[1m6s\u001b[0m 1ms/step - accuracy: 0.9803 - loss: 0.0761 - val_accuracy: 0.9820 - val_loss: 0.0700\n",
      "Epoch 2/5\n",
      "\u001b[1m4627/4627\u001b[0m \u001b[32m━━━━━━━━━━━━━━━━━━━━\u001b[0m\u001b[37m\u001b[0m \u001b[1m6s\u001b[0m 1ms/step - accuracy: 0.9796 - loss: 0.0782 - val_accuracy: 0.9820 - val_loss: 0.0700\n",
      "Epoch 3/5\n",
      "\u001b[1m4627/4627\u001b[0m \u001b[32m━━━━━━━━━━━━━━━━━━━━\u001b[0m\u001b[37m\u001b[0m \u001b[1m6s\u001b[0m 1ms/step - accuracy: 0.9805 - loss: 0.0749 - val_accuracy: 0.9820 - val_loss: 0.0703\n",
      "Epoch 4/5\n",
      "\u001b[1m4627/4627\u001b[0m \u001b[32m━━━━━━━━━━━━━━━━━━━━\u001b[0m\u001b[37m\u001b[0m \u001b[1m6s\u001b[0m 1ms/step - accuracy: 0.9803 - loss: 0.1283 - val_accuracy: 0.9820 - val_loss: 0.0703\n",
      "Epoch 5/5\n",
      "\u001b[1m4627/4627\u001b[0m \u001b[32m━━━━━━━━━━━━━━━━━━━━\u001b[0m\u001b[37m\u001b[0m \u001b[1m6s\u001b[0m 1ms/step - accuracy: 0.9801 - loss: 0.0775 - val_accuracy: 0.9821 - val_loss: 0.0699\n",
      "\u001b[1m1446/1446\u001b[0m \u001b[32m━━━━━━━━━━━━━━━━━━━━\u001b[0m\u001b[37m\u001b[0m \u001b[1m1s\u001b[0m 612us/step\n"
     ]
    },
    {
     "name": "stderr",
     "output_type": "stream",
     "text": [
      " 95%|█████████▌| 161/169 [1:38:31<04:30, 33.83s/it]"
     ]
    },
    {
     "name": "stdout",
     "output_type": "stream",
     "text": [
      "Epoch 1/5\n",
      "\u001b[1m4650/4650\u001b[0m \u001b[32m━━━━━━━━━━━━━━━━━━━━\u001b[0m\u001b[37m\u001b[0m \u001b[1m6s\u001b[0m 1ms/step - accuracy: 0.9799 - loss: 0.0779 - val_accuracy: 0.9801 - val_loss: 0.0779\n",
      "Epoch 2/5\n",
      "\u001b[1m4650/4650\u001b[0m \u001b[32m━━━━━━━━━━━━━━━━━━━━\u001b[0m\u001b[37m\u001b[0m \u001b[1m6s\u001b[0m 1ms/step - accuracy: 0.9792 - loss: 0.0826 - val_accuracy: 0.9801 - val_loss: 0.0780\n",
      "Epoch 3/5\n",
      "\u001b[1m4650/4650\u001b[0m \u001b[32m━━━━━━━━━━━━━━━━━━━━\u001b[0m\u001b[37m\u001b[0m \u001b[1m6s\u001b[0m 1ms/step - accuracy: 0.9801 - loss: 0.0764 - val_accuracy: 0.9801 - val_loss: 0.0780\n",
      "Epoch 4/5\n",
      "\u001b[1m4650/4650\u001b[0m \u001b[32m━━━━━━━━━━━━━━━━━━━━\u001b[0m\u001b[37m\u001b[0m \u001b[1m6s\u001b[0m 1ms/step - accuracy: 0.9798 - loss: 0.0773 - val_accuracy: 0.9801 - val_loss: 0.0780\n",
      "Epoch 5/5\n",
      "\u001b[1m4650/4650\u001b[0m \u001b[32m━━━━━━━━━━━━━━━━━━━━\u001b[0m\u001b[37m\u001b[0m \u001b[1m6s\u001b[0m 1ms/step - accuracy: 0.9796 - loss: 0.0779 - val_accuracy: 0.9801 - val_loss: 0.0779\n",
      "\u001b[1m1453/1453\u001b[0m \u001b[32m━━━━━━━━━━━━━━━━━━━━\u001b[0m\u001b[37m\u001b[0m \u001b[1m1s\u001b[0m 623us/step\n"
     ]
    },
    {
     "name": "stderr",
     "output_type": "stream",
     "text": [
      " 96%|█████████▌| 162/169 [1:39:03<03:53, 33.40s/it]"
     ]
    },
    {
     "name": "stdout",
     "output_type": "stream",
     "text": [
      "Epoch 1/5\n",
      "\u001b[1m8792/8792\u001b[0m \u001b[32m━━━━━━━━━━━━━━━━━━━━\u001b[0m\u001b[37m\u001b[0m \u001b[1m12s\u001b[0m 1ms/step - accuracy: 0.9797 - loss: 0.0797 - val_accuracy: 0.9803 - val_loss: 0.0773\n",
      "Epoch 2/5\n",
      "\u001b[1m8792/8792\u001b[0m \u001b[32m━━━━━━━━━━━━━━━━━━━━\u001b[0m\u001b[37m\u001b[0m \u001b[1m11s\u001b[0m 1ms/step - accuracy: 0.9804 - loss: 0.1129 - val_accuracy: 0.9803 - val_loss: 0.0773\n",
      "Epoch 3/5\n",
      "\u001b[1m8792/8792\u001b[0m \u001b[32m━━━━━━━━━━━━━━━━━━━━\u001b[0m\u001b[37m\u001b[0m \u001b[1m12s\u001b[0m 1ms/step - accuracy: 0.9800 - loss: 0.0778 - val_accuracy: 0.9802 - val_loss: 0.0773\n",
      "Epoch 4/5\n",
      "\u001b[1m8792/8792\u001b[0m \u001b[32m━━━━━━━━━━━━━━━━━━━━\u001b[0m\u001b[37m\u001b[0m \u001b[1m12s\u001b[0m 1ms/step - accuracy: 0.9801 - loss: 0.0779 - val_accuracy: 0.9802 - val_loss: 0.0773\n",
      "Epoch 5/5\n",
      "\u001b[1m8792/8792\u001b[0m \u001b[32m━━━━━━━━━━━━━━━━━━━━\u001b[0m\u001b[37m\u001b[0m \u001b[1m12s\u001b[0m 1ms/step - accuracy: 0.9805 - loss: 0.1049 - val_accuracy: 0.9802 - val_loss: 0.0775\n",
      "\u001b[1m2748/2748\u001b[0m \u001b[32m━━━━━━━━━━━━━━━━━━━━\u001b[0m\u001b[37m\u001b[0m \u001b[1m2s\u001b[0m 656us/step\n"
     ]
    },
    {
     "name": "stderr",
     "output_type": "stream",
     "text": [
      " 96%|█████████▋| 163/169 [1:40:04<04:10, 41.74s/it]"
     ]
    },
    {
     "name": "stdout",
     "output_type": "stream",
     "text": [
      "Epoch 1/5\n",
      "\u001b[1m4672/4672\u001b[0m \u001b[32m━━━━━━━━━━━━━━━━━━━━\u001b[0m\u001b[37m\u001b[0m \u001b[1m6s\u001b[0m 1ms/step - accuracy: 0.9807 - loss: 0.0752 - val_accuracy: 0.9805 - val_loss: 0.0756\n",
      "Epoch 2/5\n",
      "\u001b[1m4672/4672\u001b[0m \u001b[32m━━━━━━━━━━━━━━━━━━━━\u001b[0m\u001b[37m\u001b[0m \u001b[1m6s\u001b[0m 1ms/step - accuracy: 0.9800 - loss: 0.0777 - val_accuracy: 0.9805 - val_loss: 0.0755\n",
      "Epoch 3/5\n",
      "\u001b[1m4672/4672\u001b[0m \u001b[32m━━━━━━━━━━━━━━━━━━━━\u001b[0m\u001b[37m\u001b[0m \u001b[1m6s\u001b[0m 1ms/step - accuracy: 0.9807 - loss: 0.0803 - val_accuracy: 0.9805 - val_loss: 0.0756\n",
      "Epoch 4/5\n",
      "\u001b[1m4672/4672\u001b[0m \u001b[32m━━━━━━━━━━━━━━━━━━━━\u001b[0m\u001b[37m\u001b[0m \u001b[1m6s\u001b[0m 1ms/step - accuracy: 0.9802 - loss: 0.0810 - val_accuracy: 0.9804 - val_loss: 0.0758\n",
      "Epoch 5/5\n",
      "\u001b[1m4672/4672\u001b[0m \u001b[32m━━━━━━━━━━━━━━━━━━━━\u001b[0m\u001b[37m\u001b[0m \u001b[1m6s\u001b[0m 1ms/step - accuracy: 0.9805 - loss: 0.0790 - val_accuracy: 0.9804 - val_loss: 0.0755\n",
      "\u001b[1m1460/1460\u001b[0m \u001b[32m━━━━━━━━━━━━━━━━━━━━\u001b[0m\u001b[37m\u001b[0m \u001b[1m1s\u001b[0m 629us/step\n"
     ]
    },
    {
     "name": "stderr",
     "output_type": "stream",
     "text": [
      " 97%|█████████▋| 164/169 [1:40:37<03:14, 38.95s/it]"
     ]
    },
    {
     "name": "stdout",
     "output_type": "stream",
     "text": [
      "Epoch 1/5\n",
      "\u001b[1m8953/8953\u001b[0m \u001b[32m━━━━━━━━━━━━━━━━━━━━\u001b[0m\u001b[37m\u001b[0m \u001b[1m12s\u001b[0m 1ms/step - accuracy: 0.9795 - loss: 0.0807 - val_accuracy: 0.9801 - val_loss: 0.0793\n",
      "Epoch 2/5\n",
      "\u001b[1m8953/8953\u001b[0m \u001b[32m━━━━━━━━━━━━━━━━━━━━\u001b[0m\u001b[37m\u001b[0m \u001b[1m12s\u001b[0m 1ms/step - accuracy: 0.9801 - loss: 0.0868 - val_accuracy: 0.9800 - val_loss: 0.0794\n",
      "Epoch 3/5\n",
      "\u001b[1m8953/8953\u001b[0m \u001b[32m━━━━━━━━━━━━━━━━━━━━\u001b[0m\u001b[37m\u001b[0m \u001b[1m12s\u001b[0m 1ms/step - accuracy: 0.9799 - loss: 0.0787 - val_accuracy: 0.9800 - val_loss: 0.0791\n",
      "Epoch 4/5\n",
      "\u001b[1m8953/8953\u001b[0m \u001b[32m━━━━━━━━━━━━━━━━━━━━\u001b[0m\u001b[37m\u001b[0m \u001b[1m12s\u001b[0m 1ms/step - accuracy: 0.9800 - loss: 0.0894 - val_accuracy: 0.9800 - val_loss: 0.0792\n",
      "Epoch 5/5\n",
      "\u001b[1m8953/8953\u001b[0m \u001b[32m━━━━━━━━━━━━━━━━━━━━\u001b[0m\u001b[37m\u001b[0m \u001b[1m12s\u001b[0m 1ms/step - accuracy: 0.9805 - loss: 0.0774 - val_accuracy: 0.9800 - val_loss: 0.0792\n",
      "\u001b[1m2798/2798\u001b[0m \u001b[32m━━━━━━━━━━━━━━━━━━━━\u001b[0m\u001b[37m\u001b[0m \u001b[1m2s\u001b[0m 622us/step\n"
     ]
    },
    {
     "name": "stderr",
     "output_type": "stream",
     "text": [
      " 98%|█████████▊| 165/169 [1:41:39<03:03, 45.80s/it]"
     ]
    },
    {
     "name": "stdout",
     "output_type": "stream",
     "text": [
      "Epoch 1/5\n",
      "\u001b[1m8889/8889\u001b[0m \u001b[32m━━━━━━━━━━━━━━━━━━━━\u001b[0m\u001b[37m\u001b[0m \u001b[1m12s\u001b[0m 1ms/step - accuracy: 0.9802 - loss: 0.0775 - val_accuracy: 0.9809 - val_loss: 0.0735\n",
      "Epoch 2/5\n",
      "\u001b[1m8889/8889\u001b[0m \u001b[32m━━━━━━━━━━━━━━━━━━━━\u001b[0m\u001b[37m\u001b[0m \u001b[1m11s\u001b[0m 1ms/step - accuracy: 0.9799 - loss: 0.0776 - val_accuracy: 0.9809 - val_loss: 0.0733\n",
      "Epoch 3/5\n",
      "\u001b[1m8889/8889\u001b[0m \u001b[32m━━━━━━━━━━━━━━━━━━━━\u001b[0m\u001b[37m\u001b[0m \u001b[1m12s\u001b[0m 1ms/step - accuracy: 0.9804 - loss: 0.0771 - val_accuracy: 0.9810 - val_loss: 0.0733\n",
      "Epoch 4/5\n",
      "\u001b[1m8889/8889\u001b[0m \u001b[32m━━━━━━━━━━━━━━━━━━━━\u001b[0m\u001b[37m\u001b[0m \u001b[1m12s\u001b[0m 1ms/step - accuracy: 0.9809 - loss: 0.0766 - val_accuracy: 0.9810 - val_loss: 0.0734\n",
      "Epoch 5/5\n",
      "\u001b[1m8889/8889\u001b[0m \u001b[32m━━━━━━━━━━━━━━━━━━━━\u001b[0m\u001b[37m\u001b[0m \u001b[1m12s\u001b[0m 1ms/step - accuracy: 0.9801 - loss: 0.0781 - val_accuracy: 0.9810 - val_loss: 0.0733\n",
      "\u001b[1m2778/2778\u001b[0m \u001b[32m━━━━━━━━━━━━━━━━━━━━\u001b[0m\u001b[37m\u001b[0m \u001b[1m2s\u001b[0m 624us/step\n"
     ]
    },
    {
     "name": "stderr",
     "output_type": "stream",
     "text": [
      " 98%|█████████▊| 166/169 [1:42:39<02:30, 50.29s/it]"
     ]
    },
    {
     "name": "stdout",
     "output_type": "stream",
     "text": [
      "Epoch 1/5\n",
      "\u001b[1m8981/8981\u001b[0m \u001b[32m━━━━━━━━━━━━━━━━━━━━\u001b[0m\u001b[37m\u001b[0m \u001b[1m11s\u001b[0m 1ms/step - accuracy: 0.9800 - loss: 0.0783 - val_accuracy: 0.9802 - val_loss: 0.0776\n",
      "Epoch 2/5\n",
      "\u001b[1m8981/8981\u001b[0m \u001b[32m━━━━━━━━━━━━━━━━━━━━\u001b[0m\u001b[37m\u001b[0m \u001b[1m11s\u001b[0m 1ms/step - accuracy: 0.9800 - loss: 0.0779 - val_accuracy: 0.9803 - val_loss: 0.0776\n",
      "Epoch 3/5\n",
      "\u001b[1m8981/8981\u001b[0m \u001b[32m━━━━━━━━━━━━━━━━━━━━\u001b[0m\u001b[37m\u001b[0m \u001b[1m12s\u001b[0m 1ms/step - accuracy: 0.9801 - loss: 0.0775 - val_accuracy: 0.9803 - val_loss: 0.0775\n",
      "Epoch 4/5\n",
      "\u001b[1m8981/8981\u001b[0m \u001b[32m━━━━━━━━━━━━━━━━━━━━\u001b[0m\u001b[37m\u001b[0m \u001b[1m12s\u001b[0m 1ms/step - accuracy: 0.9802 - loss: 0.0777 - val_accuracy: 0.9803 - val_loss: 0.0777\n",
      "Epoch 5/5\n",
      "\u001b[1m8981/8981\u001b[0m \u001b[32m━━━━━━━━━━━━━━━━━━━━\u001b[0m\u001b[37m\u001b[0m \u001b[1m12s\u001b[0m 1ms/step - accuracy: 0.9801 - loss: 0.0780 - val_accuracy: 0.9803 - val_loss: 0.0777\n",
      "\u001b[1m2807/2807\u001b[0m \u001b[32m━━━━━━━━━━━━━━━━━━━━\u001b[0m\u001b[37m\u001b[0m \u001b[1m2s\u001b[0m 596us/step\n"
     ]
    },
    {
     "name": "stderr",
     "output_type": "stream",
     "text": [
      " 99%|█████████▉| 167/169 [1:43:40<01:47, 53.54s/it]"
     ]
    },
    {
     "name": "stdout",
     "output_type": "stream",
     "text": [
      "Epoch 1/5\n",
      "\u001b[1m4554/4554\u001b[0m \u001b[32m━━━━━━━━━━━━━━━━━━━━\u001b[0m\u001b[37m\u001b[0m \u001b[1m6s\u001b[0m 1ms/step - accuracy: 0.9799 - loss: 0.3765 - val_accuracy: 0.9804 - val_loss: 0.0760\n",
      "Epoch 2/5\n",
      "\u001b[1m4554/4554\u001b[0m \u001b[32m━━━━━━━━━━━━━━━━━━━━\u001b[0m\u001b[37m\u001b[0m \u001b[1m6s\u001b[0m 1ms/step - accuracy: 0.9803 - loss: 0.0766 - val_accuracy: 0.9804 - val_loss: 0.0759\n",
      "Epoch 3/5\n",
      "\u001b[1m4554/4554\u001b[0m \u001b[32m━━━━━━━━━━━━━━━━━━━━\u001b[0m\u001b[37m\u001b[0m \u001b[1m6s\u001b[0m 1ms/step - accuracy: 0.9803 - loss: 0.0762 - val_accuracy: 0.9805 - val_loss: 0.0758\n",
      "Epoch 4/5\n",
      "\u001b[1m4554/4554\u001b[0m \u001b[32m━━━━━━━━━━━━━━━━━━━━\u001b[0m\u001b[37m\u001b[0m \u001b[1m6s\u001b[0m 1ms/step - accuracy: 0.9803 - loss: 0.0773 - val_accuracy: 0.9805 - val_loss: 0.0764\n",
      "Epoch 5/5\n",
      "\u001b[1m4554/4554\u001b[0m \u001b[32m━━━━━━━━━━━━━━━━━━━━\u001b[0m\u001b[37m\u001b[0m \u001b[1m7s\u001b[0m 1ms/step - accuracy: 0.9805 - loss: 0.0762 - val_accuracy: 0.9804 - val_loss: 0.0759\n",
      "\u001b[1m1424/1424\u001b[0m \u001b[32m━━━━━━━━━━━━━━━━━━━━\u001b[0m\u001b[37m\u001b[0m \u001b[1m1s\u001b[0m 644us/step\n"
     ]
    },
    {
     "name": "stderr",
     "output_type": "stream",
     "text": [
      " 99%|█████████▉| 168/169 [1:44:12<00:47, 47.01s/it]"
     ]
    },
    {
     "name": "stdout",
     "output_type": "stream",
     "text": [
      "Epoch 1/5\n",
      "\u001b[1m4695/4695\u001b[0m \u001b[32m━━━━━━━━━━━━━━━━━━━━\u001b[0m\u001b[37m\u001b[0m \u001b[1m6s\u001b[0m 1ms/step - accuracy: 0.9809 - loss: 0.0887 - val_accuracy: 0.9813 - val_loss: 0.0758\n",
      "Epoch 2/5\n",
      "\u001b[1m4695/4695\u001b[0m \u001b[32m━━━━━━━━━━━━━━━━━━━━\u001b[0m\u001b[37m\u001b[0m \u001b[1m6s\u001b[0m 1ms/step - accuracy: 0.9806 - loss: 0.0766 - val_accuracy: 0.9813 - val_loss: 0.0758\n",
      "Epoch 3/5\n",
      "\u001b[1m4695/4695\u001b[0m \u001b[32m━━━━━━━━━━━━━━━━━━━━\u001b[0m\u001b[37m\u001b[0m \u001b[1m6s\u001b[0m 1ms/step - accuracy: 0.9801 - loss: 0.1667 - val_accuracy: 0.9813 - val_loss: 0.0810\n",
      "Epoch 4/5\n",
      "\u001b[1m4695/4695\u001b[0m \u001b[32m━━━━━━━━━━━━━━━━━━━━\u001b[0m\u001b[37m\u001b[0m \u001b[1m6s\u001b[0m 1ms/step - accuracy: 0.9806 - loss: 0.0782 - val_accuracy: 0.9813 - val_loss: 0.0759\n",
      "Epoch 5/5\n",
      "\u001b[1m4695/4695\u001b[0m \u001b[32m━━━━━━━━━━━━━━━━━━━━\u001b[0m\u001b[37m\u001b[0m \u001b[1m6s\u001b[0m 1ms/step - accuracy: 0.9809 - loss: 0.0741 - val_accuracy: 0.9813 - val_loss: 0.0758\n",
      "\u001b[1m1468/1468\u001b[0m \u001b[32m━━━━━━━━━━━━━━━━━━━━\u001b[0m\u001b[37m\u001b[0m \u001b[1m1s\u001b[0m 626us/step\n"
     ]
    },
    {
     "name": "stderr",
     "output_type": "stream",
     "text": [
      "100%|██████████| 169/169 [1:44:45<00:00, 37.19s/it]\n"
     ]
    }
   ],
   "source": [
    "from tensorflow.keras.models import Sequential\n",
    "from tensorflow.keras.layers import LSTM, Dense\n",
    "from tensorflow.keras.optimizers import Adam\n",
    "from sklearn.model_selection import train_test_split\n",
    "from sklearn.preprocessing import MinMaxScaler\n",
    "from sklearn.metrics import accuracy_score\n",
    "\n",
    "\n",
    "timesteps=1\n",
    "# Build LSTM model\n",
    "model = Sequential()\n",
    "model.add(LSTM(128, input_shape=(timesteps, dfs[0].shape[1]), activation='relu'))\n",
    "model.add(Dense(64, activation='relu'))  \n",
    "model.add(Dense(32, activation='relu'))\n",
    "model.add(Dense(1, activation='sigmoid'))  \n",
    "\n",
    "# Compile the model\n",
    "model.compile(optimizer=Adam(learning_rate=0.001), loss='binary_crossentropy', metrics=['accuracy'])\n",
    "\n",
    "scaler = MinMaxScaler()\n",
    "y_true = []\n",
    "y_pred = []\n",
    "\n",
    "for df in tqdm(dfs):\n",
    "    y=df['label']\n",
    "    data = df.values\n",
    "    data_reshaped = data.reshape((data.shape[0], timesteps, data.shape[1]))\n",
    "    X_train, X_test, y_train, y_test = train_test_split(data_reshaped, y, test_size=0.2, random_state=42)\n",
    "\n",
    "    y_true += list(y_test)\n",
    "\n",
    "    # Train the model\n",
    "    history = model.fit(X_train, y_train, epochs=5, batch_size=32, validation_split=0.2)\n",
    "\n",
    "    y_pred_probs = model.predict(X_test)\n",
    "    y_pred += list((y_pred_probs > 0.5).astype(int))\n"
   ]
  },
  {
   "cell_type": "code",
   "execution_count": 23,
   "metadata": {},
   "outputs": [
    {
     "name": "stdout",
     "output_type": "stream",
     "text": [
      "Accuracy: 0.9799\n",
      "Precision: 0.9875\n",
      "Recall: 0.9920\n",
      "F1 Score: 0.9897\n"
     ]
    }
   ],
   "source": [
    "from sklearn.metrics import accuracy_score, precision_score, recall_score, f1_score\n",
    "\n",
    "# Calculate accuracy\n",
    "accuracy = accuracy_score(y_true, y_pred)\n",
    "print(f\"Accuracy: {accuracy:.4f}\")\n",
    "\n",
    "# Calculate precision\n",
    "precision = precision_score(y_true, y_pred)\n",
    "print(f\"Precision: {precision:.4f}\")\n",
    "\n",
    "# Calculate recall\n",
    "recall = recall_score(y_true, y_pred)\n",
    "print(f\"Recall: {recall:.4f}\")\n",
    "\n",
    "# Calculate F1 score\n",
    "f1 = f1_score(y_true, y_pred)\n",
    "print(f\"F1 Score: {f1:.4f}\")\n"
   ]
  },
  {
   "cell_type": "code",
   "execution_count": null,
   "metadata": {},
   "outputs": [],
   "source": []
  }
 ],
 "metadata": {
  "kernelspec": {
   "display_name": "Python 3",
   "language": "python",
   "name": "python3"
  },
  "language_info": {
   "codemirror_mode": {
    "name": "ipython",
    "version": 3
   },
   "file_extension": ".py",
   "mimetype": "text/x-python",
   "name": "python",
   "nbconvert_exporter": "python",
   "pygments_lexer": "ipython3",
   "version": "3.12.3"
  }
 },
 "nbformat": 4,
 "nbformat_minor": 2
}
