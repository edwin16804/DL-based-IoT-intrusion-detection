{
 "cells": [
  {
   "cell_type": "code",
   "execution_count": 5,
   "metadata": {},
   "outputs": [],
   "source": [
    "import os\n",
    "import pandas as pd\n",
    "import numpy as np\n",
    "from sklearn.preprocessing import StandardScaler, LabelEncoder\n",
    "from sklearn.metrics import classification_report, accuracy_score\n",
    "from sklearn.model_selection import train_test_split\n",
    "from tqdm import tqdm"
   ]
  },
  {
   "cell_type": "code",
   "execution_count": null,
   "metadata": {},
   "outputs": [],
   "source": [
    "# Directory containing the dataset\n",
    "DATASET_DIRECTORY = 'C:/Users/EDWIN/Downloads/CICIoT2023'"
   ]
  },
  {
   "cell_type": "code",
   "execution_count": 7,
   "metadata": {},
   "outputs": [],
   "source": [
    "def load_and_preprocess_data_sample(dataset_directory, sample_size=0.1, chunk_size=10000):\n",
    "    df_sets = [k for k in os.listdir(dataset_directory) if k.endswith('.csv')]\n",
    "    df_sets.sort()\n",
    "\n",
    "    scaler = StandardScaler()\n",
    "    label_encoder = LabelEncoder()\n",
    "    X_list = []\n",
    "    y_list = []\n",
    "\n",
    "    for file in tqdm(df_sets):\n",
    "        file_path = os.path.join(dataset_directory, file)\n",
    "        total_rows = sum(1 for _ in open(file_path)) - 1  # Subtract 1 for header\n",
    "        rows_to_sample = int(total_rows * sample_size)\n",
    "        skip_rows = sorted(np.random.choice(range(1, total_rows + 1), total_rows - rows_to_sample, replace=False))\n",
    "        \n",
    "        for chunk in pd.read_csv(file_path, chunksize=chunk_size, skiprows=skip_rows):\n",
    "            chunk.dropna(inplace=True)\n",
    "\n",
    "            # Assuming the last column is the label\n",
    "            X_chunk = chunk.iloc[:, :-1].values\n",
    "            y_chunk = chunk.iloc[:, -1].values\n",
    "\n",
    "            X_list.append(X_chunk)\n",
    "            y_list.append(y_chunk)\n",
    "\n",
    "    # Concatenate the processed chunks\n",
    "    X = np.concatenate(X_list, axis=0)\n",
    "    y = np.concatenate(y_list, axis=0)\n",
    "\n",
    "    # Normalize the features using the scaler\n",
    "    X = scaler.fit_transform(X)\n",
    "\n",
    "    # Encode the labels if not numeric\n",
    "    y = label_encoder.fit_transform(y)\n",
    "\n",
    "    return X, y, label_encoder"
   ]
  },
  {
   "cell_type": "code",
   "execution_count": 8,
   "metadata": {},
   "outputs": [],
   "source": [
    "from sklearn.tree import DecisionTreeClassifier\n",
    "from sklearn.model_selection import train_test_split\n",
    "from sklearn.metrics import accuracy_score, classification_report"
   ]
  },
  {
   "cell_type": "code",
   "execution_count": 9,
   "metadata": {},
   "outputs": [
    {
     "name": "stderr",
     "output_type": "stream",
     "text": [
      "100%|██████████| 169/169 [01:15<00:00,  2.25it/s]\n"
     ]
    },
    {
     "name": "stdout",
     "output_type": "stream",
     "text": [
      "Accuracy: 99.37%\n",
      "                         precision    recall  f1-score   support\n",
      "\n",
      "       Backdoor_Malware       0.48      0.53      0.50        57\n",
      "          BenignTraffic       0.93      0.92      0.92     22044\n",
      "       BrowserHijacking       0.62      0.57      0.59       119\n",
      "       CommandInjection       0.56      0.59      0.57       118\n",
      " DDoS-ACK_Fragmentation       1.00      1.00      1.00      5650\n",
      "        DDoS-HTTP_Flood       1.00      1.00      1.00       569\n",
      "        DDoS-ICMP_Flood       1.00      1.00      1.00    143970\n",
      "DDoS-ICMP_Fragmentation       1.00      1.00      1.00      9073\n",
      "      DDoS-PSHACK_Flood       1.00      1.00      1.00     81822\n",
      "       DDoS-RSTFINFlood       1.00      1.00      1.00     81421\n",
      "         DDoS-SYN_Flood       1.00      1.00      1.00     81043\n",
      "         DDoS-SlowLoris       0.99      0.99      0.99       430\n",
      "DDoS-SynonymousIP_Flood       1.00      1.00      1.00     71731\n",
      "         DDoS-TCP_Flood       1.00      1.00      1.00     90327\n",
      "         DDoS-UDP_Flood       1.00      1.00      1.00    108063\n",
      " DDoS-UDP_Fragmentation       1.00      1.00      1.00      5742\n",
      "           DNS_Spoofing       0.72      0.75      0.73      3498\n",
      "   DictionaryBruteForce       0.57      0.54      0.55       272\n",
      "         DoS-HTTP_Flood       1.00      1.00      1.00      1414\n",
      "          DoS-SYN_Flood       1.00      1.00      1.00     40435\n",
      "          DoS-TCP_Flood       1.00      1.00      1.00     53224\n",
      "          DoS-UDP_Flood       1.00      1.00      1.00     66745\n",
      "       MITM-ArpSpoofing       0.84      0.84      0.84      6056\n",
      "     Mirai-greeth_flood       1.00      1.00      1.00     19724\n",
      "      Mirai-greip_flood       1.00      1.00      1.00     15088\n",
      "         Mirai-udpplain       1.00      1.00      1.00     17786\n",
      "    Recon-HostDiscovery       0.83      0.83      0.83      2751\n",
      "           Recon-OSScan       0.62      0.63      0.62      1956\n",
      "        Recon-PingSweep       0.48      0.52      0.50        46\n",
      "         Recon-PortScan       0.65      0.66      0.66      1620\n",
      "           SqlInjection       0.56      0.59      0.57        98\n",
      "       Uploading_Attack       0.32      0.50      0.39        16\n",
      "      VulnerabilityScan       1.00      1.00      1.00       733\n",
      "                    XSS       0.52      0.51      0.51        75\n",
      "\n",
      "               accuracy                           0.99    933716\n",
      "              macro avg       0.84      0.85      0.85    933716\n",
      "           weighted avg       0.99      0.99      0.99    933716\n",
      "\n"
     ]
    }
   ],
   "source": [
    "# Load and preprocess data\n",
    "X, y, label_encoder = load_and_preprocess_data_sample(DATASET_DIRECTORY)\n",
    "\n",
    "# Split the dataset into training and testing sets\n",
    "X_train, X_test, y_train, y_test = train_test_split(X, y, test_size=0.2, random_state=42)\n",
    "\n",
    "# Initialize the DecisionTreeClassifier\n",
    "decision_tree_model = DecisionTreeClassifier(random_state=42)\n",
    "\n",
    "# Train the model\n",
    "decision_tree_model.fit(X_train, y_train)\n",
    "\n",
    "# Make predictions on the test set\n",
    "y_pred = decision_tree_model.predict(X_test)\n",
    "\n",
    "# Evaluate the model's performance\n",
    "accuracy = accuracy_score(y_test, y_pred)\n",
    "print(f\"Accuracy: {accuracy * 100:.2f}%\")\n",
    "\n",
    "# Display a detailed classification report\n",
    "print(classification_report(y_test, y_pred, target_names=label_encoder.classes_))"
   ]
  }
 ],
 "metadata": {
  "kernelspec": {
   "display_name": "Python 3",
   "language": "python",
   "name": "python3"
  },
  "language_info": {
   "codemirror_mode": {
    "name": "ipython",
    "version": 3
   },
   "file_extension": ".py",
   "mimetype": "text/x-python",
   "name": "python",
   "nbconvert_exporter": "python",
   "pygments_lexer": "ipython3",
   "version": "3.12.3"
  }
 },
 "nbformat": 4,
 "nbformat_minor": 2
}
